{
 "cells": [
  {
   "cell_type": "markdown",
   "metadata": {},
   "source": [
    "## What is scipp\n",
    "\n",
    "Containers providing multi-dimensional array with associated dicts of coordinates, masks, and attributes\n",
    "\n",
    "* A Mantid evolution borne out of attempt to rethink data structures\n",
    "* Heavily influenced by python xarray project\n",
    "* C++ core with python bindings. Python is first-class element.\n",
    "* Development gathered pace in 2020"
   ]
  },
  {
   "cell_type": "markdown",
   "metadata": {},
   "source": [
    "## Feature Summary\n",
    "\n",
    "* Very flexible containers with good optimistaion potential\n",
    "* Supports key features `Variances`, `Histograms`, `Masking`, `Events`, `Units`, `Bin-edges`, `Slicing`, `Sample-Environment`\n",
    "* Can provide a good scientific representation of data, does not force users to work in Detector-Space\n",
    "* Emphasises use of built-in generic functions\n",
    "* Bundles it's own plotting library\n",
    "*  `Dataset`, `DataArray` are main data containers"
   ]
  },
  {
   "cell_type": "markdown",
   "metadata": {},
   "source": [
    "## Feature Exhibit\n",
    "\n",
    "There are many demos and tutorials in the scipp online [documentation](https://scipp.github.io/)\n",
    "\n",
    "\n"
   ]
  },
  {
   "cell_type": "markdown",
   "metadata": {},
   "source": [
    "### N-d data\n",
    "\n",
    "We take the example of a 2D numpy array with values between 1 and 100"
   ]
  },
  {
   "cell_type": "code",
   "execution_count": null,
   "metadata": {},
   "outputs": [],
   "source": [
    "import numpy as np\n",
    "data = np.arange(1.0, 101.0).reshape(10,10)\n",
    "data"
   ]
  },
  {
   "cell_type": "markdown",
   "metadata": {},
   "source": [
    "In scipp we attach labels to the dimensions.\n",
    "This additional information helps with numerous things as we will see below."
   ]
  },
  {
   "cell_type": "code",
   "execution_count": null,
   "metadata": {},
   "outputs": [],
   "source": [
    "import scipp as sc\n",
    "image_data = sc.Variable(dims=['y', 'x'], values=data)"
   ]
  },
  {
   "cell_type": "code",
   "execution_count": null,
   "metadata": {},
   "outputs": [],
   "source": [
    "from scipp.plot import plot\n",
    "plot(image_data)"
   ]
  },
  {
   "cell_type": "markdown",
   "metadata": {},
   "source": [
    "### Coordinates and Units"
   ]
  },
  {
   "cell_type": "code",
   "execution_count": null,
   "metadata": {},
   "outputs": [],
   "source": [
    "# Lets give our image data the correct units\n",
    "image_data.unit = sc.units.counts\n",
    "\n",
    "x = sc.Variable(['x'], values=np.arange(10), unit=sc.units.mm)\n",
    "y = sc.Variable(['y'], values=np.arange(10), unit=sc.units.mm)\n",
    "image = sc.DataArray(data=image_data, coords={'x':x, 'y':y})\n",
    "plot(image, aspect='equal')"
   ]
  },
  {
   "cell_type": "code",
   "execution_count": null,
   "metadata": {},
   "outputs": [],
   "source": [
    "sc.show(image)"
   ]
  },
  {
   "cell_type": "markdown",
   "metadata": {},
   "source": [
    "Coords and units, not about pretty labels, give safety to help with preventable/costly mistakes. Lets see.\n",
    "\n",
    "\n",
    "\n",
    "\n"
   ]
  },
  {
   "cell_type": "code",
   "execution_count": null,
   "metadata": {},
   "outputs": [],
   "source": [
    "# Unit mismatch\n",
    "reference = image.copy()\n",
    "normalized = image / reference\n",
    "image + normalized # Caught!"
   ]
  },
  {
   "cell_type": "code",
   "execution_count": null,
   "metadata": {},
   "outputs": [],
   "source": [
    "# Coordinate mismatch\n",
    "background_corrected = reference - image\n",
    "plot(background_corrected)"
   ]
  },
  {
   "cell_type": "code",
   "execution_count": null,
   "metadata": {},
   "outputs": [],
   "source": [
    "reference.coords['x'] += 4 * sc.units.mm # Detector shifted along x\n",
    "plot(reference)"
   ]
  },
  {
   "cell_type": "code",
   "execution_count": null,
   "metadata": {},
   "outputs": [],
   "source": [
    "reference - image"
   ]
  },
  {
   "cell_type": "markdown",
   "metadata": {},
   "source": [
    "### Masking"
   ]
  },
  {
   "cell_type": "code",
   "execution_count": null,
   "metadata": {},
   "outputs": [],
   "source": [
    "image2 = image.copy()\n",
    "image.masks['lhs'] = image.coords['x'] < 5.0 * sc.units.mm\n",
    "plot(image)"
   ]
  },
  {
   "cell_type": "markdown",
   "metadata": {},
   "source": [
    "Lets make more masks..."
   ]
  },
  {
   "cell_type": "code",
   "execution_count": null,
   "metadata": {},
   "outputs": [],
   "source": [
    "image.masks['bad-pixel'] = image.data >= 99 * sc.units.counts\n",
    "plot(image)"
   ]
  },
  {
   "cell_type": "code",
   "execution_count": null,
   "metadata": {},
   "outputs": [],
   "source": [
    "image2.masks['bad-row'] = image.coords['y'] == 6 * sc.units.mm\n",
    "plot(image2)"
   ]
  },
  {
   "cell_type": "markdown",
   "metadata": {},
   "source": [
    "Masks are applied with OR. But data is not zero'd until the mask has to be lost. "
   ]
  },
  {
   "cell_type": "code",
   "execution_count": null,
   "metadata": {},
   "outputs": [],
   "source": [
    "image += image2\n",
    "plot(image)"
   ]
  },
  {
   "cell_type": "code",
   "execution_count": null,
   "metadata": {},
   "outputs": [],
   "source": [
    "sc.to_html(image)\n",
    "sc.show(image)"
   ]
  },
  {
   "cell_type": "markdown",
   "metadata": {},
   "source": [
    "### Slicing\n",
    "\n",
    "In numpy you are required to know your dimension order"
   ]
  },
  {
   "cell_type": "code",
   "execution_count": null,
   "metadata": {},
   "outputs": [],
   "source": [
    "data[4:,:]"
   ]
  },
  {
   "cell_type": "code",
   "execution_count": null,
   "metadata": {},
   "outputs": [],
   "source": [
    "data[:, 4:] # Or was it the other way round?"
   ]
  },
  {
   "cell_type": "markdown",
   "metadata": {},
   "source": [
    "but with scipp \"crop\" any dimension using the dimension label as a key."
   ]
  },
  {
   "cell_type": "code",
   "execution_count": null,
   "metadata": {},
   "outputs": [],
   "source": [
    "plot(image['x', 4:], aspect='equal')"
   ]
  },
  {
   "cell_type": "markdown",
   "metadata": {},
   "source": [
    "You can also chain the slicing operations."
   ]
  },
  {
   "cell_type": "code",
   "execution_count": null,
   "metadata": {},
   "outputs": [],
   "source": [
    "plot(image['y', 1:]['x', 4:], aspect='equal')"
   ]
  },
  {
   "cell_type": "markdown",
   "metadata": {},
   "source": [
    "### Dynamic type control"
   ]
  },
  {
   "cell_type": "code",
   "execution_count": null,
   "metadata": {},
   "outputs": [],
   "source": [
    "image_data"
   ]
  },
  {
   "cell_type": "code",
   "execution_count": null,
   "metadata": {},
   "outputs": [],
   "source": [
    "image_data.astype(sc.dtype.float32)"
   ]
  },
  {
   "cell_type": "markdown",
   "metadata": {},
   "source": [
    "## Compatibility \n",
    "\n",
    "### Mantid\n",
    "* scipp data structures are not API compatible with Mantid's \n",
    "* scipp and Mantid data structures (workspaces) **are convertible**. As one-liners in some cases:\n",
    "```python\n",
    "ds = sc.neutron.from_mantid(a_mantid)\n",
    "```\n",
    "* scipp can load and use nexus files like Mantid\n",
    "```python\n",
    "ds = sc.neutron.load(\"experiment.nxs\")\n",
    "```\n",
    "More on this topic in the [docs](https://scipp.github.io/scipp-neutron/from-mantid-to-scipp.html)\n",
    "\n",
    "### Numpy \n",
    "\n",
    "scipp objects can expose their underlying arrays in a numpy compatible form.\n",
    "This makes it possible to use numpy operations directly on scipp variables."
   ]
  },
  {
   "cell_type": "code",
   "execution_count": null,
   "metadata": {},
   "outputs": [],
   "source": [
    "x = sc.Variable(['x'], values=np.linspace(-np.pi, np.pi, 20))\n",
    "y = x.copy() # empty container\n",
    "np.sin(x.values, out=y.values)\n",
    "plot(y)"
   ]
  },
  {
   "cell_type": "markdown",
   "metadata": {},
   "source": [
    "## Packages\n",
    "\n",
    "Conda packages for `Linux`, `OSX`, and `Windows` on [anaconda cloud](https://anaconda.org/scipp/scipp)\n",
    "\n",
    "### Installation\n",
    "\n",
    "Simply\n",
    "<div style=\"padding: 20px\">\n",
    "  <p style=\"color: #ffffff; background-color: #000000; padding: 20px\">\n",
    "&nbsp;conda install -c conda-forge -c scipp scipp\n",
    "    </p>\n",
    "</div>\n",
    "\n",
    "Interoperability with mantid is achieved by installing the `mantid-framework` package, which is an optional dependency.\n",
    "It can be installed through the same channels.\n",
    "\n",
    "<div style=\"padding: 20px\">\n",
    "  <p style=\"color: #ffffff; background-color: #000000; padding: 20px\">\n",
    "&nbsp;conda install -c conda-forge -c scipp mantid-framework\n",
    "    </p>\n",
    "</div>\n",
    "\n",
    "Full installation notes [here](https://scipp.github.io/getting-started/installation.html)\n",
    "\n"
   ]
  },
  {
   "cell_type": "markdown",
   "metadata": {},
   "source": [
    "## Lots more in scipp\n",
    "\n",
    "* IO\n",
    "* label-based slicing\n",
    "* events/binning\n",
    "* grouping and filtering operations"
   ]
  },
  {
   "cell_type": "markdown",
   "metadata": {},
   "source": [
    "## Future Plans\n",
    "\n",
    "* Scipp 0.5 release out this week\n",
    "* Across technique areas Issues and priorities are already being driven by **Instrument Data Scientists**. Includes Søren Schmidt.\n",
    "* Data driven development using reduction workflows\n",
    "* Priorty is to support getting *Day One* instruments ready for *Hot Commissioning*\n",
    "* Aligned to above, scipp is being supplimented by `ess` and `neutron` specific modules that provide bespoke tools. \n",
    "* `scipp-widgets` library also under deveopment for building-block gui additions. See [docs](https://scipp.github.io/scipp-widgets/)\n",
    "* Technical short-term [roadmap](https://scipp.github.io/about/roadmap.html) already available\n",
    "\n",
    "\n",
    "\n"
   ]
  },
  {
   "cell_type": "markdown",
   "metadata": {},
   "source": [
    "## Futher Reading\n",
    "\n",
    "1. `Heybrock, Simon et al. \"Scipp: Scientific Data Handling with Labeled Multi-dimensional Arrays for C++ and Python\". 1 Jan. 2020 : 169 – 181`\n",
    "[PDF](https://arxiv.org/pdf/2010.00257.pdf) Simon Heybrock et al. \n",
    "1. [Source Code](https://github.com/scipp/scipp)"
   ]
  },
  {
   "cell_type": "code",
   "execution_count": null,
   "metadata": {},
   "outputs": [],
   "source": [
    "import matplotlib.pyplot as plt\n",
    "plt.rcParams.update({'figure.max_open_warning': 0})"
   ]
  }
 ],
 "metadata": {
  "kernelspec": {
   "display_name": "Python 3",
   "language": "python",
   "name": "python3"
  },
  "language_info": {
   "codemirror_mode": {
    "name": "ipython",
    "version": 3
   },
   "file_extension": ".py",
   "mimetype": "text/x-python",
   "name": "python",
   "nbconvert_exporter": "python",
   "pygments_lexer": "ipython3",
   "version": "3.7.6"
  }
 },
 "nbformat": 4,
 "nbformat_minor": 4
}
