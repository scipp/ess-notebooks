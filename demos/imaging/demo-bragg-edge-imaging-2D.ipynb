{
 "cells": [
  {
   "cell_type": "markdown",
   "metadata": {},
   "source": [
    "# Visualizing and reducing WFM imaging data with Scipp\n",
    "\n",
    "### Owen Arnold$^{1, 2}$, Neil Vaytet$^3$, Peter Kadletz$^4$, David Fairbrother$^1$\n",
    "\n",
    "$^1$ STFC, Rutherford Appleton Laboratory, UK\\\n",
    "$^2$ Tessella, UK\\\n",
    "$^3$ Data Management and Software Centre, European Spallation Source, Copenhagen, Denmark\\\n",
    "$^4$ European Spallation Source ERIC, Lund, Sweden\n",
    "\n",
    "*29 January 2021*\n",
    "\n",
    "This notebook aims to demonstrate the capabilities of the Scipp software to visualize and reduce neutron imaging data in an intuitive way, via a python interface that is reminiscent of Numpy.\n",
    "\n",
    "You can find this notebook at [this address](https://scipp.github.io/ess-notebooks/demos/imaging/demo-bragg-edge-imaging-2D.html).\n",
    "\n",
    "#### Disclaimer\n",
    "\n",
    "While we attempt to illustrate a realistic reduction workflow, scientific accuracy or quality are not the primary goals of this demo, and some steps have deliberately been simplified.\n",
    "The aim is more to demonstrate what Scipp can do and what it is like to work with neutron data in a way that is natural and 'pythonic'.\n",
    "\n",
    "## Experimental Summary\n",
    "\n",
    "This script has been developed to measure local strain $\\varepsilon$ defined as $\\varepsilon = \\Delta L/L_{0}$ in a FCC steel sample under elastic strain in a stress rig.\n",
    "The measurements were measured at V20, HZB, Berlin, in September 2018 by Peter Kadletz.\n",
    "\n",
    "$\\lambda = 2 d \\sin\\theta$, where $2\\theta = \\pi$ (transmission), edges characterise the Bragg condition and hence $\\lambda = 2 d$.\n",
    "Therefore strain is easily computed from the wavelength measurement of a Bragg edge directly, using un-loaded vs loaded experimental runs (and reference mesurements).\n",
    "\n",
    "The known Miller indices of the crystal structure (FCC) are used to predict the wavelength of the Bragg edges, which is bound by the reachable wavelength extents of the instrument.\n",
    "This provides an approximate region to apply a fit.\n",
    "A complement error function is used to fit each Bragg edge, and a refined centre location ($\\lambda$) for the edge is used in the strain measurement.\n",
    "Because each Bragg edge can be identified individually, one can determine anisotropic strain across the unit cell in the reachable crystallographic directions.\n",
    "\n",
    "<img src=\"IMG_2290.jpg\" width=\"500\" />\n",
    "\n",
    "# Setup"
   ]
  },
  {
   "cell_type": "code",
   "execution_count": null,
   "metadata": {},
   "outputs": [],
   "source": [
    "import scipp as sc\n",
    "import numpy as np\n",
    "from scipp.plot import plot\n",
    "import matplotlib.pyplot as plt\n",
    "import utils\n",
    "from utils import wfm"
   ]
  },
  {
   "cell_type": "markdown",
   "metadata": {
    "pycharm": {
     "name": "#%% md\n"
    }
   },
   "source": [
    "# Reduction\n",
    "\n",
    "## Load the data files and instrument geometry"
   ]
  },
  {
   "cell_type": "code",
   "execution_count": null,
   "metadata": {
    "pycharm": {
     "name": "#%% \n"
    }
   },
   "outputs": [],
   "source": [
    "ds = utils.load()"
   ]
  },
  {
   "cell_type": "code",
   "execution_count": null,
   "metadata": {},
   "outputs": [],
   "source": [
    "ds"
   ]
  },
  {
   "cell_type": "markdown",
   "metadata": {},
   "source": [
    "## Raw data visualization"
   ]
  },
  {
   "cell_type": "code",
   "execution_count": null,
   "metadata": {},
   "outputs": [],
   "source": [
    "plot(ds[\"sample\"])"
   ]
  },
  {
   "cell_type": "markdown",
   "metadata": {
    "pycharm": {
     "name": "#%% md\n"
    }
   },
   "source": [
    "## Converting time coordinate to TOF\n",
    "\n",
    "Use the instrument geometry and chopper cascade parameters to compute time-distance diagram."
   ]
  },
  {
   "cell_type": "code",
   "execution_count": null,
   "metadata": {},
   "outputs": [],
   "source": [
    "plt.ion()\n",
    "v20setup = wfm.v20.setup()\n",
    "# Feed in the detector position to the instrument chopper cascade\n",
    "v20setup['info']['detector_positions'] = {\n",
    "    \"GP2\": -ds.coords['source-position'].value[2] + v20setup['info']['wfm_choppers_midpoint'] + sc.geometry.z(\n",
    "    ds.coords[\"position\"])['x', 0]['y', 0].value}\n",
    "\n",
    "frames = wfm.get_frames(instrument=v20setup, plot=True)\n",
    "frames"
   ]
  },
  {
   "cell_type": "markdown",
   "metadata": {},
   "source": [
    "We overlay the frame locations onto a spectrum of integrated counts"
   ]
  },
  {
   "cell_type": "code",
   "execution_count": null,
   "metadata": {},
   "outputs": [],
   "source": [
    "plt.ioff()\n",
    "fig1, ax1 = plt.subplots()\n",
    "plot(sc.sum(sc.sum(ds[\"reference\"], 'x'), 'y'), ax=ax1)\n",
    "for i in range(len(frames[\"GP2\"][\"left_edges\"])):\n",
    "    ax1.axvspan(frames[\"GP2\"][\"left_edges\"][i], frames[\"GP2\"][\"right_edges\"][i], color=\"C{}\".format(i), alpha=0.3)\n",
    "fig1.canvas.draw_idle()\n",
    "fig1.canvas"
   ]
  },
  {
   "cell_type": "markdown",
   "metadata": {},
   "source": [
    "Extract the sections in the original data using value-based slicing and shift the coordinates:"
   ]
  },
  {
   "cell_type": "code",
   "execution_count": null,
   "metadata": {},
   "outputs": [],
   "source": [
    "plt.ion()\n",
    "stitched = wfm.stitch(data=ds, dim=\"t\", frames=frames[\"GP2\"], plot=True)\n",
    "stitched"
   ]
  },
  {
   "cell_type": "markdown",
   "metadata": {},
   "source": [
    "To stitch the data, we make a common container with a TOF axis spanning the entire range, and sum the counts from the different frames."
   ]
  },
  {
   "cell_type": "code",
   "execution_count": null,
   "metadata": {},
   "outputs": [],
   "source": [
    "plt.ioff()\n",
    "plot(sc.sum(sc.sum(stitched, 'x'), 'y'))"
   ]
  },
  {
   "cell_type": "markdown",
   "metadata": {},
   "source": [
    "## Crop to relevant Tof section\n",
    "\n",
    "We take a subset of the Tof range which contains the Bragg edges of interest:"
   ]
  },
  {
   "cell_type": "code",
   "execution_count": null,
   "metadata": {},
   "outputs": [],
   "source": [
    "tof_start = 9.0e3*sc.units.us\n",
    "tof_end = 2.75e4*sc.units.us\n",
    "stitched = stitched[\"tof\", tof_start:tof_end].copy()\n",
    "plot(sc.sum(sc.sum(stitched, 'x'), 'y'))"
   ]
  },
  {
   "cell_type": "markdown",
   "metadata": {},
   "source": [
    "## Transmission Masking\n",
    "\n",
    "Divides the integrated sample counts with an open beam reference. Any values > masking threshold will be masked. The adj pixels step checks for random pixels which were left unmasked or masked with all their neighbours having the same mask value. These are forced to True or false depending on their neighbour value."
   ]
  },
  {
   "cell_type": "code",
   "execution_count": null,
   "metadata": {},
   "outputs": [],
   "source": [
    "integrated = sc.sum(stitched, 'tof')\n",
    "integrated /= integrated[\"reference\"]"
   ]
  },
  {
   "cell_type": "code",
   "execution_count": null,
   "metadata": {},
   "outputs": [],
   "source": [
    "masking_threshold = 0.80 * sc.units.one\n",
    "\n",
    "for key in [\"sample\", \"sample_elastic\"]:\n",
    "    mask = integrated[key].data > masking_threshold\n",
    "    # Apply some neighbour smoothing to the masks\n",
    "    mask = utils.operations.mask_from_adj_pixels(mask)\n",
    "    stitched[key].masks[\"non-sample-region\"] = mask\n",
    "stitched"
   ]
  },
  {
   "cell_type": "code",
   "execution_count": null,
   "metadata": {},
   "outputs": [],
   "source": [
    "plot(sc.sum(stitched[\"sample\"], \"tof\"))"
   ]
  },
  {
   "cell_type": "markdown",
   "metadata": {},
   "source": [
    "## Convert to wavelength\n",
    "\n",
    "Scipp's `neutron` submodule contains utilities specific to neutron science, and in particular unit conversions."
   ]
  },
  {
   "cell_type": "code",
   "execution_count": null,
   "metadata": {},
   "outputs": [],
   "source": [
    "wavelength = sc.neutron.convert(stitched, origin=\"tof\", target=\"wavelength\")\n",
    "\n",
    "# Rebin to common wavelength axis\n",
    "edges = sc.array(dims=[\"wavelength\"],\n",
    "                       values=np.linspace(2.0, 5.5, 129), unit=sc.units.angstrom)\n",
    "wavelength = sc.rebin(wavelength, \"wavelength\", edges)\n",
    "\n",
    "wavelength"
   ]
  },
  {
   "cell_type": "markdown",
   "metadata": {},
   "source": [
    "## Apply mean filter"
   ]
  },
  {
   "cell_type": "code",
   "execution_count": null,
   "metadata": {},
   "outputs": [],
   "source": [
    "for key in wavelength:\n",
    "    wavelength[key].data = utils.operations.mean_from_adj_pixels(wavelength[key].data)\n",
    "plot(wavelength[\"sample\"])"
   ]
  },
  {
   "cell_type": "markdown",
   "metadata": {},
   "source": [
    "## Other visualizations\n",
    "\n",
    "### Show difference between sample and elastic"
   ]
  },
  {
   "cell_type": "code",
   "execution_count": null,
   "metadata": {},
   "outputs": [],
   "source": [
    "plot(wavelength[\"sample\"] - wavelength[\"sample_elastic\"], vmin=-0.002, vmax=0.002, cmap=\"RdBu\")"
   ]
  },
  {
   "cell_type": "markdown",
   "metadata": {},
   "source": [
    "## Group detector pixels to increase signal to noise"
   ]
  },
  {
   "cell_type": "code",
   "execution_count": null,
   "metadata": {},
   "outputs": [],
   "source": [
    "nbins=27\n",
    "grouped = utils.groupby2D(wavelength, nbins=nbins)\n",
    "for key, item in grouped.items():\n",
    "    item.masks[\"zero-counts\"] = item.data == 0.0*sc.units.counts"
   ]
  },
  {
   "cell_type": "code",
   "execution_count": null,
   "metadata": {},
   "outputs": [],
   "source": [
    "plot(grouped[\"sample\"])"
   ]
  },
  {
   "cell_type": "markdown",
   "metadata": {
    "pycharm": {
     "name": "#%% md\n"
    }
   },
   "source": [
    "## Normalization"
   ]
  },
  {
   "cell_type": "code",
   "execution_count": null,
   "metadata": {
    "pycharm": {
     "name": "#%%\n"
    }
   },
   "outputs": [],
   "source": [
    "# Normalize by open beam\n",
    "normalized = grouped / grouped[\"reference\"]\n",
    "del normalized[\"reference\"]"
   ]
  },
  {
   "cell_type": "code",
   "execution_count": null,
   "metadata": {
    "pycharm": {
     "name": "#%%\n"
    }
   },
   "outputs": [],
   "source": [
    "replacement = sc.Variable(value=0.0, variance=0.0)\n",
    "kwargs = {\"nan\": replacement, \"posinf\": replacement, \"neginf\": replacement}\n",
    "for k in normalized.keys():\n",
    "    sc.nan_to_num(normalized[k].data, out=normalized[k].data, **kwargs)\n",
    "\n",
    "plot(sc.sum(sc.sum(normalized, 'x'), 'y'), grid=True, title='I/I0')"
   ]
  },
  {
   "cell_type": "markdown",
   "metadata": {},
   "source": [
    "# Bragg edge fitting\n",
    "\n",
    "We will first carry out Bragg-edge fitting on the sum of all counts in the sample."
   ]
  },
  {
   "cell_type": "code",
   "execution_count": null,
   "metadata": {},
   "outputs": [],
   "source": [
    "sample_summed = sc.sum(sc.sum(normalized[\"sample\"], 'x'), 'y')"
   ]
  },
  {
   "cell_type": "markdown",
   "metadata": {},
   "source": [
    "## Calculate expected Bragg edge positions "
   ]
  },
  {
   "cell_type": "code",
   "execution_count": null,
   "metadata": {},
   "outputs": [],
   "source": [
    "# Bragg edge position, in Angstrom, taken from COD entry 9008469\n",
    "FCC_a = 3.5\n",
    "\n",
    "# These miller indices for the given unit cell yield bragg edges\n",
    "# between the maximum and minimum wavelength range.\n",
    "indices_FCC = [(1, 1, 1), (2, 0, 0), (2, 2, 0), (3, 1, 1)]\n",
    "\n",
    "Bragg_edges_FCC = utils.create_Braggedge_list(FCC_a, indices_FCC)\n",
    "sc.table(Bragg_edges_FCC)"
   ]
  },
  {
   "cell_type": "markdown",
   "metadata": {},
   "source": [
    "## Run the fitting (currently using Mantid under the hood)"
   ]
  },
  {
   "cell_type": "code",
   "execution_count": null,
   "metadata": {},
   "outputs": [],
   "source": [
    "fit_params = utils.fit(Bragg_edges_FCC, reference=sample_summed)"
   ]
  },
  {
   "cell_type": "code",
   "execution_count": null,
   "metadata": {},
   "outputs": [],
   "source": [
    "import scipy as sp\n",
    "fig, ax = plt.subplots()\n",
    "sample_summed.plot(ax=ax)\n",
    "for i, f in enumerate(fit_params):\n",
    "    x = np.linspace(f['f1.x0'].value - 0.3, f['f1.x0'].value + 0.3, 100)\n",
    "    y=f['f1.h'].value*sp.special.erf(f['f1.a'].value*(x-f['f1.x0'].value)) + (f['f0.A0'].value + f['f0.A1'].value*x)\n",
    "    ax.plot(x, y, color=\"C{}\".format(i+1), label=Bragg_edges_FCC.coords['miller-indices'].values[i])\n",
    "ax.legend()\n",
    "fig.canvas"
   ]
  },
  {
   "cell_type": "markdown",
   "metadata": {},
   "source": [
    "## Create a strain map\n",
    "\n",
    "We can create a strain map by fitting the Bragg edges inside each tile of the image."
   ]
  },
  {
   "cell_type": "code",
   "execution_count": null,
   "metadata": {
    "scrolled": false
   },
   "outputs": [],
   "source": [
    "# Make an empty container to receive the strain values\n",
    "strain_map = normalized[\"sample_elastic\"][\"wavelength\", 0] * (0.0 * sc.units.one)\n",
    "\n",
    "iprog = 0\n",
    "step = 5\n",
    "\n",
    "# Loop over all the tiles\n",
    "for j in range(nbins):\n",
    "    for i in range(nbins):\n",
    "\n",
    "        prog = int(100 * (i + j*nbins) / (nbins*nbins))\n",
    "        if prog % step == 0 and prog == iprog:\n",
    "            print(prog, \"% complete\")\n",
    "            iprog += step\n",
    "        \n",
    "        if sc.greater(sc.sum(normalized[\"sample_elastic\"]['y', j]['x', i], \"wavelength\").data,\n",
    "                      0.0*sc.units.one).value:\n",
    "            elastic_fit = utils.fit(Bragg_edges_FCC,\n",
    "                                    reference=normalized[\"sample_elastic\"]['y', j]['x', i], quiet=True)\n",
    "            strain_map['y', j]['x', i] = 0.5 * (elastic_fit[0]['f1.x0'] - fit_params[0]['f1.x0'])"
   ]
  },
  {
   "cell_type": "code",
   "execution_count": null,
   "metadata": {},
   "outputs": [],
   "source": [
    "plot(strain_map, vmin=-0.02, vmax=0.02, cmap=\"RdBu\", title=\"Lattice strain $\\epsilon$ (1, 1, 1)\")"
   ]
  },
  {
   "cell_type": "markdown",
   "metadata": {},
   "source": [
    "### 3D visualization"
   ]
  },
  {
   "cell_type": "code",
   "execution_count": null,
   "metadata": {},
   "outputs": [],
   "source": [
    "resampled = sc.rebin(wavelength[\"sample\"], \"x\", sc.array(\n",
    "    dims=['x'], values=np.linspace(-0.011, 0.011, 129), unit=sc.units.m))\n",
    "resampled = sc.rebin(resampled, \"y\", sc.array(\n",
    "    dims=['y'], values=np.linspace(-0.011, 0.011, 129), unit=sc.units.m))\n",
    "plot(resampled, projection=\"3d\") # thickness: 0.00001"
   ]
  }
 ],
 "metadata": {
  "kernelspec": {
   "display_name": "Python 3",
   "language": "python",
   "name": "python3"
  },
  "language_info": {
   "codemirror_mode": {
    "name": "ipython",
    "version": 3
   },
   "file_extension": ".py",
   "mimetype": "text/x-python",
   "name": "python",
   "nbconvert_exporter": "python",
   "pygments_lexer": "ipython3",
   "version": "3.7.7"
  },
  "toc": {
   "base_numbering": 1,
   "nav_menu": {},
   "number_sections": true,
   "sideBar": true,
   "skip_h1_title": false,
   "title_cell": "Table of Contents",
   "title_sidebar": "Contents",
   "toc_cell": false,
   "toc_position": {},
   "toc_section_display": true,
   "toc_window_display": false
  }
 },
 "nbformat": 4,
 "nbformat_minor": 2
}
