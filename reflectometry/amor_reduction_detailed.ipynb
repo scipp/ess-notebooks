{
 "cells": [
  {
   "cell_type": "markdown",
   "id": "lightweight-darwin",
   "metadata": {},
   "source": [
    "# Data reduction for Amor using `scipp`\n",
    "\n",
    "In this notebook, we will look in detail at the reduction of data collected from the [Amor](https://www.psi.ch/en/sinq/amor) using [`scipp`](https://scipp.github.io). \n",
    "This notebook aims to communicate how data reduction is performed transparently and understandably. \n",
    "This is a living document and there are plans to update this as necessary with changes in the data reduction methodology and code. \n",
    "\n",
    "All of the steps given here are implemented in the [`ReflData`](https://scipp.github.io/ess/techniques/reflectometry/data.html#ess.reflectometry.data.ReflData), [`AmorData`](https://scipp.github.io/ess/instruments/amor/amor_data.html#ess.amor.amor_data.AmorData), [`AmorReference`](https://scipp.github.io/ess/instruments/amor/amor_data.html#ess.amor.amor_data.AmorReference), and [`Normalisation`](https://scipp.github.io/ess/instruments/amor/amor_data.html#ess.amor.amor_data.Normalisation) classes that are available in the [`ess`](https://scipp.github.io/ess/index.html) package. \n",
    "Furthermore, is it shown how the functionality detailed here can be easily accessed through these classes in this [simple reduction notebook](https://scipp.github.io/ess-notebooks/reflectometry/amor_reduction.html).\n",
    "\n",
    "We will begin by importing the modules that are necessary for this notebook and loading the data. \n",
    "The [sample.nxs](https://github.com/scipp/ess-notebooks-data/raw/main/ess/amor/sample.nxs) file is the experimental data file of interest and [reference.nxs](https://github.com/scipp/ess-notebooks-data/raw/main/ess/amor/references.nxs) is the reference measurement of the neutron supermirror."
   ]
  },
  {
   "cell_type": "code",
   "execution_count": null,
   "id": "viral-general",
   "metadata": {},
   "outputs": [],
   "source": [
    "import os\n",
    "import dataconfig\n",
    "import numpy as np\n",
    "from scipy.special import erf\n",
    "import scipp as sc\n",
    "import scippneutron as scn\n",
    "from ess.reflectometry.data import ReflData\n",
    "from ess.reflectometry import HDM, G_ACC\n",
    "from ess.amor.amor_data import AmorData\n",
    "\n",
    "local_data_path = os.path.join('ess-notebooks', 'amor')\n",
    "data_dir = os.path.join(dataconfig.data_root, local_data_path)\n",
    "data_file = os.path.join(data_dir, 'sample.nxs')\n",
    "reference_file = os.path.join(data_dir, 'reference.nxs')"
   ]
  },
  {
   "cell_type": "markdown",
   "id": "fatty-amber",
   "metadata": {},
   "source": [
    "## Raw data parsing\n",
    "\n",
    "The data collected at the Amor instrument is written to a [NeXus](https://www.nexusformat.org) after the data collection is complete.\n",
    "This NeXus file can be read into `scipp` with the `scn.load_nexus` function. "
   ]
  },
  {
   "cell_type": "code",
   "execution_count": null,
   "id": "referenced-allergy",
   "metadata": {},
   "outputs": [],
   "source": [
    "data = scn.load_nexus(data_file)"
   ]
  },
  {
   "cell_type": "markdown",
   "id": "0356157c",
   "metadata": {},
   "source": [
    "It is possible to visualise this data as a `scipp.DataArray`."
   ]
  },
  {
   "cell_type": "code",
   "execution_count": null,
   "id": "metropolitan-pillow",
   "metadata": {
    "scrolled": true
   },
   "outputs": [],
   "source": [
    "data"
   ]
  },
  {
   "cell_type": "markdown",
   "id": "owned-button",
   "metadata": {},
   "source": [
    "The data is stored in a binned structure, where each bin is a pixel on the detector containing each neutron event that was measured there. \n",
    "It is possible to access the event data from the class property `events`. "
   ]
  },
  {
   "cell_type": "code",
   "execution_count": null,
   "id": "6185a476",
   "metadata": {},
   "outputs": [],
   "source": [
    "data.events"
   ]
  },
  {
   "cell_type": "markdown",
   "id": "advised-schedule",
   "metadata": {},
   "source": [
    "It is also possible to visualise the detector, with the neutron events shown in the relevant pixels. "
   ]
  },
  {
   "cell_type": "code",
   "execution_count": null,
   "id": "respective-causing",
   "metadata": {},
   "outputs": [],
   "source": [
    "scn.instrument_view(data)"
   ]
  },
  {
   "cell_type": "markdown",
   "id": "controlled-jordan",
   "metadata": {},
   "source": [
    "## Time-of-flight correction\n",
    "\n",
    "The time-of-flight values present in the `data` above are taken from the `event_time_offset`, $t_{\\text{eto}}$. \n",
    "Therefore, it is necessary to account for an offset due to the chopper pulse generation at the Amor instrument. \n",
    "This correction is performed by considering half of the reciprocal rotational velocity of the chopper, $\\tau$, and the phase offset between the chopper pulse and the time-of-flight $0$, $\\phi_{\\text{chopper}}$, \n",
    "\n",
    "$$\n",
    "t_{\\text{offset}} = \\tau \\phi_{\\text{chopper}}.\n",
    "$$\n",
    "\n",
    "The time-of-flight is then found as, \n",
    "\n",
    "$$\n",
    "t = [(t_{\\text{eto}} - t_{\\text{cut}} + \\tau) \\;\\text{mod}\\; \\tau] + t_{\\text{cut}} + t_{\\text{offset}},\n",
    "$$\n",
    "\n",
    "where, $\\text{mod}$ is the remainder between the two values and $t_{\\text{cut}}$ is found from the minimum wavelength, $\\lambda$, to be used. \n",
    "In order to perform this conversion, first we convert the time-of-flight coordinate in the event data to microseconds (this is for clarity, due to the commonality of the unit, though not strictly necessary). "
   ]
  },
  {
   "cell_type": "code",
   "execution_count": null,
   "id": "earned-flesh",
   "metadata": {},
   "outputs": [],
   "source": [
    "t_eto = sc.to_unit(data.events.coords['tof'], 'us')\n",
    "t_eto"
   ]
  },
  {
   "cell_type": "markdown",
   "id": "developmental-medicine",
   "metadata": {},
   "source": [
    "First, $t_{\\text{offset}}$ can be found. "
   ]
  },
  {
   "cell_type": "code",
   "execution_count": null,
   "id": "english-mozambique",
   "metadata": {},
   "outputs": [],
   "source": [
    "chopper_speed = 20 / 3 * 1e-6 / sc.units.us\n",
    "tau = sc.to_unit(1 / (2 * chopper_speed), 'us')\n",
    "chopper_phase = -8.0 * sc.units.deg\n",
    "t_offset = sc.to_unit(tau * chopper_phase / (180.0 * sc.units.deg), 'us')\n",
    "t_offset"
   ]
  },
  {
   "cell_type": "markdown",
   "id": "parallel-particle",
   "metadata": {},
   "source": [
    "Next, $t_{\\text{cut}}$ from the minimum wavelength value is determined, where `HDM` is the ratio of Planck's constant, $h$, to the neutron mass, $m_n$. "
   ]
  },
  {
   "cell_type": "code",
   "execution_count": null,
   "id": "secure-cookbook",
   "metadata": {},
   "outputs": [],
   "source": [
    "wavelength_cut = 2.4 * sc.units.angstrom\n",
    "chopper_detector_distance = 19 * sc.units.m\n",
    "t_cut = sc.to_unit(wavelength_cut * chopper_detector_distance / HDM, 'us')\n",
    "t_cut"
   ]
  },
  {
   "cell_type": "markdown",
   "id": "legal-fabric",
   "metadata": {},
   "source": [
    "The time-of-flight is then found, currently using the `np.remainder` functionality. "
   ]
  },
  {
   "cell_type": "code",
   "execution_count": null,
   "id": "polar-poverty",
   "metadata": {},
   "outputs": [],
   "source": [
    "t = sc.Variable(\n",
    "    values = np.remainder((t_eto - t_cut + tau).values, tau.values), \n",
    "    unit=sc.units.us, \n",
    "    dims=['event'], \n",
    "    dtype=sc.dtype.float64) + t_cut + t_offset\n",
    "t"
   ]
  },
  {
   "cell_type": "markdown",
   "id": "outer-amplifier",
   "metadata": {},
   "source": [
    "Having corrected the time-of-flight, this coordinate in the `data` can be overwritten."
   ]
  },
  {
   "cell_type": "code",
   "execution_count": null,
   "id": "phantom-transcript",
   "metadata": {},
   "outputs": [],
   "source": [
    "data.events.coords['tof'] = t"
   ]
  },
  {
   "cell_type": "code",
   "execution_count": null,
   "id": "immediate-pierre",
   "metadata": {},
   "outputs": [],
   "source": [
    "data.events"
   ]
  },
  {
   "cell_type": "markdown",
   "id": "powerful-stack",
   "metadata": {},
   "source": [
    "Having corrected the time-of-flight values, it is possible to visualise a histogram of the values. "
   ]
  },
  {
   "cell_type": "code",
   "execution_count": null,
   "id": "equivalent-enlargement",
   "metadata": {},
   "outputs": [],
   "source": [
    "max_t = sc.max(data.events.coords['tof'])\n",
    "min_t = sc.min(data.events.coords['tof'])\n",
    "bins = sc.linspace(\n",
    "    dim='tof', \n",
    "    start=min_t.value, \n",
    "    stop=max_t.value, \n",
    "    num=100, \n",
    "    unit=data.events.coords['tof'].unit)\n",
    "sc.histogram(data.events, bins).plot()"
   ]
  },
  {
   "cell_type": "markdown",
   "id": "color-speaking",
   "metadata": {},
   "source": [
    "## Time-of-flight to wavelength conversion\n",
    "\n",
    "The time-of-flight has been determined, therefore it is now possible to convert from time-of-flight to wavelength, an important step in determining $q_z$. \n",
    "`scipp` includes built-in functionality to perform this conversion based on the instrument geometry. \n",
    "However, the `source_position` must be modified to account for the fact that the source is defined by the chopper. "
   ]
  },
  {
   "cell_type": "code",
   "execution_count": null,
   "id": "ignored-chemical",
   "metadata": {},
   "outputs": [],
   "source": [
    "chopper_sample_distance = 15.0 * sc.units.m\n",
    "data.attrs[\"source_position\"] = sc.vector(\n",
    "    value=[0., 0., -chopper_detector_distance.value], \n",
    "    unit=sc.units.m)"
   ]
  },
  {
   "cell_type": "markdown",
   "id": "tough-booth",
   "metadata": {},
   "source": [
    "The `scn.convert` function makes use of the definition of the sample position at $[0, 0, 0]$."
   ]
  },
  {
   "cell_type": "code",
   "execution_count": null,
   "id": "guided-pocket",
   "metadata": {},
   "outputs": [],
   "source": [
    "data.attrs['sample_position']"
   ]
  },
  {
   "cell_type": "code",
   "execution_count": null,
   "id": "hindu-thirty",
   "metadata": {},
   "outputs": [],
   "source": [
    "data = scn.convert(data, origin='tof', target='wavelength', scatter=True)"
   ]
  },
  {
   "cell_type": "markdown",
   "id": "duplicate-lafayette",
   "metadata": {},
   "source": [
    "In the above operation, the `'tof'` coordinate is lost, this is not the case for the `ReflData` or `AmorData` objects. \n",
    "\n",
    "Similar to the time-of-flight, it is possible to visualise the $\\lambda$-values. "
   ]
  },
  {
   "cell_type": "code",
   "execution_count": null,
   "id": "identified-deputy",
   "metadata": {
    "scrolled": true
   },
   "outputs": [],
   "source": [
    "max_w = sc.max(data.events.coords['wavelength'])\n",
    "min_w = sc.min(data.events.coords['wavelength'])\n",
    "bins = sc.linspace(\n",
    "    dim='wavelength', \n",
    "    start=min_w.value, \n",
    "    stop=max_w.value, \n",
    "    num=100,\n",
    "    unit=data.events.coords['wavelength'].unit)\n",
    "sc.histogram(data.events, bins).plot()"
   ]
  },
  {
   "cell_type": "markdown",
   "id": "7fb6a9fc",
   "metadata": {},
   "source": [
    "In addition to plotting a histogram of the events as a function of wavelength, we can visualise a subset in a table."
   ]
  },
  {
   "cell_type": "code",
   "execution_count": null,
   "id": "d83aa104",
   "metadata": {
    "scrolled": false
   },
   "outputs": [],
   "source": [
    "sc.table(data.events['event', :10])"
   ]
  },
  {
   "cell_type": "markdown",
   "id": "bibliographic-garlic",
   "metadata": {},
   "source": [
    "## Theta calculation and gravity correction\n",
    "\n",
    "The Amor reflectometer scatters neutrons vertically in space from a horizontal scattering surface. \n",
    "Therefore, when the scattering angle, $\\theta$, is found, it is necessary to consider the effect that gravity will have on the neutron's trajectory. \n",
    "\n",
    "<center>\n",
    "    <img src='gravity.png' width=60%>\n",
    "    <i>\n",
    "        The effect of gravity for a neutron with a velocity of 20 ms<sup>-1</sup>; the solid blue line shows the trajectory of a neutron reflected from a surface under the influence of gravity, the dashed green line shows the trajectory without gravity if no correction, the solid orange line shows the true trajectory if the reflection were to occur with no gravity present.\n",
    "    </i>\n",
    "</center>\n",
    "\n",
    "The figure above shows the trajectory of a neutron reflecting from a sample and being detected on the detector (the blue line). \n",
    "Initially assuming that all of the neutrons are incident at the point $(0, 0)$ (the influence of beam and sample width is [considered below](#Resolution-functions)). \n",
    "During the trajectory, the neutron is acted on by the force of gravity, leading to the parabolic motion shown. \n",
    "It is clear that if $\\theta$ were calculated without accounting for gravity (dashed green line), then the angle would be underestimated. \n",
    "\n",
    "The trajectory for the detected neutron can be found by considering the kinematic equations of motion. \n",
    "The time taken for the neutron to travel from $z=z_0$ to $z=z_d$ is, \n",
    "\n",
    "$$\n",
    "t_d = \\frac{z_d - z_0}{v_z}, \n",
    "$$\n",
    "\n",
    "where, $v_z$ is the velocity of the neutron in the z-dimension. \n",
    "It is assumed that the velocity in this dimension is the main component of the total velocity and that this doesn't change over time. \n",
    "Therefore, we can calculate $v_z$ from the neutron's wavelength as, \n",
    "\n",
    "$$\n",
    "v_z = \\frac{h}{m_n\\lambda}.\n",
    "$$\n",
    "\n",
    "This can be found as follows."
   ]
  },
  {
   "cell_type": "code",
   "execution_count": null,
   "id": "legal-absolute",
   "metadata": {},
   "outputs": [],
   "source": [
    "data.events.coords[\"velocity\"] = sc.to_unit(HDM / data.events.coords['wavelength'], 'm/s')\n",
    "data.events.coords[\"velocity\"]"
   ]
  },
  {
   "cell_type": "markdown",
   "id": "traditional-capacity",
   "metadata": {},
   "source": [
    "It is assumed that the parabolic motion does not reach a maximum before the neutron is incident on the detector. \n",
    "Therefore, the velocity in the $y$-dimension at the time of reflection can be found, \n",
    "\n",
    "$$\n",
    "v_y(0) = \\frac{y_d - y_0 - 0.5 a t_d^2}{t_d},\n",
    "$$\n",
    "\n",
    "where $y_0$ is the initial position of the neutron, $y_0 = 0$, and $a$ is the acceleration due to gravity, $a = -g = 9.80665\\;\\text{ms}^{-2}$. \n",
    "Using this, the $y$-position of the neutron can be found at any time, $t$, \n",
    "\n",
    "$$\n",
    "y(t) = y_0 + v_y(0)t + 0.5 a t^2, \n",
    "$$\n",
    "\n",
    "or any $z$-position (with $v_y(0)$ expanded), \n",
    "\n",
    "$$\n",
    "y(z) = y_0 + \\Bigg[(z - z_0) \\bigg(-\\frac{a (z_d - z_0)^2}{2v_z^2} - y_0 + y_d\\bigg)\\Bigg]\\frac{1}{z_d - z_0} + \\frac{a (z - z_0)^2}{2v_z^2}.\n",
    "$$\n",
    "\n",
    "The derivative of this with respect to $z$ can then be found, \n",
    "\n",
    "$$\n",
    "y'(z) = \\bigg(\\frac{-a(z_d-z_0)^2}{2v_z^2}-y_0 + y_d\\bigg)\\frac{1}{z_d-z_0} + \\frac{a(z-z_0)}{v_z^2}, \n",
    "$$ \n",
    "\n",
    "This can be simplified when $z=z_0$ to, \n",
    "\n",
    "$$\n",
    "y'(z_0) = \\frac{-a (z_d-z_0)}{2v_z^2} + \\frac{y_d-y_0}{z_d-z_0}.\n",
    "$$\n",
    "\n",
    "From which $\\theta$ can be found,\n",
    "\n",
    "$$\n",
    "\\theta = -\\omega + \\tan^{-1}\\bigg(\\frac{y'(z_0)z_d + y_0 - y'(z_0)z_0}{z_d}\\bigg),\n",
    "$$\n",
    "\n",
    "where, $\\omega$ is the angle of the sample relative to the laboratory horizon. \n",
    "\n",
    "We can show this in action, first by defining a function for the derivative above."
   ]
  },
  {
   "cell_type": "code",
   "execution_count": null,
   "id": "mathematical-ownership",
   "metadata": {},
   "outputs": [],
   "source": [
    "def y_dash0(velocity, z_origin, y_origin, z_measured, y_measured):\n",
    "    \"\"\"\n",
    "    Evaluation of the first dervative of the kinematic equations \n",
    "    for for the trajectory of a neutron reflected from a surface.\n",
    "    \n",
    "    :param velocity: Neutron velocity\n",
    "    :type velocity: scipp._scipp.core.VariableView\n",
    "    :param z_origin: The z-origin position for the reflected neutron\n",
    "    :type z_origin: scipp._scipp.core.Variable\n",
    "    :param y_origin: The y-origin position for the reflected neutron\n",
    "    :type y_origin: scipp._scipp.core.Variable \n",
    "    :param z_measured: The z-measured position for the reflected neutron\n",
    "    :type z_measured: scipp._scipp.core.Variable\n",
    "    :param y_measured: The y-measured position for the reflected neutron\n",
    "    :type y_measured: scipp._scipp.core.Variable\n",
    "    \n",
    "    :return: The gradient of the trajectory of the neutron at the origin position.\n",
    "    :rtype: scipp._scipp.core.VariableView\n",
    "    \"\"\"\n",
    "    velocity2 = velocity * velocity\n",
    "    z_diff = z_measured - z_origin\n",
    "    y_diff = y_measured - y_origin\n",
    "    return -0.5 * sc.norm(G_ACC) * z_diff / velocity2 + y_diff / z_diff"
   ]
  },
  {
   "cell_type": "markdown",
   "id": "attached-boutique",
   "metadata": {},
   "source": [
    "The angle is found by evaluating the position of each pixel with respect to the sample position. "
   ]
  },
  {
   "cell_type": "code",
   "execution_count": null,
   "id": "worse-saskatchewan",
   "metadata": {},
   "outputs": [],
   "source": [
    "y_measured = data.coords['position'].fields.y\n",
    "z_measured = data.coords['position'].fields.z\n",
    "y_origin = data.coords['sample_position'].fields.y\n",
    "z_origin = data.coords['sample_position'].fields.z"
   ]
  },
  {
   "cell_type": "markdown",
   "id": "pending-procedure",
   "metadata": {},
   "source": [
    "The gradient and hence the angle can then be found. "
   ]
  },
  {
   "cell_type": "code",
   "execution_count": null,
   "id": "controlled-grace",
   "metadata": {},
   "outputs": [],
   "source": [
    "y_dash = y_dash0(\n",
    "    data.bins.coords[\"velocity\"],\n",
    "    z_origin,\n",
    "    y_origin,\n",
    "    z_measured,\n",
    "    y_measured)\n",
    "intercept = y_origin - y_dash * z_origin\n",
    "y_true = z_measured * y_dash + intercept\n",
    "angle = sc.to_unit(\n",
    "    sc.atan(y_true / z_measured).bins.constituents[\"data\"], \n",
    "    'deg')\n",
    "angle"
   ]
  },
  {
   "cell_type": "markdown",
   "id": "creative-filter",
   "metadata": {},
   "source": [
    "The value of $\\theta$ can then be found by accounting for the sample angle, $\\omega$. "
   ]
  },
  {
   "cell_type": "code",
   "execution_count": null,
   "id": "orange-kernel",
   "metadata": {},
   "outputs": [],
   "source": [
    "omega = 0.0 * sc.units.deg\n",
    "data.events.coords['theta'] = -omega + angle"
   ]
  },
  {
   "cell_type": "markdown",
   "id": "breeding-domain",
   "metadata": {},
   "source": [
    "This can be visualised like the wavelength and time-of-flight data earlier, or as a two-dimensional histogram of the intensity as a function of $\\lambda$/$\\theta$. "
   ]
  },
  {
   "cell_type": "code",
   "execution_count": null,
   "id": "joint-prayer",
   "metadata": {},
   "outputs": [],
   "source": [
    "max_w = sc.max(data.events.coords['wavelength'])\n",
    "min_w = sc.min(data.events.coords['wavelength'])\n",
    "bins_w = sc.Variable(\n",
    "    values=np.linspace(min_w.value, max_w.value, 50), \n",
    "    unit=data.events.coords['wavelength'].unit,\n",
    "    dims=['wavelength'])\n",
    "max_t = sc.max(data.events.coords['theta'])\n",
    "min_t = sc.min(data.events.coords['theta'])\n",
    "bins_t = sc.Variable(\n",
    "    values=np.linspace(min_t.value, max_t.value, 50), \n",
    "    unit=data.events.coords['theta'].unit,\n",
    "    dims=['theta'])\n",
    "sc.bin(data.events, [bins_t, bins_w]).bins.sum().plot()"
   ]
  },
  {
   "cell_type": "markdown",
   "id": "radio-reset",
   "metadata": {},
   "source": [
    "## Determination of $q_z$-vector\n",
    "\n",
    "The $\\lambda$ and $\\theta$ can be brought together to calculate the the wavevector, $q_z$, \n",
    "\n",
    "$$\n",
    "q_z = \\frac{4\\pi \\sin{\\theta}}{\\lambda}.\n",
    "$$\n",
    "\n",
    "This is shown below. "
   ]
  },
  {
   "cell_type": "code",
   "execution_count": null,
   "id": "accredited-scroll",
   "metadata": {},
   "outputs": [],
   "source": [
    "data.events.coords['qz'] = 4. * np.pi * sc.sin(\n",
    "    data.events.coords['theta']) / data.events.coords['wavelength']"
   ]
  },
  {
   "cell_type": "code",
   "execution_count": null,
   "id": "elder-filling",
   "metadata": {},
   "outputs": [],
   "source": [
    "data.events"
   ]
  },
  {
   "cell_type": "markdown",
   "id": "hollow-replacement",
   "metadata": {},
   "source": [
    "We can then investigate the intensity as a function of $q_z$."
   ]
  },
  {
   "cell_type": "code",
   "execution_count": null,
   "id": "immune-vault",
   "metadata": {},
   "outputs": [],
   "source": [
    "max_q = 0.08 * sc.Unit('1/angstrom')\n",
    "min_q = 0.008 * sc.Unit('1/angstrom')\n",
    "bins_q = sc.Variable(\n",
    "    values=np.linspace(min_q.value, max_q.value, 200), \n",
    "    unit=data.events.coords['qz'].unit,\n",
    "    dims=['qz'])\n",
    "sc.histogram(data.events, bins_q).plot(norm='log')"
   ]
  },
  {
   "cell_type": "markdown",
   "id": "enormous-authorization",
   "metadata": {},
   "source": [
    "## Illumination correction\n",
    "\n",
    "The above intensity as a function of $q_z$ fails to account for the difference in illumination as a function of $\\theta$, due to the size of the beam which illuminates the sample decreases with increasing $\\theta$. \n",
    "\n",
    "<center>\n",
    "    <img src='beam_size.png' width=60%>\n",
    "    <i>\n",
    "        The effect of $\\theta$ on the beam size on the sample (blue line) and the resulting scale factor where the size of the sample is considered (orange line); where the beam size is 1 cm and the sample is 10 cm.\n",
    "    </i>\n",
    "</center>\n",
    "\n",
    "Using the assumption that the beam size describes the full width at half maximum of the beam, the following function can be used to determine the scale factor necessary to account for the illumination variation as a function of $\\theta$. "
   ]
  },
  {
   "cell_type": "code",
   "execution_count": null,
   "id": "talented-gregory",
   "metadata": {},
   "outputs": [],
   "source": [
    "def illumination_correction(beam_size, sample_size, theta):\n",
    "    \"\"\"\n",
    "    The factor by which the intensity should be multiplied to account for the\n",
    "    scattering geometry, where the beam is Gaussian in shape.\n",
    "\n",
    "    :param: beam_size: Width of incident beam\n",
    "    :type beam_size: scipp._scipp.core.Variable\n",
    "    :param sample_size: Width of sample in the dimension of the beam\n",
    "    :type sample_size: scipp._scipp.core.Variable\n",
    "    :param theta: Incident angle\n",
    "    :type theta: scipp._scipp.core.Variable\n",
    "    \n",
    "    :return: Correction factor\n",
    "    :rtype: scipp._scipp.core.Variable\n",
    "    \"\"\"\n",
    "    beam_on_sample = beam_size / sc.sin(theta)\n",
    "    fwhm_to_std = 2 * np.sqrt(2 * np.log(2))\n",
    "    scale_factor = erf(\n",
    "        (sample_size / beam_on_sample * fwhm_to_std).values)\n",
    "    return sc.Variable(values=scale_factor, dims=theta.dims)"
   ]
  },
  {
   "cell_type": "markdown",
   "id": "scheduled-dispatch",
   "metadata": {},
   "source": [
    "This illumination correction scale factor is applied to each event as follows."
   ]
  },
  {
   "cell_type": "code",
   "execution_count": null,
   "id": "intimate-darkness",
   "metadata": {},
   "outputs": [],
   "source": [
    "data.events.data /= illumination_correction(\n",
    "    1 * sc.Unit('mm'), \n",
    "    10 * sc.Unit('mm'), \n",
    "    data.events.coords['theta'])"
   ]
  },
  {
   "cell_type": "code",
   "execution_count": null,
   "id": "weird-western",
   "metadata": {},
   "outputs": [],
   "source": [
    "data.events.data"
   ]
  },
  {
   "cell_type": "markdown",
   "id": "elegant-nursery",
   "metadata": {},
   "source": [
    "We can then show the reflected intensity as a function of a linear $q_z$ as shown below."
   ]
  },
  {
   "cell_type": "code",
   "execution_count": null,
   "id": "paperback-football",
   "metadata": {},
   "outputs": [],
   "source": [
    "max_q = 0.08 * sc.Unit('1/angstrom')\n",
    "min_q = 0.008 * sc.Unit('1/angstrom')\n",
    "bins_q = sc.Variable(\n",
    "    values=np.linspace(min_q.value, max_q.value, 200), \n",
    "    unit=data.events.coords['qz'].unit,\n",
    "    dims=['qz'])\n",
    "sc.histogram(data.events, bins_q).plot(norm='log')"
   ]
  },
  {
   "cell_type": "markdown",
   "id": "configured-trouble",
   "metadata": {},
   "source": [
    "# Resolution functions\n",
    "\n",
    "We will consider three contributions to the resolution function at the Amor instrument:\n",
    "\n",
    "- $\\sigma \\lambda/\\lambda$: this is due to the double-blind chopper and depends on the distance between the two choppers, $d_{CC}$, and the distance from the second chopper to the detector $d_{CD}$, \n",
    "\n",
    "$$\n",
    "\\frac{\\sigma \\lambda}{\\lambda} = \\frac{d_{CC}}{2d_{CD}\\sqrt{2\\ln2}}.\n",
    "$$"
   ]
  },
  {
   "cell_type": "code",
   "execution_count": null,
   "id": "abandoned-education",
   "metadata": {},
   "outputs": [],
   "source": [
    "chopper_chopper_distance=0.49 * sc.units.m\n",
    "data.attrs[\"sigma_lambda_by_lambda\"] = chopper_chopper_distance / (\n",
    "    data.coords[\"position\"].fields.z - data.coords[\"source_position\"].fields.z)\n",
    "data.attrs[\"sigma_lambda_by_lambda\"] /= 2 * np.sqrt(2 * np.log(2))"
   ]
  },
  {
   "cell_type": "markdown",
   "id": "bb4141c3",
   "metadata": {},
   "source": [
    "- $\\sigma \\gamma/\\theta$: this is to account for the spatial resolution of the detector pixels, which have a FWHM of $\\Delta z \\approx 2.5\\;\\text{mm}$ and the sample to detector distance, $d_{SD}$, \n",
    "\n",
    "$$\n",
    "\\frac{\\sigma \\gamma}{\\theta} = \\frac{1}{2\\theta\\sqrt{2\\ln2}}\\arctan{\\frac{\\Delta z}{d_{SD}}}.\n",
    "$$"
   ]
  },
  {
   "cell_type": "code",
   "execution_count": null,
   "id": "d4197ed8",
   "metadata": {},
   "outputs": [],
   "source": [
    "spatial_resolution = 0.0025 * sc.units.m\n",
    "fwhm = sc.to_unit(\n",
    "    sc.atan(\n",
    "        spatial_resolution / (\n",
    "                data.coords[\"position\"].fields.z - \n",
    "                data.coords[\"source_position\"].fields.z)),\"deg\",)\n",
    "sigma_gamma = fwhm / (2 * np.sqrt(2 * np.log(2)))\n",
    "data.attrs[\"sigma_gamma_by_theta\"] = sigma_gamma / data.bins.coords['theta']"
   ]
  },
  {
   "cell_type": "markdown",
   "id": "ab315161",
   "metadata": {},
   "source": [
    "- $\\sigma \\theta/\\theta$: finally, this accounts for the width of the beam on the sample or the size of the sample (which ever is smaller), the FWHM is the range of possible $\\theta$-values, accounting for the gravity correction discussed above and the sample/beam geometry,\n",
    "\n",
    "$$\n",
    "\\frac{\\sigma\\theta}{\\theta} = \\frac{1}{2\\sqrt{2\\ln2}}\\frac{\\theta_{\\text{max}} - \\theta_{\\text{min}}}{\\theta_{\\text{mid}}}\n",
    "$$"
   ]
  },
  {
   "cell_type": "code",
   "execution_count": null,
   "id": "centered-eligibility",
   "metadata": {},
   "outputs": [],
   "source": [
    "beam_size = 0.001 * sc.units.m\n",
    "sample_size = 0.5 * sc.units.m\n",
    "beam_on_sample = beam_size / sc.sin(data.bins.coords['theta'])\n",
    "half_beam_on_sample = (beam_on_sample / 2.0)\n",
    "offset_positive = data.coords['sample_position'].copy()\n",
    "offset_positive.fields.z + half_beam_on_sample\n",
    "offset_negative = data.coords['sample_position'].copy()\n",
    "offset_negative.fields.z - half_beam_on_sample\n",
    "y_measured = data.coords[\"position\"].fields.y\n",
    "z_measured = data.coords[\"position\"].fields.z\n",
    "z_origin = offset_positive.fields.z\n",
    "y_origin = offset_positive.fields.y\n",
    "y_dash = y_dash0(data.bins.coords[\"velocity\"], z_origin, y_origin, z_measured, y_measured)\n",
    "intercept = y_origin - y_dash * z_origin\n",
    "y_true = z_measured * y_dash + intercept\n",
    "angle_max = sc.to_unit(sc.atan(y_true / z_measured), 'deg')\n",
    "z_origin = offset_negative.fields.z\n",
    "y_origin = offset_negative.fields.y\n",
    "y_dash = y_dash0(data.bins.coords[\"velocity\"], z_origin, y_origin, z_measured, y_measured)\n",
    "intercept = y_origin - y_dash * z_origin\n",
    "y_true = z_measured * y_dash + intercept\n",
    "angle_min = sc.to_unit(sc.atan(y_true / z_measured), 'deg')\n",
    "fwhm_to_std = 2 * np.sqrt(2 * np.log(2))\n",
    "sigma_theta_position = (angle_max - angle_min) / fwhm_to_std\n",
    "data.attrs[\"sigma_theta_by_theta\"] = sigma_theta_position / data.bins.coords['theta']"
   ]
  },
  {
   "cell_type": "markdown",
   "id": "f317df7a",
   "metadata": {},
   "source": [
    "These three contributors to the resolution function are combined to give the total resolution function, \n",
    "\n",
    "$$\n",
    "\\frac{\\sigma q_z}{q_z} = \\sqrt{\\bigg(\\frac{\\sigma\\lambda}{\\lambda}\\bigg)^2+\\bigg(\\frac{\\sigma\\gamma}{\\theta}\\bigg)^2+\\bigg(\\frac{\\sigma\\theta}{\\theta}\\bigg)^2}\n",
    "$$"
   ]
  },
  {
   "cell_type": "code",
   "execution_count": null,
   "id": "f88b4445",
   "metadata": {},
   "outputs": [],
   "source": [
    "data.events.attrs['sigma_q_by_q'] = sc.sqrt(\n",
    "    data.attrs['sigma_lambda_by_lambda'] * data.attrs['sigma_lambda_by_lambda']\n",
    "    + data.attrs['sigma_gamma_by_theta'] * data.attrs['sigma_gamma_by_theta']\n",
    "    + data.attrs[\"sigma_theta_by_theta\"] * data.attrs[\"sigma_theta_by_theta\"]).bins.constituents['data']"
   ]
  },
  {
   "cell_type": "markdown",
   "id": "b516044b",
   "metadata": {},
   "source": [
    "## Normalisation\n",
    "\n",
    "The above steps are performed both on the sample of interest and a reference supermirror, using the `AmorData` class, thus enabling normalisation to be achieved. "
   ]
  },
  {
   "cell_type": "code",
   "execution_count": null,
   "id": "8cb7ea86",
   "metadata": {
    "scrolled": true
   },
   "outputs": [],
   "source": [
    "sample = AmorData(data_file)\n",
    "reference = AmorData(reference_file)"
   ]
  },
  {
   "cell_type": "markdown",
   "id": "869c7847",
   "metadata": {},
   "source": [
    "These result in the plots shown below."
   ]
  },
  {
   "cell_type": "code",
   "execution_count": null,
   "id": "a52bca26",
   "metadata": {},
   "outputs": [],
   "source": [
    "sc.histogram(sample.data.events, bins_q).plot(norm='log')"
   ]
  },
  {
   "cell_type": "code",
   "execution_count": null,
   "id": "32cd7add",
   "metadata": {},
   "outputs": [],
   "source": [
    "sc.histogram(reference.data.events, bins_q).plot(norm='log')"
   ]
  },
  {
   "cell_type": "markdown",
   "id": "6599f4ac",
   "metadata": {},
   "source": [
    "The specification of the supermirror defines the normalisation that is used for it. "
   ]
  },
  {
   "cell_type": "code",
   "execution_count": null,
   "id": "d089302c",
   "metadata": {},
   "outputs": [],
   "source": [
    "m_value = 5\n",
    "supermirror_critical_edge = (0.022) * sc.Unit('1/angstrom')\n",
    "supermirror_max_q = m_value * supermirror_critical_edge\n",
    "supermirror_alpha = 0.25 / 0.088 * sc.units.angstrom\n",
    "normalisation = sc.ones(\n",
    "    dims=['event'], \n",
    "    shape=reference.data.events.data.shape)"
   ]
  },
  {
   "cell_type": "markdown",
   "id": "b648c0a2",
   "metadata": {},
   "source": [
    "The data array is first masked at values greater than the upper limit of the supermirror. "
   ]
  },
  {
   "cell_type": "code",
   "execution_count": null,
   "id": "c46e1c7e",
   "metadata": {},
   "outputs": [],
   "source": [
    "reference.data.events.masks['normalisation'] = reference.data.events.coords['qz'] >= supermirror_max_q"
   ]
  },
  {
   "cell_type": "markdown",
   "id": "241ab30c",
   "metadata": {},
   "source": [
    "The value of the $q$-dependent normalisation, $n(q)$, is then defined as such that $n(q)=1$ for values of $q$ less then the critical edge of the supermirror and for values between this and the supermirror maximum the normalisation is, \n",
    "\n",
    "$$ n(q) = \\frac{1}{1 - \\alpha(q - c_{\\text{sm}})}. $$"
   ]
  },
  {
   "cell_type": "code",
   "execution_count": null,
   "id": "179824b1",
   "metadata": {},
   "outputs": [],
   "source": [
    "lim = (reference.data.events.coords['qz'] < supermirror_critical_edge).astype(sc.dtype.float32)"
   ]
  },
  {
   "cell_type": "code",
   "execution_count": null,
   "id": "4b71cdd6",
   "metadata": {},
   "outputs": [],
   "source": [
    "nq = 1.0 / (1.0 - supermirror_alpha * (reference.data.events.coords['qz'] - supermirror_critical_edge))"
   ]
  },
  {
   "cell_type": "code",
   "execution_count": null,
   "id": "e76ffaf4",
   "metadata": {},
   "outputs": [],
   "source": [
    "normalisation = lim + (1 - lim) * nq"
   ]
  },
  {
   "cell_type": "markdown",
   "id": "701ecc62",
   "metadata": {},
   "source": [
    "Applying this normalisation to the reference measurement data will return the neutron intensity as a function of $q$. "
   ]
  },
  {
   "cell_type": "code",
   "execution_count": null,
   "id": "a6e0f281",
   "metadata": {},
   "outputs": [],
   "source": [
    "reference.data.bins.constituents['data'].data = reference.data.events.data / normalisation.astype(sc.dtype.float32)"
   ]
  },
  {
   "cell_type": "code",
   "execution_count": null,
   "id": "b1c1a9fe",
   "metadata": {},
   "outputs": [],
   "source": [
    "sc.histogram(reference.data.events, bins_q).plot(norm='log')"
   ]
  },
  {
   "cell_type": "markdown",
   "id": "93efc286",
   "metadata": {},
   "source": [
    "Binning this normalised description on the neutron intensity and the sample measurement in the same $q$-values allows the normalisation to be applied to the sample (note that scaling between these to measurements to account for counting time may be necessary). "
   ]
  },
  {
   "cell_type": "code",
   "execution_count": null,
   "id": "8bbc6609",
   "metadata": {},
   "outputs": [],
   "source": [
    "binned_sample = sc.histogram(sample.data.events, bins_q)\n",
    "binned_reference = sc.histogram(reference.data.events, bins_q)"
   ]
  },
  {
   "cell_type": "code",
   "execution_count": null,
   "id": "b59b4d33",
   "metadata": {},
   "outputs": [],
   "source": [
    "normalised_sample = binned_sample / binned_reference"
   ]
  },
  {
   "cell_type": "code",
   "execution_count": null,
   "id": "fa4e8e22",
   "metadata": {},
   "outputs": [],
   "source": [
    "normalised_sample.plot(norm='log')"
   ]
  }
 ],
 "metadata": {
  "kernelspec": {
   "display_name": "Python 3",
   "language": "python",
   "name": "python3"
  },
  "language_info": {
   "codemirror_mode": {
    "name": "ipython",
    "version": 3
   },
   "file_extension": ".py",
   "mimetype": "text/x-python",
   "name": "python",
   "nbconvert_exporter": "python",
   "pygments_lexer": "ipython3",
   "version": "3.8.10"
  }
 },
 "nbformat": 4,
 "nbformat_minor": 5
}
