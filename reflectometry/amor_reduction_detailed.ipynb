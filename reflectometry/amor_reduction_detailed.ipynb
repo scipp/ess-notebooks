{
 "cells": [
  {
   "cell_type": "markdown",
   "id": "lightweight-darwin",
   "metadata": {},
   "source": [
    "# Data reduction for Amor using `scipp`\n",
    "\n",
    "Herein, we will look in detail at the reduction of data collected from the Amor instrument using `scipp` ([scipp.github.io](https://scipp.github.io)), giving information about the data reduction steps used at Amor. \n",
    "All of the steps given here, are implemented in the `AmorData` class ([scipp.github.io/ess/instruments/amor/amor_data](https://scipp.github.io/ess/instruments/amor/amor_data.html)) and it is shown how easily they may be accessed from this [simple reduction notebook](https://scipp.github.io/ess-notebooks/reflectometry/amor_reduction.html).\n",
    "\n",
    "Let's start by importing the modules necessary for this notebook and loading the data, where [sample.nxs](https://github.com/scipp/ess-notebooks-data/raw/main/ess/amor/sample.nxs) is the experimental data file of interest and [reference.nxs](https://github.com/scipp/ess-notebooks-data/raw/main/ess/amor/references.nxs) is the reference measurement of the neutron supermirror."
   ]
  },
  {
   "cell_type": "code",
   "execution_count": 1,
   "id": "viral-general",
   "metadata": {},
   "outputs": [],
   "source": [
    "import os\n",
    "import dataconfig\n",
    "import numpy as np\n",
    "from scipy.special import erf\n",
    "import scipp as sc\n",
    "import scippneutron as scn\n",
    "from ess.reflectometry.data import ReflData\n",
    "from ess.reflectometry import HDM, G_ACC\n",
    "from ess.amor.amor_data import AmorData\n",
    "\n",
    "local_data_path = os.path.join('ess', 'amor')\n",
    "data_dir = os.path.join(dataconfig.data_root, local_data_path)\n",
    "data_file = os.path.join(data_dir, 'sample.nxs')\n",
    "reference_file = os.path.join(data_dir, 'reference.nxs')"
   ]
  },
  {
   "cell_type": "markdown",
   "id": "fatty-amber",
   "metadata": {},
   "source": [
    "## Data Storage\n",
    "\n",
    "The data collected from the Amor instrument is written to a NeXus file, which can be read into `scipp` was follows."
   ]
  },
  {
   "cell_type": "code",
   "execution_count": 2,
   "id": "referenced-allergy",
   "metadata": {},
   "outputs": [
    {
     "name": "stderr",
     "output_type": "stream",
     "text": [
      "/Users/andrewmccluskey/anaconda3/envs/scippneutron/lib/python3.8/scippneutron/file_loading/_log_data.py:20: UserWarning: Skipped loading /entry/stages/com due to:\n",
      "NXlog 'com' has time and value datasets of different shapes\n",
      "  warn(f\"Skipped loading {group.path} due to:\\n{e}\")\n",
      "/Users/andrewmccluskey/anaconda3/envs/scippneutron/lib/python3.8/scippneutron/file_loading/_log_data.py:20: UserWarning: Skipped loading /entry/stages/coz due to:\n",
      "NXlog 'coz' has time and value datasets of different shapes\n",
      "  warn(f\"Skipped loading {group.path} due to:\\n{e}\")\n",
      "/Users/andrewmccluskey/anaconda3/envs/scippneutron/lib/python3.8/scippneutron/file_loading/_log_data.py:20: UserWarning: Skipped loading /entry/stages/diaphragms/middle focus/slot due to:\n",
      "NXlog 'slot' has an empty value dataset\n",
      "  warn(f\"Skipped loading {group.path} due to:\\n{e}\")\n",
      "/Users/andrewmccluskey/anaconda3/envs/scippneutron/lib/python3.8/scippneutron/file_loading/_log_data.py:20: UserWarning: Skipped loading /entry/stages/diaphragms/virtual source/horizontal due to:\n",
      "NXlog 'horizontal' has an empty value dataset\n",
      "  warn(f\"Skipped loading {group.path} due to:\\n{e}\")\n",
      "/Users/andrewmccluskey/anaconda3/envs/scippneutron/lib/python3.8/scippneutron/file_loading/_log_data.py:20: UserWarning: Skipped loading /entry/stages/diaphragms/virtual source/vertical due to:\n",
      "NXlog 'vertical' has an empty value dataset\n",
      "  warn(f\"Skipped loading {group.path} due to:\\n{e}\")\n",
      "/Users/andrewmccluskey/anaconda3/envs/scippneutron/lib/python3.8/scippneutron/file_loading/_log_data.py:20: UserWarning: Skipped loading /entry/stages/som due to:\n",
      "NXlog 'som' has time and value datasets of different shapes\n",
      "  warn(f\"Skipped loading {group.path} due to:\\n{e}\")\n",
      "/Users/andrewmccluskey/anaconda3/envs/scippneutron/lib/python3.8/scippneutron/file_loading/_log_data.py:20: UserWarning: Skipped loading /entry/stages/soz due to:\n",
      "NXlog 'soz' has time and value datasets of different shapes\n",
      "  warn(f\"Skipped loading {group.path} due to:\\n{e}\")\n"
     ]
    }
   ],
   "source": [
    "data = scn.load_nexus(data_file)"
   ]
  },
  {
   "cell_type": "code",
   "execution_count": 3,
   "id": "metropolitan-pillow",
   "metadata": {},
   "outputs": [
    {
     "data": {
      "application/javascript": [
       "\n",
       "            const style = document.createElement('style');\n",
       "            style.textContent = String.raw`:root{--sc-background-color0:var(--jp-layout-color0,#fff);--sc-background-color1:var(--jp-layout-color1,#fcfcfc);--sc-background-color2:var(--jp-layout-color2,#efefef);--sc-inverse-background-color0:var(--jp-inverse-layout-color4,#111);--sc-font-color0:var(--jp-content-font-color0,#000);--sc-font-color1:var(--jp-content-font-color1,#555);--sc-font-color2:var(--jp-content-font-color2,#888);--sc-font-color3:var(--jp-content-font-color3,#ccc);--sc-table-data-color:#ffe680;--sc-table-coords-color:#dde9af;--sc-table-masks-color:#cccccc;--sc-table-attrs-color:#ff8080;--sc-table-header-font-color:#111111;}.sc-wrap{font-size:14px;min-width:300px;max-width:800px;}.sc-var-attrs .sc-wrap{padding-left:3em;}.sc-header{padding-top:6px;padding-bottom:6px;margin-bottom:4px;border-bottom:solid 1px #ddd;}.sc-header > div,.sc-header > ul{display:inline;margin-top:0;margin-bottom:0;}.sc-obj-type,.sc-array-name{margin-left:2px;margin-right:10px;}.sc-obj-type{color:var(--sc-font-color1);}.sc-underlying-size{color:var(--sc-font-color2);}.sc-sections{padding-left:0 !important;display:grid;grid-template-columns:150px auto auto auto 1fr 20px 20px;}.sc-section-item{display:contents;}.sc-section-item input{display:none;}.sc-section-item input:enabled + label{cursor:pointer;color:var(--sc-font-color1);}.sc-section-item input:enabled + label:hover{color:var(--sc-font-color0);}.sc-section-summary{grid-column:1;font-weight:500;}.sc-section-summary > span{display:inline-block;padding-left:0.5em;}.sc-section-summary-in:disabled + label{color:var(--sc-font-color1);}.sc-section-summary-in + label:before{display:inline-block;content:'►';font-size:11px;width:15px;text-align:center;}.sc-section-summary-in:disabled + label:before{color:var(--sc-font-color3);}.sc-section-summary-in:checked + label:before{content:'▼';}.sc-section-summary-in:checked + label > span{display:none;}.sc-section-summary,.sc-section-inline-details{padding-top:4px;padding-bottom:4px;}.sc-section-inline-details{grid-column:2 / 5;}.sc-section-details{display:none;grid-column:1 / -1;margin-bottom:5px;}.sc-section-summary-in:checked ~ .sc-section-details{display:contents;}.sc-array-wrap{grid-column:1 / -1;display:grid;grid-template-columns:20px auto;}.sc-array-wrap > label{grid-column:1;vertical-align:top;}.sc-preview{color:var(--sc-font-color2);}.sc-array-preview,.sc-array-data{padding:0 5px !important;grid-column:2;}.sc-array-data,.sc-array-in:checked ~ .sc-array-preview{display:none;}.sc-array-in:checked ~ .sc-array-data,.sc-array-preview{display:inline-block;}.sc-dim-list{display:inline-block !important;list-style:none;padding:0 !important;margin:0;}.sc-dim-list li{display:inline-block;padding:0;margin:0!important;}.sc-dim-list:before{content:'(';}.sc-dim-list:after{content:')';}.sc-dim-list li:not(:last-child):after{content:',';padding-right:5px;}.sc-has-index{font-weight:bold;}.sc-var-list,.sc-var-item{display:contents;}.sc-var-item > div,.sc-var-item label,.sc-var-item > .sc-var-name span{background-color:var(--sc-background-color1);margin-bottom:0;}.sc-var-item > .sc-var-name:hover span{padding-right:5px;}.sc-var-list > li:nth-child(odd) > div,.sc-var-list > li:nth-child(odd) > label,.sc-var-list > li:nth-child(odd) > .sc-var-name span{background-color:var(--sc-background-color2);}.sc-var-name{grid-column:1;}.sc-var-dims{grid-column:2;}.sc-var-dtype{grid-column:3;text-align:right;color:var(--sc-font-color2);}.sc-var-unit{grid-column:4;text-align:left;color:var(--sc-font-color1);}.sc-value-preview{grid-column:5;}.sc-var-preview-variances{text-align:right;}.sc-sections .sc-section-item .sc-section-summary,.sc-sections .sc-section-item .sc-section-inline-details,.sc-section-item .sc-var-list .sc-var-item > div,.sc-section-item .sc-var-list .sc-var-item > label,.sc-section-details .sc-var-list .sc-var-item > div,.sc-section-details .sc-var-list .sc-var-item > label{margin-top:0;margin-bottom:0;}.sc-var-name,.sc-var-dims,.sc-var-dtype,.sc-var-unit,.sc-preview,.sc-attrs dt{white-space:nowrap;overflow:hidden;text-overflow:ellipsis;padding-right:10px;}.sc-var-name:hover,.sc-var-dims:hover,.sc-var-dtype:hover,.sc-var-unit:hover,.sc-attrs dt:hover{overflow:visible;width:auto;z-index:1;}.sc-var-attrs{display:block;}.sc-var-data{display:none;}.sc-var-attrs,.sc-var-data{background-color:var(--sc-background-color0) !important;padding-bottom:5px !important;}.sc-var-attrs-in:checked ~ .sc-var-attrs{display:none;}.sc-var-data-in:checked ~ .sc-var-data{display:block;}.sc-var-data > table{float:right;}.sc-var-name span,.sc-var-data{padding-left:25px !important;}.sc-var-attrs,.sc-var-data{grid-column:1 / -1;}dl.sc-attrs{padding:0;margin:0;display:grid;grid-template-columns:125px auto;}.sc-attrs dt,dd{padding:0;margin:0;float:left;padding-right:10px;width:auto;}.sc-attrs dt{font-weight:normal;grid-column:1;}.sc-attrs dt:hover span{display:inline-block;padding-right:10px;}.sc-attrs dd{grid-column:2;white-space:pre-wrap;word-break:break-all;}.sc-icon-database,.sc-icon-file-text2{display:inline-block;vertical-align:middle;width:1em;height:1.5em !important;stroke-width:0;stroke:currentColor;fill:currentColor;}label.sc-hide-icon svg{opacity:0;}.sc-standalone-var-name{grid-column:1/3;}.sc-standalone-var-name span{padding-left:25px;padding-right:10px;}.sc-table{border-collapse:collapse;}.sc-title{font-weight:bold;font-size:1.5em;}.sc-subtitle{font-weight:normal;font-style:italic;text-align:left;font-size:1.2em;padding:1px;}.sc-table th,.sc-table td{border:1px solid var(--sc-inverse-background-color0);padding:0 5px 0 5px;}.sc-table th{text-align:center;}.sc-table tr{background-color:var(--sc-background-color1);text-align:right;}.sc-table tr:hover{background-color:var(--sc-background-color2);}.sc-table th.sc-data{background-color:var(--sc-table-data-color);color:var(--sc-table-header-font-color);}.sc-table th.sc-coords{background-color:var(--sc-table-coords-color);color:var(--sc-table-header-font-color);}.sc-table th.sc-masks{background-color:var(--sc-table-masks-color);color:var(--sc-table-header-font-color);}.sc-table th.sc-attrs{background-color:var(--sc-table-attrs-color);color:var(--sc-table-header-font-color);}.sc-table th.sc-subheader{background-color:var(--sc-background-color2);}.sc-table td.sc-padding{background-color:var(--sc-background-color1);border:0 solid var(--sc-background-color1);height:1.2em;}.sc-label{fill:var(--sc-font-color0,#444444);text-anchor:middle;}.sc-name{fill:var(--sc-font-color0,#111111);}.sc-inset-line{stroke:var(--sc-font-color1);stroke-width:0.05;stroke-dasharray:0.2,0.2;}`;\n",
       "            document.head.append(style);\n",
       "            "
      ],
      "text/plain": [
       "<IPython.core.display.Javascript object>"
      ]
     },
     "metadata": {},
     "output_type": "display_data"
    },
    {
     "data": {
      "text/html": [
       "<div><!-- Original source from -->\n",
       "<!-- https://github.com/jsignell/xarray/blob/1d960933ab252e0f79f7e050e6c9261d55568057/xarray/static/html/icons-svg-inline.html -->\n",
       "<svg style=\"position: absolute; width: 0; height: 0; overflow: hidden\">\n",
       "<defs>\n",
       "<symbol id=\"icon-database\" viewBox=\"0 0 32 32\">\n",
       "<title>Show/Hide data repr</title>\n",
       "<path d=\"M16 0c-8.837 0-16 2.239-16 5v4c0 2.761 7.163 5 16 5s16-2.239 16-5v-4c0-2.761-7.163-5-16-5z\"></path>\n",
       "<path d=\"M16 17c-8.837 0-16-2.239-16-5v6c0 2.761 7.163 5 16 5s16-2.239 16-5v-6c0 2.761-7.163 5-16 5z\"></path>\n",
       "<path d=\"M16 26c-8.837 0-16-2.239-16-5v6c0 2.761 7.163 5 16 5s16-2.239 16-5v-6c0 2.761-7.163 5-16 5z\"></path>\n",
       "</symbol>\n",
       "<symbol id=\"icon-file-text2\" viewBox=\"0 0 32 32\">\n",
       "<title>Show/Hide attributes</title>\n",
       "<path d=\"M28.681 7.159c-0.694-0.947-1.662-2.053-2.724-3.116s-2.169-2.030-3.116-2.724c-1.612-1.182-2.393-1.319-2.841-1.319h-15.5c-1.378 0-2.5 1.121-2.5 2.5v27c0 1.378 1.122 2.5 2.5 2.5h23c1.378 0 2.5-1.122 2.5-2.5v-19.5c0-0.448-0.137-1.23-1.319-2.841zM24.543 5.457c0.959 0.959 1.712 1.825 2.268 2.543h-4.811v-4.811c0.718 0.556 1.584 1.309 2.543 2.268zM28 29.5c0 0.271-0.229 0.5-0.5 0.5h-23c-0.271 0-0.5-0.229-0.5-0.5v-27c0-0.271 0.229-0.5 0.5-0.5 0 0 15.499-0 15.5 0v7c0 0.552 0.448 1 1 1h7v19.5z\"></path>\n",
       "<path d=\"M23 26h-14c-0.552 0-1-0.448-1-1s0.448-1 1-1h14c0.552 0 1 0.448 1 1s-0.448 1-1 1z\"></path>\n",
       "<path d=\"M23 22h-14c-0.552 0-1-0.448-1-1s0.448-1 1-1h14c0.552 0 1 0.448 1 1s-0.448 1-1 1z\"></path>\n",
       "<path d=\"M23 18h-14c-0.552 0-1-0.448-1-1s0.448-1 1-1h14c0.552 0 1 0.448 1 1s-0.448 1-1 1z\"></path>\n",
       "</symbol>\n",
       "</defs>\n",
       "</svg><div class='sc-wrap'><div class='sc-header'><div class='sc-obj-type'>scipp.DataArray (4.39 MB)</div></div><ul class='sc-sections'><li class='sc-section-item'><input id='section-44d4aad9-7914-4e22-8380-af63f0aa0a39' class='sc-section-summary-in' type='checkbox' disabled ><label for='section-44d4aad9-7914-4e22-8380-af63f0aa0a39' class='sc-section-summary'  title='Expand/collapse section'>Dimensions:</label><div class='sc-section-inline-details'><ul class='sc-dim-list'><li><span class='sc-has-index'>detector_id</span>: 9216</li></ul></div><div class='sc-section-details'></div></li><li class='sc-section-item'><input id='section-0919a378-e250-46b1-9500-0e14f26405b3' class='sc-section-summary-in' type='checkbox'  checked><label for='section-0919a378-e250-46b1-9500-0e14f26405b3' class='sc-section-summary' >Coordinates: <span>(2)</span></label><div class='sc-section-inline-details'></div><div class='sc-section-details'><ul class='sc-var-list'><li class='sc-var-item'><div class='sc-var-name'><span class='sc-has-index'>detector_id</span></div><div class='sc-var-dims'>(detector_id)</div><div class='sc-var-dtype'>int32</div><div class='sc-var-unit'></div><div class='sc-value-preview sc-preview'><span><div>1, 2, ..., 9215, 9216</div></span></div><input id='attrs-e95efaaf-9a2e-4987-95ce-3cf29139d48f' class='sc-var-attrs-in' type='checkbox' disabled><label for='attrs-e95efaaf-9a2e-4987-95ce-3cf29139d48f' class='sc-hide-icon' title='Show/Hide attributes'><svg class='icon sc-icon-file-text2'><use xlink:href='#icon-file-text2'></use></svg></label><input id='data-54c2e295-c0f8-45f9-a2fa-38c0b6f7a207' class='sc-var-data-in' type='checkbox'><label for='data-54c2e295-c0f8-45f9-a2fa-38c0b6f7a207' title='Show/Hide data repr'><svg class='icon sc-icon-database'><use xlink:href='#icon-database'></use></svg></label><pre class='sc-var-data'>Values:<br>array([   1,    2,    3, ..., 9214, 9215, 9216], dtype=int32)</pre></span></li><li class='sc-var-item'><div class='sc-var-name'><span>position</span></div><div class='sc-var-dims'>(detector_id)</div><div class='sc-var-dtype'>vector_3_float64</div><div class='sc-var-unit'>m</div><div class='sc-value-preview sc-preview'><span><div>[-0.064       0.09459759  4.12644383], [-0.05987097  0.09459759  4.12644383], ..., [0.05987097 0.         4.        ], [0.064 0.    4.   ]</div></span></div><input id='attrs-59f27cb2-890b-4f67-b15c-b006ee06e999' class='sc-var-attrs-in' type='checkbox' disabled><label for='attrs-59f27cb2-890b-4f67-b15c-b006ee06e999' class='sc-hide-icon' title='Show/Hide attributes'><svg class='icon sc-icon-file-text2'><use xlink:href='#icon-file-text2'></use></svg></label><input id='data-ded33b1c-1321-4ece-91bf-f79b9fab04d3' class='sc-var-data-in' type='checkbox'><label for='data-ded33b1c-1321-4ece-91bf-f79b9fab04d3' title='Show/Hide data repr'><svg class='icon sc-icon-database'><use xlink:href='#icon-database'></use></svg></label><pre class='sc-var-data'>Values:<br>array([[-0.064     ,  0.09459759,  4.12644383],\n",
       "       [-0.05987097,  0.09459759,  4.12644383],\n",
       "       [-0.05574194,  0.09459759,  4.12644383],\n",
       "       ...,\n",
       "       [ 0.05574194,  0.        ,  4.        ],\n",
       "       [ 0.05987097,  0.        ,  4.        ],\n",
       "       [ 0.064     ,  0.        ,  4.        ]])</pre></span></li></ul></div></li><li class='sc-section-item'><input id='section-d759504c-b310-41d5-ace9-52cc49db89de' class='sc-section-summary-in' type='checkbox'  checked><label for='section-d759504c-b310-41d5-ace9-52cc49db89de' class='sc-section-summary' >Data: <span>(1)</span></label><div class='sc-section-inline-details'></div><div class='sc-section-details'><ul class='sc-var-list'><li class='sc-var-item'><div class='sc-var-name'><span></span></div><div class='sc-var-dims'>(detector_id)</div><div class='sc-var-dtype'>DataArrayView</div><div class='sc-var-unit'></div><div class='sc-value-preview sc-preview'><span><div>binned data [len=0, len=0, ..., len=0, len=0]</div></span></div><input id='attrs-d78c164d-2adf-448b-b17f-4bcab8495d4e' class='sc-var-attrs-in' type='checkbox' disabled><label for='attrs-d78c164d-2adf-448b-b17f-4bcab8495d4e' class='sc-hide-icon' title='Show/Hide attributes'><svg class='icon sc-icon-file-text2'><use xlink:href='#icon-file-text2'></use></svg></label><input id='data-e62d9c2a-4dab-4dce-b2b0-d9edc3f28c84' class='sc-var-data-in' type='checkbox'><label for='data-e62d9c2a-4dab-4dce-b2b0-d9edc3f28c84' title='Show/Hide data repr'><svg class='icon sc-icon-database'><use xlink:href='#icon-database'></use></svg></label><pre class='sc-var-data'>Values:<br>[&lt;scipp.DataArray&gt;\n",
       "Dimensions: Sizes[event:0, ]\n",
       "Coordinates:\n",
       "  detector_id                 int32  [dimensionless]  (event)  []\n",
       "  tof                         int32             [ns]  (event)  []\n",
       "Data:\n",
       "                            float32  [dimensionless]  (event)  []  []\n",
       "\n",
       ", &lt;scipp.DataArray&gt;\n",
       "Dimensions: Sizes[event:0, ]\n",
       "Coordinates:\n",
       "  detector_id                 int32  [dimensionless]  (event)  []\n",
       "  tof                         int32             [ns]  (event)  []\n",
       "Data:\n",
       "                            float32  [dimensionless]  (event)  []  []\n",
       "\n",
       ", ..., &lt;scipp.DataArray&gt;\n",
       "Dimensions: Sizes[event:0, ]\n",
       "Coordinates:\n",
       "  detector_id                 int32  [dimensionless]  (event)  []\n",
       "  tof                         int32             [ns]  (event)  []\n",
       "Data:\n",
       "                            float32  [dimensionless]  (event)  []  []\n",
       "\n",
       ", &lt;scipp.DataArray&gt;\n",
       "Dimensions: Sizes[event:0, ]\n",
       "Coordinates:\n",
       "  detector_id                 int32  [dimensionless]  (event)  []\n",
       "  tof                         int32             [ns]  (event)  []\n",
       "Data:\n",
       "                            float32  [dimensionless]  (event)  []  []\n",
       "\n",
       "]</pre></li></ul></div></li><li class='sc-section-item'><input id='section-42d09109-902f-43a6-9fb9-c8ec014c4e45' class='sc-section-summary-in' type='checkbox'  checked><label for='section-42d09109-902f-43a6-9fb9-c8ec014c4e45' class='sc-section-summary' >Attributes: <span>(4)</span></label><div class='sc-section-inline-details'></div><div class='sc-section-details'><ul class='sc-var-list'><li class='sc-var-item'><div class='sc-var-name'><span>experiment_title</span></div><div class='sc-var-dims'>()</div><div class='sc-var-dtype'>string</div><div class='sc-var-unit'></div><div class='sc-value-preview sc-preview'><span><div>commissioning</div></span></div><input id='attrs-092dba27-32ea-42c8-a80a-718e2e4089c1' class='sc-var-attrs-in' type='checkbox' disabled><label for='attrs-092dba27-32ea-42c8-a80a-718e2e4089c1' class='sc-hide-icon' title='Show/Hide attributes'><svg class='icon sc-icon-file-text2'><use xlink:href='#icon-file-text2'></use></svg></label><input id='data-458a893f-3ecd-47c9-a337-38d334b877d3' class='sc-var-data-in' type='checkbox'><label for='data-458a893f-3ecd-47c9-a337-38d334b877d3' title='Show/Hide data repr'><svg class='icon sc-icon-database'><use xlink:href='#icon-database'></use></svg></label><pre class='sc-var-data'>Values:<br>&#x27;commissioning&#x27;</pre></li><li class='sc-var-item'><div class='sc-var-name'><span>instrument_name</span></div><div class='sc-var-dims'>()</div><div class='sc-var-dtype'>string</div><div class='sc-var-unit'></div><div class='sc-value-preview sc-preview'><span><div>AMOR</div></span></div><input id='attrs-56a10da0-24ef-414f-87f2-0b887436042e' class='sc-var-attrs-in' type='checkbox' disabled><label for='attrs-56a10da0-24ef-414f-87f2-0b887436042e' class='sc-hide-icon' title='Show/Hide attributes'><svg class='icon sc-icon-file-text2'><use xlink:href='#icon-file-text2'></use></svg></label><input id='data-b9adb634-0d59-4536-9ed4-8c7c7c6be223' class='sc-var-data-in' type='checkbox'><label for='data-b9adb634-0d59-4536-9ed4-8c7c7c6be223' title='Show/Hide data repr'><svg class='icon sc-icon-database'><use xlink:href='#icon-database'></use></svg></label><pre class='sc-var-data'>Values:<br>&#x27;AMOR&#x27;</pre></li><li class='sc-var-item'><div class='sc-var-name'><span>sample_position</span></div><div class='sc-var-dims'>()</div><div class='sc-var-dtype'>vector_3_float64</div><div class='sc-var-unit'>m</div><div class='sc-value-preview sc-preview'><span><div>[0. 0. 0.]</div></span></div><input id='attrs-52f91a37-2fe8-4644-a869-8e65fdb23c8e' class='sc-var-attrs-in' type='checkbox' disabled><label for='attrs-52f91a37-2fe8-4644-a869-8e65fdb23c8e' class='sc-hide-icon' title='Show/Hide attributes'><svg class='icon sc-icon-file-text2'><use xlink:href='#icon-file-text2'></use></svg></label><input id='data-d5cae758-a9a6-43ad-bb46-0b911c878e8e' class='sc-var-data-in' type='checkbox'><label for='data-d5cae758-a9a6-43ad-bb46-0b911c878e8e' title='Show/Hide data repr'><svg class='icon sc-icon-database'><use xlink:href='#icon-database'></use></svg></label><pre class='sc-var-data'>Values:<br>array([0., 0., 0.])</pre></li><li class='sc-var-item'><div class='sc-var-name'><span>source_position</span></div><div class='sc-var-dims'>()</div><div class='sc-var-dtype'>vector_3_float64</div><div class='sc-var-unit'>m</div><div class='sc-value-preview sc-preview'><span><div>[  0.   0. -30.]</div></span></div><input id='attrs-fe48a32b-3d01-41d3-ab20-562710f5d905' class='sc-var-attrs-in' type='checkbox' disabled><label for='attrs-fe48a32b-3d01-41d3-ab20-562710f5d905' class='sc-hide-icon' title='Show/Hide attributes'><svg class='icon sc-icon-file-text2'><use xlink:href='#icon-file-text2'></use></svg></label><input id='data-dfedfb0d-cc69-4bff-a7c5-e25ae2b5514a' class='sc-var-data-in' type='checkbox'><label for='data-dfedfb0d-cc69-4bff-a7c5-e25ae2b5514a' title='Show/Hide data repr'><svg class='icon sc-icon-database'><use xlink:href='#icon-database'></use></svg></label><pre class='sc-var-data'>Values:<br>array([  0.,   0., -30.])</pre></li></ul></div></li></ul></div></div>"
      ],
      "text/plain": [
       "<scipp.DataArray>\n",
       "Dimensions: Sizes[detector_id:9216, ]\n",
       "Coordinates:\n",
       "  detector_id                 int32  [dimensionless]  (detector_id)  [1, 2, ..., 9215, 9216]\n",
       "  position                vector_3_float64              [m]  (detector_id)  [(-0.064000, 0.094598, 4.126444), (-0.059871, 0.094598, 4.126444), ..., (0.059871, 0.000000, 4.000000), (0.064000, 0.000000, 4.000000)]\n",
       "Data:\n",
       "                          DataArrayView  [dimensionless]  (detector_id)  [<scipp.DataArray>\n",
       "Dimensions: Sizes[event:0, ]\n",
       "Coordinates:\n",
       "  detector_id                 int32  [dimensionless]  (event)  []\n",
       "  tof                         int32             [ns]  (event)  []\n",
       "Data:\n",
       "                            float32  [dimensionless]  (event)  []  []\n",
       "\n",
       ", <scipp.DataArray>\n",
       "Dimensions: Sizes[event:0, ]\n",
       "Coordinates:\n",
       "  detector_id                 int32  [dimensionless]  (event)  []\n",
       "  tof                         int32             [ns]  (event)  []\n",
       "Data:\n",
       "                            float32  [dimensionless]  (event)  []  []\n",
       "\n",
       ", ..., <scipp.DataArray>\n",
       "Dimensions: Sizes[event:0, ]\n",
       "Coordinates:\n",
       "  detector_id                 int32  [dimensionless]  (event)  []\n",
       "  tof                         int32             [ns]  (event)  []\n",
       "Data:\n",
       "                            float32  [dimensionless]  (event)  []  []\n",
       "\n",
       ", <scipp.DataArray>\n",
       "Dimensions: Sizes[event:0, ]\n",
       "Coordinates:\n",
       "  detector_id                 int32  [dimensionless]  (event)  []\n",
       "  tof                         int32             [ns]  (event)  []\n",
       "Data:\n",
       "                            float32  [dimensionless]  (event)  []  []\n",
       "\n",
       "]\n",
       "Attributes:\n",
       "  experiment_title           string  [dimensionless]  ()  [\"commissioning\"]\n",
       "  instrument_name            string  [dimensionless]  ()  [\"AMOR\"]\n",
       "  sample_position         vector_3_float64              [m]  ()  [(0.000000, 0.000000, 0.000000)]\n",
       "  source_position         vector_3_float64              [m]  ()  [(0.000000, 0.000000, -30.000000)]\n"
      ]
     },
     "execution_count": 3,
     "metadata": {},
     "output_type": "execute_result"
    }
   ],
   "source": [
    "data"
   ]
  },
  {
   "cell_type": "markdown",
   "id": "owned-button",
   "metadata": {},
   "source": [
    "The data is stored in a binned structure, where each of the bin is a pixel on the detector containing each neutron event that was measured there. \n",
    "For convinence, we will store this `data` in the `ReflData` class, which assigns values of 1 for the variances of each event (following Poisson statistics), and enables easy visualisation of all of the neutron events. "
   ]
  },
  {
   "cell_type": "code",
   "execution_count": 4,
   "id": "extra-presentation",
   "metadata": {},
   "outputs": [],
   "source": [
    "refl = ReflData(data)"
   ]
  },
  {
   "cell_type": "code",
   "execution_count": 5,
   "id": "maritime-italian",
   "metadata": {},
   "outputs": [
    {
     "data": {
      "text/html": [
       "<div><!-- Original source from -->\n",
       "<!-- https://github.com/jsignell/xarray/blob/1d960933ab252e0f79f7e050e6c9261d55568057/xarray/static/html/icons-svg-inline.html -->\n",
       "<svg style=\"position: absolute; width: 0; height: 0; overflow: hidden\">\n",
       "<defs>\n",
       "<symbol id=\"icon-database\" viewBox=\"0 0 32 32\">\n",
       "<title>Show/Hide data repr</title>\n",
       "<path d=\"M16 0c-8.837 0-16 2.239-16 5v4c0 2.761 7.163 5 16 5s16-2.239 16-5v-4c0-2.761-7.163-5-16-5z\"></path>\n",
       "<path d=\"M16 17c-8.837 0-16-2.239-16-5v6c0 2.761 7.163 5 16 5s16-2.239 16-5v-6c0 2.761-7.163 5-16 5z\"></path>\n",
       "<path d=\"M16 26c-8.837 0-16-2.239-16-5v6c0 2.761 7.163 5 16 5s16-2.239 16-5v-6c0 2.761-7.163 5-16 5z\"></path>\n",
       "</symbol>\n",
       "<symbol id=\"icon-file-text2\" viewBox=\"0 0 32 32\">\n",
       "<title>Show/Hide attributes</title>\n",
       "<path d=\"M28.681 7.159c-0.694-0.947-1.662-2.053-2.724-3.116s-2.169-2.030-3.116-2.724c-1.612-1.182-2.393-1.319-2.841-1.319h-15.5c-1.378 0-2.5 1.121-2.5 2.5v27c0 1.378 1.122 2.5 2.5 2.5h23c1.378 0 2.5-1.122 2.5-2.5v-19.5c0-0.448-0.137-1.23-1.319-2.841zM24.543 5.457c0.959 0.959 1.712 1.825 2.268 2.543h-4.811v-4.811c0.718 0.556 1.584 1.309 2.543 2.268zM28 29.5c0 0.271-0.229 0.5-0.5 0.5h-23c-0.271 0-0.5-0.229-0.5-0.5v-27c0-0.271 0.229-0.5 0.5-0.5 0 0 15.499-0 15.5 0v7c0 0.552 0.448 1 1 1h7v19.5z\"></path>\n",
       "<path d=\"M23 26h-14c-0.552 0-1-0.448-1-1s0.448-1 1-1h14c0.552 0 1 0.448 1 1s-0.448 1-1 1z\"></path>\n",
       "<path d=\"M23 22h-14c-0.552 0-1-0.448-1-1s0.448-1 1-1h14c0.552 0 1 0.448 1 1s-0.448 1-1 1z\"></path>\n",
       "<path d=\"M23 18h-14c-0.552 0-1-0.448-1-1s0.448-1 1-1h14c0.552 0 1 0.448 1 1s-0.448 1-1 1z\"></path>\n",
       "</symbol>\n",
       "</defs>\n",
       "</svg><div class='sc-wrap'><div class='sc-header'><div class='sc-obj-type'>scipp.DataArray (4.00 MB)</div></div><ul class='sc-sections'><li class='sc-section-item'><input id='section-56982562-868c-4665-b728-6567f5406f80' class='sc-section-summary-in' type='checkbox' disabled ><label for='section-56982562-868c-4665-b728-6567f5406f80' class='sc-section-summary'  title='Expand/collapse section'>Dimensions:</label><div class='sc-section-inline-details'><ul class='sc-dim-list'><li><span>event</span>: 262387</li></ul></div><div class='sc-section-details'></div></li><li class='sc-section-item'><input id='section-a9de8819-0d97-4539-9754-1baf2e79dda4' class='sc-section-summary-in' type='checkbox'  checked><label for='section-a9de8819-0d97-4539-9754-1baf2e79dda4' class='sc-section-summary' >Coordinates: <span>(2)</span></label><div class='sc-section-inline-details'></div><div class='sc-section-details'><ul class='sc-var-list'><li class='sc-var-item'><div class='sc-var-name'><span>detector_id</span></div><div class='sc-var-dims'>(event)</div><div class='sc-var-dtype'>int32</div><div class='sc-var-unit'></div><div class='sc-value-preview sc-preview'><span><div>10, 13, ..., 5118, 5119</div></span></div><input id='attrs-c42ea737-772e-4d21-890d-29b410614ac7' class='sc-var-attrs-in' type='checkbox' disabled><label for='attrs-c42ea737-772e-4d21-890d-29b410614ac7' class='sc-hide-icon' title='Show/Hide attributes'><svg class='icon sc-icon-file-text2'><use xlink:href='#icon-file-text2'></use></svg></label><input id='data-1374d134-567f-4bb4-a3c1-46d5f24c6e8f' class='sc-var-data-in' type='checkbox'><label for='data-1374d134-567f-4bb4-a3c1-46d5f24c6e8f' title='Show/Hide data repr'><svg class='icon sc-icon-database'><use xlink:href='#icon-database'></use></svg></label><pre class='sc-var-data'>Values:<br>array([  10,   13,   14, ..., 5118, 5118, 5119], dtype=int32)</pre></span></li><li class='sc-var-item'><div class='sc-var-name'><span>tof</span></div><div class='sc-var-dims'>(event)</div><div class='sc-var-dtype'>int32</div><div class='sc-var-unit'>ns</div><div class='sc-value-preview sc-preview'><span><div>108300032, 143027968, ..., 99468768, 103602576</div></span></div><input id='attrs-61fa6c08-437b-42d5-b23a-a65eaee5a6e8' class='sc-var-attrs-in' type='checkbox' disabled><label for='attrs-61fa6c08-437b-42d5-b23a-a65eaee5a6e8' class='sc-hide-icon' title='Show/Hide attributes'><svg class='icon sc-icon-file-text2'><use xlink:href='#icon-file-text2'></use></svg></label><input id='data-4f039f8c-06c2-4b2b-9fda-692d98e183f9' class='sc-var-data-in' type='checkbox'><label for='data-4f039f8c-06c2-4b2b-9fda-692d98e183f9' title='Show/Hide data repr'><svg class='icon sc-icon-database'><use xlink:href='#icon-database'></use></svg></label><pre class='sc-var-data'>Values:<br>array([108300032, 143027968,  29387072, ...,  99615888,  99468768,\n",
       "       103602576], dtype=int32)</pre></span></li></ul></div></li><li class='sc-section-item'><input id='section-ba66d933-238e-49ed-8cfb-ed0b529bd486' class='sc-section-summary-in' type='checkbox'  checked><label for='section-ba66d933-238e-49ed-8cfb-ed0b529bd486' class='sc-section-summary' >Data: <span>(1)</span></label><div class='sc-section-inline-details'></div><div class='sc-section-details'><ul class='sc-var-list'><li class='sc-var-item'><div class='sc-var-name'><span></span></div><div class='sc-var-dims'>(event)</div><div class='sc-var-dtype'>float32</div><div class='sc-var-unit'></div><div class='sc-value-preview sc-preview'><span><div>1.0, 1.0, ..., 1.0, 1.0</div></span><span><div>σ² = 1.0, 1.0, ..., 1.0, 1.0</div></span></div><input id='attrs-208051fa-2153-4ebf-bee5-4e8f3502bf62' class='sc-var-attrs-in' type='checkbox' disabled><label for='attrs-208051fa-2153-4ebf-bee5-4e8f3502bf62' class='sc-hide-icon' title='Show/Hide attributes'><svg class='icon sc-icon-file-text2'><use xlink:href='#icon-file-text2'></use></svg></label><input id='data-704daf72-48fb-490c-9497-795991a64097' class='sc-var-data-in' type='checkbox'><label for='data-704daf72-48fb-490c-9497-795991a64097' title='Show/Hide data repr'><svg class='icon sc-icon-database'><use xlink:href='#icon-database'></use></svg></label><pre class='sc-var-data'>Values:<br>array([1., 1., 1., ..., 1., 1., 1.], dtype=float32)<br><br>Variances:<br>                       <div>array([1., 1., 1., ..., 1., 1., 1.], dtype=float32)</div></pre></li></ul></div></li></ul></div></div>"
      ],
      "text/plain": [
       "<scipp.DataArray>\n",
       "Dimensions: Sizes[event:262387, ]\n",
       "Coordinates:\n",
       "  detector_id                 int32  [dimensionless]  (event)  [10, 13, ..., 5118, 5119]\n",
       "  tof                         int32             [ns]  (event)  [108300032, 143027968, ..., 99468768, 103602576]\n",
       "Data:\n",
       "                            float32  [dimensionless]  (event)  [1.000000, 1.000000, ..., 1.000000, 1.000000]  [1.000000, 1.000000, ..., 1.000000, 1.000000]\n"
      ]
     },
     "execution_count": 5,
     "metadata": {},
     "output_type": "execute_result"
    }
   ],
   "source": [
    "refl.data.events"
   ]
  },
  {
   "cell_type": "markdown",
   "id": "advised-schedule",
   "metadata": {},
   "source": [
    "It is also possible to visualise the detector, with the neutron events shown in the relevant pixels. "
   ]
  },
  {
   "cell_type": "code",
   "execution_count": 6,
   "id": "respective-causing",
   "metadata": {},
   "outputs": [
    {
     "data": {
      "application/vnd.jupyter.widget-view+json": {
       "model_id": "9ac7a53f47194d7da1fc577869a2b4fc",
       "version_major": 2,
       "version_minor": 0
      },
      "text/plain": [
       "VBox(children=(HBox(children=(VBox(children=(Button(icon='home', layout=Layout(padding='0px 0px 0px 0px', widt…"
      ]
     },
     "metadata": {},
     "output_type": "display_data"
    }
   ],
   "source": [
    "scn.instrument_view(refl.data)"
   ]
  },
  {
   "cell_type": "markdown",
   "id": "controlled-jordan",
   "metadata": {},
   "source": [
    "## Time-of-flight correction\n",
    "\n",
    "The time-of-flight values present in the `refl` object above is taken from the `event_time_offset`, $t_{\\text{eto}}$.\n",
    "Therefore, it is necessary to account for an offset due to the pulse generation. \n",
    "This correction is performed by considering half of the reciprocal rotational velocity of the chopper, $\\tau$ and the phase offset between the chopper pulse and the time-of-flight $0$, $\\phi_{\\text{chopper}}$, \n",
    "\n",
    "$$\n",
    "t_{\\text{offset}} = \\tau \\phi_{\\text{chopper}}.\n",
    "$$\n",
    "\n",
    "The time-of-flight is then found as, \n",
    "\n",
    "$$\n",
    "t = [(t_{\\text{eto}} - t_{\\text{cut}} + \\tau) \\;\\text{mod}\\; \\tau] + t_{\\text{cut}} + t_{\\text{offset}},\n",
    "$$\n",
    "\n",
    "where, $\\text{mod}$ is the remainder between the two values and $t_{\\text{cut}}$ is found from the minimum wavelength, $\\lambda$, to be used. \n",
    "In order to perform this conversion, first we convert the time-of-flight coordinate in the event data to microseconds (this is for clarity, due to the commonality of the unit, though not strictly necessary). "
   ]
  },
  {
   "cell_type": "code",
   "execution_count": 7,
   "id": "earned-flesh",
   "metadata": {},
   "outputs": [
    {
     "data": {
      "text/html": [
       "<div><!-- Original source from -->\n",
       "<!-- https://github.com/jsignell/xarray/blob/1d960933ab252e0f79f7e050e6c9261d55568057/xarray/static/html/icons-svg-inline.html -->\n",
       "<svg style=\"position: absolute; width: 0; height: 0; overflow: hidden\">\n",
       "<defs>\n",
       "<symbol id=\"icon-database\" viewBox=\"0 0 32 32\">\n",
       "<title>Show/Hide data repr</title>\n",
       "<path d=\"M16 0c-8.837 0-16 2.239-16 5v4c0 2.761 7.163 5 16 5s16-2.239 16-5v-4c0-2.761-7.163-5-16-5z\"></path>\n",
       "<path d=\"M16 17c-8.837 0-16-2.239-16-5v6c0 2.761 7.163 5 16 5s16-2.239 16-5v-6c0 2.761-7.163 5-16 5z\"></path>\n",
       "<path d=\"M16 26c-8.837 0-16-2.239-16-5v6c0 2.761 7.163 5 16 5s16-2.239 16-5v-6c0 2.761-7.163 5-16 5z\"></path>\n",
       "</symbol>\n",
       "<symbol id=\"icon-file-text2\" viewBox=\"0 0 32 32\">\n",
       "<title>Show/Hide attributes</title>\n",
       "<path d=\"M28.681 7.159c-0.694-0.947-1.662-2.053-2.724-3.116s-2.169-2.030-3.116-2.724c-1.612-1.182-2.393-1.319-2.841-1.319h-15.5c-1.378 0-2.5 1.121-2.5 2.5v27c0 1.378 1.122 2.5 2.5 2.5h23c1.378 0 2.5-1.122 2.5-2.5v-19.5c0-0.448-0.137-1.23-1.319-2.841zM24.543 5.457c0.959 0.959 1.712 1.825 2.268 2.543h-4.811v-4.811c0.718 0.556 1.584 1.309 2.543 2.268zM28 29.5c0 0.271-0.229 0.5-0.5 0.5h-23c-0.271 0-0.5-0.229-0.5-0.5v-27c0-0.271 0.229-0.5 0.5-0.5 0 0 15.499-0 15.5 0v7c0 0.552 0.448 1 1 1h7v19.5z\"></path>\n",
       "<path d=\"M23 26h-14c-0.552 0-1-0.448-1-1s0.448-1 1-1h14c0.552 0 1 0.448 1 1s-0.448 1-1 1z\"></path>\n",
       "<path d=\"M23 22h-14c-0.552 0-1-0.448-1-1s0.448-1 1-1h14c0.552 0 1 0.448 1 1s-0.448 1-1 1z\"></path>\n",
       "<path d=\"M23 18h-14c-0.552 0-1-0.448-1-1s0.448-1 1-1h14c0.552 0 1 0.448 1 1s-0.448 1-1 1z\"></path>\n",
       "</symbol>\n",
       "</defs>\n",
       "</svg><div class='sc-wrap'><div class='sc-header'><div class='sc-obj-type'>scipp.Variable (1.00 MB)</div></div><ul class='sc-sections'><li class='sc-section-item'><ul class='sc-var-list'><li class='sc-var-item'><div class='sc-standalone-var-name'><span>(event: 262387)</span></div><div class='sc-var-dtype'>int32</div><div class='sc-var-unit'>µs</div><div class='sc-value-preview sc-preview'><span><div>108300, 143028, ..., 99469, 103603</div></span></div><input id='attrs-e2fd52c8-94ea-48bb-b8d4-cf4f123a3647' class='sc-var-attrs-in' type='checkbox' disabled><label for='attrs-e2fd52c8-94ea-48bb-b8d4-cf4f123a3647' class='sc-hide-icon' title='Show/Hide attributes'><svg class='icon sc-icon-file-text2'><use xlink:href='#icon-file-text2'></use></svg></label><input id='data-6cc4b799-08d3-4211-bc5a-10993e6dc8df' class='sc-var-data-in' type='checkbox'><label for='data-6cc4b799-08d3-4211-bc5a-10993e6dc8df' title='Show/Hide data repr'><svg class='icon sc-icon-database'><use xlink:href='#icon-database'></use></svg></label><pre class='sc-var-data'>Values:<br>array([108300, 143028,  29387, ...,  99616,  99469, 103603], dtype=int32)</pre></li></ul></li></ul></div></div>"
      ],
      "text/plain": [
       "<scipp.Variable> (event: 262387)      int32            [µs]  [108300, 143028, ..., 99469, 103603]"
      ]
     },
     "execution_count": 7,
     "metadata": {},
     "output_type": "execute_result"
    }
   ],
   "source": [
    "t_eto = sc.to_unit(refl.data.events.coords['tof'], 'us')\n",
    "t_eto"
   ]
  },
  {
   "cell_type": "markdown",
   "id": "developmental-medicine",
   "metadata": {},
   "source": [
    "First, $t_{\\text{offset}}$ can be found. "
   ]
  },
  {
   "cell_type": "code",
   "execution_count": 8,
   "id": "english-mozambique",
   "metadata": {},
   "outputs": [
    {
     "data": {
      "text/html": [
       "<div><!-- Original source from -->\n",
       "<!-- https://github.com/jsignell/xarray/blob/1d960933ab252e0f79f7e050e6c9261d55568057/xarray/static/html/icons-svg-inline.html -->\n",
       "<svg style=\"position: absolute; width: 0; height: 0; overflow: hidden\">\n",
       "<defs>\n",
       "<symbol id=\"icon-database\" viewBox=\"0 0 32 32\">\n",
       "<title>Show/Hide data repr</title>\n",
       "<path d=\"M16 0c-8.837 0-16 2.239-16 5v4c0 2.761 7.163 5 16 5s16-2.239 16-5v-4c0-2.761-7.163-5-16-5z\"></path>\n",
       "<path d=\"M16 17c-8.837 0-16-2.239-16-5v6c0 2.761 7.163 5 16 5s16-2.239 16-5v-6c0 2.761-7.163 5-16 5z\"></path>\n",
       "<path d=\"M16 26c-8.837 0-16-2.239-16-5v6c0 2.761 7.163 5 16 5s16-2.239 16-5v-6c0 2.761-7.163 5-16 5z\"></path>\n",
       "</symbol>\n",
       "<symbol id=\"icon-file-text2\" viewBox=\"0 0 32 32\">\n",
       "<title>Show/Hide attributes</title>\n",
       "<path d=\"M28.681 7.159c-0.694-0.947-1.662-2.053-2.724-3.116s-2.169-2.030-3.116-2.724c-1.612-1.182-2.393-1.319-2.841-1.319h-15.5c-1.378 0-2.5 1.121-2.5 2.5v27c0 1.378 1.122 2.5 2.5 2.5h23c1.378 0 2.5-1.122 2.5-2.5v-19.5c0-0.448-0.137-1.23-1.319-2.841zM24.543 5.457c0.959 0.959 1.712 1.825 2.268 2.543h-4.811v-4.811c0.718 0.556 1.584 1.309 2.543 2.268zM28 29.5c0 0.271-0.229 0.5-0.5 0.5h-23c-0.271 0-0.5-0.229-0.5-0.5v-27c0-0.271 0.229-0.5 0.5-0.5 0 0 15.499-0 15.5 0v7c0 0.552 0.448 1 1 1h7v19.5z\"></path>\n",
       "<path d=\"M23 26h-14c-0.552 0-1-0.448-1-1s0.448-1 1-1h14c0.552 0 1 0.448 1 1s-0.448 1-1 1z\"></path>\n",
       "<path d=\"M23 22h-14c-0.552 0-1-0.448-1-1s0.448-1 1-1h14c0.552 0 1 0.448 1 1s-0.448 1-1 1z\"></path>\n",
       "<path d=\"M23 18h-14c-0.552 0-1-0.448-1-1s0.448-1 1-1h14c0.552 0 1 0.448 1 1s-0.448 1-1 1z\"></path>\n",
       "</symbol>\n",
       "</defs>\n",
       "</svg><div class='sc-wrap'><div class='sc-header'><div class='sc-obj-type'>scipp.Variable (8 Bytes)</div></div><ul class='sc-sections'><li class='sc-section-item'><ul class='sc-var-list'><li class='sc-var-item'><div class='sc-standalone-var-name'><span>()</span></div><div class='sc-var-dtype'>float64</div><div class='sc-var-unit'>µs</div><div class='sc-value-preview sc-preview'><span><div>-3333.3333333333335</div></span></div><input id='attrs-270edc56-1e7d-41cc-8e82-4b9c73d5a7b0' class='sc-var-attrs-in' type='checkbox' disabled><label for='attrs-270edc56-1e7d-41cc-8e82-4b9c73d5a7b0' class='sc-hide-icon' title='Show/Hide attributes'><svg class='icon sc-icon-file-text2'><use xlink:href='#icon-file-text2'></use></svg></label><input id='data-1a31f6e5-0ae1-4d90-aa77-1919c0a2d27d' class='sc-var-data-in' type='checkbox'><label for='data-1a31f6e5-0ae1-4d90-aa77-1919c0a2d27d' title='Show/Hide data repr'><svg class='icon sc-icon-database'><use xlink:href='#icon-database'></use></svg></label><pre class='sc-var-data'>Values:<br>array(-3333.33333333)</pre></li></ul></li></ul></div></div>"
      ],
      "text/plain": [
       "<scipp.Variable> ()    float64            [µs]  [-3333.333333]"
      ]
     },
     "execution_count": 8,
     "metadata": {},
     "output_type": "execute_result"
    }
   ],
   "source": [
    "chopper_speed = 20 / 3 * 1e-6 / sc.units.us\n",
    "tau = sc.to_unit(1 / (2 * chopper_speed), 'us')\n",
    "chopper_phase = -8.0 * sc.units.deg\n",
    "t_offset = sc.to_unit(tau * chopper_phase / (180.0 * sc.units.deg), 'us')\n",
    "t_offset"
   ]
  },
  {
   "cell_type": "markdown",
   "id": "parallel-particle",
   "metadata": {},
   "source": [
    "And then $t_{\\text{cut}}$ from the minimum wavelength value, where `HDM` is the ratio of Planck's constant, $h$, to the neutron mass, $m_n$. "
   ]
  },
  {
   "cell_type": "code",
   "execution_count": 9,
   "id": "secure-cookbook",
   "metadata": {},
   "outputs": [
    {
     "data": {
      "text/html": [
       "<div><!-- Original source from -->\n",
       "<!-- https://github.com/jsignell/xarray/blob/1d960933ab252e0f79f7e050e6c9261d55568057/xarray/static/html/icons-svg-inline.html -->\n",
       "<svg style=\"position: absolute; width: 0; height: 0; overflow: hidden\">\n",
       "<defs>\n",
       "<symbol id=\"icon-database\" viewBox=\"0 0 32 32\">\n",
       "<title>Show/Hide data repr</title>\n",
       "<path d=\"M16 0c-8.837 0-16 2.239-16 5v4c0 2.761 7.163 5 16 5s16-2.239 16-5v-4c0-2.761-7.163-5-16-5z\"></path>\n",
       "<path d=\"M16 17c-8.837 0-16-2.239-16-5v6c0 2.761 7.163 5 16 5s16-2.239 16-5v-6c0 2.761-7.163 5-16 5z\"></path>\n",
       "<path d=\"M16 26c-8.837 0-16-2.239-16-5v6c0 2.761 7.163 5 16 5s16-2.239 16-5v-6c0 2.761-7.163 5-16 5z\"></path>\n",
       "</symbol>\n",
       "<symbol id=\"icon-file-text2\" viewBox=\"0 0 32 32\">\n",
       "<title>Show/Hide attributes</title>\n",
       "<path d=\"M28.681 7.159c-0.694-0.947-1.662-2.053-2.724-3.116s-2.169-2.030-3.116-2.724c-1.612-1.182-2.393-1.319-2.841-1.319h-15.5c-1.378 0-2.5 1.121-2.5 2.5v27c0 1.378 1.122 2.5 2.5 2.5h23c1.378 0 2.5-1.122 2.5-2.5v-19.5c0-0.448-0.137-1.23-1.319-2.841zM24.543 5.457c0.959 0.959 1.712 1.825 2.268 2.543h-4.811v-4.811c0.718 0.556 1.584 1.309 2.543 2.268zM28 29.5c0 0.271-0.229 0.5-0.5 0.5h-23c-0.271 0-0.5-0.229-0.5-0.5v-27c0-0.271 0.229-0.5 0.5-0.5 0 0 15.499-0 15.5 0v7c0 0.552 0.448 1 1 1h7v19.5z\"></path>\n",
       "<path d=\"M23 26h-14c-0.552 0-1-0.448-1-1s0.448-1 1-1h14c0.552 0 1 0.448 1 1s-0.448 1-1 1z\"></path>\n",
       "<path d=\"M23 22h-14c-0.552 0-1-0.448-1-1s0.448-1 1-1h14c0.552 0 1 0.448 1 1s-0.448 1-1 1z\"></path>\n",
       "<path d=\"M23 18h-14c-0.552 0-1-0.448-1-1s0.448-1 1-1h14c0.552 0 1 0.448 1 1s-0.448 1-1 1z\"></path>\n",
       "</symbol>\n",
       "</defs>\n",
       "</svg><div class='sc-wrap'><div class='sc-header'><div class='sc-obj-type'>scipp.Variable (8 Bytes)</div></div><ul class='sc-sections'><li class='sc-section-item'><ul class='sc-var-list'><li class='sc-var-item'><div class='sc-standalone-var-name'><span>()</span></div><div class='sc-var-dtype'>float64</div><div class='sc-var-unit'>µs</div><div class='sc-value-preview sc-preview'><span><div>11526.695640344826</div></span></div><input id='attrs-862d7a62-9c96-4048-ab00-00f4a9464669' class='sc-var-attrs-in' type='checkbox' disabled><label for='attrs-862d7a62-9c96-4048-ab00-00f4a9464669' class='sc-hide-icon' title='Show/Hide attributes'><svg class='icon sc-icon-file-text2'><use xlink:href='#icon-file-text2'></use></svg></label><input id='data-887937ea-5b0f-4cd0-941a-7a191298c5df' class='sc-var-data-in' type='checkbox'><label for='data-887937ea-5b0f-4cd0-941a-7a191298c5df' title='Show/Hide data repr'><svg class='icon sc-icon-database'><use xlink:href='#icon-database'></use></svg></label><pre class='sc-var-data'>Values:<br>array(11526.69564034)</pre></li></ul></li></ul></div></div>"
      ],
      "text/plain": [
       "<scipp.Variable> ()    float64            [µs]  [11526.695640]"
      ]
     },
     "execution_count": 9,
     "metadata": {},
     "output_type": "execute_result"
    }
   ],
   "source": [
    "wavelength_cut = 2.4 * sc.units.angstrom\n",
    "chopper_detector_distance = 19 * sc.units.m\n",
    "t_cut = sc.to_unit(wavelength_cut * chopper_detector_distance / HDM, 'us')\n",
    "t_cut"
   ]
  },
  {
   "cell_type": "markdown",
   "id": "legal-fabric",
   "metadata": {},
   "source": [
    "The time-of-flight is then found, currently using the `np.remainder` functionality. "
   ]
  },
  {
   "cell_type": "code",
   "execution_count": 10,
   "id": "polar-poverty",
   "metadata": {},
   "outputs": [
    {
     "data": {
      "text/html": [
       "<div><!-- Original source from -->\n",
       "<!-- https://github.com/jsignell/xarray/blob/1d960933ab252e0f79f7e050e6c9261d55568057/xarray/static/html/icons-svg-inline.html -->\n",
       "<svg style=\"position: absolute; width: 0; height: 0; overflow: hidden\">\n",
       "<defs>\n",
       "<symbol id=\"icon-database\" viewBox=\"0 0 32 32\">\n",
       "<title>Show/Hide data repr</title>\n",
       "<path d=\"M16 0c-8.837 0-16 2.239-16 5v4c0 2.761 7.163 5 16 5s16-2.239 16-5v-4c0-2.761-7.163-5-16-5z\"></path>\n",
       "<path d=\"M16 17c-8.837 0-16-2.239-16-5v6c0 2.761 7.163 5 16 5s16-2.239 16-5v-6c0 2.761-7.163 5-16 5z\"></path>\n",
       "<path d=\"M16 26c-8.837 0-16-2.239-16-5v6c0 2.761 7.163 5 16 5s16-2.239 16-5v-6c0 2.761-7.163 5-16 5z\"></path>\n",
       "</symbol>\n",
       "<symbol id=\"icon-file-text2\" viewBox=\"0 0 32 32\">\n",
       "<title>Show/Hide attributes</title>\n",
       "<path d=\"M28.681 7.159c-0.694-0.947-1.662-2.053-2.724-3.116s-2.169-2.030-3.116-2.724c-1.612-1.182-2.393-1.319-2.841-1.319h-15.5c-1.378 0-2.5 1.121-2.5 2.5v27c0 1.378 1.122 2.5 2.5 2.5h23c1.378 0 2.5-1.122 2.5-2.5v-19.5c0-0.448-0.137-1.23-1.319-2.841zM24.543 5.457c0.959 0.959 1.712 1.825 2.268 2.543h-4.811v-4.811c0.718 0.556 1.584 1.309 2.543 2.268zM28 29.5c0 0.271-0.229 0.5-0.5 0.5h-23c-0.271 0-0.5-0.229-0.5-0.5v-27c0-0.271 0.229-0.5 0.5-0.5 0 0 15.499-0 15.5 0v7c0 0.552 0.448 1 1 1h7v19.5z\"></path>\n",
       "<path d=\"M23 26h-14c-0.552 0-1-0.448-1-1s0.448-1 1-1h14c0.552 0 1 0.448 1 1s-0.448 1-1 1z\"></path>\n",
       "<path d=\"M23 22h-14c-0.552 0-1-0.448-1-1s0.448-1 1-1h14c0.552 0 1 0.448 1 1s-0.448 1-1 1z\"></path>\n",
       "<path d=\"M23 18h-14c-0.552 0-1-0.448-1-1s0.448-1 1-1h14c0.552 0 1 0.448 1 1s-0.448 1-1 1z\"></path>\n",
       "</symbol>\n",
       "</defs>\n",
       "</svg><div class='sc-wrap'><div class='sc-header'><div class='sc-obj-type'>scipp.Variable (2.00 MB)</div></div><ul class='sc-sections'><li class='sc-section-item'><ul class='sc-var-list'><li class='sc-var-item'><div class='sc-standalone-var-name'><span>(event: 262387)</span></div><div class='sc-var-dtype'>float64</div><div class='sc-var-unit'>µs</div><div class='sc-value-preview sc-preview'><span><div>29966.67, 64694.67, ..., 21135.67, 25269.67</div></span></div><input id='attrs-af7e045b-bf69-445f-a51c-2345925aa5e1' class='sc-var-attrs-in' type='checkbox' disabled><label for='attrs-af7e045b-bf69-445f-a51c-2345925aa5e1' class='sc-hide-icon' title='Show/Hide attributes'><svg class='icon sc-icon-file-text2'><use xlink:href='#icon-file-text2'></use></svg></label><input id='data-df4ad83c-caad-41d9-adb2-43c2b3d04835' class='sc-var-data-in' type='checkbox'><label for='data-df4ad83c-caad-41d9-adb2-43c2b3d04835' title='Show/Hide data repr'><svg class='icon sc-icon-database'><use xlink:href='#icon-database'></use></svg></label><pre class='sc-var-data'>Values:<br>array([29966.66666667, 64694.66666667, 26053.66666667, ...,\n",
       "       21282.66666667, 21135.66666667, 25269.66666667])</pre></li></ul></li></ul></div></div>"
      ],
      "text/plain": [
       "<scipp.Variable> (event: 262387)    float64            [µs]  [29966.666667, 64694.666667, ..., 21135.666667, 25269.666667]"
      ]
     },
     "execution_count": 10,
     "metadata": {},
     "output_type": "execute_result"
    }
   ],
   "source": [
    "t_array = np.remainder((t_eto - t_cut + tau).values, tau.values)\n",
    "t = sc.Variable(\n",
    "    values = t_array, \n",
    "    unit=sc.units.us, \n",
    "    dims=['event'], \n",
    "    dtype=sc.dtype.float64) + t_cut + t_offset\n",
    "t"
   ]
  },
  {
   "cell_type": "markdown",
   "id": "outer-amplifier",
   "metadata": {},
   "source": [
    "Having corrected the time-of-flight, this coordinate in the `refl` object can be overwritten."
   ]
  },
  {
   "cell_type": "code",
   "execution_count": 11,
   "id": "phantom-transcript",
   "metadata": {},
   "outputs": [],
   "source": [
    "refl.data.events.coords['tof'] = t"
   ]
  },
  {
   "cell_type": "code",
   "execution_count": 12,
   "id": "immediate-pierre",
   "metadata": {},
   "outputs": [
    {
     "data": {
      "text/html": [
       "<div><!-- Original source from -->\n",
       "<!-- https://github.com/jsignell/xarray/blob/1d960933ab252e0f79f7e050e6c9261d55568057/xarray/static/html/icons-svg-inline.html -->\n",
       "<svg style=\"position: absolute; width: 0; height: 0; overflow: hidden\">\n",
       "<defs>\n",
       "<symbol id=\"icon-database\" viewBox=\"0 0 32 32\">\n",
       "<title>Show/Hide data repr</title>\n",
       "<path d=\"M16 0c-8.837 0-16 2.239-16 5v4c0 2.761 7.163 5 16 5s16-2.239 16-5v-4c0-2.761-7.163-5-16-5z\"></path>\n",
       "<path d=\"M16 17c-8.837 0-16-2.239-16-5v6c0 2.761 7.163 5 16 5s16-2.239 16-5v-6c0 2.761-7.163 5-16 5z\"></path>\n",
       "<path d=\"M16 26c-8.837 0-16-2.239-16-5v6c0 2.761 7.163 5 16 5s16-2.239 16-5v-6c0 2.761-7.163 5-16 5z\"></path>\n",
       "</symbol>\n",
       "<symbol id=\"icon-file-text2\" viewBox=\"0 0 32 32\">\n",
       "<title>Show/Hide attributes</title>\n",
       "<path d=\"M28.681 7.159c-0.694-0.947-1.662-2.053-2.724-3.116s-2.169-2.030-3.116-2.724c-1.612-1.182-2.393-1.319-2.841-1.319h-15.5c-1.378 0-2.5 1.121-2.5 2.5v27c0 1.378 1.122 2.5 2.5 2.5h23c1.378 0 2.5-1.122 2.5-2.5v-19.5c0-0.448-0.137-1.23-1.319-2.841zM24.543 5.457c0.959 0.959 1.712 1.825 2.268 2.543h-4.811v-4.811c0.718 0.556 1.584 1.309 2.543 2.268zM28 29.5c0 0.271-0.229 0.5-0.5 0.5h-23c-0.271 0-0.5-0.229-0.5-0.5v-27c0-0.271 0.229-0.5 0.5-0.5 0 0 15.499-0 15.5 0v7c0 0.552 0.448 1 1 1h7v19.5z\"></path>\n",
       "<path d=\"M23 26h-14c-0.552 0-1-0.448-1-1s0.448-1 1-1h14c0.552 0 1 0.448 1 1s-0.448 1-1 1z\"></path>\n",
       "<path d=\"M23 22h-14c-0.552 0-1-0.448-1-1s0.448-1 1-1h14c0.552 0 1 0.448 1 1s-0.448 1-1 1z\"></path>\n",
       "<path d=\"M23 18h-14c-0.552 0-1-0.448-1-1s0.448-1 1-1h14c0.552 0 1 0.448 1 1s-0.448 1-1 1z\"></path>\n",
       "</symbol>\n",
       "</defs>\n",
       "</svg><div class='sc-wrap'><div class='sc-header'><div class='sc-obj-type'>scipp.DataArray (5.00 MB)</div></div><ul class='sc-sections'><li class='sc-section-item'><input id='section-c767537d-34ea-45f6-9ca1-b86f7c951031' class='sc-section-summary-in' type='checkbox' disabled ><label for='section-c767537d-34ea-45f6-9ca1-b86f7c951031' class='sc-section-summary'  title='Expand/collapse section'>Dimensions:</label><div class='sc-section-inline-details'><ul class='sc-dim-list'><li><span>event</span>: 262387</li></ul></div><div class='sc-section-details'></div></li><li class='sc-section-item'><input id='section-4331d220-8d75-4cb5-89d5-3304f00b7316' class='sc-section-summary-in' type='checkbox'  checked><label for='section-4331d220-8d75-4cb5-89d5-3304f00b7316' class='sc-section-summary' >Coordinates: <span>(2)</span></label><div class='sc-section-inline-details'></div><div class='sc-section-details'><ul class='sc-var-list'><li class='sc-var-item'><div class='sc-var-name'><span>detector_id</span></div><div class='sc-var-dims'>(event)</div><div class='sc-var-dtype'>int32</div><div class='sc-var-unit'></div><div class='sc-value-preview sc-preview'><span><div>10, 13, ..., 5118, 5119</div></span></div><input id='attrs-ef4d0ee7-8fe5-4c29-bca7-27e28bb73485' class='sc-var-attrs-in' type='checkbox' disabled><label for='attrs-ef4d0ee7-8fe5-4c29-bca7-27e28bb73485' class='sc-hide-icon' title='Show/Hide attributes'><svg class='icon sc-icon-file-text2'><use xlink:href='#icon-file-text2'></use></svg></label><input id='data-08155536-7db0-4f8c-afcd-351c26fd652a' class='sc-var-data-in' type='checkbox'><label for='data-08155536-7db0-4f8c-afcd-351c26fd652a' title='Show/Hide data repr'><svg class='icon sc-icon-database'><use xlink:href='#icon-database'></use></svg></label><pre class='sc-var-data'>Values:<br>array([  10,   13,   14, ..., 5118, 5118, 5119], dtype=int32)</pre></span></li><li class='sc-var-item'><div class='sc-var-name'><span>tof</span></div><div class='sc-var-dims'>(event)</div><div class='sc-var-dtype'>float64</div><div class='sc-var-unit'>µs</div><div class='sc-value-preview sc-preview'><span><div>29966.67, 64694.67, ..., 21135.67, 25269.67</div></span></div><input id='attrs-e659845c-271d-446f-bdbe-3c1da3812b61' class='sc-var-attrs-in' type='checkbox' disabled><label for='attrs-e659845c-271d-446f-bdbe-3c1da3812b61' class='sc-hide-icon' title='Show/Hide attributes'><svg class='icon sc-icon-file-text2'><use xlink:href='#icon-file-text2'></use></svg></label><input id='data-025a41a9-654f-4469-a762-955260d40ca9' class='sc-var-data-in' type='checkbox'><label for='data-025a41a9-654f-4469-a762-955260d40ca9' title='Show/Hide data repr'><svg class='icon sc-icon-database'><use xlink:href='#icon-database'></use></svg></label><pre class='sc-var-data'>Values:<br>array([29966.66666667, 64694.66666667, 26053.66666667, ...,\n",
       "       21282.66666667, 21135.66666667, 25269.66666667])</pre></span></li></ul></div></li><li class='sc-section-item'><input id='section-482a67ae-04f6-4d5b-aa36-3de928553c6f' class='sc-section-summary-in' type='checkbox'  checked><label for='section-482a67ae-04f6-4d5b-aa36-3de928553c6f' class='sc-section-summary' >Data: <span>(1)</span></label><div class='sc-section-inline-details'></div><div class='sc-section-details'><ul class='sc-var-list'><li class='sc-var-item'><div class='sc-var-name'><span></span></div><div class='sc-var-dims'>(event)</div><div class='sc-var-dtype'>float32</div><div class='sc-var-unit'></div><div class='sc-value-preview sc-preview'><span><div>1.0, 1.0, ..., 1.0, 1.0</div></span><span><div>σ² = 1.0, 1.0, ..., 1.0, 1.0</div></span></div><input id='attrs-86c2813c-4813-4cda-9ed9-a3c84c7f22a8' class='sc-var-attrs-in' type='checkbox' disabled><label for='attrs-86c2813c-4813-4cda-9ed9-a3c84c7f22a8' class='sc-hide-icon' title='Show/Hide attributes'><svg class='icon sc-icon-file-text2'><use xlink:href='#icon-file-text2'></use></svg></label><input id='data-80dd529f-3177-4b91-8069-024384dca051' class='sc-var-data-in' type='checkbox'><label for='data-80dd529f-3177-4b91-8069-024384dca051' title='Show/Hide data repr'><svg class='icon sc-icon-database'><use xlink:href='#icon-database'></use></svg></label><pre class='sc-var-data'>Values:<br>array([1., 1., 1., ..., 1., 1., 1.], dtype=float32)<br><br>Variances:<br>                       <div>array([1., 1., 1., ..., 1., 1., 1.], dtype=float32)</div></pre></li></ul></div></li></ul></div></div>"
      ],
      "text/plain": [
       "<scipp.DataArray>\n",
       "Dimensions: Sizes[event:262387, ]\n",
       "Coordinates:\n",
       "  detector_id                 int32  [dimensionless]  (event)  [10, 13, ..., 5118, 5119]\n",
       "  tof                       float64            [µs]  (event)  [29966.666667, 64694.666667, ..., 21135.666667, 25269.666667]\n",
       "Data:\n",
       "                            float32  [dimensionless]  (event)  [1.000000, 1.000000, ..., 1.000000, 1.000000]  [1.000000, 1.000000, ..., 1.000000, 1.000000]\n"
      ]
     },
     "execution_count": 12,
     "metadata": {},
     "output_type": "execute_result"
    }
   ],
   "source": [
    "refl.data.events"
   ]
  },
  {
   "cell_type": "markdown",
   "id": "powerful-stack",
   "metadata": {},
   "source": [
    "The corrected time-of-flight is now in the file, and it is possible to visualise a histogram of the values. "
   ]
  },
  {
   "cell_type": "code",
   "execution_count": 13,
   "id": "equivalent-enlargement",
   "metadata": {},
   "outputs": [
    {
     "data": {
      "application/vnd.jupyter.widget-view+json": {
       "model_id": "72a06d59a2084cd9a69d65276edbc0da",
       "version_major": 2,
       "version_minor": 0
      },
      "text/plain": [
       "VBox(children=(HBox(children=(VBox(children=(Button(icon='home', layout=Layout(padding='0px 0px 0px 0px', widt…"
      ]
     },
     "metadata": {},
     "output_type": "display_data"
    }
   ],
   "source": [
    "max_t = sc.max(refl.data.events.coords['tof'])\n",
    "min_t = sc.min(refl.data.events.coords['tof'])\n",
    "bins = sc.Variable(values=np.linspace(min_t.value, max_t.value, 100), \n",
    "                   unit=refl.data.events.coords['tof'].unit,\n",
    "                   dims=['tof'])\n",
    "sc.histogram(refl.event, bins).plot()"
   ]
  },
  {
   "cell_type": "markdown",
   "id": "color-speaking",
   "metadata": {},
   "source": [
    "## Time-of-flight to wavelength conversion\n",
    "\n",
    "The time-of-flight has been determined, therefore it is now possible to convert the time-of-flight to wavelength, an important step in determining $q$. \n",
    "`scipp` includes built in functionality to perform this conversion based on the instrument geometry. \n",
    "However, the `source_position` must be modified to account for the fact that the pulse is defined by the chopper. "
   ]
  },
  {
   "cell_type": "code",
   "execution_count": 14,
   "id": "ignored-chemical",
   "metadata": {},
   "outputs": [],
   "source": [
    "chopper_sample_distance=15.0 * sc.units.m\n",
    "refl.data.attrs[\"source_position\"] = sc.geometry.position(0.0 * sc.units.m, \n",
    "                                                          0.0 * sc.units.m, \n",
    "                                                          -chopper_sample_distance)"
   ]
  },
  {
   "cell_type": "markdown",
   "id": "tough-booth",
   "metadata": {},
   "source": [
    "This correction makes use of the definition of the sample position at $0, 0, 0$."
   ]
  },
  {
   "cell_type": "code",
   "execution_count": 15,
   "id": "guided-pocket",
   "metadata": {},
   "outputs": [
    {
     "data": {
      "text/html": [
       "<div><!-- Original source from -->\n",
       "<!-- https://github.com/jsignell/xarray/blob/1d960933ab252e0f79f7e050e6c9261d55568057/xarray/static/html/icons-svg-inline.html -->\n",
       "<svg style=\"position: absolute; width: 0; height: 0; overflow: hidden\">\n",
       "<defs>\n",
       "<symbol id=\"icon-database\" viewBox=\"0 0 32 32\">\n",
       "<title>Show/Hide data repr</title>\n",
       "<path d=\"M16 0c-8.837 0-16 2.239-16 5v4c0 2.761 7.163 5 16 5s16-2.239 16-5v-4c0-2.761-7.163-5-16-5z\"></path>\n",
       "<path d=\"M16 17c-8.837 0-16-2.239-16-5v6c0 2.761 7.163 5 16 5s16-2.239 16-5v-6c0 2.761-7.163 5-16 5z\"></path>\n",
       "<path d=\"M16 26c-8.837 0-16-2.239-16-5v6c0 2.761 7.163 5 16 5s16-2.239 16-5v-6c0 2.761-7.163 5-16 5z\"></path>\n",
       "</symbol>\n",
       "<symbol id=\"icon-file-text2\" viewBox=\"0 0 32 32\">\n",
       "<title>Show/Hide attributes</title>\n",
       "<path d=\"M28.681 7.159c-0.694-0.947-1.662-2.053-2.724-3.116s-2.169-2.030-3.116-2.724c-1.612-1.182-2.393-1.319-2.841-1.319h-15.5c-1.378 0-2.5 1.121-2.5 2.5v27c0 1.378 1.122 2.5 2.5 2.5h23c1.378 0 2.5-1.122 2.5-2.5v-19.5c0-0.448-0.137-1.23-1.319-2.841zM24.543 5.457c0.959 0.959 1.712 1.825 2.268 2.543h-4.811v-4.811c0.718 0.556 1.584 1.309 2.543 2.268zM28 29.5c0 0.271-0.229 0.5-0.5 0.5h-23c-0.271 0-0.5-0.229-0.5-0.5v-27c0-0.271 0.229-0.5 0.5-0.5 0 0 15.499-0 15.5 0v7c0 0.552 0.448 1 1 1h7v19.5z\"></path>\n",
       "<path d=\"M23 26h-14c-0.552 0-1-0.448-1-1s0.448-1 1-1h14c0.552 0 1 0.448 1 1s-0.448 1-1 1z\"></path>\n",
       "<path d=\"M23 22h-14c-0.552 0-1-0.448-1-1s0.448-1 1-1h14c0.552 0 1 0.448 1 1s-0.448 1-1 1z\"></path>\n",
       "<path d=\"M23 18h-14c-0.552 0-1-0.448-1-1s0.448-1 1-1h14c0.552 0 1 0.448 1 1s-0.448 1-1 1z\"></path>\n",
       "</symbol>\n",
       "</defs>\n",
       "</svg><div class='sc-wrap'><div class='sc-header'><div class='sc-obj-type'>scipp.Variable (24 Bytes)</div></div><ul class='sc-sections'><li class='sc-section-item'><ul class='sc-var-list'><li class='sc-var-item'><div class='sc-standalone-var-name'><span>()</span></div><div class='sc-var-dtype'>vector_3_float64</div><div class='sc-var-unit'>m</div><div class='sc-value-preview sc-preview'><span><div>[0. 0. 0.]</div></span></div><input id='attrs-9da993d4-fabd-471f-a800-02304040ad52' class='sc-var-attrs-in' type='checkbox' disabled><label for='attrs-9da993d4-fabd-471f-a800-02304040ad52' class='sc-hide-icon' title='Show/Hide attributes'><svg class='icon sc-icon-file-text2'><use xlink:href='#icon-file-text2'></use></svg></label><input id='data-7393a59f-8d7f-4b7a-8a78-9760183aa161' class='sc-var-data-in' type='checkbox'><label for='data-7393a59f-8d7f-4b7a-8a78-9760183aa161' title='Show/Hide data repr'><svg class='icon sc-icon-database'><use xlink:href='#icon-database'></use></svg></label><pre class='sc-var-data'>Values:<br>array([0., 0., 0.])</pre></li></ul></li></ul></div></div>"
      ],
      "text/plain": [
       "<scipp.Variable> ()  vector_3_float64              [m]  [(0.000000, 0.000000, 0.000000)]"
      ]
     },
     "execution_count": 15,
     "metadata": {},
     "output_type": "execute_result"
    }
   ],
   "source": [
    "refl.data.attrs['sample_position']"
   ]
  },
  {
   "cell_type": "markdown",
   "id": "scheduled-strength",
   "metadata": {},
   "source": [
    "With this correction in place, the `scippneutron.convert` function can be used to find the wavelength. "
   ]
  },
  {
   "cell_type": "code",
   "execution_count": 16,
   "id": "58b887d3",
   "metadata": {},
   "outputs": [
    {
     "data": {
      "text/html": [
       "<div><!-- Original source from -->\n",
       "<!-- https://github.com/jsignell/xarray/blob/1d960933ab252e0f79f7e050e6c9261d55568057/xarray/static/html/icons-svg-inline.html -->\n",
       "<svg style=\"position: absolute; width: 0; height: 0; overflow: hidden\">\n",
       "<defs>\n",
       "<symbol id=\"icon-database\" viewBox=\"0 0 32 32\">\n",
       "<title>Show/Hide data repr</title>\n",
       "<path d=\"M16 0c-8.837 0-16 2.239-16 5v4c0 2.761 7.163 5 16 5s16-2.239 16-5v-4c0-2.761-7.163-5-16-5z\"></path>\n",
       "<path d=\"M16 17c-8.837 0-16-2.239-16-5v6c0 2.761 7.163 5 16 5s16-2.239 16-5v-6c0 2.761-7.163 5-16 5z\"></path>\n",
       "<path d=\"M16 26c-8.837 0-16-2.239-16-5v6c0 2.761 7.163 5 16 5s16-2.239 16-5v-6c0 2.761-7.163 5-16 5z\"></path>\n",
       "</symbol>\n",
       "<symbol id=\"icon-file-text2\" viewBox=\"0 0 32 32\">\n",
       "<title>Show/Hide attributes</title>\n",
       "<path d=\"M28.681 7.159c-0.694-0.947-1.662-2.053-2.724-3.116s-2.169-2.030-3.116-2.724c-1.612-1.182-2.393-1.319-2.841-1.319h-15.5c-1.378 0-2.5 1.121-2.5 2.5v27c0 1.378 1.122 2.5 2.5 2.5h23c1.378 0 2.5-1.122 2.5-2.5v-19.5c0-0.448-0.137-1.23-1.319-2.841zM24.543 5.457c0.959 0.959 1.712 1.825 2.268 2.543h-4.811v-4.811c0.718 0.556 1.584 1.309 2.543 2.268zM28 29.5c0 0.271-0.229 0.5-0.5 0.5h-23c-0.271 0-0.5-0.229-0.5-0.5v-27c0-0.271 0.229-0.5 0.5-0.5 0 0 15.499-0 15.5 0v7c0 0.552 0.448 1 1 1h7v19.5z\"></path>\n",
       "<path d=\"M23 26h-14c-0.552 0-1-0.448-1-1s0.448-1 1-1h14c0.552 0 1 0.448 1 1s-0.448 1-1 1z\"></path>\n",
       "<path d=\"M23 22h-14c-0.552 0-1-0.448-1-1s0.448-1 1-1h14c0.552 0 1 0.448 1 1s-0.448 1-1 1z\"></path>\n",
       "<path d=\"M23 18h-14c-0.552 0-1-0.448-1-1s0.448-1 1-1h14c0.552 0 1 0.448 1 1s-0.448 1-1 1z\"></path>\n",
       "</symbol>\n",
       "</defs>\n",
       "</svg><div class='sc-wrap'><div class='sc-header'><div class='sc-obj-type'>scipp.DataArray (5.39 MB)</div></div><ul class='sc-sections'><li class='sc-section-item'><input id='section-3269556b-25e9-4c8e-a0c1-df2e098b543e' class='sc-section-summary-in' type='checkbox' disabled ><label for='section-3269556b-25e9-4c8e-a0c1-df2e098b543e' class='sc-section-summary'  title='Expand/collapse section'>Dimensions:</label><div class='sc-section-inline-details'><ul class='sc-dim-list'><li><span class='sc-has-index'>detector_id</span>: 9216</li></ul></div><div class='sc-section-details'></div></li><li class='sc-section-item'><input id='section-5eb658d1-9aaa-4bbf-af3c-ad2e842d4c2a' class='sc-section-summary-in' type='checkbox'  checked><label for='section-5eb658d1-9aaa-4bbf-af3c-ad2e842d4c2a' class='sc-section-summary' >Coordinates: <span>(2)</span></label><div class='sc-section-inline-details'></div><div class='sc-section-details'><ul class='sc-var-list'><li class='sc-var-item'><div class='sc-var-name'><span class='sc-has-index'>detector_id</span></div><div class='sc-var-dims'>(detector_id)</div><div class='sc-var-dtype'>int32</div><div class='sc-var-unit'></div><div class='sc-value-preview sc-preview'><span><div>1, 2, ..., 9215, 9216</div></span></div><input id='attrs-ea135601-82e0-493a-b7a3-d968e063b9b1' class='sc-var-attrs-in' type='checkbox' disabled><label for='attrs-ea135601-82e0-493a-b7a3-d968e063b9b1' class='sc-hide-icon' title='Show/Hide attributes'><svg class='icon sc-icon-file-text2'><use xlink:href='#icon-file-text2'></use></svg></label><input id='data-a77119ab-8797-47ce-a635-a9f6f56ca04c' class='sc-var-data-in' type='checkbox'><label for='data-a77119ab-8797-47ce-a635-a9f6f56ca04c' title='Show/Hide data repr'><svg class='icon sc-icon-database'><use xlink:href='#icon-database'></use></svg></label><pre class='sc-var-data'>Values:<br>array([   1,    2,    3, ..., 9214, 9215, 9216], dtype=int32)</pre></span></li><li class='sc-var-item'><div class='sc-var-name'><span>position</span></div><div class='sc-var-dims'>(detector_id)</div><div class='sc-var-dtype'>vector_3_float64</div><div class='sc-var-unit'>m</div><div class='sc-value-preview sc-preview'><span><div>[-0.064       0.09459759  4.12644383], [-0.05987097  0.09459759  4.12644383], ..., [0.05987097 0.         4.        ], [0.064 0.    4.   ]</div></span></div><input id='attrs-a4c58f33-cea3-4587-9810-a4c6cef0a6a6' class='sc-var-attrs-in' type='checkbox' disabled><label for='attrs-a4c58f33-cea3-4587-9810-a4c6cef0a6a6' class='sc-hide-icon' title='Show/Hide attributes'><svg class='icon sc-icon-file-text2'><use xlink:href='#icon-file-text2'></use></svg></label><input id='data-15d6f36a-3c3c-4b20-9b5b-1edcddf0e7ac' class='sc-var-data-in' type='checkbox'><label for='data-15d6f36a-3c3c-4b20-9b5b-1edcddf0e7ac' title='Show/Hide data repr'><svg class='icon sc-icon-database'><use xlink:href='#icon-database'></use></svg></label><pre class='sc-var-data'>Values:<br>array([[-0.064     ,  0.09459759,  4.12644383],\n",
       "       [-0.05987097,  0.09459759,  4.12644383],\n",
       "       [-0.05574194,  0.09459759,  4.12644383],\n",
       "       ...,\n",
       "       [ 0.05574194,  0.        ,  4.        ],\n",
       "       [ 0.05987097,  0.        ,  4.        ],\n",
       "       [ 0.064     ,  0.        ,  4.        ]])</pre></span></li></ul></div></li><li class='sc-section-item'><input id='section-2f60c1ac-04bf-4b9d-bff7-4a18d7f8ebba' class='sc-section-summary-in' type='checkbox'  checked><label for='section-2f60c1ac-04bf-4b9d-bff7-4a18d7f8ebba' class='sc-section-summary' >Data: <span>(1)</span></label><div class='sc-section-inline-details'></div><div class='sc-section-details'><ul class='sc-var-list'><li class='sc-var-item'><div class='sc-var-name'><span></span></div><div class='sc-var-dims'>(detector_id)</div><div class='sc-var-dtype'>DataArrayView</div><div class='sc-var-unit'></div><div class='sc-value-preview sc-preview'><span><div>binned data [len=0, len=0, ..., len=0, len=0]</div></span></div><input id='attrs-8a438b44-1fbd-42d4-88e9-489e65083bc2' class='sc-var-attrs-in' type='checkbox' disabled><label for='attrs-8a438b44-1fbd-42d4-88e9-489e65083bc2' class='sc-hide-icon' title='Show/Hide attributes'><svg class='icon sc-icon-file-text2'><use xlink:href='#icon-file-text2'></use></svg></label><input id='data-3f3b1ea8-7f41-4339-9364-793f17f95435' class='sc-var-data-in' type='checkbox'><label for='data-3f3b1ea8-7f41-4339-9364-793f17f95435' title='Show/Hide data repr'><svg class='icon sc-icon-database'><use xlink:href='#icon-database'></use></svg></label><pre class='sc-var-data'>Values:<br>[&lt;scipp.DataArray&gt;\n",
       "Dimensions: Sizes[event:0, ]\n",
       "Coordinates:\n",
       "  detector_id                 int32  [dimensionless]  (event)  []\n",
       "  tof                       float64            [µs]  (event)  []\n",
       "Data:\n",
       "                            float32  [dimensionless]  (event)  []  []\n",
       "\n",
       ", &lt;scipp.DataArray&gt;\n",
       "Dimensions: Sizes[event:0, ]\n",
       "Coordinates:\n",
       "  detector_id                 int32  [dimensionless]  (event)  []\n",
       "  tof                       float64            [µs]  (event)  []\n",
       "Data:\n",
       "                            float32  [dimensionless]  (event)  []  []\n",
       "\n",
       ", ..., &lt;scipp.DataArray&gt;\n",
       "Dimensions: Sizes[event:0, ]\n",
       "Coordinates:\n",
       "  detector_id                 int32  [dimensionless]  (event)  []\n",
       "  tof                       float64            [µs]  (event)  []\n",
       "Data:\n",
       "                            float32  [dimensionless]  (event)  []  []\n",
       "\n",
       ", &lt;scipp.DataArray&gt;\n",
       "Dimensions: Sizes[event:0, ]\n",
       "Coordinates:\n",
       "  detector_id                 int32  [dimensionless]  (event)  []\n",
       "  tof                       float64            [µs]  (event)  []\n",
       "Data:\n",
       "                            float32  [dimensionless]  (event)  []  []\n",
       "\n",
       "]</pre></li></ul></div></li><li class='sc-section-item'><input id='section-0dc83bce-7851-4621-b380-1f40e13982d6' class='sc-section-summary-in' type='checkbox'  checked><label for='section-0dc83bce-7851-4621-b380-1f40e13982d6' class='sc-section-summary' >Attributes: <span>(4)</span></label><div class='sc-section-inline-details'></div><div class='sc-section-details'><ul class='sc-var-list'><li class='sc-var-item'><div class='sc-var-name'><span>experiment_title</span></div><div class='sc-var-dims'>()</div><div class='sc-var-dtype'>string</div><div class='sc-var-unit'></div><div class='sc-value-preview sc-preview'><span><div>commissioning</div></span></div><input id='attrs-2895987a-c597-4a81-aee6-04a6695c8218' class='sc-var-attrs-in' type='checkbox' disabled><label for='attrs-2895987a-c597-4a81-aee6-04a6695c8218' class='sc-hide-icon' title='Show/Hide attributes'><svg class='icon sc-icon-file-text2'><use xlink:href='#icon-file-text2'></use></svg></label><input id='data-c6731b1e-ca9b-4df4-98c0-0601ba029616' class='sc-var-data-in' type='checkbox'><label for='data-c6731b1e-ca9b-4df4-98c0-0601ba029616' title='Show/Hide data repr'><svg class='icon sc-icon-database'><use xlink:href='#icon-database'></use></svg></label><pre class='sc-var-data'>Values:<br>&#x27;commissioning&#x27;</pre></li><li class='sc-var-item'><div class='sc-var-name'><span>instrument_name</span></div><div class='sc-var-dims'>()</div><div class='sc-var-dtype'>string</div><div class='sc-var-unit'></div><div class='sc-value-preview sc-preview'><span><div>AMOR</div></span></div><input id='attrs-6048d1d5-a18c-4565-b489-00ae726723c2' class='sc-var-attrs-in' type='checkbox' disabled><label for='attrs-6048d1d5-a18c-4565-b489-00ae726723c2' class='sc-hide-icon' title='Show/Hide attributes'><svg class='icon sc-icon-file-text2'><use xlink:href='#icon-file-text2'></use></svg></label><input id='data-d91a47bc-1290-4cb5-8f3f-cbbc54dcdecb' class='sc-var-data-in' type='checkbox'><label for='data-d91a47bc-1290-4cb5-8f3f-cbbc54dcdecb' title='Show/Hide data repr'><svg class='icon sc-icon-database'><use xlink:href='#icon-database'></use></svg></label><pre class='sc-var-data'>Values:<br>&#x27;AMOR&#x27;</pre></li><li class='sc-var-item'><div class='sc-var-name'><span>sample_position</span></div><div class='sc-var-dims'>()</div><div class='sc-var-dtype'>vector_3_float64</div><div class='sc-var-unit'>m</div><div class='sc-value-preview sc-preview'><span><div>[0. 0. 0.]</div></span></div><input id='attrs-63581ecc-329c-4bdb-9ab4-16647a607a1b' class='sc-var-attrs-in' type='checkbox' disabled><label for='attrs-63581ecc-329c-4bdb-9ab4-16647a607a1b' class='sc-hide-icon' title='Show/Hide attributes'><svg class='icon sc-icon-file-text2'><use xlink:href='#icon-file-text2'></use></svg></label><input id='data-5bfe5874-6b1e-455a-9961-71cef86d89d0' class='sc-var-data-in' type='checkbox'><label for='data-5bfe5874-6b1e-455a-9961-71cef86d89d0' title='Show/Hide data repr'><svg class='icon sc-icon-database'><use xlink:href='#icon-database'></use></svg></label><pre class='sc-var-data'>Values:<br>array([0., 0., 0.])</pre></li><li class='sc-var-item'><div class='sc-var-name'><span>source_position</span></div><div class='sc-var-dims'>()</div><div class='sc-var-dtype'>vector_3_float64</div><div class='sc-var-unit'>m</div><div class='sc-value-preview sc-preview'><span><div>[  0.   0. -15.]</div></span></div><input id='attrs-b44e603d-1d2e-4235-adeb-7b8e2878c417' class='sc-var-attrs-in' type='checkbox' disabled><label for='attrs-b44e603d-1d2e-4235-adeb-7b8e2878c417' class='sc-hide-icon' title='Show/Hide attributes'><svg class='icon sc-icon-file-text2'><use xlink:href='#icon-file-text2'></use></svg></label><input id='data-dc5d94e3-d0ad-4697-9f79-a88f4b73c44b' class='sc-var-data-in' type='checkbox'><label for='data-dc5d94e3-d0ad-4697-9f79-a88f4b73c44b' title='Show/Hide data repr'><svg class='icon sc-icon-database'><use xlink:href='#icon-database'></use></svg></label><pre class='sc-var-data'>Values:<br>array([  0.,   0., -15.])</pre></li></ul></div></li></ul></div></div>"
      ],
      "text/plain": [
       "<scipp.DataArray>\n",
       "Dimensions: Sizes[detector_id:9216, ]\n",
       "Coordinates:\n",
       "  detector_id                 int32  [dimensionless]  (detector_id)  [1, 2, ..., 9215, 9216]\n",
       "  position                vector_3_float64              [m]  (detector_id)  [(-0.064000, 0.094598, 4.126444), (-0.059871, 0.094598, 4.126444), ..., (0.059871, 0.000000, 4.000000), (0.064000, 0.000000, 4.000000)]\n",
       "Data:\n",
       "                          DataArrayView  [dimensionless]  (detector_id)  [<scipp.DataArray>\n",
       "Dimensions: Sizes[event:0, ]\n",
       "Coordinates:\n",
       "  detector_id                 int32  [dimensionless]  (event)  []\n",
       "  tof                       float64            [µs]  (event)  []\n",
       "Data:\n",
       "                            float32  [dimensionless]  (event)  []  []\n",
       "\n",
       ", <scipp.DataArray>\n",
       "Dimensions: Sizes[event:0, ]\n",
       "Coordinates:\n",
       "  detector_id                 int32  [dimensionless]  (event)  []\n",
       "  tof                       float64            [µs]  (event)  []\n",
       "Data:\n",
       "                            float32  [dimensionless]  (event)  []  []\n",
       "\n",
       ", ..., <scipp.DataArray>\n",
       "Dimensions: Sizes[event:0, ]\n",
       "Coordinates:\n",
       "  detector_id                 int32  [dimensionless]  (event)  []\n",
       "  tof                       float64            [µs]  (event)  []\n",
       "Data:\n",
       "                            float32  [dimensionless]  (event)  []  []\n",
       "\n",
       ", <scipp.DataArray>\n",
       "Dimensions: Sizes[event:0, ]\n",
       "Coordinates:\n",
       "  detector_id                 int32  [dimensionless]  (event)  []\n",
       "  tof                       float64            [µs]  (event)  []\n",
       "Data:\n",
       "                            float32  [dimensionless]  (event)  []  []\n",
       "\n",
       "]\n",
       "Attributes:\n",
       "  experiment_title           string  [dimensionless]  ()  [\"commissioning\"]\n",
       "  instrument_name            string  [dimensionless]  ()  [\"AMOR\"]\n",
       "  sample_position         vector_3_float64              [m]  ()  [(0.000000, 0.000000, 0.000000)]\n",
       "  source_position         vector_3_float64              [m]  ()  [(0.000000, 0.000000, -15.000000)]\n"
      ]
     },
     "execution_count": 16,
     "metadata": {},
     "output_type": "execute_result"
    }
   ],
   "source": [
    "refl.data"
   ]
  },
  {
   "cell_type": "code",
   "execution_count": 17,
   "id": "hindu-thirty",
   "metadata": {},
   "outputs": [],
   "source": [
    "refl.data = scn.convert(refl.data, origin='tof', target='wavelength', scatter=True)"
   ]
  },
  {
   "cell_type": "markdown",
   "id": "duplicate-lafayette",
   "metadata": {},
   "source": [
    "Here, this is performed such that the `'tof'` coordinate is lost, this is not the cause for the `AmorData` implementation. \n",
    "\n",
    "Similar to the time-of-flight, it is possible to visualise the $\\lambda$-values. "
   ]
  },
  {
   "cell_type": "code",
   "execution_count": 18,
   "id": "identified-deputy",
   "metadata": {
    "scrolled": true
   },
   "outputs": [
    {
     "data": {
      "application/vnd.jupyter.widget-view+json": {
       "model_id": "1ffe52e3e3c24f99853ba8a333cc63be",
       "version_major": 2,
       "version_minor": 0
      },
      "text/plain": [
       "VBox(children=(HBox(children=(VBox(children=(Button(icon='home', layout=Layout(padding='0px 0px 0px 0px', widt…"
      ]
     },
     "metadata": {},
     "output_type": "display_data"
    }
   ],
   "source": [
    "max_w = sc.max(refl.event.coords['wavelength'])\n",
    "min_w = sc.min(refl.event.coords['wavelength'])\n",
    "bins = sc.Variable(values=np.linspace(min_w.value, max_w.value, 100), \n",
    "                   unit=refl.event.coords['wavelength'].unit,\n",
    "                   dims=['wavelength'])\n",
    "sc.histogram(refl.event, bins).plot()"
   ]
  },
  {
   "cell_type": "markdown",
   "id": "bibliographic-garlic",
   "metadata": {},
   "source": [
    "## Theta calculation and gravity correction\n",
    "\n",
    "The Amor reflectometer scatters neutrons vertically in space from a horizontal scattering surface. \n",
    "Therefore, when the scattering angle, $\\theta$, is found, it is necessary to consider the effect that gravity will have on the neutron's trajectory. \n",
    "\n",
    "<center>\n",
    "    <img src='gravity.png' width=60%>\n",
    "    <i>\n",
    "        The effect of gravity for a neutron with a velocity of 20 ms<sup>-1</sup>; the solid blue line shows the trajectory of a neutron reflected from a surface under the influence of graivty, the dashed green line shows the trajectory without gravity if no correction, the solid orange line shows the true trajectory if the reflection were to occur with no gravity present.\n",
    "    </i>\n",
    "</center>\n",
    "\n",
    "The figure above shows the trajectory of a neutron reflecting from a sample and being detected on the detector (the blue line). \n",
    "Initially assuming that all of the neutron are detected at the point $(0, 0)$ (the influence of beam and sample width is [considered below](#Resolution-functions)). \n",
    "During the trajectory, the neutron is acted on by the force of gravity, leading to the parabolic motion shown. \n",
    "It is clear that if $\\theta$ were calculated without accounting for graivty (dashed green line), then the angle would be underestimated. \n",
    "\n",
    "The trajectory for the detected neutron can be found by considering the kinematic equations of motion. \n",
    "The time taken for the neutron to travel from $z=z_0$ to $z=z_d$ is, \n",
    "\n",
    "$$\n",
    "t_d = \\frac{z_d - z_0}{v_z}, \n",
    "$$\n",
    "\n",
    "where, $v_z$ is the velocity of the neutron in the z-dimension. \n",
    "It is assumed that the velocity in this dimension is the main component of the total velocity and that this doesn't change over time. \n",
    "Therefore, we can calculate $v_z$ from the neutron's wavelength as, \n",
    "\n",
    "$$\n",
    "v_z = \\frac{h}{m_n\\lambda}.\n",
    "$$\n",
    "\n",
    "This can be found as follows. "
   ]
  },
  {
   "cell_type": "code",
   "execution_count": 19,
   "id": "legal-absolute",
   "metadata": {},
   "outputs": [
    {
     "data": {
      "text/html": [
       "<div><!-- Original source from -->\n",
       "<!-- https://github.com/jsignell/xarray/blob/1d960933ab252e0f79f7e050e6c9261d55568057/xarray/static/html/icons-svg-inline.html -->\n",
       "<svg style=\"position: absolute; width: 0; height: 0; overflow: hidden\">\n",
       "<defs>\n",
       "<symbol id=\"icon-database\" viewBox=\"0 0 32 32\">\n",
       "<title>Show/Hide data repr</title>\n",
       "<path d=\"M16 0c-8.837 0-16 2.239-16 5v4c0 2.761 7.163 5 16 5s16-2.239 16-5v-4c0-2.761-7.163-5-16-5z\"></path>\n",
       "<path d=\"M16 17c-8.837 0-16-2.239-16-5v6c0 2.761 7.163 5 16 5s16-2.239 16-5v-6c0 2.761-7.163 5-16 5z\"></path>\n",
       "<path d=\"M16 26c-8.837 0-16-2.239-16-5v6c0 2.761 7.163 5 16 5s16-2.239 16-5v-6c0 2.761-7.163 5-16 5z\"></path>\n",
       "</symbol>\n",
       "<symbol id=\"icon-file-text2\" viewBox=\"0 0 32 32\">\n",
       "<title>Show/Hide attributes</title>\n",
       "<path d=\"M28.681 7.159c-0.694-0.947-1.662-2.053-2.724-3.116s-2.169-2.030-3.116-2.724c-1.612-1.182-2.393-1.319-2.841-1.319h-15.5c-1.378 0-2.5 1.121-2.5 2.5v27c0 1.378 1.122 2.5 2.5 2.5h23c1.378 0 2.5-1.122 2.5-2.5v-19.5c0-0.448-0.137-1.23-1.319-2.841zM24.543 5.457c0.959 0.959 1.712 1.825 2.268 2.543h-4.811v-4.811c0.718 0.556 1.584 1.309 2.543 2.268zM28 29.5c0 0.271-0.229 0.5-0.5 0.5h-23c-0.271 0-0.5-0.229-0.5-0.5v-27c0-0.271 0.229-0.5 0.5-0.5 0 0 15.499-0 15.5 0v7c0 0.552 0.448 1 1 1h7v19.5z\"></path>\n",
       "<path d=\"M23 26h-14c-0.552 0-1-0.448-1-1s0.448-1 1-1h14c0.552 0 1 0.448 1 1s-0.448 1-1 1z\"></path>\n",
       "<path d=\"M23 22h-14c-0.552 0-1-0.448-1-1s0.448-1 1-1h14c0.552 0 1 0.448 1 1s-0.448 1-1 1z\"></path>\n",
       "<path d=\"M23 18h-14c-0.552 0-1-0.448-1-1s0.448-1 1-1h14c0.552 0 1 0.448 1 1s-0.448 1-1 1z\"></path>\n",
       "</symbol>\n",
       "</defs>\n",
       "</svg><div class='sc-wrap'><div class='sc-header'><div class='sc-obj-type'>scipp.Variable (2.00 MB)</div></div><ul class='sc-sections'><li class='sc-section-item'><ul class='sc-var-list'><li class='sc-var-item'><div class='sc-standalone-var-name'><span>(event: 262387)</span></div><div class='sc-var-dtype'>float64</div><div class='sc-var-unit'>m/s</div><div class='sc-value-preview sc-preview'><span><div>638.3, 295.66, ..., 898.97, 751.91</div></span></div><input id='attrs-abbd141e-924a-4fe2-89e1-56157fd4f446' class='sc-var-attrs-in' type='checkbox' disabled><label for='attrs-abbd141e-924a-4fe2-89e1-56157fd4f446' class='sc-hide-icon' title='Show/Hide attributes'><svg class='icon sc-icon-file-text2'><use xlink:href='#icon-file-text2'></use></svg></label><input id='data-049d4ce8-6f27-4133-92af-7112934422b3' class='sc-var-data-in' type='checkbox'><label for='data-049d4ce8-6f27-4133-92af-7112934422b3' title='Show/Hide data repr'><svg class='icon sc-icon-database'><use xlink:href='#icon-database'></use></svg></label><pre class='sc-var-data'>Values:<br>array([638.29639336, 295.6588894 , 734.15927018, ..., 892.76351851,\n",
       "       898.97274953, 751.90734774])</pre></li></ul></li></ul></div></div>"
      ],
      "text/plain": [
       "<scipp.Variable> (event: 262387)    float64            [m/s]  [638.296393, 295.658889, ..., 898.972750, 751.907348]"
      ]
     },
     "execution_count": 19,
     "metadata": {},
     "output_type": "execute_result"
    }
   ],
   "source": [
    "refl.data.events.coords[\"velocity\"] = sc.to_unit(HDM / refl.data.events.coords['wavelength'], 'm/s')\n",
    "refl.data.events.coords[\"velocity\"]"
   ]
  },
  {
   "cell_type": "markdown",
   "id": "traditional-capacity",
   "metadata": {},
   "source": [
    "It is assumed that the parabolic motion does not reach a maximum before the neutron is incident on the detector. \n",
    "Therefore, the velocity in the $y$-dimension at the time of reflection can be found, \n",
    "\n",
    "$$\n",
    "v_y(0) = \\frac{y_d - y_0 - 0.5 a t_d^2}{t_d},\n",
    "$$\n",
    "\n",
    "where $y_0$ is the initial position of the neutron, $y_0 = 0$, and $a$ is the acceleration due to gravity, $a = -g = 9.80665\\;\\text{ms}^{-2}$. \n",
    "Using this, the $y$-position of the neutron can be found at any time, $t$, \n",
    "\n",
    "$$\n",
    "y(t) = y_0 + v_y(0)t + 0.5 a t^2, \n",
    "$$\n",
    "\n",
    "or any $z$-position (with $v_y(0)$ expanded), \n",
    "\n",
    "$$\n",
    "y(z) = y_0 + \\Bigg[(z - z_0) \\bigg(-\\frac{a (z_d - z_0)^2}{2v_z^2} - y_0 + y_d\\bigg)\\Bigg]\\frac{1}{z_d - z_0} + \\frac{a (z - z_0)^2}{2v_z^2}.\n",
    "$$\n",
    "\n",
    "The derivative of this with respect to $z$ can then be found, \n",
    "\n",
    "$$\n",
    "y'(z) = \\bigg(\\frac{-a(z_d-z_0)^2}{2v_z^2}-y_0 + y_d\\bigg)\\frac{1}{z_d-z_0} + \\frac{a(z-z_0)}{v_z^2}, \n",
    "$$ \n",
    "\n",
    "This can be simplied when $z=z_0$ to, \n",
    "\n",
    "$$\n",
    "y'(z_0) = \\frac{-a (z_d-z_0)}{2v_z^2} + \\frac{y_d-y_0}{z_d-z_0}.\n",
    "$$\n",
    "\n",
    "From which $\\theta$ can be found,\n",
    "\n",
    "$$\n",
    "\\theta = -\\omega + \\tan^{-1}\\bigg(\\frac{y'(z_0)z_d + y_0 - y'(z_0)z_0}{z_d}\\bigg),\n",
    "$$\n",
    "\n",
    "where, $\\omega$ is the angle of the sample relative to the laboratory horizon. \n",
    "\n",
    "We can show this in action, first by defining a function for the derivative above."
   ]
  },
  {
   "cell_type": "code",
   "execution_count": 20,
   "id": "mathematical-ownership",
   "metadata": {},
   "outputs": [],
   "source": [
    "def y_dash0(velocity, z_origin, y_origin, z_measured, y_measured):\n",
    "    \"\"\"\n",
    "    Evaluation of the first dervative of the kinematic equations for for the trajectory of a neutron reflected from a surface.\n",
    "\n",
    "    Args:\n",
    "        velocity (:py:class:`scipp._scipp.core.VariableView`): Neutron velocity.\n",
    "        z_origin (:py:class:`scipp._scipp.core.Variable`): The z-origin position for the reflected neutron.\n",
    "        y_origin (:py:class:`scipp._scipp.core.Variable`): The y-origin position for the reflected neutron.\n",
    "        z_measured (:py:class:`scipp._scipp.core.Variable`): The z-measured position for the reflected neutron.\n",
    "        y_measured (:py:class:`scipp._scipp.core.Variable`): The y-measured position for the reflected neutron.\n",
    "\n",
    "    Returns:\n",
    "        (:py:class:`scipp._scipp.core.VariableView`): The gradient of the trajectory of the neutron at the origin position.\n",
    "    \"\"\"\n",
    "    velocity2 = velocity * velocity\n",
    "    z_diff = z_measured - z_origin\n",
    "    y_diff = y_measured - y_origin\n",
    "    return -0.5 * sc.norm(G_ACC) * z_diff / velocity2 + y_diff / z_diff"
   ]
  },
  {
   "cell_type": "markdown",
   "id": "attached-boutique",
   "metadata": {},
   "source": [
    "The angle is found by evaluating the position of each pixel with respect to the sample position. "
   ]
  },
  {
   "cell_type": "code",
   "execution_count": 21,
   "id": "worse-saskatchewan",
   "metadata": {},
   "outputs": [],
   "source": [
    "y_measured = refl.data.coords['position'].fields.y\n",
    "z_measured = refl.data.coords['position'].fields.z\n",
    "y_origin = refl.data.coords['sample_position'].fields.y\n",
    "z_origin = refl.data.coords['sample_position'].fields.z"
   ]
  },
  {
   "cell_type": "markdown",
   "id": "pending-procedure",
   "metadata": {},
   "source": [
    "The gradient and hence the angle can then be found. "
   ]
  },
  {
   "cell_type": "code",
   "execution_count": 22,
   "id": "controlled-grace",
   "metadata": {},
   "outputs": [
    {
     "data": {
      "text/html": [
       "<div><!-- Original source from -->\n",
       "<!-- https://github.com/jsignell/xarray/blob/1d960933ab252e0f79f7e050e6c9261d55568057/xarray/static/html/icons-svg-inline.html -->\n",
       "<svg style=\"position: absolute; width: 0; height: 0; overflow: hidden\">\n",
       "<defs>\n",
       "<symbol id=\"icon-database\" viewBox=\"0 0 32 32\">\n",
       "<title>Show/Hide data repr</title>\n",
       "<path d=\"M16 0c-8.837 0-16 2.239-16 5v4c0 2.761 7.163 5 16 5s16-2.239 16-5v-4c0-2.761-7.163-5-16-5z\"></path>\n",
       "<path d=\"M16 17c-8.837 0-16-2.239-16-5v6c0 2.761 7.163 5 16 5s16-2.239 16-5v-6c0 2.761-7.163 5-16 5z\"></path>\n",
       "<path d=\"M16 26c-8.837 0-16-2.239-16-5v6c0 2.761 7.163 5 16 5s16-2.239 16-5v-6c0 2.761-7.163 5-16 5z\"></path>\n",
       "</symbol>\n",
       "<symbol id=\"icon-file-text2\" viewBox=\"0 0 32 32\">\n",
       "<title>Show/Hide attributes</title>\n",
       "<path d=\"M28.681 7.159c-0.694-0.947-1.662-2.053-2.724-3.116s-2.169-2.030-3.116-2.724c-1.612-1.182-2.393-1.319-2.841-1.319h-15.5c-1.378 0-2.5 1.121-2.5 2.5v27c0 1.378 1.122 2.5 2.5 2.5h23c1.378 0 2.5-1.122 2.5-2.5v-19.5c0-0.448-0.137-1.23-1.319-2.841zM24.543 5.457c0.959 0.959 1.712 1.825 2.268 2.543h-4.811v-4.811c0.718 0.556 1.584 1.309 2.543 2.268zM28 29.5c0 0.271-0.229 0.5-0.5 0.5h-23c-0.271 0-0.5-0.229-0.5-0.5v-27c0-0.271 0.229-0.5 0.5-0.5 0 0 15.499-0 15.5 0v7c0 0.552 0.448 1 1 1h7v19.5z\"></path>\n",
       "<path d=\"M23 26h-14c-0.552 0-1-0.448-1-1s0.448-1 1-1h14c0.552 0 1 0.448 1 1s-0.448 1-1 1z\"></path>\n",
       "<path d=\"M23 22h-14c-0.552 0-1-0.448-1-1s0.448-1 1-1h14c0.552 0 1 0.448 1 1s-0.448 1-1 1z\"></path>\n",
       "<path d=\"M23 18h-14c-0.552 0-1-0.448-1-1s0.448-1 1-1h14c0.552 0 1 0.448 1 1s-0.448 1-1 1z\"></path>\n",
       "</symbol>\n",
       "</defs>\n",
       "</svg><div class='sc-wrap'><div class='sc-header'><div class='sc-obj-type'>scipp.Variable (2.00 MB)</div></div><ul class='sc-sections'><li class='sc-section-item'><ul class='sc-var-list'><li class='sc-var-item'><div class='sc-standalone-var-name'><span>(event: 262387)</span></div><div class='sc-var-dtype'>float64</div><div class='sc-var-unit'>deg</div><div class='sc-value-preview sc-preview'><span><div>1.31, 1.3, ..., 0.58, 0.58</div></span></div><input id='attrs-73ecd283-e937-44c6-92dc-6e5b50c78627' class='sc-var-attrs-in' type='checkbox' disabled><label for='attrs-73ecd283-e937-44c6-92dc-6e5b50c78627' class='sc-hide-icon' title='Show/Hide attributes'><svg class='icon sc-icon-file-text2'><use xlink:href='#icon-file-text2'></use></svg></label><input id='data-dbcff335-691d-4ae3-8414-760bfa30d829' class='sc-var-data-in' type='checkbox'><label for='data-dbcff335-691d-4ae3-8414-760bfa30d829' title='Show/Hide data repr'><svg class='icon sc-icon-database'><use xlink:href='#icon-database'></use></svg></label><pre class='sc-var-data'>Values:<br>array([1.31041603, 1.3000049 , 1.31111023, ..., 0.57779028, 0.57780968,\n",
       "       0.57721263])</pre></li></ul></li></ul></div></div>"
      ],
      "text/plain": [
       "<scipp.Variable> (event: 262387)    float64            [deg]  [1.310416, 1.300005, ..., 0.577810, 0.577213]"
      ]
     },
     "execution_count": 22,
     "metadata": {},
     "output_type": "execute_result"
    }
   ],
   "source": [
    "y_dash = y_dash0(refl.data.bins.coords[\"velocity\"], z_origin, y_origin, z_measured, y_measured)\n",
    "intercept = y_origin - y_dash * z_origin\n",
    "y_true = z_measured * y_dash + intercept\n",
    "angle = sc.to_unit(sc.atan(y_true / z_measured).bins.constituents[\"data\"], 'deg')\n",
    "angle"
   ]
  },
  {
   "cell_type": "markdown",
   "id": "creative-filter",
   "metadata": {},
   "source": [
    "The value of $\\theta$ can then be found by accounting for the sample angle, $\\omega$. "
   ]
  },
  {
   "cell_type": "code",
   "execution_count": 23,
   "id": "orange-kernel",
   "metadata": {},
   "outputs": [],
   "source": [
    "omega = 0.0 * sc.units.deg\n",
    "refl.data.events.coords['theta'] = -omega + angle"
   ]
  },
  {
   "cell_type": "markdown",
   "id": "breeding-domain",
   "metadata": {},
   "source": [
    "This can be visualised similar to the wavelength and time-of-flight, or as a two-dimensional histogram of the intensity as a function of $\\lambda$/$\\theta$. "
   ]
  },
  {
   "cell_type": "code",
   "execution_count": 24,
   "id": "joint-prayer",
   "metadata": {},
   "outputs": [
    {
     "data": {
      "application/vnd.jupyter.widget-view+json": {
       "model_id": "50c0d75254df4848a67bbd92ad5c7322",
       "version_major": 2,
       "version_minor": 0
      },
      "text/plain": [
       "VBox(children=(HBox(children=(VBox(children=(Button(icon='home', layout=Layout(padding='0px 0px 0px 0px', widt…"
      ]
     },
     "metadata": {},
     "output_type": "display_data"
    }
   ],
   "source": [
    "max_w = sc.max(refl.data.events.coords['wavelength'])\n",
    "min_w = sc.min(refl.data.events.coords['wavelength'])\n",
    "bins_w = sc.Variable(values=np.linspace(min_w.value, max_w.value, 50), \n",
    "                   unit=refl.event.coords['wavelength'].unit,\n",
    "                   dims=['wavelength'])\n",
    "max_t = sc.max(refl.data.events.coords['theta'])\n",
    "min_t = sc.min(refl.data.events.coords['theta'])\n",
    "bins_t = sc.Variable(values=np.linspace(min_t.value, max_t.value, 50), \n",
    "                   unit=refl.event.coords['theta'].unit,\n",
    "                   dims=['theta'])\n",
    "sc.bin(refl.event, [bins_t, bins_w]).bins.sum().plot()"
   ]
  },
  {
   "cell_type": "markdown",
   "id": "radio-reset",
   "metadata": {},
   "source": [
    "## Determination of $q_z$-vector\n",
    "\n",
    "The $\\lambda$ and $\\theta$ can be brought together to calculate the the wavevector, $q_z$, \n",
    "\n",
    "$$\n",
    "q_z = \\frac{4\\pi \\sin{\\theta}}{\\lambda}.\n",
    "$$\n",
    "\n",
    "This is shown below. "
   ]
  },
  {
   "cell_type": "code",
   "execution_count": 25,
   "id": "accredited-scroll",
   "metadata": {},
   "outputs": [],
   "source": [
    "refl.data.events.coords['qz'] = 4. * np.pi * sc.sin(\n",
    "    refl.data.events.coords['theta']) / refl.data.events.coords['wavelength']"
   ]
  },
  {
   "cell_type": "code",
   "execution_count": 26,
   "id": "elder-filling",
   "metadata": {},
   "outputs": [
    {
     "data": {
      "text/html": [
       "<div><!-- Original source from -->\n",
       "<!-- https://github.com/jsignell/xarray/blob/1d960933ab252e0f79f7e050e6c9261d55568057/xarray/static/html/icons-svg-inline.html -->\n",
       "<svg style=\"position: absolute; width: 0; height: 0; overflow: hidden\">\n",
       "<defs>\n",
       "<symbol id=\"icon-database\" viewBox=\"0 0 32 32\">\n",
       "<title>Show/Hide data repr</title>\n",
       "<path d=\"M16 0c-8.837 0-16 2.239-16 5v4c0 2.761 7.163 5 16 5s16-2.239 16-5v-4c0-2.761-7.163-5-16-5z\"></path>\n",
       "<path d=\"M16 17c-8.837 0-16-2.239-16-5v6c0 2.761 7.163 5 16 5s16-2.239 16-5v-6c0 2.761-7.163 5-16 5z\"></path>\n",
       "<path d=\"M16 26c-8.837 0-16-2.239-16-5v6c0 2.761 7.163 5 16 5s16-2.239 16-5v-6c0 2.761-7.163 5-16 5z\"></path>\n",
       "</symbol>\n",
       "<symbol id=\"icon-file-text2\" viewBox=\"0 0 32 32\">\n",
       "<title>Show/Hide attributes</title>\n",
       "<path d=\"M28.681 7.159c-0.694-0.947-1.662-2.053-2.724-3.116s-2.169-2.030-3.116-2.724c-1.612-1.182-2.393-1.319-2.841-1.319h-15.5c-1.378 0-2.5 1.121-2.5 2.5v27c0 1.378 1.122 2.5 2.5 2.5h23c1.378 0 2.5-1.122 2.5-2.5v-19.5c0-0.448-0.137-1.23-1.319-2.841zM24.543 5.457c0.959 0.959 1.712 1.825 2.268 2.543h-4.811v-4.811c0.718 0.556 1.584 1.309 2.543 2.268zM28 29.5c0 0.271-0.229 0.5-0.5 0.5h-23c-0.271 0-0.5-0.229-0.5-0.5v-27c0-0.271 0.229-0.5 0.5-0.5 0 0 15.499-0 15.5 0v7c0 0.552 0.448 1 1 1h7v19.5z\"></path>\n",
       "<path d=\"M23 26h-14c-0.552 0-1-0.448-1-1s0.448-1 1-1h14c0.552 0 1 0.448 1 1s-0.448 1-1 1z\"></path>\n",
       "<path d=\"M23 22h-14c-0.552 0-1-0.448-1-1s0.448-1 1-1h14c0.552 0 1 0.448 1 1s-0.448 1-1 1z\"></path>\n",
       "<path d=\"M23 18h-14c-0.552 0-1-0.448-1-1s0.448-1 1-1h14c0.552 0 1 0.448 1 1s-0.448 1-1 1z\"></path>\n",
       "</symbol>\n",
       "</defs>\n",
       "</svg><div class='sc-wrap'><div class='sc-header'><div class='sc-obj-type'>scipp.DataArray (11.01 MB)</div></div><ul class='sc-sections'><li class='sc-section-item'><input id='section-d6651e9c-ffc3-49de-af41-dbb75edf35ad' class='sc-section-summary-in' type='checkbox' disabled ><label for='section-d6651e9c-ffc3-49de-af41-dbb75edf35ad' class='sc-section-summary'  title='Expand/collapse section'>Dimensions:</label><div class='sc-section-inline-details'><ul class='sc-dim-list'><li><span>event</span>: 262387</li></ul></div><div class='sc-section-details'></div></li><li class='sc-section-item'><input id='section-742c2628-5c38-48a4-a38b-feb8eef5ea84' class='sc-section-summary-in' type='checkbox'  checked><label for='section-742c2628-5c38-48a4-a38b-feb8eef5ea84' class='sc-section-summary' >Coordinates: <span>(5)</span></label><div class='sc-section-inline-details'></div><div class='sc-section-details'><ul class='sc-var-list'><li class='sc-var-item'><div class='sc-var-name'><span>detector_id</span></div><div class='sc-var-dims'>(event)</div><div class='sc-var-dtype'>int32</div><div class='sc-var-unit'></div><div class='sc-value-preview sc-preview'><span><div>10, 13, ..., 5118, 5119</div></span></div><input id='attrs-a29beb59-4124-4d13-a28a-5950e6ceebc3' class='sc-var-attrs-in' type='checkbox' disabled><label for='attrs-a29beb59-4124-4d13-a28a-5950e6ceebc3' class='sc-hide-icon' title='Show/Hide attributes'><svg class='icon sc-icon-file-text2'><use xlink:href='#icon-file-text2'></use></svg></label><input id='data-6be362f0-dcf1-41fb-9fb0-79905f5a2d7b' class='sc-var-data-in' type='checkbox'><label for='data-6be362f0-dcf1-41fb-9fb0-79905f5a2d7b' title='Show/Hide data repr'><svg class='icon sc-icon-database'><use xlink:href='#icon-database'></use></svg></label><pre class='sc-var-data'>Values:<br>array([  10,   13,   14, ..., 5118, 5118, 5119], dtype=int32)</pre></span></li><li class='sc-var-item'><div class='sc-var-name'><span>qz</span></div><div class='sc-var-dims'>(event)</div><div class='sc-var-dtype'>float64</div><div class='sc-var-unit'>1/Å</div><div class='sc-value-preview sc-preview'><span><div>0.05, 0.02, ..., 0.03, 0.02</div></span></div><input id='attrs-79742c32-5b01-431a-94fd-b5ed6a216c02' class='sc-var-attrs-in' type='checkbox' disabled><label for='attrs-79742c32-5b01-431a-94fd-b5ed6a216c02' class='sc-hide-icon' title='Show/Hide attributes'><svg class='icon sc-icon-file-text2'><use xlink:href='#icon-file-text2'></use></svg></label><input id='data-46f79b5c-55de-46a6-b00c-064b3b651408' class='sc-var-data-in' type='checkbox'><label for='data-46f79b5c-55de-46a6-b00c-064b3b651408' title='Show/Hide data repr'><svg class='icon sc-icon-database'><use xlink:href='#icon-database'></use></svg></label><pre class='sc-var-data'>Values:<br>array([0.04636828, 0.02130718, 0.05336037, ..., 0.0285974 , 0.02879726,\n",
       "       0.02406135])</pre></span></li><li class='sc-var-item'><div class='sc-var-name'><span>theta</span></div><div class='sc-var-dims'>(event)</div><div class='sc-var-dtype'>float64</div><div class='sc-var-unit'>deg</div><div class='sc-value-preview sc-preview'><span><div>1.31, 1.3, ..., 0.58, 0.58</div></span></div><input id='attrs-cb0544af-1bd2-4d6d-a89b-b93b4db8ad60' class='sc-var-attrs-in' type='checkbox' disabled><label for='attrs-cb0544af-1bd2-4d6d-a89b-b93b4db8ad60' class='sc-hide-icon' title='Show/Hide attributes'><svg class='icon sc-icon-file-text2'><use xlink:href='#icon-file-text2'></use></svg></label><input id='data-9a687b99-b1bc-4740-929e-1fa6b7c5a599' class='sc-var-data-in' type='checkbox'><label for='data-9a687b99-b1bc-4740-929e-1fa6b7c5a599' title='Show/Hide data repr'><svg class='icon sc-icon-database'><use xlink:href='#icon-database'></use></svg></label><pre class='sc-var-data'>Values:<br>array([1.31041603, 1.3000049 , 1.31111023, ..., 0.57779028, 0.57780968,\n",
       "       0.57721263])</pre></span></li><li class='sc-var-item'><div class='sc-var-name'><span>velocity</span></div><div class='sc-var-dims'>(event)</div><div class='sc-var-dtype'>float64</div><div class='sc-var-unit'>m/s</div><div class='sc-value-preview sc-preview'><span><div>638.3, 295.66, ..., 898.97, 751.91</div></span></div><input id='attrs-10889b7e-dacf-438b-b055-27a8d3fcdc5c' class='sc-var-attrs-in' type='checkbox' disabled><label for='attrs-10889b7e-dacf-438b-b055-27a8d3fcdc5c' class='sc-hide-icon' title='Show/Hide attributes'><svg class='icon sc-icon-file-text2'><use xlink:href='#icon-file-text2'></use></svg></label><input id='data-47108882-612a-4796-ab6a-84127d388186' class='sc-var-data-in' type='checkbox'><label for='data-47108882-612a-4796-ab6a-84127d388186' title='Show/Hide data repr'><svg class='icon sc-icon-database'><use xlink:href='#icon-database'></use></svg></label><pre class='sc-var-data'>Values:<br>array([638.29639336, 295.6588894 , 734.15927018, ..., 892.76351851,\n",
       "       898.97274953, 751.90734774])</pre></span></li><li class='sc-var-item'><div class='sc-var-name'><span>wavelength</span></div><div class='sc-var-dims'>(event)</div><div class='sc-var-dtype'>float64</div><div class='sc-var-unit'>Å</div><div class='sc-value-preview sc-preview'><span><div>6.2, 13.38, ..., 4.4, 5.26</div></span></div><input id='attrs-79db8070-4e94-4718-bd98-288fa553efd0' class='sc-var-attrs-in' type='checkbox' disabled><label for='attrs-79db8070-4e94-4718-bd98-288fa553efd0' class='sc-hide-icon' title='Show/Hide attributes'><svg class='icon sc-icon-file-text2'><use xlink:href='#icon-file-text2'></use></svg></label><input id='data-deb9afa1-1383-4bbc-a9e6-20c8ef7926d6' class='sc-var-data-in' type='checkbox'><label for='data-deb9afa1-1383-4bbc-a9e6-20c8ef7926d6' title='Show/Hide data repr'><svg class='icon sc-icon-database'><use xlink:href='#icon-database'></use></svg></label><pre class='sc-var-data'>Values:<br>array([ 6.19780098, 13.38039935,  5.38852286, ...,  4.43122275,\n",
       "        4.40061616,  5.26133176])</pre></span></li></ul></div></li><li class='sc-section-item'><input id='section-3ba2d861-4a0a-472c-8637-00802379b34f' class='sc-section-summary-in' type='checkbox'  checked><label for='section-3ba2d861-4a0a-472c-8637-00802379b34f' class='sc-section-summary' >Data: <span>(1)</span></label><div class='sc-section-inline-details'></div><div class='sc-section-details'><ul class='sc-var-list'><li class='sc-var-item'><div class='sc-var-name'><span></span></div><div class='sc-var-dims'>(event)</div><div class='sc-var-dtype'>float32</div><div class='sc-var-unit'></div><div class='sc-value-preview sc-preview'><span><div>1.0, 1.0, ..., 1.0, 1.0</div></span><span><div>σ² = 1.0, 1.0, ..., 1.0, 1.0</div></span></div><input id='attrs-f170ea7d-b491-4f89-80be-04e0e093d59e' class='sc-var-attrs-in' type='checkbox' disabled><label for='attrs-f170ea7d-b491-4f89-80be-04e0e093d59e' class='sc-hide-icon' title='Show/Hide attributes'><svg class='icon sc-icon-file-text2'><use xlink:href='#icon-file-text2'></use></svg></label><input id='data-74ece50d-1d65-4b6c-b05f-842933c17538' class='sc-var-data-in' type='checkbox'><label for='data-74ece50d-1d65-4b6c-b05f-842933c17538' title='Show/Hide data repr'><svg class='icon sc-icon-database'><use xlink:href='#icon-database'></use></svg></label><pre class='sc-var-data'>Values:<br>array([1., 1., 1., ..., 1., 1., 1.], dtype=float32)<br><br>Variances:<br>                       <div>array([1., 1., 1., ..., 1., 1., 1.], dtype=float32)</div></pre></li></ul></div></li></ul></div></div>"
      ],
      "text/plain": [
       "<scipp.DataArray>\n",
       "Dimensions: Sizes[event:262387, ]\n",
       "Coordinates:\n",
       "  detector_id                 int32  [dimensionless]  (event)  [10, 13, ..., 5118, 5119]\n",
       "  qz                        float64           [1/Å]  (event)  [0.046368, 0.021307, ..., 0.028797, 0.024061]\n",
       "  theta                     float64            [deg]  (event)  [1.310416, 1.300005, ..., 0.577810, 0.577213]\n",
       "  velocity                  float64            [m/s]  (event)  [638.296393, 295.658889, ..., 898.972750, 751.907348]\n",
       "  wavelength                float64             [Å]  (event)  [6.197801, 13.380399, ..., 4.400616, 5.261332]\n",
       "Data:\n",
       "                            float32  [dimensionless]  (event)  [1.000000, 1.000000, ..., 1.000000, 1.000000]  [1.000000, 1.000000, ..., 1.000000, 1.000000]\n"
      ]
     },
     "execution_count": 26,
     "metadata": {},
     "output_type": "execute_result"
    }
   ],
   "source": [
    "refl.data.events"
   ]
  },
  {
   "cell_type": "markdown",
   "id": "hollow-replacement",
   "metadata": {},
   "source": [
    "We can then investigate the intensity as a function of $q_z$."
   ]
  },
  {
   "cell_type": "code",
   "execution_count": 27,
   "id": "immune-vault",
   "metadata": {},
   "outputs": [
    {
     "data": {
      "application/vnd.jupyter.widget-view+json": {
       "model_id": "868e94e8075d4f4fb890a492d99136d4",
       "version_major": 2,
       "version_minor": 0
      },
      "text/plain": [
       "VBox(children=(HBox(children=(VBox(children=(Button(icon='home', layout=Layout(padding='0px 0px 0px 0px', widt…"
      ]
     },
     "metadata": {},
     "output_type": "display_data"
    }
   ],
   "source": [
    "max_q = 0.08 * sc.Unit('1/angstrom')\n",
    "min_q = 0.008 * sc.Unit('1/angstrom')\n",
    "bins_q = sc.Variable(values=np.linspace(min_q.value, max_q.value, 200), \n",
    "                   unit=refl.event.coords['qz'].unit,\n",
    "                   dims=['qz'])\n",
    "sc.histogram(refl.event, bins_q).plot(norm='log')"
   ]
  },
  {
   "cell_type": "markdown",
   "id": "enormous-authorization",
   "metadata": {},
   "source": [
    "## Illumination correction\n",
    "\n",
    "The above intensity as a function of $q_z$ fails to account for the difference in illumination as a function of $\\theta$. \n",
    "This is because the size of the beam which illuminates the sample decreases with increasing $\\theta$. \n",
    "\n",
    "<center>\n",
    "    <img src='beam_size.png' width=60%>\n",
    "    <i>\n",
    "        The effect of $\\theta$ on the beam size on the sample (blue line) and the resulting scale factor where the size of the sample is considered (orange line); where the beam size is 1 cm and the sample is 10 cm.\n",
    "    </i>\n",
    "</center>\n",
    "\n",
    "Using the assumption that the beam size describes the full width at half maximum of the beam, the following function can be used to determine the scale factor necessary to account for the illumination variation as a function of $\\theta$. "
   ]
  },
  {
   "cell_type": "code",
   "execution_count": 28,
   "id": "talented-gregory",
   "metadata": {},
   "outputs": [],
   "source": [
    "def illumination_correction(beam_size, sample_size, theta):\n",
    "    \"\"\"\n",
    "    The factor by which the intensity should be multiplied to account for the\n",
    "    scattering geometry, where the beam is Gaussian in shape.\n",
    "\n",
    "    Args:\n",
    "        beam_size (:py:class:`scipp._scipp.core.Variable`): Width of incident beam.\n",
    "        sample_size (:py:class:`scipp._scipp.core.Variable`): Width of sample in the dimension of the beam.\n",
    "        theta (:py:class:`scipp._scipp.core.Variable`): Incident angle.\n",
    "\n",
    "    Returns:\n",
    "        (:py:class:`scipp._scipp.core.Variable`): Correction factor.\n",
    "    \"\"\"\n",
    "    beam_on_sample = beam_size / sc.sin(theta)\n",
    "    fwhm_to_std = 2 * np.sqrt(2 * np.log(2))\n",
    "    scale_factor = erf((sample_size / beam_on_sample * fwhm_to_std).values)\n",
    "    return sc.Variable(values=scale_factor, dims=theta.dims)"
   ]
  },
  {
   "cell_type": "markdown",
   "id": "scheduled-dispatch",
   "metadata": {},
   "source": [
    "This illumination correction scale factor is applied to each event as follows."
   ]
  },
  {
   "cell_type": "code",
   "execution_count": 29,
   "id": "intimate-darkness",
   "metadata": {},
   "outputs": [],
   "source": [
    "refl.data.events.data /= illumination_correction(\n",
    "    1 * sc.Unit('mm'), 10 * sc.Unit('mm'), refl.data.events.coords['theta'])"
   ]
  },
  {
   "cell_type": "code",
   "execution_count": 30,
   "id": "weird-western",
   "metadata": {},
   "outputs": [
    {
     "data": {
      "text/html": [
       "<div><!-- Original source from -->\n",
       "<!-- https://github.com/jsignell/xarray/blob/1d960933ab252e0f79f7e050e6c9261d55568057/xarray/static/html/icons-svg-inline.html -->\n",
       "<svg style=\"position: absolute; width: 0; height: 0; overflow: hidden\">\n",
       "<defs>\n",
       "<symbol id=\"icon-database\" viewBox=\"0 0 32 32\">\n",
       "<title>Show/Hide data repr</title>\n",
       "<path d=\"M16 0c-8.837 0-16 2.239-16 5v4c0 2.761 7.163 5 16 5s16-2.239 16-5v-4c0-2.761-7.163-5-16-5z\"></path>\n",
       "<path d=\"M16 17c-8.837 0-16-2.239-16-5v6c0 2.761 7.163 5 16 5s16-2.239 16-5v-6c0 2.761-7.163 5-16 5z\"></path>\n",
       "<path d=\"M16 26c-8.837 0-16-2.239-16-5v6c0 2.761 7.163 5 16 5s16-2.239 16-5v-6c0 2.761-7.163 5-16 5z\"></path>\n",
       "</symbol>\n",
       "<symbol id=\"icon-file-text2\" viewBox=\"0 0 32 32\">\n",
       "<title>Show/Hide attributes</title>\n",
       "<path d=\"M28.681 7.159c-0.694-0.947-1.662-2.053-2.724-3.116s-2.169-2.030-3.116-2.724c-1.612-1.182-2.393-1.319-2.841-1.319h-15.5c-1.378 0-2.5 1.121-2.5 2.5v27c0 1.378 1.122 2.5 2.5 2.5h23c1.378 0 2.5-1.122 2.5-2.5v-19.5c0-0.448-0.137-1.23-1.319-2.841zM24.543 5.457c0.959 0.959 1.712 1.825 2.268 2.543h-4.811v-4.811c0.718 0.556 1.584 1.309 2.543 2.268zM28 29.5c0 0.271-0.229 0.5-0.5 0.5h-23c-0.271 0-0.5-0.229-0.5-0.5v-27c0-0.271 0.229-0.5 0.5-0.5 0 0 15.499-0 15.5 0v7c0 0.552 0.448 1 1 1h7v19.5z\"></path>\n",
       "<path d=\"M23 26h-14c-0.552 0-1-0.448-1-1s0.448-1 1-1h14c0.552 0 1 0.448 1 1s-0.448 1-1 1z\"></path>\n",
       "<path d=\"M23 22h-14c-0.552 0-1-0.448-1-1s0.448-1 1-1h14c0.552 0 1 0.448 1 1s-0.448 1-1 1z\"></path>\n",
       "<path d=\"M23 18h-14c-0.552 0-1-0.448-1-1s0.448-1 1-1h14c0.552 0 1 0.448 1 1s-0.448 1-1 1z\"></path>\n",
       "</symbol>\n",
       "</defs>\n",
       "</svg><div class='sc-wrap'><div class='sc-header'><div class='sc-obj-type'>scipp.Variable (2.00 MB)</div></div><ul class='sc-sections'><li class='sc-section-item'><ul class='sc-var-list'><li class='sc-var-item'><div class='sc-standalone-var-name'><span>(event: 262387)</span></div><div class='sc-var-dtype'>float32</div><div class='sc-var-unit'></div><div class='sc-value-preview sc-preview'><span><div>1.81, 1.82, ..., 3.8, 3.81</div></span><span><div>σ² = 3.26, 3.3, ..., 14.46, 14.49</div></span></div><input id='attrs-869c248f-4077-4a83-bd2e-4c54a25cd595' class='sc-var-attrs-in' type='checkbox' disabled><label for='attrs-869c248f-4077-4a83-bd2e-4c54a25cd595' class='sc-hide-icon' title='Show/Hide attributes'><svg class='icon sc-icon-file-text2'><use xlink:href='#icon-file-text2'></use></svg></label><input id='data-1f206165-d0b1-490c-80d6-a042a0180e82' class='sc-var-data-in' type='checkbox'><label for='data-1f206165-d0b1-490c-80d6-a042a0180e82' title='Show/Hide data repr'><svg class='icon sc-icon-database'><use xlink:href='#icon-database'></use></svg></label><pre class='sc-var-data'>Values:<br>array([1.806047 , 1.8179328, 1.8052619, ..., 3.802323 , 3.8022   ,\n",
       "       3.8059871], dtype=float32)<br><br>Variances:<br>                       <div>array([1.806047 , 1.8179328, 1.8052619, ..., 3.802323 , 3.8022   ,\n",
       "       3.8059871], dtype=float32)</div></pre></li></ul></li></ul></div></div>"
      ],
      "text/plain": [
       "<scipp.Variable> (event: 262387)    float32  [dimensionless]  [1.806047, 1.817933, ..., 3.802200, 3.805987]  [3.261806, 3.304880, ..., 14.456725, 14.485538]"
      ]
     },
     "execution_count": 30,
     "metadata": {},
     "output_type": "execute_result"
    }
   ],
   "source": [
    "refl.data.events.data"
   ]
  },
  {
   "cell_type": "markdown",
   "id": "elegant-nursery",
   "metadata": {},
   "source": [
    "We can then show the reflected intensity as a function of $q_z$ as shown below."
   ]
  },
  {
   "cell_type": "code",
   "execution_count": 31,
   "id": "paperback-football",
   "metadata": {},
   "outputs": [
    {
     "data": {
      "application/vnd.jupyter.widget-view+json": {
       "model_id": "49c69e4095c04795a288e2e03ad483f7",
       "version_major": 2,
       "version_minor": 0
      },
      "text/plain": [
       "VBox(children=(HBox(children=(VBox(children=(Button(icon='home', layout=Layout(padding='0px 0px 0px 0px', widt…"
      ]
     },
     "metadata": {},
     "output_type": "display_data"
    }
   ],
   "source": [
    "max_q = 0.08 * sc.Unit('1/angstrom')\n",
    "min_q = 0.008 * sc.Unit('1/angstrom')\n",
    "bins_q = sc.Variable(values=np.linspace(min_q.value, max_q.value, 200), \n",
    "                   unit=refl.event.coords['qz'].unit,\n",
    "                   dims=['qz'])\n",
    "sc.histogram(refl.event, bins_q).plot(norm='log')"
   ]
  },
  {
   "cell_type": "markdown",
   "id": "configured-trouble",
   "metadata": {},
   "source": [
    "# Resolution functions\n",
    "\n",
    "The resolution function at Amor consists of three components:\n",
    "\n",
    "- $\\sigma \\lambda/\\lambda$: this is due to the double-blind chopper and depends on the distance between the two choppers, $d_{CC}$, and the distance from the second chopper to the detector $d_{CD}$, \n",
    "\n",
    "$$\n",
    "\\frac{\\sigma \\lambda}{\\lambda} = \\frac{d_{CC}}{2d_{CD}\\sqrt{2\\ln2}}.\n",
    "$$"
   ]
  },
  {
   "cell_type": "code",
   "execution_count": 32,
   "id": "abandoned-education",
   "metadata": {},
   "outputs": [],
   "source": [
    "chopper_chopper_distance=0.49 * sc.units.m\n",
    "refl.data.attrs[\"sigma_lambda_by_lambda\"] = chopper_chopper_distance / (\n",
    "    refl.data.coords[\"position\"].fields.z - refl.data.coords[\"source_position\"].fields.z)\n",
    "refl.data.attrs[\"sigma_lambda_by_lambda\"] /= 2 * np.sqrt(2 * np.log(2))"
   ]
  },
  {
   "cell_type": "markdown",
   "id": "bb4141c3",
   "metadata": {},
   "source": [
    "- $\\sigma \\gamma/\\theta$: this is to account for the spatial resolution of the detector pixels, which have a FWHM of $\\Delta z \\approx 2.5\\;\\text{mm}$ and the sample to detector distance, $d_{SD}$, \n",
    "\n",
    "$$\n",
    "\\frac{\\sigma \\gamma}{\\theta} = \\frac{1}{2\\theta\\sqrt{2\\ln2}}\\arctan{\\frac{\\Delta z}{d_{SD}}}.\n",
    "$$"
   ]
  },
  {
   "cell_type": "code",
   "execution_count": 33,
   "id": "d4197ed8",
   "metadata": {},
   "outputs": [],
   "source": [
    "spatial_resolution = 0.0025 * sc.units.m\n",
    "fwhm = sc.to_unit(\n",
    "    sc.atan(\n",
    "        spatial_resolution / (\n",
    "                refl.data.coords[\"position\"].fields.z - \n",
    "                refl.data.coords[\"source_position\"].fields.z)),\"deg\",)\n",
    "sigma_gamma = fwhm / (2 * np.sqrt(2 * np.log(2)))\n",
    "refl.data.attrs[\"sigma_gamma_by_theta\"] = sigma_gamma / refl.data.bins.coords['theta']"
   ]
  },
  {
   "cell_type": "markdown",
   "id": "ab315161",
   "metadata": {},
   "source": [
    "- $\\sigma \\theta/\\theta$: finally, this accounts for the width of the beam on the sample or the size of the sample (which ever is smaller), the FWHM is the range of possible $\\theta$-values, accounting for the gravity correction discussed above and the sample/beam geometry,\n",
    "\n",
    "$$\n",
    "\\frac{\\sigma\\theta}{\\theta} = \\frac{1}{2\\sqrt{2\\ln2}}\\frac{\\theta_{\\text{max}} - \\theta_{\\text{min}}}{\\theta_{\\text{mid}}}\n",
    "$$"
   ]
  },
  {
   "cell_type": "code",
   "execution_count": 34,
   "id": "centered-eligibility",
   "metadata": {},
   "outputs": [],
   "source": [
    "beam_size = 0.001 * sc.units.m\n",
    "sample_size = 0.5 * sc.units.m\n",
    "beam_on_sample = beam_size / sc.sin(refl.data.bins.coords['theta'])\n",
    "half_beam_on_sample = (beam_on_sample / 2.0)\n",
    "offset_positive = sc.geometry.position(\n",
    "    refl.data.coords[\"sample_position\"].fields.x, \n",
    "    refl.data.coords[\"sample_position\"].fields.y, \n",
    "    refl.data.coords[\"sample_position\"].fields.z + half_beam_on_sample)\n",
    "offset_negative = sc.geometry.position(\n",
    "    refl.data.coords[\"sample_position\"].fields.x, \n",
    "    refl.data.coords[\"sample_position\"].fields.y, \n",
    "    refl.data.coords[\"sample_position\"].fields.z - half_beam_on_sample)\n",
    "y_measured = refl.data.coords[\"position\"].fields.y\n",
    "z_measured = refl.data.coords[\"position\"].fields.z\n",
    "z_origin = offset_positive.fields.z\n",
    "y_origin = offset_positive.fields.y\n",
    "y_dash = y_dash0(refl.data.bins.coords[\"velocity\"], z_origin, y_origin, z_measured, y_measured)\n",
    "intercept = y_origin - y_dash * z_origin\n",
    "y_true = z_measured * y_dash + intercept\n",
    "angle_max = sc.to_unit(sc.atan(y_true / z_measured), 'deg')\n",
    "z_origin = offset_negative.fields.z\n",
    "y_origin = offset_negative.fields.y\n",
    "y_dash = y_dash0(refl.data.bins.coords[\"velocity\"], z_origin, y_origin, z_measured, y_measured)\n",
    "intercept = y_origin - y_dash * z_origin\n",
    "y_true = z_measured * y_dash + intercept\n",
    "angle_min = sc.to_unit(sc.atan(y_true / z_measured), 'deg')\n",
    "fwhm_to_std = 2 * np.sqrt(2 * np.log(2))\n",
    "sigma_theta_position = (angle_max - angle_min) / fwhm_to_std\n",
    "refl.data.attrs[\"sigma_theta_by_theta\"] = sigma_theta_position / refl.data.bins.coords['theta']"
   ]
  },
  {
   "cell_type": "markdown",
   "id": "f317df7a",
   "metadata": {},
   "source": [
    "These three contributors to the resolution function are combined to give the total resolution function, \n",
    "\n",
    "$$\n",
    "\\frac{\\sigma q_z}{q_z} = \\sqrt{\\bigg(\\frac{\\sigma\\lambda}{\\lambda}\\bigg)^2+\\bigg(\\frac{\\sigma\\gamma}{\\theta}\\bigg)^2+\\bigg(\\frac{\\sigma\\theta}{\\theta}\\bigg)^2}\n",
    "$$"
   ]
  },
  {
   "cell_type": "code",
   "execution_count": 35,
   "id": "f88b4445",
   "metadata": {},
   "outputs": [],
   "source": [
    "refl.data.events.attrs['sigma_q_by_q'] = sc.sqrt(\n",
    "    refl.data.attrs['sigma_lambda_by_lambda'] * refl.data.attrs['sigma_lambda_by_lambda']\n",
    "    + refl.data.attrs['sigma_gamma_by_theta'] * refl.data.attrs['sigma_gamma_by_theta']\n",
    "    + refl.data.attrs[\"sigma_theta_by_theta\"] * refl.data.attrs[\"sigma_theta_by_theta\"]).bins.constituents['data']"
   ]
  },
  {
   "cell_type": "markdown",
   "id": "b516044b",
   "metadata": {},
   "source": [
    "## Normalisation\n",
    "\n",
    "The above steps are performed both on the sample of interest and a reference supermirror, using the `AmorData` class, thus enabling normalisation to be achieved. "
   ]
  },
  {
   "cell_type": "code",
   "execution_count": 36,
   "id": "8cb7ea86",
   "metadata": {
    "scrolled": true
   },
   "outputs": [
    {
     "name": "stderr",
     "output_type": "stream",
     "text": [
      "/Users/andrewmccluskey/anaconda3/envs/scippneutron/lib/python3.8/scippneutron/file_loading/_log_data.py:20: UserWarning: Skipped loading /entry/stages/com due to:\n",
      "NXlog 'com' has time and value datasets of different shapes\n",
      "  warn(f\"Skipped loading {group.path} due to:\\n{e}\")\n",
      "/Users/andrewmccluskey/anaconda3/envs/scippneutron/lib/python3.8/scippneutron/file_loading/_log_data.py:20: UserWarning: Skipped loading /entry/stages/coz due to:\n",
      "NXlog 'coz' has time and value datasets of different shapes\n",
      "  warn(f\"Skipped loading {group.path} due to:\\n{e}\")\n",
      "/Users/andrewmccluskey/anaconda3/envs/scippneutron/lib/python3.8/scippneutron/file_loading/_log_data.py:20: UserWarning: Skipped loading /entry/stages/diaphragms/middle focus/slot due to:\n",
      "NXlog 'slot' has an empty value dataset\n",
      "  warn(f\"Skipped loading {group.path} due to:\\n{e}\")\n",
      "/Users/andrewmccluskey/anaconda3/envs/scippneutron/lib/python3.8/scippneutron/file_loading/_log_data.py:20: UserWarning: Skipped loading /entry/stages/diaphragms/virtual source/horizontal due to:\n",
      "NXlog 'horizontal' has an empty value dataset\n",
      "  warn(f\"Skipped loading {group.path} due to:\\n{e}\")\n",
      "/Users/andrewmccluskey/anaconda3/envs/scippneutron/lib/python3.8/scippneutron/file_loading/_log_data.py:20: UserWarning: Skipped loading /entry/stages/diaphragms/virtual source/vertical due to:\n",
      "NXlog 'vertical' has an empty value dataset\n",
      "  warn(f\"Skipped loading {group.path} due to:\\n{e}\")\n",
      "/Users/andrewmccluskey/anaconda3/envs/scippneutron/lib/python3.8/scippneutron/file_loading/_log_data.py:20: UserWarning: Skipped loading /entry/stages/som due to:\n",
      "NXlog 'som' has time and value datasets of different shapes\n",
      "  warn(f\"Skipped loading {group.path} due to:\\n{e}\")\n",
      "/Users/andrewmccluskey/anaconda3/envs/scippneutron/lib/python3.8/scippneutron/file_loading/_log_data.py:20: UserWarning: Skipped loading /entry/stages/soz due to:\n",
      "NXlog 'soz' has time and value datasets of different shapes\n",
      "  warn(f\"Skipped loading {group.path} due to:\\n{e}\")\n"
     ]
    }
   ],
   "source": [
    "sample = AmorData(data_file)\n",
    "reference = AmorData(reference_file)"
   ]
  },
  {
   "cell_type": "markdown",
   "id": "869c7847",
   "metadata": {},
   "source": [
    "These result in the plots shown below."
   ]
  },
  {
   "cell_type": "code",
   "execution_count": 37,
   "id": "a52bca26",
   "metadata": {},
   "outputs": [
    {
     "data": {
      "application/vnd.jupyter.widget-view+json": {
       "model_id": "0df2ed843ac94ad09129900a11d000ba",
       "version_major": 2,
       "version_minor": 0
      },
      "text/plain": [
       "VBox(children=(HBox(children=(VBox(children=(Button(icon='home', layout=Layout(padding='0px 0px 0px 0px', widt…"
      ]
     },
     "metadata": {},
     "output_type": "display_data"
    }
   ],
   "source": [
    "sc.histogram(sample.data.events, bins_q).plot(norm='log')"
   ]
  },
  {
   "cell_type": "code",
   "execution_count": 38,
   "id": "32cd7add",
   "metadata": {},
   "outputs": [
    {
     "data": {
      "application/vnd.jupyter.widget-view+json": {
       "model_id": "cd3496dac313413595c1226bbce2f9dc",
       "version_major": 2,
       "version_minor": 0
      },
      "text/plain": [
       "VBox(children=(HBox(children=(VBox(children=(Button(icon='home', layout=Layout(padding='0px 0px 0px 0px', widt…"
      ]
     },
     "metadata": {},
     "output_type": "display_data"
    }
   ],
   "source": [
    "sc.histogram(reference.data.events, bins_q).plot(norm='log')"
   ]
  },
  {
   "cell_type": "markdown",
   "id": "6599f4ac",
   "metadata": {},
   "source": [
    "The specification of the supermirror defines the normalisation that is used for it. "
   ]
  },
  {
   "cell_type": "code",
   "execution_count": 39,
   "id": "d089302c",
   "metadata": {},
   "outputs": [],
   "source": [
    "m_value = 5\n",
    "supermirror_critical_edge = (0.022) * sc.Unit('1/angstrom')\n",
    "supermirror_max_q = m_value * supermirror_critical_edge\n",
    "supermirror_alpha = 0.25 / 0.088\n",
    "normalisation = sc.ones(dims=['event'], shape=reference.data.events.data.shape)"
   ]
  },
  {
   "cell_type": "markdown",
   "id": "b648c0a2",
   "metadata": {},
   "source": [
    "The data array is first masked at values greater than the upper limit of the supermirror. "
   ]
  },
  {
   "cell_type": "code",
   "execution_count": 40,
   "id": "c46e1c7e",
   "metadata": {},
   "outputs": [],
   "source": [
    "reference.data.events.masks['normalisation'] = reference.data.events.coords['qz'] >= supermirror_max_q"
   ]
  },
  {
   "cell_type": "markdown",
   "id": "241ab30c",
   "metadata": {},
   "source": [
    "The value of the $q$-dependent normalisation, $n(q)$, is then defined as such that $n(q)=1$ for values of $q$ less then the critical edge of the supermirror and for values between this and the supermirror maximum the normalisation is, \n",
    "\n",
    "$$ n(q) = \\frac{1}{1 - \\alpha(q - c_{\\text{sm}})}. $$"
   ]
  },
  {
   "cell_type": "code",
   "execution_count": 41,
   "id": "8aaa04f7",
   "metadata": {},
   "outputs": [],
   "source": [
    "normalisation.values[reference.data.events.coords['qz'].values < supermirror_max_q.value] = 1 / (\n",
    "    1.0 - (supermirror_alpha) * (\n",
    "        reference.data.events.coords['qz'].values[\n",
    "            reference.data.events.coords['qz'].values < supermirror_max_q.value] - supermirror_critical_edge.value))\n",
    "normalisation.values[reference.data.events.coords['qz'].values <supermirror_critical_edge.value] = 1"
   ]
  },
  {
   "cell_type": "markdown",
   "id": "701ecc62",
   "metadata": {},
   "source": [
    "Applying this normalisation to the reference measurement data will return the neutron intensity as a function of $q$. "
   ]
  },
  {
   "cell_type": "code",
   "execution_count": 42,
   "id": "a6e0f281",
   "metadata": {},
   "outputs": [],
   "source": [
    "reference.data.bins.constituents['data'].data = reference.data.events.data / normalisation.astype(sc.dtype.float32)"
   ]
  },
  {
   "cell_type": "code",
   "execution_count": 43,
   "id": "b1c1a9fe",
   "metadata": {},
   "outputs": [
    {
     "data": {
      "application/vnd.jupyter.widget-view+json": {
       "model_id": "9a8957f314554c8db96f16a35b99a0df",
       "version_major": 2,
       "version_minor": 0
      },
      "text/plain": [
       "VBox(children=(HBox(children=(VBox(children=(Button(icon='home', layout=Layout(padding='0px 0px 0px 0px', widt…"
      ]
     },
     "metadata": {},
     "output_type": "display_data"
    }
   ],
   "source": [
    "sc.histogram(reference.data.events, bins_q).plot(norm='log')"
   ]
  },
  {
   "cell_type": "markdown",
   "id": "93efc286",
   "metadata": {},
   "source": [
    "Binning this normalised description on the neutron intensity and the sample measurement in the same $q$-values allows the normalisation to be applied to the sample (note that scaling between these to measurements to account for counting time may be necessary). "
   ]
  },
  {
   "cell_type": "code",
   "execution_count": 44,
   "id": "8bbc6609",
   "metadata": {},
   "outputs": [],
   "source": [
    "binned_sample = sc.histogram(sample.data.events, bins_q)\n",
    "binned_reference = sc.histogram(reference.data.events, bins_q)"
   ]
  },
  {
   "cell_type": "code",
   "execution_count": 45,
   "id": "b59b4d33",
   "metadata": {},
   "outputs": [],
   "source": [
    "normalised_sample = binned_sample / binned_reference"
   ]
  },
  {
   "cell_type": "code",
   "execution_count": 46,
   "id": "fa4e8e22",
   "metadata": {},
   "outputs": [
    {
     "data": {
      "application/vnd.jupyter.widget-view+json": {
       "model_id": "26636b7570284f448b9a62acf29f9a14",
       "version_major": 2,
       "version_minor": 0
      },
      "text/plain": [
       "VBox(children=(HBox(children=(VBox(children=(Button(icon='home', layout=Layout(padding='0px 0px 0px 0px', widt…"
      ]
     },
     "metadata": {},
     "output_type": "display_data"
    }
   ],
   "source": [
    "normalised_sample.plot(norm='log')"
   ]
  },
  {
   "cell_type": "markdown",
   "id": "16440e60",
   "metadata": {},
   "source": []
  }
 ],
 "metadata": {
  "kernelspec": {
   "display_name": "Python 3",
   "language": "python",
   "name": "python3"
  },
  "language_info": {
   "codemirror_mode": {
    "name": "ipython",
    "version": 3
   },
   "file_extension": ".py",
   "mimetype": "text/x-python",
   "name": "python",
   "nbconvert_exporter": "python",
   "pygments_lexer": "ipython3",
   "version": "3.8.10"
  }
 },
 "nbformat": 4,
 "nbformat_minor": 5
}
