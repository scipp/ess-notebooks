{
 "cells": [
  {
   "cell_type": "markdown",
   "id": "enhanced-issue",
   "metadata": {},
   "source": [
    "# Amor Reduction\n",
    "\n",
    "## How to start:\n",
    "\n",
    "Before starting you must:\n",
    "- Have conda installed\n",
    "- conda env create -f ess-notebooks-latest.yml python=3.7 . The yaml environment file is part of this repository.\n",
    "\n",
    "## What will this notebook show?\n",
    "\n",
    "The notebook will show how to use the `ess.amor.AmorData`, `ess.amor.AmorReference` and `ess.amor.Normalisation` classes for the reduction of data collected at the Amor instrument at PSI. \n",
    "To achieve this, we will reduce the following data files, [sample.nxs](./sample.nxs) and [reference.nxs](./references.nxs), and then normalise the sample data (with respect to the reference data). \n",
    "\n",
    "## Reduction\n",
    "\n",
    "Before, we begin, we should import then necessary modules. "
   ]
  },
  {
   "cell_type": "code",
   "execution_count": 3,
   "id": "virgin-intake",
   "metadata": {},
   "outputs": [
    {
     "ename": "ModuleNotFoundError",
     "evalue": "No module named 'dataconfig'",
     "output_type": "error",
     "traceback": [
      "\u001b[0;31m---------------------------------------------------------------------------\u001b[0m",
      "\u001b[0;31mModuleNotFoundError\u001b[0m                       Traceback (most recent call last)",
      "\u001b[0;32m<ipython-input-3-7251d89ea302>\u001b[0m in \u001b[0;36m<module>\u001b[0;34m\u001b[0m\n\u001b[0;32m----> 1\u001b[0;31m \u001b[0;32mimport\u001b[0m \u001b[0mdataconfig\u001b[0m\u001b[0;34m\u001b[0m\u001b[0;34m\u001b[0m\u001b[0m\n\u001b[0m\u001b[1;32m      2\u001b[0m \u001b[0;32mimport\u001b[0m \u001b[0mnumpy\u001b[0m \u001b[0;32mas\u001b[0m \u001b[0mnp\u001b[0m\u001b[0;34m\u001b[0m\u001b[0;34m\u001b[0m\u001b[0m\n\u001b[1;32m      3\u001b[0m \u001b[0;32mimport\u001b[0m \u001b[0mscipp\u001b[0m \u001b[0;32mas\u001b[0m \u001b[0msc\u001b[0m\u001b[0;34m\u001b[0m\u001b[0;34m\u001b[0m\u001b[0m\n\u001b[1;32m      4\u001b[0m \u001b[0;32mimport\u001b[0m \u001b[0mscippneutron\u001b[0m \u001b[0;32mas\u001b[0m \u001b[0mscn\u001b[0m\u001b[0;34m\u001b[0m\u001b[0;34m\u001b[0m\u001b[0m\n\u001b[1;32m      5\u001b[0m \u001b[0;32mfrom\u001b[0m \u001b[0mess\u001b[0m\u001b[0;34m.\u001b[0m\u001b[0mamor\u001b[0m \u001b[0;32mimport\u001b[0m \u001b[0mAmorData\u001b[0m\u001b[0;34m,\u001b[0m \u001b[0mAmorReference\u001b[0m\u001b[0;34m,\u001b[0m \u001b[0mNormalisation\u001b[0m\u001b[0;34m\u001b[0m\u001b[0;34m\u001b[0m\u001b[0m\n",
      "\u001b[0;31mModuleNotFoundError\u001b[0m: No module named 'dataconfig'"
     ]
    }
   ],
   "source": [
    "import os\n",
    "import dataconfig\n",
    "import numpy as np\n",
    "import scipp as sc\n",
    "import scippneutron as scn\n",
    "from ess.amor import AmorData, AmorReference, Normalisation"
   ]
  },
  {
   "cell_type": "markdown",
   "id": "assured-emergency",
   "metadata": {},
   "source": [
    "We can then define some information about the reduction, for inclusion in the final `.ort` file."
   ]
  },
  {
   "cell_type": "code",
   "execution_count": 4,
   "id": "hollywood-absolute",
   "metadata": {},
   "outputs": [],
   "source": [
    "name = 'Andrew McCluskey/andrew.mccluskey@ess.eu'\n",
    "affiliation = 'European Spallation Source'\n",
    "data_owner = 'Jochen Stahn, PSI'\n",
    "experiment_id = 'test_0001'\n",
    "experiment_date = '2020-06-21'\n",
    "sample_description = 'Ni-Ti Multilayer'\n",
    "notebook_file = 'amor_reduction.ipynb'"
   ]
  },
  {
   "cell_type": "markdown",
   "id": "1321f6e1",
   "metadata": {},
   "source": [
    "The below cell enables the data to be pulled from the [`ess-notebook-data`](https://github.com/scipp/ess-notebooks-data) for the online documentation. \n",
    "For local data `data_file` should be changed to the path to the experimental file and `reference_file` to that for the reference supermirror dataset. "
   ]
  },
  {
   "cell_type": "code",
   "execution_count": null,
   "id": "2f2ba06b",
   "metadata": {},
   "outputs": [],
   "source": [
    "local_data_path = os.path.join('ess', 'amor')\n",
    "data_dir = os.path.join(dataconfig.data_root, local_data_path)\n",
    "data_file = os.path.join(data_dir, 'sample.nxs')\n",
    "reference_file = os.path.join(data_dir, 'reference.nxs')"
   ]
  },
  {
   "cell_type": "markdown",
   "id": "operational-scotland",
   "metadata": {},
   "source": [
    "The `AmorData` class will take the loaded NeXus file or the NeXus file itself and perform the reduction steps to obtain the reflected intensity as a function of $q_z$, including accounting for aspects such as gravity. \n",
    "The `sample_angle_offset` allows the angular offset of the sample with respect to the horizon to be accounted for."
   ]
  },
  {
   "cell_type": "code",
   "execution_count": 3,
   "id": "separate-alexandria",
   "metadata": {
    "scrolled": false
   },
   "outputs": [
    {
     "name": "stderr",
     "output_type": "stream",
     "text": [
      "/Users/andrewmccluskey/anaconda3/envs/scippneutron/lib/python3.7/scippneutron/_loading_log_data.py:20: UserWarning: Skipped loading /entry/stages/com due to:\n",
      "NXlog at /entry/stages/com has value dataset with more than 1 dimension, handling this is not yet implemented\n",
      "  warn(f\"Skipped loading {group.name} due to:\\n{e}\")\n",
      "/Users/andrewmccluskey/anaconda3/envs/scippneutron/lib/python3.7/scippneutron/_loading_log_data.py:20: UserWarning: Skipped loading /entry/stages/coz due to:\n",
      "NXlog at /entry/stages/coz has value dataset with more than 1 dimension, handling this is not yet implemented\n",
      "  warn(f\"Skipped loading {group.name} due to:\\n{e}\")\n",
      "/Users/andrewmccluskey/anaconda3/envs/scippneutron/lib/python3.7/scippneutron/_loading_log_data.py:20: UserWarning: Skipped loading /entry/stages/diaphragms/middle focus/slot due to:\n",
      "NXlog at /entry/stages/diaphragms/middle focus/slot has an empty value dataset\n",
      "  warn(f\"Skipped loading {group.name} due to:\\n{e}\")\n",
      "/Users/andrewmccluskey/anaconda3/envs/scippneutron/lib/python3.7/scippneutron/_loading_log_data.py:20: UserWarning: Skipped loading /entry/stages/diaphragms/virtual source/horizontal due to:\n",
      "NXlog at /entry/stages/diaphragms/virtual source/horizontal has an empty value dataset\n",
      "  warn(f\"Skipped loading {group.name} due to:\\n{e}\")\n",
      "/Users/andrewmccluskey/anaconda3/envs/scippneutron/lib/python3.7/scippneutron/_loading_log_data.py:20: UserWarning: Skipped loading /entry/stages/diaphragms/virtual source/vertical due to:\n",
      "NXlog at /entry/stages/diaphragms/virtual source/vertical has an empty value dataset\n",
      "  warn(f\"Skipped loading {group.name} due to:\\n{e}\")\n",
      "/Users/andrewmccluskey/anaconda3/envs/scippneutron/lib/python3.7/scippneutron/_loading_log_data.py:20: UserWarning: Skipped loading /entry/stages/som due to:\n",
      "NXlog at /entry/stages/som has value dataset with more than 1 dimension, handling this is not yet implemented\n",
      "  warn(f\"Skipped loading {group.name} due to:\\n{e}\")\n",
      "/Users/andrewmccluskey/anaconda3/envs/scippneutron/lib/python3.7/scippneutron/_loading_log_data.py:20: UserWarning: Skipped loading /entry/stages/soz due to:\n",
      "NXlog at /entry/stages/soz has value dataset with more than 1 dimension, handling this is not yet implemented\n",
      "  warn(f\"Skipped loading {group.name} due to:\\n{e}\")\n"
     ]
    }
   ],
   "source": [
    "sample = AmorData(data_file, \n",
    "                  reduction_creator=name, \n",
    "                  data_owner=data_owner, \n",
    "                  experiment_id=experiment_id, \n",
    "                  experiment_date=experiment_date, \n",
    "                  sample_description=sample_description, \n",
    "                  reduction_file=notebook_file, \n",
    "                  reduction_creator_affiliation=affiliation,\n",
    "                  sample_angle_offset=0.04 * sc.units.deg, \n",
    "                  sample_size=0.1*sc.units.m)"
   ]
  },
  {
   "cell_type": "markdown",
   "id": "naval-landscape",
   "metadata": {},
   "source": [
    "Some detector and wavelength masking can then be performed."
   ]
  },
  {
   "cell_type": "code",
   "execution_count": 4,
   "id": "embedded-birmingham",
   "metadata": {},
   "outputs": [],
   "source": [
    "sample.detector_masking(y_min=0 * sc.units.m, y_max=100e-3 * sc.units.m)\n",
    "sample.wavelength_masking()"
   ]
  },
  {
   "cell_type": "markdown",
   "id": "adjacent-layout",
   "metadata": {},
   "source": [
    "The `AmorReference` class reads the reference supermirror measurement, and will perform the necessary corrections.\n",
    "For this measurement, no angular offset is required. \n",
    "Again, detector and wavelength masking is performed."
   ]
  },
  {
   "cell_type": "code",
   "execution_count": 5,
   "id": "proud-silly",
   "metadata": {},
   "outputs": [],
   "source": [
    "reference = AmorReference(reference_file)\n",
    "reference.detector_masking(y_min=0 * sc.units.m, y_max=100e-3 * sc.units.m)\n",
    "reference.wavelength_masking()"
   ]
  },
  {
   "cell_type": "markdown",
   "id": "substantial-doubt",
   "metadata": {},
   "source": [
    "For the normalisation of the sample, we use the `Normalisation` class."
   ]
  },
  {
   "cell_type": "code",
   "execution_count": 6,
   "id": "close-mouth",
   "metadata": {},
   "outputs": [],
   "source": [
    "norm = Normalisation(sample, reference)"
   ]
  },
  {
   "cell_type": "markdown",
   "id": "broke-olympus",
   "metadata": {},
   "source": [
    "With this object, there is the choice to bin in the $\\lambda$/$\\theta$-space or the $q_z$-space. "
   ]
  },
  {
   "cell_type": "code",
   "execution_count": 7,
   "id": "textile-moscow",
   "metadata": {},
   "outputs": [],
   "source": [
    "bins = (np.linspace(2.5, 15, 50), np.linspace(0.6, 1.25, 50))\n",
    "lambda_theta = norm.wavelength_theta_bin(bins)"
   ]
  },
  {
   "cell_type": "markdown",
   "id": "ambient-string",
   "metadata": {},
   "source": [
    "The data binned in $\\lambda$/$\\theta$-space can be investigated and plotted."
   ]
  },
  {
   "cell_type": "code",
   "execution_count": 8,
   "id": "above-contractor",
   "metadata": {
    "scrolled": true
   },
   "outputs": [
    {
     "data": {
      "text/html": [
       "<div><!-- Original source from -->\n",
       "<!-- https://github.com/jsignell/xarray/blob/1d960933ab252e0f79f7e050e6c9261d55568057/xarray/static/html/icons-svg-inline.html -->\n",
       "<svg style=\"position: absolute; width: 0; height: 0; overflow: hidden\">\n",
       "<defs>\n",
       "<symbol id=\"icon-database\" viewBox=\"0 0 32 32\">\n",
       "<title>Show/Hide data repr</title>\n",
       "<path d=\"M16 0c-8.837 0-16 2.239-16 5v4c0 2.761 7.163 5 16 5s16-2.239 16-5v-4c0-2.761-7.163-5-16-5z\"></path>\n",
       "<path d=\"M16 17c-8.837 0-16-2.239-16-5v6c0 2.761 7.163 5 16 5s16-2.239 16-5v-6c0 2.761-7.163 5-16 5z\"></path>\n",
       "<path d=\"M16 26c-8.837 0-16-2.239-16-5v6c0 2.761 7.163 5 16 5s16-2.239 16-5v-6c0 2.761-7.163 5-16 5z\"></path>\n",
       "</symbol>\n",
       "<symbol id=\"icon-file-text2\" viewBox=\"0 0 32 32\">\n",
       "<title>Show/Hide attributes</title>\n",
       "<path d=\"M28.681 7.159c-0.694-0.947-1.662-2.053-2.724-3.116s-2.169-2.030-3.116-2.724c-1.612-1.182-2.393-1.319-2.841-1.319h-15.5c-1.378 0-2.5 1.121-2.5 2.5v27c0 1.378 1.122 2.5 2.5 2.5h23c1.378 0 2.5-1.122 2.5-2.5v-19.5c0-0.448-0.137-1.23-1.319-2.841zM24.543 5.457c0.959 0.959 1.712 1.825 2.268 2.543h-4.811v-4.811c0.718 0.556 1.584 1.309 2.543 2.268zM28 29.5c0 0.271-0.229 0.5-0.5 0.5h-23c-0.271 0-0.5-0.229-0.5-0.5v-27c0-0.271 0.229-0.5 0.5-0.5 0 0 15.499-0 15.5 0v7c0 0.552 0.448 1 1 1h7v19.5z\"></path>\n",
       "<path d=\"M23 26h-14c-0.552 0-1-0.448-1-1s0.448-1 1-1h14c0.552 0 1 0.448 1 1s-0.448 1-1 1z\"></path>\n",
       "<path d=\"M23 22h-14c-0.552 0-1-0.448-1-1s0.448-1 1-1h14c0.552 0 1 0.448 1 1s-0.448 1-1 1z\"></path>\n",
       "<path d=\"M23 18h-14c-0.552 0-1-0.448-1-1s0.448-1 1-1h14c0.552 0 1 0.448 1 1s-0.448 1-1 1z\"></path>\n",
       "</symbol>\n",
       "</defs>\n",
       "</svg><style>.sc-root{--sc-background-color0:var(--jp-layout-color0,#fff);--sc-background-color1:var(--jp-layout-color1,#fcfcfc);--sc-background-color2:var(--jp-layout-color2,#efefef);--sc-inverse-background-color0:var(--jp-inverse-layout-color4,#111);--sc-font-color0:var(--jp-content-font-color0,#000);--sc-font-color1:var(--jp-content-font-color1,#555);--sc-font-color2:var(--jp-content-font-color2,#888);--sc-font-color3:var(--jp-content-font-color3,#ccc);--sc-table-data-color:#ffe680;--sc-table-coords-color:#dde9af;--sc-table-masks-color:#cccccc;--sc-table-attrs-color:#ff8080;--sc-table-header-font-color:#111111;}.sc-wrap{font-size:14px;min-width:300px;max-width:800px;}.sc-var-attrs .sc-wrap{padding-left:3em;}.sc-header{padding-top:6px;padding-bottom:6px;margin-bottom:4px;border-bottom:solid 1px #ddd;}.sc-header > div,.sc-header > ul{display:inline;margin-top:0;margin-bottom:0;}.sc-obj-type,.sc-array-name{margin-left:2px;margin-right:10px;}.sc-obj-type{color:var(--sc-font-color1);}.sc-sections{padding-left:0 !important;display:grid;grid-template-columns:150px auto auto auto 1fr 20px 20px;}.sc-section-item{display:contents;}.sc-section-item input{display:none;}.sc-section-item input:enabled + label{cursor:pointer;color:var(--sc-font-color1);}.sc-section-item input:enabled + label:hover{color:var(--sc-font-color0);}.sc-section-summary{grid-column:1;font-weight:500;}.sc-section-summary > span{display:inline-block;padding-left:0.5em;}.sc-section-summary-in:disabled + label{color:var(--sc-font-color1);}.sc-section-summary-in + label:before{display:inline-block;content:'►';font-size:11px;width:15px;text-align:center;}.sc-section-summary-in:disabled + label:before{color:var(--sc-font-color3);}.sc-section-summary-in:checked + label:before{content:'▼';}.sc-section-summary-in:checked + label > span{display:none;}.sc-section-summary,.sc-section-inline-details{padding-top:4px;padding-bottom:4px;}.sc-section-inline-details{grid-column:2 / 5;}.sc-section-details{display:none;grid-column:1 / -1;margin-bottom:5px;}.sc-section-summary-in:checked ~ .sc-section-details{display:contents;}.sc-array-wrap{grid-column:1 / -1;display:grid;grid-template-columns:20px auto;}.sc-array-wrap > label{grid-column:1;vertical-align:top;}.sc-preview{color:var(--sc-font-color2);}.sc-array-preview,.sc-array-data{padding:0 5px !important;grid-column:2;}.sc-array-data,.sc-array-in:checked ~ .sc-array-preview{display:none;}.sc-array-in:checked ~ .sc-array-data,.sc-array-preview{display:inline-block;}.sc-dim-list{display:inline-block !important;list-style:none;padding:0 !important;margin:0;}.sc-dim-list li{display:inline-block;padding:0;margin:0!important;}.sc-dim-list:before{content:'(';}.sc-dim-list:after{content:')';}.sc-dim-list li:not(:last-child):after{content:',';padding-right:5px;}.sc-has-index{font-weight:bold;}.sc-var-list,.sc-var-item{display:contents;}.sc-var-item > div,.sc-var-item label,.sc-var-item > .sc-var-name span{background-color:var(--sc-background-color1);margin-bottom:0;}.sc-var-item > .sc-var-name:hover span{padding-right:5px;}.sc-var-list > li:nth-child(odd) > div,.sc-var-list > li:nth-child(odd) > label,.sc-var-list > li:nth-child(odd) > .sc-var-name span{background-color:var(--sc-background-color2);}.sc-var-name{grid-column:1;}.sc-var-dims{grid-column:2;}.sc-var-dtype{grid-column:3;text-align:right;color:var(--sc-font-color2);}.sc-var-unit{grid-column:4;text-align:left;color:var(--sc-font-color1);}.sc-value-preview{grid-column:5;}.sc-var-preview-variances{text-align:right;}.sc-sections .sc-section-item .sc-section-summary,.sc-sections .sc-section-item .sc-section-inline-details,.sc-section-item .sc-var-list .sc-var-item > div,.sc-section-item .sc-var-list .sc-var-item > label,.sc-section-details .sc-var-list .sc-var-item > div,.sc-section-details .sc-var-list .sc-var-item > label{margin-top:0;margin-bottom:0;}.sc-var-name,.sc-var-dims,.sc-var-dtype,.sc-var-unit,.sc-preview,.sc-attrs dt{white-space:nowrap;overflow:hidden;text-overflow:ellipsis;padding-right:10px;}.sc-var-name:hover,.sc-var-dims:hover,.sc-var-dtype:hover,.sc-var-unit:hover,.sc-attrs dt:hover{overflow:visible;width:auto;z-index:1;}.sc-var-attrs{display:block;}.sc-var-data{display:none;}.sc-var-attrs,.sc-var-data{background-color:var(--sc-background-color0) !important;padding-bottom:5px !important;}.sc-var-attrs-in:checked ~ .sc-var-attrs{display:none;}.sc-var-data-in:checked ~ .sc-var-data{display:block;}.sc-var-data > table{float:right;}.sc-var-name span,.sc-var-data{padding-left:25px !important;}.sc-var-attrs,.sc-var-data{grid-column:1 / -1;}dl.sc-attrs{padding:0;margin:0;display:grid;grid-template-columns:125px auto;}.sc-attrs dt,dd{padding:0;margin:0;float:left;padding-right:10px;width:auto;}.sc-attrs dt{font-weight:normal;grid-column:1;}.sc-attrs dt:hover span{display:inline-block;padding-right:10px;}.sc-attrs dd{grid-column:2;white-space:pre-wrap;word-break:break-all;}.sc-icon-database,.sc-icon-file-text2{display:inline-block;vertical-align:middle;width:1em;height:1.5em !important;stroke-width:0;stroke:currentColor;fill:currentColor;}label.sc-hide-icon svg{opacity:0;}.sc-standalone-var-name{grid-column:1/3;}.sc-standalone-var-name span{padding-left:25px;padding-right:10px;}.sc-table{border-collapse:collapse;}.sc-title{font-weight:bold;font-size:1.5em;}.sc-subtitle{font-weight:normal;font-style:italic;text-align:left;font-size:1.2em;padding:1px;}.sc-table th,.sc-table td{border:1px solid var(--sc-inverse-background-color0);padding:0 5px 0 5px;}.sc-table th{text-align:center;}.sc-table tr{background-color:var(--sc-background-color1);text-align:right;}.sc-table tr:hover{background-color:var(--sc-background-color2);}.sc-table th.sc-data{background-color:var(--sc-table-data-color);color:var(--sc-table-header-font-color);}.sc-table th.sc-coords{background-color:var(--sc-table-coords-color);color:var(--sc-table-header-font-color);}.sc-table th.sc-masks{background-color:var(--sc-table-masks-color);color:var(--sc-table-header-font-color);}.sc-table th.sc-attrs{background-color:var(--sc-table-attrs-color);color:var(--sc-table-header-font-color);}.sc-table th.sc-subheader{background-color:var(--sc-background-color2);}.sc-table td.sc-padding{background-color:var(--sc-background-color1);border:0 solid var(--sc-background-color1);height:1.2em;}.sc-label{fill:var(--sc-font-color0,#444444);text-anchor:middle;}.sc-name{fill:var(--sc-font-color0,#111111);}.sc-inset-line{stroke:var(--sc-font-color1);stroke-width:0.05;stroke-dasharray:0.2,0.2;}</style><div class='sc-wrap sc-root'><div class='sc-header'><div class='sc-obj-type'>scipp.DataArray (19.63 KB)</div></div><ul class='sc-sections'><li class='sc-section-item'><input id='section-ef065f6b-7593-41cb-8bc6-6956b92c04ac' class='sc-section-summary-in' type='checkbox' disabled ><label for='section-ef065f6b-7593-41cb-8bc6-6956b92c04ac' class='sc-section-summary'  title='Expand/collapse section'>Dimensions:</label><div class='sc-section-inline-details'><ul class='sc-dim-list'><li><span class='sc-has-index'>wavelength</span>: 49</li><li><span class='sc-has-index'>theta</span>: 49</li></ul></div><div class='sc-section-details'></div></li><li class='sc-section-item'><input id='section-53d3b58e-c83c-46c3-81da-2a1107bdadd1' class='sc-section-summary-in' type='checkbox'  checked><label for='section-53d3b58e-c83c-46c3-81da-2a1107bdadd1' class='sc-section-summary' >Coordinates: <span>(2)</span></label><div class='sc-section-inline-details'></div><div class='sc-section-details'><ul class='sc-var-list'><li class='sc-var-item'><div class='sc-var-name'><span class='sc-has-index'>theta</span></div><div class='sc-var-dims'>(theta [bin-edge])</div><div class='sc-var-dtype'>float64</div><div class='sc-var-unit'>deg</div><div class='sc-value-preview sc-preview'><span><div>0.6, 0.61, ..., 1.24, 1.25</div></span></div><input id='attrs-d9c5cae1-9206-4235-855a-dceb6d2e6747' class='sc-var-attrs-in' type='checkbox' disabled><label for='attrs-d9c5cae1-9206-4235-855a-dceb6d2e6747' class='sc-hide-icon' title='Show/Hide attributes'><svg class='icon sc-icon-file-text2'><use xlink:href='#icon-file-text2'></use></svg></label><input id='data-4d4e09fd-4928-406a-8cd7-7dfcbe59bf0b' class='sc-var-data-in' type='checkbox'><label for='data-4d4e09fd-4928-406a-8cd7-7dfcbe59bf0b' title='Show/Hide data repr'><svg class='icon sc-icon-database'><use xlink:href='#icon-database'></use></svg></label><pre class='sc-var-data'>Values:<br>array([0.6       , 0.61326531, 0.62653061, 0.63979592, 0.65306122,\n",
       "       0.66632653, 0.67959184, 0.69285714, 0.70612245, 0.71938776,\n",
       "       0.73265306, 0.74591837, 0.75918367, 0.77244898, 0.78571429,\n",
       "       0.79897959, 0.8122449 , 0.8255102 , 0.83877551, 0.85204082,\n",
       "       0.86530612, 0.87857143, 0.89183673, 0.90510204, 0.91836735,\n",
       "       0.93163265, 0.94489796, 0.95816327, 0.97142857, 0.98469388,\n",
       "       0.99795918, 1.01122449, 1.0244898 , 1.0377551 , 1.05102041,\n",
       "       1.06428571, 1.07755102, 1.09081633, 1.10408163, 1.11734694,\n",
       "       1.13061224, 1.14387755, 1.15714286, 1.17040816, 1.18367347,\n",
       "       1.19693878, 1.21020408, 1.22346939, 1.23673469, 1.25      ])</pre></span></li><li class='sc-var-item'><div class='sc-var-name'><span class='sc-has-index'>wavelength</span></div><div class='sc-var-dims'>(wavelength [bin-edge])</div><div class='sc-var-dtype'>float64</div><div class='sc-var-unit'>Å</div><div class='sc-value-preview sc-preview'><span><div>2.5, 2.76, ..., 14.74, 15.0</div></span></div><input id='attrs-f315aa0c-6d1a-4e57-aea8-c654efc6cb7b' class='sc-var-attrs-in' type='checkbox' disabled><label for='attrs-f315aa0c-6d1a-4e57-aea8-c654efc6cb7b' class='sc-hide-icon' title='Show/Hide attributes'><svg class='icon sc-icon-file-text2'><use xlink:href='#icon-file-text2'></use></svg></label><input id='data-eabf93c9-bc49-408e-8fee-4e7a538ccad5' class='sc-var-data-in' type='checkbox'><label for='data-eabf93c9-bc49-408e-8fee-4e7a538ccad5' title='Show/Hide data repr'><svg class='icon sc-icon-database'><use xlink:href='#icon-database'></use></svg></label><pre class='sc-var-data'>Values:<br>array([ 2.5       ,  2.75510204,  3.01020408,  3.26530612,  3.52040816,\n",
       "        3.7755102 ,  4.03061224,  4.28571429,  4.54081633,  4.79591837,\n",
       "        5.05102041,  5.30612245,  5.56122449,  5.81632653,  6.07142857,\n",
       "        6.32653061,  6.58163265,  6.83673469,  7.09183673,  7.34693878,\n",
       "        7.60204082,  7.85714286,  8.1122449 ,  8.36734694,  8.62244898,\n",
       "        8.87755102,  9.13265306,  9.3877551 ,  9.64285714,  9.89795918,\n",
       "       10.15306122, 10.40816327, 10.66326531, 10.91836735, 11.17346939,\n",
       "       11.42857143, 11.68367347, 11.93877551, 12.19387755, 12.44897959,\n",
       "       12.70408163, 12.95918367, 13.21428571, 13.46938776, 13.7244898 ,\n",
       "       13.97959184, 14.23469388, 14.48979592, 14.74489796, 15.        ])</pre></span></li></ul></div></li><li class='sc-section-item'><input id='section-529d83af-fa9d-4d03-82aa-d48492c4333c' class='sc-section-summary-in' type='checkbox'  checked><label for='section-529d83af-fa9d-4d03-82aa-d48492c4333c' class='sc-section-summary' >Data: <span>(1)</span></label><div class='sc-section-inline-details'></div><div class='sc-section-details'><ul class='sc-var-list'><li class='sc-var-item'><div class='sc-var-name'><span></span></div><div class='sc-var-dims'>(wavelength, theta)</div><div class='sc-var-dtype'>float32</div><div class='sc-var-unit'></div><div class='sc-value-preview sc-preview'><span><div>0.03, 0.04, ..., 0.68, 0.89</div></span><span><div>σ² = 0.0, 0.0, ..., 0.12, 0.12</div></span></div><input id='attrs-d8f2e091-ca1e-4060-9907-3faa3928d7d1' class='sc-var-attrs-in' type='checkbox' disabled><label for='attrs-d8f2e091-ca1e-4060-9907-3faa3928d7d1' class='sc-hide-icon' title='Show/Hide attributes'><svg class='icon sc-icon-file-text2'><use xlink:href='#icon-file-text2'></use></svg></label><input id='data-3e796128-dd6d-46b1-9991-00a02633a86e' class='sc-var-data-in' type='checkbox'><label for='data-3e796128-dd6d-46b1-9991-00a02633a86e' title='Show/Hide data repr'><svg class='icon sc-icon-database'><use xlink:href='#icon-database'></use></svg></label><pre class='sc-var-data'>Values:<br>array([[0.02925781, 0.03941   , 0.02465811, ..., 0.        , 0.        ,\n",
       "        0.08725017],\n",
       "       [0.19239648, 0.1328884 , 0.05728628, ..., 0.00448411, 0.00316545,\n",
       "        0.        ],\n",
       "       [0.68652207, 0.61731815, 0.40121952, ..., 0.00288055, 0.00976631,\n",
       "        0.00798376],\n",
       "       ...,\n",
       "       [0.87438387, 0.74075246, 0.5220902 , ..., 1.3847905 , 2.0463226 ,\n",
       "        0.95589083],\n",
       "       [1.0020634 , 0.5419848 , 0.85569584, ..., 1.5181466 , 0.8949519 ,\n",
       "        0.7866639 ],\n",
       "       [1.4320025 , 0.7710445 , 1.2188016 , ..., 1.7669736 , 0.6820266 ,\n",
       "        0.8875153 ]], dtype=float32)<br><br>Variances:<br>                       <div>array([[0.02925781, 0.03941   , 0.02465811, ..., 0.        , 0.        ,\n",
       "        0.08725017],\n",
       "       [0.19239648, 0.1328884 , 0.05728628, ..., 0.00448411, 0.00316545,\n",
       "        0.        ],\n",
       "       [0.68652207, 0.61731815, 0.40121952, ..., 0.00288055, 0.00976631,\n",
       "        0.00798376],\n",
       "       ...,\n",
       "       [0.87438387, 0.74075246, 0.5220902 , ..., 1.3847905 , 2.0463226 ,\n",
       "        0.95589083],\n",
       "       [1.0020634 , 0.5419848 , 0.85569584, ..., 1.5181466 , 0.8949519 ,\n",
       "        0.7866639 ],\n",
       "       [1.4320025 , 0.7710445 , 1.2188016 , ..., 1.7669736 , 0.6820266 ,\n",
       "        0.8875153 ]], dtype=float32)</div></pre></li></ul></div></li><li class='sc-section-item'><input id='section-37463aee-270e-4d4c-8c25-1e78bb5e73d2' class='sc-section-summary-in' type='checkbox'  checked><label for='section-37463aee-270e-4d4c-8c25-1e78bb5e73d2' class='sc-section-summary' >Attributes: <span>(4)</span></label><div class='sc-section-inline-details'></div><div class='sc-section-details'><ul class='sc-var-list'><li class='sc-var-item'><div class='sc-var-name'><span>experiment_title</span></div><div class='sc-var-dims'>()</div><div class='sc-var-dtype'>string</div><div class='sc-var-unit'></div><div class='sc-value-preview sc-preview'><span><div>commissioning</div></span></div><input id='attrs-162f7506-1430-4bb4-9dd9-bdad7ae77db9' class='sc-var-attrs-in' type='checkbox' disabled><label for='attrs-162f7506-1430-4bb4-9dd9-bdad7ae77db9' class='sc-hide-icon' title='Show/Hide attributes'><svg class='icon sc-icon-file-text2'><use xlink:href='#icon-file-text2'></use></svg></label><input id='data-c80579a9-f68f-4a32-b8af-192679c2a4e9' class='sc-var-data-in' type='checkbox'><label for='data-c80579a9-f68f-4a32-b8af-192679c2a4e9' title='Show/Hide data repr'><svg class='icon sc-icon-database'><use xlink:href='#icon-database'></use></svg></label><pre class='sc-var-data'>Values:<br>&#x27;commissioning&#x27;</pre></li><li class='sc-var-item'><div class='sc-var-name'><span>instrument_name</span></div><div class='sc-var-dims'>()</div><div class='sc-var-dtype'>string</div><div class='sc-var-unit'></div><div class='sc-value-preview sc-preview'><span><div>AMOR</div></span></div><input id='attrs-f692c9d8-59a0-4a45-b1aa-eedcab37aec3' class='sc-var-attrs-in' type='checkbox' disabled><label for='attrs-f692c9d8-59a0-4a45-b1aa-eedcab37aec3' class='sc-hide-icon' title='Show/Hide attributes'><svg class='icon sc-icon-file-text2'><use xlink:href='#icon-file-text2'></use></svg></label><input id='data-bfda9a5d-d2fd-4e26-bcfd-b7070cd04420' class='sc-var-data-in' type='checkbox'><label for='data-bfda9a5d-d2fd-4e26-bcfd-b7070cd04420' title='Show/Hide data repr'><svg class='icon sc-icon-database'><use xlink:href='#icon-database'></use></svg></label><pre class='sc-var-data'>Values:<br>&#x27;AMOR&#x27;</pre></li><li class='sc-var-item'><div class='sc-var-name'><span>sample_position</span></div><div class='sc-var-dims'>()</div><div class='sc-var-dtype'>vector_3_float64</div><div class='sc-var-unit'>m</div><div class='sc-value-preview sc-preview'><span><div>[0. 0. 0.]</div></span></div><input id='attrs-003da635-8912-4d74-a454-5335855695b9' class='sc-var-attrs-in' type='checkbox' disabled><label for='attrs-003da635-8912-4d74-a454-5335855695b9' class='sc-hide-icon' title='Show/Hide attributes'><svg class='icon sc-icon-file-text2'><use xlink:href='#icon-file-text2'></use></svg></label><input id='data-402f1c58-6c80-4138-a645-27ae518a900e' class='sc-var-data-in' type='checkbox'><label for='data-402f1c58-6c80-4138-a645-27ae518a900e' title='Show/Hide data repr'><svg class='icon sc-icon-database'><use xlink:href='#icon-database'></use></svg></label><pre class='sc-var-data'>Values:<br>array([0., 0., 0.])</pre></li><li class='sc-var-item'><div class='sc-var-name'><span>source_position</span></div><div class='sc-var-dims'>()</div><div class='sc-var-dtype'>vector_3_float64</div><div class='sc-var-unit'>m</div><div class='sc-value-preview sc-preview'><span><div>[  0.   0. -15.]</div></span></div><input id='attrs-9d248829-adad-4862-b8d7-fd9450af449e' class='sc-var-attrs-in' type='checkbox' disabled><label for='attrs-9d248829-adad-4862-b8d7-fd9450af449e' class='sc-hide-icon' title='Show/Hide attributes'><svg class='icon sc-icon-file-text2'><use xlink:href='#icon-file-text2'></use></svg></label><input id='data-a542b787-a201-4dcd-b0d7-69500f42d41f' class='sc-var-data-in' type='checkbox'><label for='data-a542b787-a201-4dcd-b0d7-69500f42d41f' title='Show/Hide data repr'><svg class='icon sc-icon-database'><use xlink:href='#icon-database'></use></svg></label><pre class='sc-var-data'>Values:<br>array([  0.,   0., -15.])</pre></li></ul></div></li></ul></div></div>"
      ],
      "text/plain": [
       "<scipp.DataArray>\n",
       "Dimensions: {{wavelength, 49}, {theta, 49}}\n",
       "Coordinates:\n",
       "  theta                     float64    [deg]            (theta [bin-edge])  [0.600000, 0.613265, ..., 1.236735, 1.250000]\n",
       "  wavelength                float64    [Å]             (wavelength [bin-edge])  [2.500000, 2.755102, ..., 14.744898, 15.000000]\n",
       "Data:\n",
       "                            float32    [dimensionless]  (wavelength, theta)  [0.029258, 0.039410, ..., 0.682027, 0.887515]  [0.000172, 0.000156, ..., 0.124597, 0.122891]\n",
       "Attributes:\n",
       "  experiment_title          string     [dimensionless]  ()  [\"commissioning\"]\n",
       "  instrument_name           string     [dimensionless]  ()  [\"AMOR\"]\n",
       "  sample_position           vector_3_float64  [m]              ()  [(0.000000, 0.000000, 0.000000)]\n",
       "  source_position           vector_3_float64  [m]              ()  [(0.000000, 0.000000, -15.000000)]\n"
      ]
     },
     "execution_count": 8,
     "metadata": {},
     "output_type": "execute_result"
    }
   ],
   "source": [
    "lambda_theta"
   ]
  },
  {
   "cell_type": "code",
   "execution_count": 9,
   "id": "hollow-practitioner",
   "metadata": {
    "scrolled": false
   },
   "outputs": [
    {
     "data": {
      "application/vnd.jupyter.widget-view+json": {
       "model_id": "c5aa6eb18ff34d65b5498f5ae3ee5f2c",
       "version_major": 2,
       "version_minor": 0
      },
      "text/plain": [
       "VBox(children=(HBox(children=(VBox(children=(Button(icon='home', layout=Layout(padding='0px 0px 0px 0px', widt…"
      ]
     },
     "metadata": {},
     "output_type": "display_data"
    }
   ],
   "source": [
    "sc.plot(lambda_theta, norm='log')"
   ]
  },
  {
   "cell_type": "code",
   "execution_count": 10,
   "id": "knowing-ukraine",
   "metadata": {},
   "outputs": [],
   "source": [
    "q_bins = np.linspace(0.007, 0.09, 200)\n",
    "q = norm.q_bin(q_bins)"
   ]
  },
  {
   "cell_type": "markdown",
   "id": "stuck-return",
   "metadata": {},
   "source": [
    "As can be done for the $q_z$-binned data."
   ]
  },
  {
   "cell_type": "code",
   "execution_count": 11,
   "id": "closing-recording",
   "metadata": {},
   "outputs": [
    {
     "name": "stderr",
     "output_type": "stream",
     "text": [
      "/Users/andrewmccluskey/anaconda3/envs/scippneutron/lib/python3.7/scipp/plotting/figure1d.py:353: UserWarning: Attempted to set non-positive bottom ylim on a log-scaled axis.\n",
      "Invalid limit will be ignored.\n",
      "  self.ax.set_ylim(vmin, vmax)\n"
     ]
    },
    {
     "data": {
      "application/vnd.jupyter.widget-view+json": {
       "model_id": "78450cedebf94ba29bb4ad3e1b07482f",
       "version_major": 2,
       "version_minor": 0
      },
      "text/plain": [
       "VBox(children=(HBox(children=(VBox(children=(Button(icon='home', layout=Layout(padding='0px 0px 0px 0px', widt…"
      ]
     },
     "metadata": {},
     "output_type": "display_data"
    }
   ],
   "source": [
    "fig = sc.plot(q, norm='log')\n",
    "fig.ax.set_ylim((1e-3, 10))\n",
    "fig"
   ]
  },
  {
   "cell_type": "markdown",
   "id": "seeing-block",
   "metadata": {},
   "source": [
    "This data can be written to an [ORSO](https://reflectometry.org)-compatible data file. "
   ]
  },
  {
   "cell_type": "code",
   "execution_count": 12,
   "id": "advanced-dragon",
   "metadata": {},
   "outputs": [],
   "source": [
    "norm.write_reflectometry('output.ort', bin_kwargs={'bins': q_bins})"
   ]
  },
  {
   "cell_type": "code",
   "execution_count": 13,
   "id": "usual-semiconductor",
   "metadata": {
    "scrolled": true
   },
   "outputs": [
    {
     "name": "stdout",
     "output_type": "stream",
     "text": [
      "# # ORSO reflectivity data file | 0.1 standard | YAML encoding | https://reflectometry.org\r\n",
      "# creator:\r\n",
      "#   name: Andrew McCluskey/andrew.mccluskey@ess.eu\r\n",
      "#   time: '2021-04-22T12:33:38'\r\n",
      "#   system: CI0021603\r\n",
      "#   affiliation: European Spallation Source\r\n",
      "# data_source:\r\n",
      "#   experiment_date: '2020-06-21'\r\n",
      "#   experiment:\r\n",
      "#     instrument: AMOR\r\n"
     ]
    }
   ],
   "source": [
    "!head output.ort"
   ]
  },
  {
   "cell_type": "code",
   "execution_count": null,
   "id": "33f0483a",
   "metadata": {},
   "outputs": [],
   "source": []
  }
 ],
 "metadata": {
  "kernelspec": {
   "display_name": "Python 3",
   "language": "python",
   "name": "python3"
  },
  "language_info": {
   "codemirror_mode": {
    "name": "ipython",
    "version": 3
   },
   "file_extension": ".py",
   "mimetype": "text/x-python",
   "name": "python",
   "nbconvert_exporter": "python",
   "pygments_lexer": "ipython3",
   "version": "3.7.10"
  }
 },
 "nbformat": 4,
 "nbformat_minor": 5
}
