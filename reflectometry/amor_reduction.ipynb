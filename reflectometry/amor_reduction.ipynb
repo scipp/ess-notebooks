{
 "cells": [
  {
   "cell_type": "markdown",
   "id": "enhanced-issue",
   "metadata": {},
   "source": [
    "# Amor Reduction\n",
    "\n",
    "## How to start:\n",
    "\n",
    "Before starting you must:\n",
    "- Have conda installed\n",
    "- conda env create -f ess-notebooks-latest.yml python=3.7 . The yaml environment file is part of this repository.\n",
    "\n",
    "## What will this notebook show?\n",
    "\n",
    "The notebook will show how to use the `ess.amor.AmorData`, `ess.amor.AmorReference` and `ess.amor.Normalisation` classes for the reduction of data collected at the Amor instrument at PSI. \n",
    "To achieve this, we will reduce the following data files, [sample.nxs](./sample.nxs) and [reference.nxs](./references.nxs), and then normalise the sample data (with respect to the reference data). \n",
    "\n",
    "## Reduction\n",
    "\n",
    "Before, we begin, we should import then necessary modules. "
   ]
  },
  {
   "cell_type": "code",
   "execution_count": 1,
   "id": "virgin-intake",
   "metadata": {},
   "outputs": [
    {
     "data": {
      "application/javascript": [
       "var kernel = IPython.notebook.kernel; if (kernel) {var value = window.devicePixelRatio; var command = 'devicePixelRatio = ' + value; kernel.execute(command);}"
      ],
      "text/plain": [
       "<IPython.core.display.Javascript object>"
      ]
     },
     "metadata": {},
     "output_type": "display_data"
    }
   ],
   "source": [
    "import numpy as np\n",
    "import scipp as sc\n",
    "import scippneutron as scn\n",
    "from ess.amor import AmorData, AmorReference, Normalisation"
   ]
  },
  {
   "cell_type": "markdown",
   "id": "assured-emergency",
   "metadata": {},
   "source": [
    "We can then define some information about the reduction, for inclusion in the final `.ort` file."
   ]
  },
  {
   "cell_type": "code",
   "execution_count": 2,
   "id": "hollywood-absolute",
   "metadata": {},
   "outputs": [],
   "source": [
    "name = 'Andrew McCluskey'\n",
    "affiliation = 'European Spallation Source'\n",
    "data_owner = 'Jochen Stahn, PSI'\n",
    "experiment_id = 'test_0001'\n",
    "experiment_date = '2020-06-21'\n",
    "sample_description = 'Ni-Ti Multilayer'\n",
    "notebook_file = 'amor_reduction.ipynb'\n",
    "\n",
    "data_file = 'sample.nxs'\n",
    "reference_file = 'reference.nxs'"
   ]
  },
  {
   "cell_type": "markdown",
   "id": "operational-scotland",
   "metadata": {},
   "source": [
    "The `AmorData` class will take the loaded NeXus file or the NeXus file itself and perform the reduction steps to obtain the reflected intensity as a function of $q_z$, including accounting for aspects such as gravity. \n",
    "The `sample_angle_offset` allows the angular offset of the sample with respect to the horizon to be accounted for."
   ]
  },
  {
   "cell_type": "code",
   "execution_count": 4,
   "id": "separate-alexandria",
   "metadata": {
    "scrolled": false
   },
   "outputs": [],
   "source": [
    "sample = AmorData(data_file, \n",
    "                  reduction_creator=name, \n",
    "                  data_owner=data_owner, \n",
    "                  experiment_id=experiment_id, \n",
    "                  experiment_date=experiment_date, \n",
    "                  sample_description=sample_description, \n",
    "                  reduction_file=notebook_file, \n",
    "                  reduction_creator_affiliation=affiliation,\n",
    "                  sample_angle_offset=0.04 * sc.units.deg, \n",
    "                  sample_size=0.1*sc.units.m)"
   ]
  },
  {
   "cell_type": "markdown",
   "id": "naval-landscape",
   "metadata": {},
   "source": [
    "Some detector and wavelength masking can then be performed."
   ]
  },
  {
   "cell_type": "code",
   "execution_count": 5,
   "id": "embedded-birmingham",
   "metadata": {},
   "outputs": [],
   "source": [
    "sample.detector_masking(y_min=0 * sc.units.m, y_max=100e-3 * sc.units.m)\n",
    "sample.wavelength_masking()"
   ]
  },
  {
   "cell_type": "markdown",
   "id": "adjacent-layout",
   "metadata": {},
   "source": [
    "The `AmorReference` class reads the reference supermirror measurement, and will perform the necessary corrections.\n",
    "For this measurement, no angular offset is required. \n",
    "Again, detector and wavelength masking is performed."
   ]
  },
  {
   "cell_type": "code",
   "execution_count": 6,
   "id": "proud-silly",
   "metadata": {},
   "outputs": [],
   "source": [
    "reference = AmorReference(reference_file)\n",
    "reference.detector_masking(y_min=0 * sc.units.m, y_max=100e-3 * sc.units.m)\n",
    "reference.wavelength_masking()"
   ]
  },
  {
   "cell_type": "markdown",
   "id": "substantial-doubt",
   "metadata": {},
   "source": [
    "For the normalisation of the sample, we use the `Normalisation` class."
   ]
  },
  {
   "cell_type": "code",
   "execution_count": 7,
   "id": "close-mouth",
   "metadata": {},
   "outputs": [],
   "source": [
    "norm = Normalisation(sample, reference)"
   ]
  },
  {
   "cell_type": "markdown",
   "id": "broke-olympus",
   "metadata": {},
   "source": [
    "With this object, there is the choice to bin in the $\\lambda$/$\\theta$-space or the $q_z$-space. "
   ]
  },
  {
   "cell_type": "code",
   "execution_count": 8,
   "id": "textile-moscow",
   "metadata": {},
   "outputs": [],
   "source": [
    "bins = (np.linspace(2.5, 15, 50), np.linspace(0.6, 1.25, 50))\n",
    "lambda_theta = norm.wavelength_theta_bin(bins)"
   ]
  },
  {
   "cell_type": "markdown",
   "id": "ambient-string",
   "metadata": {},
   "source": [
    "The data binned in $\\lambda$/$\\theta$-space can be investigated and plotted."
   ]
  },
  {
   "cell_type": "code",
   "execution_count": 9,
   "id": "above-contractor",
   "metadata": {
    "scrolled": true
   },
   "outputs": [
    {
     "data": {
      "text/html": [
       "<div><!-- Original source from -->\n",
       "<!-- https://github.com/jsignell/xarray/blob/1d960933ab252e0f79f7e050e6c9261d55568057/xarray/static/html/icons-svg-inline.html -->\n",
       "<svg style=\"position: absolute; width: 0; height: 0; overflow: hidden\">\n",
       "<defs>\n",
       "<symbol id=\"icon-database\" viewBox=\"0 0 32 32\">\n",
       "<title>Show/Hide data repr</title>\n",
       "<path d=\"M16 0c-8.837 0-16 2.239-16 5v4c0 2.761 7.163 5 16 5s16-2.239 16-5v-4c0-2.761-7.163-5-16-5z\"></path>\n",
       "<path d=\"M16 17c-8.837 0-16-2.239-16-5v6c0 2.761 7.163 5 16 5s16-2.239 16-5v-6c0 2.761-7.163 5-16 5z\"></path>\n",
       "<path d=\"M16 26c-8.837 0-16-2.239-16-5v6c0 2.761 7.163 5 16 5s16-2.239 16-5v-6c0 2.761-7.163 5-16 5z\"></path>\n",
       "</symbol>\n",
       "<symbol id=\"icon-file-text2\" viewBox=\"0 0 32 32\">\n",
       "<title>Show/Hide attributes</title>\n",
       "<path d=\"M28.681 7.159c-0.694-0.947-1.662-2.053-2.724-3.116s-2.169-2.030-3.116-2.724c-1.612-1.182-2.393-1.319-2.841-1.319h-15.5c-1.378 0-2.5 1.121-2.5 2.5v27c0 1.378 1.122 2.5 2.5 2.5h23c1.378 0 2.5-1.122 2.5-2.5v-19.5c0-0.448-0.137-1.23-1.319-2.841zM24.543 5.457c0.959 0.959 1.712 1.825 2.268 2.543h-4.811v-4.811c0.718 0.556 1.584 1.309 2.543 2.268zM28 29.5c0 0.271-0.229 0.5-0.5 0.5h-23c-0.271 0-0.5-0.229-0.5-0.5v-27c0-0.271 0.229-0.5 0.5-0.5 0 0 15.499-0 15.5 0v7c0 0.552 0.448 1 1 1h7v19.5z\"></path>\n",
       "<path d=\"M23 26h-14c-0.552 0-1-0.448-1-1s0.448-1 1-1h14c0.552 0 1 0.448 1 1s-0.448 1-1 1z\"></path>\n",
       "<path d=\"M23 22h-14c-0.552 0-1-0.448-1-1s0.448-1 1-1h14c0.552 0 1 0.448 1 1s-0.448 1-1 1z\"></path>\n",
       "<path d=\"M23 18h-14c-0.552 0-1-0.448-1-1s0.448-1 1-1h14c0.552 0 1 0.448 1 1s-0.448 1-1 1z\"></path>\n",
       "</symbol>\n",
       "</defs>\n",
       "</svg><style>/* CSS stylesheet for displaying scipp objects in jupyterlab.\n",
       "* Original source from\n",
       "* https://github.com/jsignell/xarray/blob/1d960933ab252e0f79f7e050e6c9261d55568057/xarray/static/css/style.css\n",
       "*/\n",
       "\n",
       ".sc-wrap {\n",
       "  font-size: 14px;\n",
       "  min-width: 300px;\n",
       "  max-width: 800px;\n",
       "}\n",
       "\n",
       "/* The CSS styling for the inline attributes table */\n",
       ".sc-var-attrs .sc-wrap{\n",
       "  padding-left: 3em;\n",
       "}\n",
       "\n",
       ".sc-header {\n",
       "  padding-top: 6px;\n",
       "  padding-bottom: 6px;\n",
       "  margin-bottom: 4px;\n",
       "  border-bottom: solid 1px #ddd;\n",
       "}\n",
       "\n",
       ".sc-header > div,\n",
       ".sc-header > ul {\n",
       "  display: inline;\n",
       "  margin-top: 0;\n",
       "  margin-bottom: 0;\n",
       "}\n",
       "\n",
       ".sc-obj-type,\n",
       ".sc-array-name {\n",
       "  margin-left: 2px;\n",
       "  margin-right: 10px;\n",
       "}\n",
       "\n",
       ".sc-obj-type {\n",
       "  color: #555;\n",
       "}\n",
       "\n",
       ".sc-array-name {\n",
       "  color: #000;\n",
       "}\n",
       "\n",
       ".sc-sections {\n",
       "  padding-left: 0 !important;\n",
       "  display: grid;\n",
       "  grid-template-columns: 150px auto auto auto 1fr 20px 20px;\n",
       "}\n",
       "\n",
       ".sc-section-item {\n",
       "  display: contents;\n",
       "}\n",
       "\n",
       ".sc-section-item input {\n",
       "  display: none;\n",
       "}\n",
       "\n",
       ".sc-section-item input + label {\n",
       "  color: #ccc;\n",
       "}\n",
       "\n",
       ".sc-section-item input:enabled + label {\n",
       "  cursor: pointer;\n",
       "  color: #555;\n",
       "}\n",
       "\n",
       ".sc-section-item input:enabled + label:hover {\n",
       "  color: #000;\n",
       "}\n",
       "\n",
       ".sc-section-summary {\n",
       "  grid-column: 1 ;\n",
       "  color: #555;\n",
       "  font-weight: 500;\n",
       "}\n",
       "\n",
       ".sc-section-summary > span {\n",
       "  display: inline-block;\n",
       "  padding-left: 0.5em;\n",
       "}\n",
       "\n",
       ".sc-section-summary-in:disabled + label {\n",
       "  color: #555;\n",
       "}\n",
       "\n",
       ".sc-section-summary-in + label:before {\n",
       "  display: inline-block;\n",
       "  content: '►';\n",
       "  font-size: 11px;\n",
       "  width: 15px;\n",
       "  text-align: center;\n",
       "}\n",
       "\n",
       ".sc-section-summary-in:disabled + label:before {\n",
       "  color: #ccc;\n",
       "}\n",
       "\n",
       ".sc-section-summary-in:checked + label:before {\n",
       "  content: '▼';\n",
       "}\n",
       "\n",
       ".sc-section-summary-in:checked + label > span {\n",
       "  display: none;\n",
       "}\n",
       "\n",
       ".sc-section-summary,\n",
       ".sc-section-inline-details {\n",
       "  padding-top: 4px;\n",
       "  padding-bottom: 4px;\n",
       "}\n",
       "\n",
       ".sc-section-inline-details {\n",
       "  grid-column: 2 / 5;\n",
       "}\n",
       "\n",
       ".sc-section-details {\n",
       "  display: none;\n",
       "  grid-column: 1 / -1;\n",
       "  margin-bottom: 5px;\n",
       "}\n",
       "\n",
       ".sc-section-summary-in:checked ~ .sc-section-details {\n",
       "  display: contents;\n",
       "}\n",
       "\n",
       ".sc-array-wrap {\n",
       "  grid-column: 1 / -1;\n",
       "  display: grid;\n",
       "  grid-template-columns: 20px auto;\n",
       "}\n",
       "\n",
       ".sc-array-wrap > label {\n",
       "  grid-column: 1;\n",
       "  vertical-align: top;\n",
       "}\n",
       "\n",
       ".sc-preview {\n",
       "  color: #888;\n",
       "}\n",
       "\n",
       ".sc-array-preview,\n",
       ".sc-array-data {\n",
       "  padding: 0 5px !important;\n",
       "  grid-column: 2;\n",
       "}\n",
       "\n",
       ".sc-array-data,\n",
       ".sc-array-in:checked ~ .sc-array-preview {\n",
       "  display: none;\n",
       "}\n",
       "\n",
       ".sc-array-in:checked ~ .sc-array-data,\n",
       ".sc-array-preview {\n",
       "  display: inline-block;\n",
       "}\n",
       "\n",
       ".sc-dim-list {\n",
       "  display: inline-block !important;\n",
       "  list-style: none;\n",
       "  padding: 0 !important;\n",
       "  margin: 0;\n",
       "}\n",
       "\n",
       ".sc-dim-list li {\n",
       "  display: inline-block;\n",
       "  padding: 0;\n",
       "  margin: 0!important;\n",
       "}\n",
       "\n",
       ".sc-dim-list:before {\n",
       "  content: '(';\n",
       "}\n",
       "\n",
       ".sc-dim-list:after {\n",
       "  content: ')';\n",
       "}\n",
       "\n",
       ".sc-dim-list li:not(:last-child):after {\n",
       "  content: ',';\n",
       "  padding-right: 5px;\n",
       "}\n",
       "\n",
       ".sc-has-index {\n",
       "  font-weight: bold;\n",
       "}\n",
       "\n",
       ".sc-var-list,\n",
       ".sc-var-item {\n",
       "  display: contents;\n",
       "}\n",
       "\n",
       ".sc-var-item > div,\n",
       ".sc-var-item label,\n",
       ".sc-var-item > .sc-var-name span {\n",
       "  background-color: #fcfcfc;\n",
       "  margin-bottom: 0;\n",
       "}\n",
       "\n",
       ".sc-var-item > .sc-var-name:hover span {\n",
       "  padding-right: 5px;\n",
       "}\n",
       "\n",
       ".sc-var-list > li:nth-child(odd) > div,\n",
       ".sc-var-list > li:nth-child(odd) > label,\n",
       ".sc-var-list > li:nth-child(odd) > .sc-var-name span {\n",
       "  background-color: #efefef;\n",
       "}\n",
       "\n",
       ".sc-var-name {\n",
       "  grid-column: 1;\n",
       "}\n",
       "\n",
       ".sc-var-dims {\n",
       "  grid-column: 2;\n",
       "}\n",
       "\n",
       ".sc-var-dtype {\n",
       "  grid-column: 3;\n",
       "  text-align: right;\n",
       "  color: #555;\n",
       "}\n",
       ".sc-var-unit{\n",
       "  grid-column: 4;\n",
       "  text-align: left;\n",
       "  color: #222;\n",
       "}\n",
       ".sc-value-preview {\n",
       "  grid-column: 5;\n",
       "}\n",
       ".sc-var-preview-variances{\n",
       "  text-align:right;\n",
       "}\n",
       "\n",
       ".sc-sections .sc-section-item .sc-section-summary,\n",
       ".sc-sections .sc-section-item .sc-section-inline-details,\n",
       ".sc-section-item .sc-var-list .sc-var-item > div,\n",
       ".sc-section-item .sc-var-list .sc-var-item > label,\n",
       ".sc-section-details .sc-var-list .sc-var-item > div,\n",
       ".sc-section-details .sc-var-list .sc-var-item > label {\n",
       "  margin-top: 0;\n",
       "  margin-bottom: 0;\n",
       "}\n",
       "\n",
       ".sc-var-name,\n",
       ".sc-var-dims,\n",
       ".sc-var-dtype,\n",
       ".sc-var-unit,\n",
       ".sc-preview,\n",
       ".sc-attrs dt {\n",
       "  white-space: nowrap;\n",
       "  overflow: hidden;\n",
       "  text-overflow: ellipsis;\n",
       "  padding-right: 10px;\n",
       "}\n",
       "\n",
       ".sc-var-name:hover,\n",
       ".sc-var-dims:hover,\n",
       ".sc-var-dtype:hover,\n",
       ".sc-var-unit:hover,\n",
       ".sc-attrs dt:hover {\n",
       "  overflow: visible;\n",
       "  width: auto;\n",
       "  z-index: 1;\n",
       "}\n",
       "\n",
       ".sc-var-attrs {\n",
       "  display: block;\n",
       "}\n",
       ".sc-var-data {\n",
       "  display: none;\n",
       "}\n",
       ".sc-var-attrs,\n",
       ".sc-var-data {\n",
       "  background-color: #fff !important;\n",
       "  padding-bottom: 5px !important;\n",
       "}\n",
       "\n",
       ".sc-var-attrs-in:checked ~ .sc-var-attrs {\n",
       "  display: none;\n",
       "}\n",
       ".sc-var-data-in:checked ~ .sc-var-data {\n",
       "  display: block;\n",
       "}\n",
       "\n",
       ".sc-var-data > table {\n",
       "  float: right;\n",
       "}\n",
       "\n",
       ".sc-var-name span,\n",
       ".sc-var-data,\n",
       ".sc-attrs {\n",
       "  padding-left: 25px !important;\n",
       "}\n",
       "\n",
       ".sc-attrs,\n",
       ".sc-var-attrs,\n",
       ".sc-var-data {\n",
       "  grid-column: 1 / -1;\n",
       "}\n",
       "\n",
       "dl.sc-attrs {\n",
       "  padding: 0;\n",
       "  margin: 0;\n",
       "  display: grid;\n",
       "  grid-template-columns: 125px auto;\n",
       "}\n",
       "\n",
       ".sc-attrs dt, dd {\n",
       "  padding: 0;\n",
       "  margin: 0;\n",
       "  float: left;\n",
       "  padding-right: 10px;\n",
       "  width: auto;\n",
       "}\n",
       "\n",
       ".sc-attrs dt {\n",
       "  font-weight: normal;\n",
       "  grid-column: 1;\n",
       "}\n",
       "\n",
       ".sc-attrs dt:hover span {\n",
       "  display: inline-block;\n",
       "  background: #fff;\n",
       "  padding-right: 10px;\n",
       "}\n",
       "\n",
       ".sc-attrs dd {\n",
       "  grid-column: 2;\n",
       "  white-space: pre-wrap;\n",
       "  word-break: break-all;\n",
       "}\n",
       "\n",
       ".sc-icon-database,\n",
       ".sc-icon-file-text2 {\n",
       "  display: inline-block;\n",
       "  vertical-align: middle;\n",
       "  width: 1em;\n",
       "  height: 1.5em !important;\n",
       "  stroke-width: 0;\n",
       "  stroke: currentColor;\n",
       "  fill: currentColor;\n",
       "}\n",
       "\n",
       "label.sc-hide-icon svg{\n",
       "  opacity: 0;\n",
       "}\n",
       "\n",
       ".sc-standalone-var-name{\n",
       "  grid-column: 1/3;\n",
       "}\n",
       "\n",
       ".sc-standalone-var-name span{\n",
       "  padding-left: 25px;\n",
       "  padding-right:10px;\n",
       "}\n",
       "</style><div class='sc-wrap'><div class='sc-header'><div class='sc-obj-type'>scipp.DataArray (19.63 KB)</div></div><ul class='sc-sections'><li class='sc-section-item'><input id='section-853cd553-b035-4cef-89b5-926522d88a6a' class='sc-section-summary-in' type='checkbox' disabled ><label for='section-853cd553-b035-4cef-89b5-926522d88a6a' class='sc-section-summary'  title='Expand/collapse section'>Dimensions:</label><div class='sc-section-inline-details'><ul class='sc-dim-list'><li><span class='sc-has-index'>wavelength</span>: 49</li><li><span class='sc-has-index'>theta</span>: 49</li></ul></div><div class='sc-section-details'></div></li><li class='sc-section-item'><input id='section-202ca47c-868e-4c37-ad2e-81481b770f86' class='sc-section-summary-in' type='checkbox'  checked><label for='section-202ca47c-868e-4c37-ad2e-81481b770f86' class='sc-section-summary' >Coordinates: <span>(2)</span></label><div class='sc-section-inline-details'></div><div class='sc-section-details'><ul class='sc-var-list'><li class='sc-var-item'><div class='sc-var-name'><span class='sc-has-index'>theta</span></div><div class='sc-var-dims'>(theta [bin-edge])</div><div class='sc-var-dtype'>float64</div><div class='sc-var-unit'>deg</div><div class='sc-value-preview sc-preview'><span><div>0.6, 0.61, ..., 1.24, 1.25</div></span></div><input id='attrs-2e1771e4-c4d4-4208-ac48-9b6bace93c36' class='sc-var-attrs-in' type='checkbox' disabled><label for='attrs-2e1771e4-c4d4-4208-ac48-9b6bace93c36' class='sc-hide-icon' title='Show/Hide attributes'><svg class='icon sc-icon-file-text2'><use xlink:href='#icon-file-text2'></use></svg></label><input id='data-dba82b08-368e-4e45-9e66-8f11e87e93cd' class='sc-var-data-in' type='checkbox'><label for='data-dba82b08-368e-4e45-9e66-8f11e87e93cd' title='Show/Hide data repr'><svg class='icon sc-icon-database'><use xlink:href='#icon-database'></use></svg></label><pre class='sc-var-data'>Values:<br>array([0.6       , 0.61326531, 0.62653061, 0.63979592, 0.65306122,\n",
       "       0.66632653, 0.67959184, 0.69285714, 0.70612245, 0.71938776,\n",
       "       0.73265306, 0.74591837, 0.75918367, 0.77244898, 0.78571429,\n",
       "       0.79897959, 0.8122449 , 0.8255102 , 0.83877551, 0.85204082,\n",
       "       0.86530612, 0.87857143, 0.89183673, 0.90510204, 0.91836735,\n",
       "       0.93163265, 0.94489796, 0.95816327, 0.97142857, 0.98469388,\n",
       "       0.99795918, 1.01122449, 1.0244898 , 1.0377551 , 1.05102041,\n",
       "       1.06428571, 1.07755102, 1.09081633, 1.10408163, 1.11734694,\n",
       "       1.13061224, 1.14387755, 1.15714286, 1.17040816, 1.18367347,\n",
       "       1.19693878, 1.21020408, 1.22346939, 1.23673469, 1.25      ])</pre></span></li><li class='sc-var-item'><div class='sc-var-name'><span class='sc-has-index'>wavelength</span></div><div class='sc-var-dims'>(wavelength [bin-edge])</div><div class='sc-var-dtype'>float64</div><div class='sc-var-unit'>Å</div><div class='sc-value-preview sc-preview'><span><div>2.5, 2.76, ..., 14.74, 15.0</div></span></div><input id='attrs-9e0b7d3d-1871-45be-b8da-75ba3b8eb440' class='sc-var-attrs-in' type='checkbox' disabled><label for='attrs-9e0b7d3d-1871-45be-b8da-75ba3b8eb440' class='sc-hide-icon' title='Show/Hide attributes'><svg class='icon sc-icon-file-text2'><use xlink:href='#icon-file-text2'></use></svg></label><input id='data-a0078512-169c-439f-821b-f0aa041591d3' class='sc-var-data-in' type='checkbox'><label for='data-a0078512-169c-439f-821b-f0aa041591d3' title='Show/Hide data repr'><svg class='icon sc-icon-database'><use xlink:href='#icon-database'></use></svg></label><pre class='sc-var-data'>Values:<br>array([ 2.5       ,  2.75510204,  3.01020408,  3.26530612,  3.52040816,\n",
       "        3.7755102 ,  4.03061224,  4.28571429,  4.54081633,  4.79591837,\n",
       "        5.05102041,  5.30612245,  5.56122449,  5.81632653,  6.07142857,\n",
       "        6.32653061,  6.58163265,  6.83673469,  7.09183673,  7.34693878,\n",
       "        7.60204082,  7.85714286,  8.1122449 ,  8.36734694,  8.62244898,\n",
       "        8.87755102,  9.13265306,  9.3877551 ,  9.64285714,  9.89795918,\n",
       "       10.15306122, 10.40816327, 10.66326531, 10.91836735, 11.17346939,\n",
       "       11.42857143, 11.68367347, 11.93877551, 12.19387755, 12.44897959,\n",
       "       12.70408163, 12.95918367, 13.21428571, 13.46938776, 13.7244898 ,\n",
       "       13.97959184, 14.23469388, 14.48979592, 14.74489796, 15.        ])</pre></span></li></ul></div></li><li class='sc-section-item'><input id='section-5d8c1119-d910-4374-8814-5b0ddf1b95f0' class='sc-section-summary-in' type='checkbox'  checked><label for='section-5d8c1119-d910-4374-8814-5b0ddf1b95f0' class='sc-section-summary' >Data: <span>(1)</span></label><div class='sc-section-inline-details'></div><div class='sc-section-details'><ul class='sc-var-list'><li class='sc-var-item'><div class='sc-var-name'><span></span></div><div class='sc-var-dims'>(wavelength, theta)</div><div class='sc-var-dtype'>float32</div><div class='sc-var-unit'></div><div class='sc-value-preview sc-preview'><span><div>0.03, 0.04, ..., 0.68, 0.89</div></span><span><div>σ² = 0.0, 0.0, ..., 0.12, 0.12</div></span></div><input id='attrs-9881bdb9-cf5f-4c7f-9778-129f9558a169' class='sc-var-attrs-in' type='checkbox' disabled><label for='attrs-9881bdb9-cf5f-4c7f-9778-129f9558a169' class='sc-hide-icon' title='Show/Hide attributes'><svg class='icon sc-icon-file-text2'><use xlink:href='#icon-file-text2'></use></svg></label><input id='data-69b05938-6cee-47ca-bbf4-c3aeb6be38e3' class='sc-var-data-in' type='checkbox'><label for='data-69b05938-6cee-47ca-bbf4-c3aeb6be38e3' title='Show/Hide data repr'><svg class='icon sc-icon-database'><use xlink:href='#icon-database'></use></svg></label><pre class='sc-var-data'>Values:<br>array([[0.02925781, 0.03941   , 0.02465811, ..., 0.        , 0.        ,\n",
       "        0.08725017],\n",
       "       [0.19239648, 0.1328884 , 0.05728628, ..., 0.00448411, 0.00316545,\n",
       "        0.        ],\n",
       "       [0.68652207, 0.61731815, 0.40121952, ..., 0.00288055, 0.00976631,\n",
       "        0.00798376],\n",
       "       ...,\n",
       "       [0.87438387, 0.74075246, 0.5220902 , ..., 1.3847905 , 2.0463226 ,\n",
       "        0.95589083],\n",
       "       [1.0020634 , 0.5419848 , 0.85569584, ..., 1.5181466 , 0.8949519 ,\n",
       "        0.7866639 ],\n",
       "       [1.4320025 , 0.7710445 , 1.2188016 , ..., 1.7669736 , 0.6820266 ,\n",
       "        0.8875153 ]], dtype=float32)<br><br>Variances:<br>                       <div>array([[0.02925781, 0.03941   , 0.02465811, ..., 0.        , 0.        ,\n",
       "        0.08725017],\n",
       "       [0.19239648, 0.1328884 , 0.05728628, ..., 0.00448411, 0.00316545,\n",
       "        0.        ],\n",
       "       [0.68652207, 0.61731815, 0.40121952, ..., 0.00288055, 0.00976631,\n",
       "        0.00798376],\n",
       "       ...,\n",
       "       [0.87438387, 0.74075246, 0.5220902 , ..., 1.3847905 , 2.0463226 ,\n",
       "        0.95589083],\n",
       "       [1.0020634 , 0.5419848 , 0.85569584, ..., 1.5181466 , 0.8949519 ,\n",
       "        0.7866639 ],\n",
       "       [1.4320025 , 0.7710445 , 1.2188016 , ..., 1.7669736 , 0.6820266 ,\n",
       "        0.8875153 ]], dtype=float32)</div></pre></li></ul></div></li><li class='sc-section-item'><input id='section-cddbde29-a68a-413a-8107-88d1d6d9da21' class='sc-section-summary-in' type='checkbox'  checked><label for='section-cddbde29-a68a-413a-8107-88d1d6d9da21' class='sc-section-summary' >Attributes: <span>(4)</span></label><div class='sc-section-inline-details'></div><div class='sc-section-details'><ul class='sc-var-list'><li class='sc-var-item'><div class='sc-var-name'><span>experiment_title</span></div><div class='sc-var-dims'>()</div><div class='sc-var-dtype'>string</div><div class='sc-var-unit'></div><div class='sc-value-preview sc-preview'><span><div>commissioning</div></span></div><input id='attrs-8162b328-a46a-466f-8789-ce5d76e3c450' class='sc-var-attrs-in' type='checkbox' disabled><label for='attrs-8162b328-a46a-466f-8789-ce5d76e3c450' class='sc-hide-icon' title='Show/Hide attributes'><svg class='icon sc-icon-file-text2'><use xlink:href='#icon-file-text2'></use></svg></label><input id='data-6baef375-e8ec-4d71-96d3-be97c380b29c' class='sc-var-data-in' type='checkbox'><label for='data-6baef375-e8ec-4d71-96d3-be97c380b29c' title='Show/Hide data repr'><svg class='icon sc-icon-database'><use xlink:href='#icon-database'></use></svg></label><pre class='sc-var-data'>Values:<br>&#x27;commissioning&#x27;</pre></li><li class='sc-var-item'><div class='sc-var-name'><span>instrument_name</span></div><div class='sc-var-dims'>()</div><div class='sc-var-dtype'>string</div><div class='sc-var-unit'></div><div class='sc-value-preview sc-preview'><span><div>AMOR</div></span></div><input id='attrs-6931dcb8-78f1-4027-b841-c6c4359b166d' class='sc-var-attrs-in' type='checkbox' disabled><label for='attrs-6931dcb8-78f1-4027-b841-c6c4359b166d' class='sc-hide-icon' title='Show/Hide attributes'><svg class='icon sc-icon-file-text2'><use xlink:href='#icon-file-text2'></use></svg></label><input id='data-72a58d04-0187-415d-8dcc-9afd8475e9f4' class='sc-var-data-in' type='checkbox'><label for='data-72a58d04-0187-415d-8dcc-9afd8475e9f4' title='Show/Hide data repr'><svg class='icon sc-icon-database'><use xlink:href='#icon-database'></use></svg></label><pre class='sc-var-data'>Values:<br>&#x27;AMOR&#x27;</pre></li><li class='sc-var-item'><div class='sc-var-name'><span>sample_position</span></div><div class='sc-var-dims'>()</div><div class='sc-var-dtype'>vector_3_float64</div><div class='sc-var-unit'>m</div><div class='sc-value-preview sc-preview'><span><div>[0. 0. 0.]</div></span></div><input id='attrs-ff5059d8-a8d1-44f1-9aef-3a36102ee31d' class='sc-var-attrs-in' type='checkbox' disabled><label for='attrs-ff5059d8-a8d1-44f1-9aef-3a36102ee31d' class='sc-hide-icon' title='Show/Hide attributes'><svg class='icon sc-icon-file-text2'><use xlink:href='#icon-file-text2'></use></svg></label><input id='data-9e60c653-1b59-4765-af13-cc57c0261b74' class='sc-var-data-in' type='checkbox'><label for='data-9e60c653-1b59-4765-af13-cc57c0261b74' title='Show/Hide data repr'><svg class='icon sc-icon-database'><use xlink:href='#icon-database'></use></svg></label><pre class='sc-var-data'>Values:<br>array([0., 0., 0.])</pre></li><li class='sc-var-item'><div class='sc-var-name'><span>source_position</span></div><div class='sc-var-dims'>()</div><div class='sc-var-dtype'>vector_3_float64</div><div class='sc-var-unit'>m</div><div class='sc-value-preview sc-preview'><span><div>[  0.   0. -15.]</div></span></div><input id='attrs-1f25643a-278e-45d6-838f-728b7b5eaee7' class='sc-var-attrs-in' type='checkbox' disabled><label for='attrs-1f25643a-278e-45d6-838f-728b7b5eaee7' class='sc-hide-icon' title='Show/Hide attributes'><svg class='icon sc-icon-file-text2'><use xlink:href='#icon-file-text2'></use></svg></label><input id='data-a507d951-7c58-45f5-ae6b-747a853ac554' class='sc-var-data-in' type='checkbox'><label for='data-a507d951-7c58-45f5-ae6b-747a853ac554' title='Show/Hide data repr'><svg class='icon sc-icon-database'><use xlink:href='#icon-database'></use></svg></label><pre class='sc-var-data'>Values:<br>array([  0.,   0., -15.])</pre></li></ul></div></li></ul></div></div>"
      ],
      "text/plain": [
       "<scipp.DataArray>\n",
       "Dimensions: {{wavelength, 49}, {theta, 49}}\n",
       "Coordinates:\n",
       "  theta                     float64    [deg]            (theta [bin-edge])  [0.600000, 0.613265, ..., 1.236735, 1.250000]\n",
       "  wavelength                float64    [Å]             (wavelength [bin-edge])  [2.500000, 2.755102, ..., 14.744898, 15.000000]\n",
       "Data:\n",
       "                            float32    [dimensionless]  (wavelength, theta)  [0.029258, 0.039410, ..., 0.682027, 0.887515]  [0.000172, 0.000156, ..., 0.124597, 0.122891]\n",
       "Attributes:\n",
       "  experiment_title          string     [dimensionless]  ()  [\"commissioning\"]\n",
       "  instrument_name           string     [dimensionless]  ()  [\"AMOR\"]\n",
       "  sample_position           vector_3_float64  [m]              ()  [(0.000000, 0.000000, 0.000000)]\n",
       "  source_position           vector_3_float64  [m]              ()  [(0.000000, 0.000000, -15.000000)]\n"
      ]
     },
     "execution_count": 9,
     "metadata": {},
     "output_type": "execute_result"
    }
   ],
   "source": [
    "lambda_theta"
   ]
  },
  {
   "cell_type": "code",
   "execution_count": 10,
   "id": "hollow-practitioner",
   "metadata": {
    "scrolled": false
   },
   "outputs": [
    {
     "data": {
      "application/vnd.jupyter.widget-view+json": {
       "model_id": "26515edc7c57494ca90d3ba42a15568c",
       "version_major": 2,
       "version_minor": 0
      },
      "text/plain": [
       "VBox(children=(HBox(children=(VBox(children=(Button(icon='home', layout=Layout(padding='0px 0px 0px 0px', widt…"
      ]
     },
     "metadata": {},
     "output_type": "display_data"
    }
   ],
   "source": [
    "sc.plot(lambda_theta, norm='log')"
   ]
  },
  {
   "cell_type": "code",
   "execution_count": 11,
   "id": "knowing-ukraine",
   "metadata": {},
   "outputs": [],
   "source": [
    "q_bins = np.linspace(0.007, 0.09, 200)\n",
    "q = norm.q_bin(q_bins)"
   ]
  },
  {
   "cell_type": "markdown",
   "id": "stuck-return",
   "metadata": {},
   "source": [
    "As can be done for the $q_z$-binned data."
   ]
  },
  {
   "cell_type": "code",
   "execution_count": 12,
   "id": "closing-recording",
   "metadata": {},
   "outputs": [
    {
     "name": "stderr",
     "output_type": "stream",
     "text": [
      "/Users/andrewmccluskey/anaconda3/envs/scipp_with_mantid/lib/python3.7/scipp/plotting/figure1d.py:353: UserWarning: Attempted to set non-positive bottom ylim on a log-scaled axis.\n",
      "Invalid limit will be ignored.\n",
      "  self.ax.set_ylim(vmin, vmax)\n"
     ]
    },
    {
     "data": {
      "application/vnd.jupyter.widget-view+json": {
       "model_id": "9ed0f3e81b8b45519287a9e8382ca830",
       "version_major": 2,
       "version_minor": 0
      },
      "text/plain": [
       "VBox(children=(HBox(children=(VBox(children=(Button(icon='home', layout=Layout(padding='0px 0px 0px 0px', widt…"
      ]
     },
     "metadata": {},
     "output_type": "display_data"
    }
   ],
   "source": [
    "fig = sc.plot(q, norm='log')\n",
    "fig.ax.set_ylim((1e-3, 10))\n",
    "fig"
   ]
  },
  {
   "cell_type": "markdown",
   "id": "seeing-block",
   "metadata": {},
   "source": [
    "This data can be written to an [ORSO](https://reflectometry.org)-compatible data file. "
   ]
  },
  {
   "cell_type": "code",
   "execution_count": 13,
   "id": "advanced-dragon",
   "metadata": {},
   "outputs": [],
   "source": [
    "norm.write_reflectometry('output.ort', bin_kwargs={'bins': q_bins})"
   ]
  },
  {
   "cell_type": "code",
   "execution_count": 14,
   "id": "usual-semiconductor",
   "metadata": {
    "scrolled": true
   },
   "outputs": [
    {
     "name": "stdout",
     "output_type": "stream",
     "text": [
      "# # ORSO reflectivity data file | 0.1 standard | YAML encoding | https://reflectometry.org\r\n",
      "# creator:\r\n",
      "#   name: Andrew McCluskey\r\n",
      "#   time: '2021-04-21T13:39:01'\r\n",
      "#   system: CI0021603\r\n",
      "#   affiliation: European Spallation Source\r\n",
      "# data_source:\r\n",
      "#   experiment_date: '2020-06-21'\r\n",
      "#   experiment:\r\n",
      "#     instrument: AMOR\r\n"
     ]
    }
   ],
   "source": [
    "!head output.ort"
   ]
  },
  {
   "cell_type": "code",
   "execution_count": null,
   "id": "incredible-kansas",
   "metadata": {},
   "outputs": [],
   "source": []
  }
 ],
 "metadata": {
  "kernelspec": {
   "display_name": "Python 3",
   "language": "python",
   "name": "python3"
  },
  "language_info": {
   "codemirror_mode": {
    "name": "ipython",
    "version": 3
   },
   "file_extension": ".py",
   "mimetype": "text/x-python",
   "name": "python",
   "nbconvert_exporter": "python",
   "pygments_lexer": "ipython3",
   "version": "3.7.10"
  }
 },
 "nbformat": 4,
 "nbformat_minor": 5
}
