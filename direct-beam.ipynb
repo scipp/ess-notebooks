{
 "cells": [
  {
   "cell_type": "markdown",
   "metadata": {},
   "source": [
    "# SANS Direct Beam Iteration\n",
    "\n",
    "This notebook is used for the iterative proceedure of determining the wavelength-dependent direct-beam spectrum, a factor in the normalization term required in SANS data reduction.\n",
    "For the LoKI detectors this factor is thought to also depend on the layer of straws, or even the individual straw.\n",
    "\n",
    "In this annotated notebook we are also demoing various ways scipp and scipp's plotting can be used for visualizations and determining and defining masks.\n",
    "\n",
    "## Definitions\n",
    "\n",
    "We start by defining functions required for the direct-beam iteration. We suggest to simply run these cells initially, and come back later for a closer look at the code, if desired."
   ]
  },
  {
   "cell_type": "code",
   "execution_count": null,
   "metadata": {},
   "outputs": [],
   "source": [
    "import scipp as sc\n",
    "import numpy as np\n",
    "import sans\n",
    "import contrib"
   ]
  },
  {
   "cell_type": "markdown",
   "metadata": {},
   "source": [
    "Helper function for running a 1D Mantid fit on all slices of a 2D array:"
   ]
  },
  {
   "cell_type": "code",
   "execution_count": null,
   "metadata": {},
   "outputs": [],
   "source": [
    "def fit_gauss_coil(data, flat_background):\n",
    "    import functools\n",
    "    import gauss_coil_fit1\n",
    "    model = \"polyGaussCoil\"\n",
    "    params = f\"I0=60.0,Rg=50.0,Mw_by_Mn=1.02,Background={flat_background.value}\"\n",
    "    ties = \"Rg=50.0,Mw_by_Mn=1.02\"\n",
    "    def fit_layer(i):\n",
    "        return sc.neutron.fit(data['layer', i],\n",
    "                              mantid_args={'Function':f'name={model},{params}', 'Ties':ties})\n",
    "    params, diff = zip(*map(fit_layer, range(data.coords['layer'].shape[0])))\n",
    "    concat = functools.partial(sc.concatenate, dim='layer')\n",
    "    return functools.reduce(concat, params), functools.reduce(concat, diff)"
   ]
  },
  {
   "cell_type": "code",
   "execution_count": null,
   "metadata": {},
   "outputs": [],
   "source": [
    "def normalize_and_subtract(sample, background):\n",
    "    sample_norm = sample['data'] / sample['norm']\n",
    "    background_norm = background['data'] / background['norm']\n",
    "    return sample_norm - background_norm\n",
    "\n",
    "def q_range_mask(wavelength):\n",
    "    # Ratio of reduced_band / reduced is averaged (integrated) over wavelength-dependent interval\n",
    "    inv_w = sc.reciprocal(wavelength)\n",
    "    dim = inv_w.dims[0]\n",
    "    d_inv_w = sc.concatenate(inv_w[dim,1:], inv_w[dim,:-1], 'bound') - inv_w[dim,-1]\n",
    "    q_range = qlongW + d_inv_w * (qshortW - qlongW) / (inv_w[dim,0] - inv_w[dim,-1])\n",
    "    qmin = q_range['bound',0]\n",
    "    qmax = q_range['bound',1]\n",
    "    return sc.greater(qmin, q_bins['Q',:-1]) | sc.less(qmax, q_bins['Q',1:])\n",
    "\n",
    "def interpolate_cubic_spline(data, x, dim):\n",
    "    import functools\n",
    "    from scipy import interpolate\n",
    "    def interpolate_layer(i):\n",
    "        tck = interpolate.splrep(\n",
    "            x=contrib.midpoints(data.coords[dim], dim).values,\n",
    "            y=data['layer',i].values,\n",
    "            w=1.0/np.sqrt(data['layer',i].variances))\n",
    "        # TODO uncertainties\n",
    "        return sc.Variable(dims=[dim], values=interpolate.splev(x.values, tck))\n",
    "    y = map(interpolate_layer, range(data.coords['layer'].shape[0]))\n",
    "    concat = functools.partial(sc.concatenate, dim='layer')\n",
    "    return sc.DataArray(data=functools.reduce(concat, y), coords={dim:x})\n",
    "\n",
    "def to_q_by_wavelength(data, transmission, direct_beam, direct_beam_transmission, masks, wavelength_bands):\n",
    "    wav = sans.to_wavelength(data=data,\n",
    "                             transmission=transmission,\n",
    "                             direct_beam=direct_beam,\n",
    "                             direct_beam_transmission=direct_beam_transmission,\n",
    "                             masks=masks,\n",
    "                             wavelength_bins=wavelength_bins)\n",
    "    return sans.reduce_by_wavelength(wav, q_bins, groupby='layer', wavelength_bands=wavelength_bands)\n",
    "\n",
    "def direct_beam_iteration(direct_beam, layers, masks, wavelength_bands, flat_background=0.25*sc.units.one):\n",
    "    print('start iteration')\n",
    "    direct_beam = direct_beam.copy()\n",
    "    direct_beam_by_pixel = sc.choose(layers, choices=direct_beam, dim='layer')\n",
    "    sample_q_lambda = to_q_by_wavelength(data=sample,\n",
    "                                         transmission=sample_trans,\n",
    "                                         direct_beam=direct_beam_by_pixel,\n",
    "                                         direct_beam_transmission=background_trans, # note: background_trans\n",
    "                                         masks=masks,\n",
    "                                         wavelength_bands=wavelength_bands)\n",
    "    background_q_lambda = to_q_by_wavelength(data=background,\n",
    "                                             transmission=background_trans,\n",
    "                                             direct_beam=direct_beam_by_pixel,\n",
    "                                             direct_beam_transmission=background_trans, # note: same as transmission\n",
    "                                             masks=masks,\n",
    "                                             wavelength_bands=wavelength_bands)\n",
    "\n",
    "    # reduced by wavelength band\n",
    "    reduced_by_wavelength = normalize_and_subtract(sample_q_lambda, background_q_lambda)\n",
    "    \n",
    "    # sum wavelength bands to reduce for full range\n",
    "    sample_q1d = sc.sum(sample_q_lambda, 'wavelength')\n",
    "    background_q1d = sc.sum(background_q_lambda, 'wavelength')\n",
    "    reduced = normalize_and_subtract(sample_q1d, background_q1d)\n",
    "    \n",
    "    # store I(Q) before scaling for inspecting intermediate terms\n",
    "    direct_beam.attrs['I(Q)'] = sc.Variable(value=reduced)\n",
    "    direct_beam.attrs['I(Q,lambda)'] = sc.Variable(value=reduced_by_wavelength)\n",
    "    \n",
    "    params, diff = fit_gauss_coil(contrib.select_bins(reduced, 'Q', qlongW['bound', 0], qshortW['bound', 1]),\n",
    "                                  flat_background=flat_background)\n",
    "    scale = I0_expected / params['parameter', 0].data\n",
    "    reduced_by_wavelength *= scale\n",
    "    reduced *= scale\n",
    "    direct_beam /= scale\n",
    "    ratio = (reduced_by_wavelength - flat_background) / (reduced - flat_background)\n",
    "    ratio.masks['Q-range-mask'] = q_range_mask(wavelength_bands)\n",
    "    norm = 1.0*sc.units.one + damp*(sc.mean(ratio, 'Q') - 1.0*sc.units.one)\n",
    "    splined = interpolate_cubic_spline(norm, direct_beam.coords['wavelength'], 'wavelength')\n",
    "    direct_beam *= splined\n",
    "    \n",
    "    # store some information for inspecting intermediate terms\n",
    "    direct_beam.attrs['fit'] = sc.Variable(value=diff)\n",
    "    direct_beam.attrs['knots'] = sc.Variable(value=norm)\n",
    "    direct_beam.attrs['spline'] = sc.Variable(value=splined)\n",
    "    \n",
    "    return direct_beam"
   ]
  },
  {
   "cell_type": "markdown",
   "metadata": {},
   "source": [
    "Set filenames to use for the data reduction and iteration:"
   ]
  },
  {
   "cell_type": "code",
   "execution_count": null,
   "metadata": {},
   "outputs": [],
   "source": [
    "import os\n",
    "\n",
    "try:\n",
    "    import dataconfig # run make_config.py to create this\n",
    "except:\n",
    "    print(\"ERROR: dataconfig.py not find please run `make_config.py`\\n\")\n",
    "    !python make_config.py -h # change to `-f path` or run in terminal\n",
    "\n",
    "path = os.path.join(dataconfig.data_root, 'ess', 'loki', 'tube-calibration')\n",
    "direct_beam_file = 'DirectBeam_20feb_full_v3.dat' # same as DirectBeam_28Apr2020.dat\n",
    "moderator_file = 'ModeratorStdDev_TS2_SANS_LETexptl_07Aug2015.txt'\n",
    "sample_run_number = 49338\n",
    "sample_transmission_run_number = 49339\n",
    "background_run_number = 49334\n",
    "background_transmission_run_number = 49335\n",
    "\n",
    "def load_larmor(run_number):\n",
    "    return sc.neutron.load(filename=f'{path}/LARMOR000{run_number}.nxs')\n",
    "\n",
    "def load_rkh(filename):\n",
    "    return sc.neutron.load(\n",
    "           filename=filename,\n",
    "           mantid_alg='LoadRKH',\n",
    "           mantid_args={'FirstColumnValue':'Wavelength'})"
   ]
  },
  {
   "cell_type": "code",
   "execution_count": null,
   "metadata": {},
   "outputs": [],
   "source": [
    "def load_mask(idf, mask):\n",
    "    return sc.neutron.load(\n",
    "           filename=idf,\n",
    "           mantid_alg='LoadMask',\n",
    "           mantid_args={'InputFile':mask})"
   ]
  },
  {
   "cell_type": "markdown",
   "metadata": {},
   "source": [
    "Load files:"
   ]
  },
  {
   "cell_type": "code",
   "execution_count": null,
   "metadata": {},
   "outputs": [],
   "source": [
    "%%time\n",
    "sample_trans = load_larmor(sample_transmission_run_number)\n",
    "sample = load_larmor(sample_run_number)\n",
    "background_trans = load_larmor(background_transmission_run_number)\n",
    "background = load_larmor(background_run_number)"
   ]
  },
  {
   "cell_type": "markdown",
   "metadata": {},
   "source": [
    "Mantid mask files could be loaded as follows:"
   ]
  },
  {
   "cell_type": "code",
   "execution_count": null,
   "metadata": {},
   "outputs": [],
   "source": [
    "idf_filename = f'{path}/LARMOR_Definition.xml'\n",
    "mask_filename = f'{path}/Mask_full.xml'\n",
    "mask = sc.neutron.load(filename=idf_filename, mantid_alg='LoadMask', mantid_args={'InputFile':mask_filename})\n",
    "sc.neutron.instrument_view(mask, pixel_size=0.01)"
   ]
  },
  {
   "cell_type": "markdown",
   "metadata": {},
   "source": [
    "## Visualizations and mask setup\n",
    "\n",
    "A central requirement during commissioning and operation are visualizations for raw data to find, e.g., broken detectors or other artifacts that need to be masked.\n",
    "The data array with our raw data looks as follows:"
   ]
  },
  {
   "cell_type": "code",
   "execution_count": null,
   "metadata": {},
   "outputs": [],
   "source": [
    "sample"
   ]
  },
  {
   "cell_type": "markdown",
   "metadata": {},
   "source": [
    "### Straw plot against real X"
   ]
  },
  {
   "cell_type": "code",
   "execution_count": null,
   "metadata": {},
   "outputs": [],
   "source": [
    "vals = sample.values"
   ]
  },
  {
   "cell_type": "code",
   "execution_count": null,
   "metadata": {
    "scrolled": false
   },
   "outputs": [],
   "source": [
    "from loki import LoKI\n",
    "loki = LoKI()\n",
    "from scipp.plot import plot\n",
    "spectrum_counts = sc.sum(sample, 'tof') # sum is optional, could also keep TOF\n",
    "spectrum_counts.coords['pixel'] = sc.geometry.x(sample.coords['position'])\n",
    "pixel_counts = loki.to_logical_dims(spectrum_counts) # reshape\n",
    "plot(pixel_counts, norm='log', axes={'y':'tube', 'x':'pixel'})"
   ]
  },
  {
   "cell_type": "markdown",
   "metadata": {},
   "source": [
    "### Bad straws\n",
    "\n",
    "The LoKI detectors are tubes containing 7 straws each, and there are multiple layers of tubes.\n",
    "This makes finding, e.g., broken straws in the instrument view difficult and tedious.\n",
    "With scipp we can reshape our data to match this logical layer and sum, e.g., over time-of-flight and pixels within straws.\n",
    "This yields:"
   ]
  },
  {
   "cell_type": "code",
   "execution_count": null,
   "metadata": {},
   "outputs": [],
   "source": [
    "from scipp.plot import plot\n",
    "from loki import LoKI\n",
    "loki = LoKI()\n",
    "spectrum_counts = sc.sum(sample, 'tof') # sum is optional, could also keep TOF\n",
    "pixel_counts = loki.to_logical_dims(spectrum_counts) # reshape\n",
    "straw_counts = sc.sum(pixel_counts, 'pixel')\n",
    "plot(straw_counts, norm='log', vmin=1, vmax=1e7)"
   ]
  },
  {
   "cell_type": "markdown",
   "metadata": {},
   "source": [
    "In this case we observe 4 straws with 0 counts as well as 4 straws with very low counts.\n",
    "We can define a mask for these using a small LoKI-specific helper:"
   ]
  },
  {
   "cell_type": "code",
   "execution_count": null,
   "metadata": {},
   "outputs": [],
   "source": [
    "bad_straws = sc.Variable(dims=['spectrum'], shape=sample.coords['spectrum'].shape, dtype=sc.dtype.bool)\n",
    "mask = sc.Variable(value=True)\n",
    "bad_straws[loki.straw(tube=0, straw=6)] |= mask\n",
    "bad_straws[loki.straw(tube=1, straw=2)] |= mask\n",
    "bad_straws[loki.straw(tube=5, straw=1)] |= mask\n",
    "for straw in 1,2,3,4,5:\n",
    "    bad_straws[loki.straw(tube=12, straw=straw)] |= mask\n",
    "sample.masks['bad-straws'] = bad_straws"
   ]
  },
  {
   "cell_type": "markdown",
   "metadata": {},
   "source": [
    "We may also want to inspect and compare individual straws.\n",
    "This just serves an example here with no actual artifacts visible in this case:"
   ]
  },
  {
   "cell_type": "code",
   "execution_count": null,
   "metadata": {
    "scrolled": false
   },
   "outputs": [],
   "source": [
    "plot({f'tube-{tube}-straw{straw}':pixel_counts['tube', tube]['straw', straw]\n",
    "      for tube, straw in [(1,3),(3,5),(4,0),(11,3)]}, norm='log', marker='.')"
   ]
  },
  {
   "cell_type": "markdown",
   "metadata": {},
   "source": [
    "### Bad pixels\n",
    "\n",
    "Due to readout electronics issues there are also ranges of pixels within certain straws in the high-intensity are near the beam.\n",
    "We use the array of pixel counts computed above, but do not sum pixels with a straw this time.\n",
    "This results in a 3D volume and we can use the sliders in the slice viewer to inspect individual straws:"
   ]
  },
  {
   "cell_type": "code",
   "execution_count": null,
   "metadata": {},
   "outputs": [],
   "source": [
    "plot(pixel_counts, vmax=100, axes={'x':'pixel', 'y':'tube'})"
   ]
  },
  {
   "cell_type": "markdown",
   "metadata": {},
   "source": [
    "The dark blue areas near the center are the areas that require masking.\n",
    "Instead of listing those pixels directly we would like to mask pixels with zero counts.\n",
    "Towards the tube ends there are \"real\" zeros though (area with actual low count rates), so we use a combined condition with distance from the beam center:"
   ]
  },
  {
   "cell_type": "code",
   "execution_count": null,
   "metadata": {},
   "outputs": [],
   "source": [
    "pos = sc.neutron.position(sample)\n",
    "x = sc.geometry.x(pos)\n",
    "y = sc.geometry.y(pos)\n",
    "counts = spectrum_counts.data\n",
    "counts.variances = None # TODO support comparison with variances\n",
    "sample.masks['electronics-error'] = sc.less(sc.abs(x), 0.2 * sc.units.m) \\\n",
    "                                  & sc.less(sc.abs(y), 0.03 * sc.units.m) \\\n",
    "                                  & sc.equal(counts, 0.0 * sc.units.counts)\n",
    "print(f\"Masking {sc.sum(sample.masks['electronics-error'], 'spectrum').value} bad pixels due to electronics error.\")"
   ]
  },
  {
   "cell_type": "markdown",
   "metadata": {},
   "source": [
    "### Beam stop\n",
    "\n",
    "We use a simple geometric condition to mask the beam stop.\n",
    "This will likely require refinement in the future, e.g., taking into account also `z`:"
   ]
  },
  {
   "cell_type": "code",
   "execution_count": null,
   "metadata": {},
   "outputs": [],
   "source": [
    "# Note that this needs more tuning and masks too much. Better do this after moving detectors?\n",
    "sample.masks['beam-stop'] = sc.less(sc.abs(x), 0.03 * sc.units.m) \\\n",
    "                          & sc.less(y, 0.028 * sc.units.m) \\\n",
    "                          & sc.greater(y, -0.016 * sc.units.m)"
   ]
  },
  {
   "cell_type": "markdown",
   "metadata": {},
   "source": [
    "### Tube ends\n",
    "\n",
    "The ends of the LoKI tubes are ouside the beam area in the tests at LARMOR and need to be masked:"
   ]
  },
  {
   "cell_type": "code",
   "execution_count": null,
   "metadata": {},
   "outputs": [],
   "source": [
    "sample.masks['tube-ends'] = sc.greater(x, 0.36 * sc.units.m) \\\n",
    "                          | sc.less(x, -0.36 * sc.units.m)"
   ]
  },
  {
   "cell_type": "markdown",
   "metadata": {},
   "source": [
    "### Overview\n",
    "\n",
    "We can recompute the pixel counts to see the various masks we have defined:"
   ]
  },
  {
   "cell_type": "code",
   "execution_count": null,
   "metadata": {},
   "outputs": [],
   "source": [
    "pixel_counts = loki.to_logical_dims(sc.sum(sample, 'tof'))\n",
    "plot(pixel_counts, vmax=1000, axes={'x':'pixel', 'y':'tube'})"
   ]
  },
  {
   "cell_type": "markdown",
   "metadata": {},
   "source": [
    "### Instrument view\n",
    "\n",
    "Standard instrument view showing all pixels.\n",
    "Not that masks can be hidden or shown in different colors using the widgets:"
   ]
  },
  {
   "cell_type": "code",
   "execution_count": null,
   "metadata": {},
   "outputs": [],
   "source": [
    "loki.instrument_view(sample, norm='log')"
   ]
  },
  {
   "cell_type": "markdown",
   "metadata": {},
   "source": [
    "Alternatively, we can use `groupby` to group pixels based on some criterion and then use the `copy` method to extract the desired group.\n",
    "\n",
    "#### Show single layer\n",
    "\n",
    "Note: This cell can be skipped.\n",
    "\n",
    "Detectors with multiple layers are not adequately visualized in a normal instrument view since internal pixels are invisible.\n",
    "We can selected layers of choice and show them individually:"
   ]
  },
  {
   "cell_type": "code",
   "execution_count": null,
   "metadata": {},
   "outputs": [],
   "source": [
    "from loki import LoKI\n",
    "loki = LoKI()\n",
    "sample.coords['layer'] = loki.layers()\n",
    "sc.neutron.instrument_view(sc.groupby(sample, 'layer').copy(group=1), norm='log')"
   ]
  },
  {
   "cell_type": "code",
   "execution_count": null,
   "metadata": {},
   "outputs": [],
   "source": [
    "del sample.coords['layer']"
   ]
  },
  {
   "cell_type": "markdown",
   "metadata": {},
   "source": [
    "#### Show pixels with low number of counts\n",
    "\n",
    "Note: This cell can be skipped.\n",
    "\n",
    "Using the same mechanism we can create nearly arbitrary other visualizations of the instrument.\n",
    "For example, we may want to inspect all pixels with low counts rates, e.g., to find issues with detectors.\n",
    "In this case mask all pixels with less than 100 counts and can check whether we indeed masked all relevant features:"
   ]
  },
  {
   "cell_type": "code",
   "execution_count": null,
   "metadata": {},
   "outputs": [],
   "source": [
    "sample.coords['low-counts'] = sc.less(counts, 100.0*sc.units.counts)\n",
    "sc.neutron.instrument_view(sc.sum(sc.groupby(sample, 'low-counts').copy(group=1), 'tof'))"
   ]
  },
  {
   "cell_type": "code",
   "execution_count": null,
   "metadata": {},
   "outputs": [],
   "source": [
    "del sample.coords['low-counts']"
   ]
  },
  {
   "cell_type": "markdown",
   "metadata": {},
   "source": [
    "### Promt pulse mask\n",
    "\n",
    "We use a comparison of time-of-flight to define a promt-pulse mask:"
   ]
  },
  {
   "cell_type": "code",
   "execution_count": null,
   "metadata": {},
   "outputs": [],
   "source": [
    "tof = sample.coords['tof']\n",
    "sample.masks['prompt-pulse'] = sc.less(tof['tof',1:], 1500.0 * sc.units.us) | \\\n",
    "                              (sc.greater(tof['tof',:-1], 17500.0 * sc.units.us) & \\\n",
    "                               sc.less(tof['tof',1:], 19000.0 * sc.units.us))"
   ]
  },
  {
   "cell_type": "markdown",
   "metadata": {},
   "source": [
    "## Reduction and direct-beam iteration\n",
    "\n",
    "We are now ready to proceed with the actual direct-beam iteration.\n",
    "\n",
    "Move sample and detectors to their actual positions:"
   ]
  },
  {
   "cell_type": "code",
   "execution_count": null,
   "metadata": {},
   "outputs": [],
   "source": [
    "%%time\n",
    "dtype = sample.coords['position'].dtype\n",
    "sample_pos_offset = sc.Variable(value=[0.0, 0.0, 0.30530], unit=sc.units.m, dtype=dtype)\n",
    "bench_pos_offset = sc.Variable(value=[0.0, 0.001, 0.0], unit=sc.units.m, dtype=dtype)\n",
    "for item in [sample, sample_trans, background, background_trans]:\n",
    "    item.coords['sample-position'] += sample_pos_offset\n",
    "    item.coords['position'] += bench_pos_offset"
   ]
  },
  {
   "cell_type": "markdown",
   "metadata": {},
   "source": [
    "Define desired $Q$ and $\\lambda$ binning:"
   ]
  },
  {
   "cell_type": "code",
   "execution_count": null,
   "metadata": {},
   "outputs": [],
   "source": [
    "q_bins = sc.Variable(\n",
    "    dims=['Q'],\n",
    "    unit=sc.units.one/sc.units.angstrom,\n",
    "    values=np.geomspace(0.007999, 0.6, num=55))\n",
    "wavelength_bins = sc.Variable(\n",
    "    dims=['wavelength'],\n",
    "    unit=sc.units.angstrom,\n",
    "    values=np.geomspace(1.0, 12.9, num=110))\n",
    "wavelength_bands = sc.Variable(\n",
    "    dims=['wavelength'],\n",
    "    unit=sc.units.angstrom,\n",
    "    values=np.geomspace(1.0,12.0,num=10))"
   ]
  },
  {
   "cell_type": "markdown",
   "metadata": {},
   "source": [
    "Parameters required for iteration:"
   ]
  },
  {
   "cell_type": "code",
   "execution_count": null,
   "metadata": {},
   "outputs": [],
   "source": [
    "I0_expected = 55.77 * sc.units.one"
   ]
  },
  {
   "cell_type": "code",
   "execution_count": null,
   "metadata": {},
   "outputs": [],
   "source": [
    "qlongW = sc.Variable(dims=['bound'], unit=q_bins.unit, values=[0.008, 0.05])\n",
    "qshortW = sc.Variable(dims=['bound'], unit=q_bins.unit, values=[0.1, 0.22])\n",
    "damp = 1.0*sc.units.one"
   ]
  },
  {
   "cell_type": "markdown",
   "metadata": {},
   "source": [
    "Load direct beam \"starting guess\" and use it for all layers:"
   ]
  },
  {
   "cell_type": "code",
   "execution_count": null,
   "metadata": {},
   "outputs": [],
   "source": [
    "%%time\n",
    "from loki import LoKI\n",
    "loki = LoKI()\n",
    "layers = loki.layers()\n",
    "n_layer = sc.max(layers).value + 1\n",
    "direct_beam = load_rkh(filename=f'{path}/{direct_beam_file}')\n",
    "# Use same starting value for all layers\n",
    "direct_beam = sc.Variable(dims=['layer'], values=np.ones(n_layer)) * direct_beam\n",
    "direct_beam.coords['layer'] = sc.Variable(dims=['layer'], dtype=sc.dtype.int32, values=np.arange(n_layer))"
   ]
  },
  {
   "cell_type": "markdown",
   "metadata": {},
   "source": [
    "Run the actual iteration.\n",
    "Internally this is essentially computing 3D $I(\\text{layer}, \\lambda\\text{-band},Q)$, i.e., $I(Q)$ as produced by a normal SANS data reduction, but with 2 extra dimensions.\n",
    "This is then used to compute corrections to the current direct-beam:"
   ]
  },
  {
   "cell_type": "code",
   "execution_count": null,
   "metadata": {
    "scrolled": false
   },
   "outputs": [],
   "source": [
    "%%time\n",
    "direct_beams = [direct_beam]\n",
    "for i in range(4):\n",
    "    direct_beams.append(direct_beam_iteration(direct_beams[-1],\n",
    "                                              layers=layers,\n",
    "                                              masks=sample.masks,\n",
    "                                              wavelength_bands=wavelength_bands))\n",
    "direct_beams = sc.Dataset({f'iteration-{i}':item for i, item in enumerate(direct_beams)})"
   ]
  },
  {
   "cell_type": "markdown",
   "metadata": {},
   "source": [
    "The direct-beam iteration is a process that requires experimentation and inspection of intermediate terms and results.\n",
    "We can plot the direct beam at individual iterations, or for individual layers.\n",
    "Intermediate terms such as fit results or $I(\\text{layer}, \\lambda\\text{-band},Q)$ are stored as attributes:"
   ]
  },
  {
   "cell_type": "code",
   "execution_count": null,
   "metadata": {},
   "outputs": [],
   "source": [
    "direct_beams[f'iteration-1'].attrs['I(Q,lambda)'].value"
   ]
  },
  {
   "cell_type": "code",
   "execution_count": null,
   "metadata": {},
   "outputs": [],
   "source": [
    "direct_beams[f'iteration-1']['layer',1]"
   ]
  },
  {
   "cell_type": "markdown",
   "metadata": {},
   "source": [
    "Examples of results and intermediate terms are plotted below:"
   ]
  },
  {
   "cell_type": "code",
   "execution_count": null,
   "metadata": {},
   "outputs": [],
   "source": [
    "from scipp.plot import plot\n",
    "plot(direct_beams['layer',1], marker='.')\n",
    "plot(sc.collapse(direct_beams['iteration-4'], keep='wavelength'), marker='.')"
   ]
  },
  {
   "cell_type": "code",
   "execution_count": null,
   "metadata": {},
   "outputs": [],
   "source": [
    "plot(sc.collapse(direct_beams['iteration-4'].attrs['knots'].value['wavelength',:130], keep='wavelength'))"
   ]
  },
  {
   "cell_type": "code",
   "execution_count": null,
   "metadata": {},
   "outputs": [],
   "source": [
    "plot(sc.collapse(direct_beams['iteration-4'].attrs['spline'].value['wavelength',:130], keep='wavelength'))"
   ]
  },
  {
   "cell_type": "code",
   "execution_count": null,
   "metadata": {},
   "outputs": [],
   "source": [
    "iteration = 1\n",
    "layer = 1\n",
    "\n",
    "def wav_band_label(coord, i):\n",
    "    left = coord['wavelength', i].value\n",
    "    right = coord['wavelength', i+1].value\n",
    "    return f'{round(left,2)}-{round(right,2)} {coord.unit}'\n",
    "\n",
    "db = direct_beams[f'iteration-{iteration}']\n",
    "I = db.attrs['I(Q,lambda)'].value['layer',layer]\n",
    "items = {wav_band_label(I.coords['wavelength'], i):I['wavelength', i]\n",
    "         for i in range(len(I.coords['wavelength'].values)-1)}\n",
    "items['full range'] = db.attrs['I(Q)'].value['layer',layer]\n",
    "items['fit'] = db.attrs['fit'].value['layer',layer]['calculated']\n",
    "plot(items, norm='log')"
   ]
  },
  {
   "cell_type": "code",
   "execution_count": null,
   "metadata": {},
   "outputs": [],
   "source": [
    "layer_index = 1\n",
    "for i in 1,2,4:\n",
    "    from IPython.display import display\n",
    "    display(plot(direct_beams[f'iteration-{i}'].attrs['fit'].value['layer', layer_index]))"
   ]
  },
  {
   "cell_type": "code",
   "execution_count": null,
   "metadata": {},
   "outputs": [],
   "source": []
  }
 ],
 "metadata": {
  "kernelspec": {
   "display_name": "Python 3",
   "language": "python",
   "name": "python3"
  },
  "language_info": {
   "codemirror_mode": {
    "name": "ipython",
    "version": 3
   },
   "file_extension": ".py",
   "mimetype": "text/x-python",
   "name": "python",
   "nbconvert_exporter": "python",
   "pygments_lexer": "ipython3",
   "version": "3.8.3"
  }
 },
 "nbformat": 4,
 "nbformat_minor": 4
}
