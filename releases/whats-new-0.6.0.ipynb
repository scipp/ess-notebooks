{
 "cells": [
  {
   "cell_type": "markdown",
   "metadata": {},
   "source": [
    "# What's new in scipp 0.6.0 and scippneutron 0.1.0?\n",
    "\n",
    "## Overview\n",
    "\n",
    "- [Release Notes](https://scipp.github.io/about/release-notes.html#v0-6-march-2021) for scipp\n",
    "- [Release Notes](https://scipp.github.io/scippneutron/about/release-notes.html#v0-1-march-2021) for scippneutron\n",
    "\n",
    "As part of a procress to ensure that scipp is inviting and open to external collaborators we have removed `scipp.neutron`.\n",
    "The neutron-scattering-specific functionality is now provided by a new and separate package, [scippneutron](https://scipp.github.io/scippneutron/)\n",
    "\n",
    "Download [PG3_4844_event.nxs](http://198.74.56.37/ftp/external-data/MD5/d5ae38871d0a09a28ae01f85d969de1e) (and rename after download) to run this notebook."
   ]
  },
  {
   "cell_type": "code",
   "execution_count": null,
   "metadata": {},
   "outputs": [],
   "source": [
    "import numpy as np\n",
    "import scipp as sc\n",
    "if not sc.__version__.startswith('0.6'):\n",
    "    print(f'This notebook was made for scipp-0.6 and will likely not work with your version ({sc.__version__}).')"
   ]
  },
  {
   "cell_type": "markdown",
   "metadata": {},
   "source": [
    "## scipp-0.6.0"
   ]
  },
  {
   "cell_type": "markdown",
   "metadata": {},
   "source": [
    "### Support for datetime64\n",
    "\n",
    "- Previously we stored time-related information such as `pulse_time` and times from, e.g., sample-temperature logs as integers.\n",
    "- Added support for datetime64 compatible with [np.datetime64](https://numpy.org/doc/stable/reference/arrays.datetime.html)\n",
    "- Time differences (`np.timedelta64`) are not used, we simply use integers since in combination with scipp's units this provides everything we need.\n",
    "\n",
    "Example:"
   ]
  },
  {
   "cell_type": "code",
   "execution_count": null,
   "metadata": {},
   "outputs": [],
   "source": [
    "var = sc.array(dims=['time'], values=np.arange(np.datetime64('2021-01-01T12:00:00'), np.datetime64('2021-01-01T12:04:00')))\n",
    "var + 123 * sc.Unit('s')"
   ]
  },
  {
   "cell_type": "markdown",
   "metadata": {},
   "source": [
    "Data loaded from Nexus files now used `datetime64` for `pulse_times` and time-series logs such as sample temperature logs:"
   ]
  },
  {
   "cell_type": "code",
   "execution_count": null,
   "metadata": {},
   "outputs": [],
   "source": [
    "import scippneutron as scn\n",
    "if not scn.__version__.startswith('0.1'):\n",
    "    print(f'This notebook was made for scippneutron-0.1 and will likely not work with your version ({scn.__version__}).')\n",
    "filename = 'PG3_4844_event'\n",
    "data = scn.load(filename=f'{filename}.nxs', mantid_args={'LoadMonitors':True})"
   ]
  },
  {
   "cell_type": "code",
   "execution_count": null,
   "metadata": {},
   "outputs": [],
   "source": [
    "sc.table(data.attrs['ChopperStatus1'].value)"
   ]
  },
  {
   "cell_type": "code",
   "execution_count": null,
   "metadata": {},
   "outputs": [],
   "source": [
    "sc.table(data.bins.constituents['data']['event', :5])"
   ]
  },
  {
   "cell_type": "markdown",
   "metadata": {},
   "source": [
    "### HTML view readability improvements\n",
    "\n",
    "Readability for nested scipp objects such as `DataArray` in HTML view improved, see in particular the many scalar attributes:"
   ]
  },
  {
   "cell_type": "code",
   "execution_count": null,
   "metadata": {},
   "outputs": [],
   "source": [
    "data"
   ]
  },
  {
   "cell_type": "markdown",
   "metadata": {},
   "source": [
    "### SVG view readability improvements\n",
    "\n",
    "The SVG view now indicates binned (event) data.\n",
    "Note that the number of drawn dots is not related to the actual number of events:"
   ]
  },
  {
   "cell_type": "code",
   "execution_count": null,
   "metadata": {},
   "outputs": [],
   "source": [
    "sc.show(data)"
   ]
  },
  {
   "cell_type": "markdown",
   "metadata": {},
   "source": [
    "### Unit conversions\n",
    "\n",
    "Conversions between different unit scales (not to be confused with [conversions provided by scippneutron](https://scipp.github.io/scippneutron/user-guide/unit-conversions.html)) are now supported:"
   ]
  },
  {
   "cell_type": "code",
   "execution_count": null,
   "metadata": {},
   "outputs": [],
   "source": [
    "var = 1.2 * sc.Unit('m')\n",
    "sc.to_unit(var, unit='mm')"
   ]
  },
  {
   "cell_type": "markdown",
   "metadata": {},
   "source": [
    "### `fold` and `flatten`\n",
    "\n",
    "`fold` and `flatten`, which are similar to `reshape`, have been added.\n",
    "In contrast to `reshape`, `fold` and `flatten` support data arrays and handle also meta data such as coord, masks, and attrs:"
   ]
  },
  {
   "cell_type": "code",
   "execution_count": null,
   "metadata": {},
   "outputs": [],
   "source": [
    "var = sc.ones(dims=['pixel'], shape=[100])\n",
    "xy = sc.fold(var, dim='pixel', sizes={'x':10, 'y':10})\n",
    "xy = sc.DataArray(data=xy,\n",
    "                  coords={\n",
    "                      'x':sc.array(dims=['x'], values=np.arange(10)),\n",
    "                      'y':sc.array(dims=['y'], values=np.arange(10))})\n",
    "xy"
   ]
  },
  {
   "cell_type": "code",
   "execution_count": null,
   "metadata": {},
   "outputs": [],
   "source": [
    "sc.flatten(xy, to='pixel')"
   ]
  },
  {
   "cell_type": "markdown",
   "metadata": {},
   "source": [
    "## scippneutron-0.1.0"
   ]
  },
  {
   "cell_type": "markdown",
   "metadata": {},
   "source": [
    "### Mandatory `scatter` argument for unit conversion\n",
    "\n",
    "- Previously `scn.convert` \"guessed\" whether unit conversions should assume scattering from a sample based on the presence of a coord or attr named `sample_position`.\n",
    "  To correctly convert, e.g., to wavelength for a monitor we had to ensure that `sample_position` was not present.\n",
    "- This brittle and error-prone mechanism has been replaced by a *mandatory* new parameter name `scatter` to `convert`.\n",
    "\n",
    "Example:"
   ]
  },
  {
   "cell_type": "code",
   "execution_count": null,
   "metadata": {},
   "outputs": [],
   "source": [
    "sc.to_html(scn.convert(data, 'tof', 'wavelength', scatter=True))\n",
    "sc.to_html(scn.convert(data.attrs['monitor1'].value, 'tof', 'wavelength', scatter=True)) # scatter from sample into monitor?\n",
    "sc.to_html(scn.convert(data.attrs['monitor1'].value, 'tof', 'wavelength', scatter=False))"
   ]
  },
  {
   "cell_type": "markdown",
   "metadata": {},
   "source": [
    "### Beamline geometry parameters for unit conversions\n",
    "\n",
    "Unit conversions are now handling beamline geometry in a more flexible manner.\n",
    "Please see [the documentation](https://scipp.github.io/scippneutron/user-guide/unit-conversions.html#Beamline-geometry-parameters-used-in-unit-conversions) for a graphical illustration of the mechanism.\n",
    "\n",
    "- Opens opportunities for more flexible definition of beamline geometry.\n",
    "- Should make it easier to handle cases such as multiple indicent angles or indirect-geometry beamlines.\n",
    "- Allows for overriding parameters such as positions with, e.g., calibrated $L_2$.\n",
    "\n",
    "Example:"
   ]
  },
  {
   "cell_type": "code",
   "execution_count": null,
   "metadata": {},
   "outputs": [],
   "source": [
    "sc.to_html(scn.convert(data, 'tof', 'wavelength', scatter=True)) # using `position` to compute L2\n",
    "data.coords['L2'] = 1.0 * sc.Unit('m')\n",
    "sc.to_html(scn.convert(data, 'tof', 'wavelength', scatter=True)) # using provided L2"
   ]
  },
  {
   "cell_type": "markdown",
   "metadata": {},
   "source": [
    "In above example we used a scalar `L2` coord.\n",
    "This is then broadcast to all pixels and thus implies that all pixels are effectively on a sphere around the sample.\n",
    "Use, e.g., `L2` dependent on the `spectrum` dimension to set a pixel-depenendent `L2`."
   ]
  }
 ],
 "metadata": {
  "kernelspec": {
   "display_name": "Python 3",
   "language": "python",
   "name": "python3"
  },
  "language_info": {
   "codemirror_mode": {
    "name": "ipython",
    "version": 3
   },
   "file_extension": ".py",
   "mimetype": "text/x-python",
   "name": "python",
   "nbconvert_exporter": "python",
   "pygments_lexer": "ipython3",
   "version": "3.7.10"
  },
  "nbsphinx": {
   "execute": "never"
  }
 },
 "nbformat": 4,
 "nbformat_minor": 4
}
