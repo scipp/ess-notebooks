{
 "cells": [
  {
   "cell_type": "markdown",
   "metadata": {},
   "source": [
    "# What's new in scipp 0.5.0?\n",
    "\n",
    "[Release Notes](https://scipp.github.io/about/release-notes.html#v0-5-january-2021)\n",
    "\n",
    "Due to two big internal and external changes this release cycle has been very long, with many significant changes.\n",
    "We generally aim for shorter cycles in the future.\n",
    "\n",
    "Download [PG3_4844_event.nxs](http://198.74.56.37/ftp/external-data/MD5/d5ae38871d0a09a28ae01f85d969de1e) (and rename after download) to run this notebook.\n",
    "\n",
    "- We made a `mantid-framework` MacOS `conda` package available, so installation of `scipp` in combination with Mantid is now possible without the need for a special hand-distributed package.\n",
    "- Windows is still a problem, we currently recommend using WSL."
   ]
  },
  {
   "cell_type": "markdown",
   "metadata": {},
   "source": [
    "## Run logs now stored natively\n",
    "\n",
    "- Previously we stored Mantid's `Run` and `Sample` as a scalar variable holding the Mantid object as a `PyObject`.\n",
    "- `Run` is now converted into individual attributes.\n",
    "- `Sample` still `PyObject`"
   ]
  },
  {
   "cell_type": "code",
   "execution_count": null,
   "metadata": {},
   "outputs": [],
   "source": [
    "import scipp as sc\n",
    "if not sc.__version__.startswith('0.5'):\n",
    "    print(f'This notebook was made for scipp-0.5 and will likely not work with your version ({sc.__version__}).')"
   ]
  },
  {
   "cell_type": "code",
   "execution_count": null,
   "metadata": {},
   "outputs": [],
   "source": [
    "filename = 'PG3_4844_event'\n",
    "data = sc.neutron.load(filename=f'{filename}.nxs')\n",
    "data"
   ]
  },
  {
   "cell_type": "markdown",
   "metadata": {},
   "source": [
    "Many time-dependent logs are just data arrays, so we can access, modify, plot, ... them.\n",
    "Remember that the `value` property has to be used to access the only value of a scalar variable:"
   ]
  },
  {
   "cell_type": "code",
   "execution_count": null,
   "metadata": {},
   "outputs": [],
   "source": [
    "sc.plot.plot(data.attrs['proton_charge'].value, marker='.')"
   ]
  },
  {
   "cell_type": "markdown",
   "metadata": {},
   "source": [
    "## Improved instrument view\n",
    "\n",
    "- Align camera to axis buttons\n",
    "- Cut surface tools\n",
    "- Bug fixes, such as pixel sizes on high-res displays"
   ]
  },
  {
   "cell_type": "code",
   "execution_count": null,
   "metadata": {},
   "outputs": [],
   "source": [
    "sc.neutron.instrument_view(data)"
   ]
  },
  {
   "cell_type": "markdown",
   "metadata": {},
   "source": [
    "## Improved plotting\n",
    "\n",
    "- `logx`, `logy`, `log`, and transpose buttons in toolbar\n",
    "- now available as method in addition to free function, `data.plot()` instead of `sc.plot.plot(data)`\n",
    "- profile plot/picking for 3-D (and higher) data\n",
    "- Cleaned up widgets for 3-D (and higher) data\n",
    "- Performance improvements\n",
    "- Dynamic event data resampling (see below)"
   ]
  },
  {
   "cell_type": "code",
   "execution_count": null,
   "metadata": {},
   "outputs": [],
   "source": [
    "data.plot()"
   ]
  },
  {
   "cell_type": "code",
   "execution_count": null,
   "metadata": {},
   "outputs": [],
   "source": [
    "# This cell is just for setup, ignore, or see below for `sc.bin`\n",
    "import numpy as np\n",
    "time = data.bins.data.coords['pulse-time']\n",
    "start = sc.min(time).value\n",
    "stop = sc.max(time).value\n",
    "time_edges = sc.array(dims=['pulse-time'], unit=time.unit, values=np.linspace(start, stop, num=100))\n",
    "tof_edges = sc.array(dims=['tof'], unit=sc.units.us, values=np.linspace(0,17000, num=100))\n",
    "binned = sc.bin(data, edges=[time_edges])\n",
    "hist = sc.histogram(binned, tof_edges)"
   ]
  },
  {
   "cell_type": "markdown",
   "metadata": {},
   "source": [
    "Slider and \"Profile\" button show up when data is 3-D (or higher):"
   ]
  },
  {
   "cell_type": "code",
   "execution_count": null,
   "metadata": {},
   "outputs": [],
   "source": [
    "hist.plot(axes={'x':'tof', 'y':'spectrum'})"
   ]
  },
  {
   "cell_type": "markdown",
   "metadata": {},
   "source": [
    "## Creation functions\n",
    "\n",
    "For convenience and similarity to `numpy` we added [functions that create variables](https://scipp.github.io/python-reference/api.html#creation-functions).\n",
    "Our intention is to fully replace the need to use `sc.Variable` directly, but at this point this has not been rolled out to our documentation pages."
   ]
  },
  {
   "cell_type": "code",
   "execution_count": null,
   "metadata": {},
   "outputs": [],
   "source": [
    "sc.array(dims=['x'], values=np.array([1,2,3]))"
   ]
  },
  {
   "cell_type": "code",
   "execution_count": null,
   "metadata": {},
   "outputs": [],
   "source": [
    "sc.zeros(dims=['x'], shape=[3])"
   ]
  },
  {
   "cell_type": "code",
   "execution_count": null,
   "metadata": {},
   "outputs": [],
   "source": [
    "sc.scalar(17)"
   ]
  },
  {
   "cell_type": "markdown",
   "metadata": {},
   "source": [
    "All of these also take keyword arguments.\n",
    "Note that we can still support creating scalars by multiplying with a unit:"
   ]
  },
  {
   "cell_type": "code",
   "execution_count": null,
   "metadata": {},
   "outputs": [],
   "source": [
    "1.2 * sc.units.m"
   ]
  },
  {
   "cell_type": "markdown",
   "metadata": {},
   "source": [
    "## Label-based indexing\n",
    "\n",
    "- Works just like position indexing (with integers).\n",
    "- Use a scalar variable as index (instead of integer) to use label-based indexing\n",
    "- Works with single values as well as slices (`:` notation)\n",
    "\n",
    "See [Label-based indexing](https://scipp.github.io/user-guide/slicing.html#Label-based-indexing) for more details."
   ]
  },
  {
   "cell_type": "code",
   "execution_count": null,
   "metadata": {},
   "outputs": [],
   "source": [
    "sc.to_html(hist['spectrum', sc.scalar(1000)])\n",
    "sc.to_html(hist['tof', 1000*sc.units.us]) # selects bin containing this value"
   ]
  },
  {
   "cell_type": "markdown",
   "metadata": {},
   "source": [
    "## Dataset items and masks\n",
    "\n",
    "- Previously masks for global for a dataset, masking items individually was not supported.\n",
    "- Applications require item-specific masks.\n",
    "- Removed support for dataset masks, only item masks are supported now, since having both causes conceptual problems.\n",
    "- See [ADR0001](https://scipp.github.io/developer/adr/0001-remove-dataset-masking-support.html) for details.\n",
    "- Common masks must be set individually."
   ]
  },
  {
   "cell_type": "code",
   "execution_count": null,
   "metadata": {},
   "outputs": [],
   "source": [
    "hist = sc.histogram(data, tof_edges)\n",
    "ds = sc.Dataset({'sample1':hist, 'sample2':hist+hist})\n",
    "tof_mask = ds.coords['tof']['tof',:-1] < 3333*sc.units.us\n",
    "ds['sample1'].masks['tof'] = tof_mask\n",
    "ds['sample2'].masks['tof'] = tof_mask\n",
    "ds['sample2'].masks['tof2'] = ~tof_mask\n",
    "ds"
   ]
  },
  {
   "cell_type": "markdown",
   "metadata": {},
   "source": [
    "## HDF5 I/O\n",
    "\n",
    "Scipp can now [write and read its data structures](https://scipp.github.io/user-guide/reading-and-writing-files.html) using `h5py`.\n",
    "- At this point we do not make any promises about compatibilty of the file layout with future version, so we do not encourage usage for storing data long-term.\n",
    "- Loading event data via Mantid converter is quite slow, so loading raw data once and storing natively can provide a UX boost when working on debugging a reduction workflow in a notebook.\n",
    "- Note the warning message about `PyObject`, since we cannot write Mantid's `Sample` object, apart from this caveat everything else is saved."
   ]
  },
  {
   "cell_type": "code",
   "execution_count": null,
   "metadata": {},
   "outputs": [],
   "source": [
    "data.to_hdf5(filename=f'{filename}-scipp.hdf5')"
   ]
  },
  {
   "cell_type": "code",
   "execution_count": null,
   "metadata": {},
   "outputs": [],
   "source": [
    "data2 = sc.io.open_hdf5(filename=f'{filename}-scipp.hdf5')\n",
    "data2"
   ]
  },
  {
   "cell_type": "markdown",
   "metadata": {},
   "source": [
    "## Event data\n",
    "\n",
    "- Event data is the main use case of the new [Binned Data](https://scipp.github.io/user-guide/binned-data.html) support.\n",
    "- Old special \"event list\" `dtype` and \"realigned data support\" have been replaced and removed.\n",
    "- Much more flexible and generic, with a more natural interface.\n",
    "  - Will be able to support multi-dimensional event data with this new data layout (for single-crystal and inelastic data).\n",
    "- Plotting with on-the-fly resampling.\n",
    "\n",
    "See documentation for more details and how to work with binned event data."
   ]
  },
  {
   "cell_type": "code",
   "execution_count": null,
   "metadata": {},
   "outputs": [],
   "source": [
    "data"
   ]
  },
  {
   "cell_type": "code",
   "execution_count": null,
   "metadata": {},
   "outputs": [],
   "source": [
    "sc.table(data.values[7])"
   ]
  },
  {
   "cell_type": "code",
   "execution_count": null,
   "metadata": {},
   "outputs": [],
   "source": [
    "data.plot()"
   ]
  }
 ],
 "metadata": {
  "kernelspec": {
   "display_name": "Python 3",
   "language": "python",
   "name": "python3"
  },
  "language_info": {
   "codemirror_mode": {
    "name": "ipython",
    "version": 3
   },
   "file_extension": ".py",
   "mimetype": "text/x-python",
   "name": "python",
   "nbconvert_exporter": "python",
   "pygments_lexer": "ipython3",
   "version": "3.7.8"
  },
  "nbsphinx": {
   "execute": "never"
  }
 },
 "nbformat": 4,
 "nbformat_minor": 4
}
