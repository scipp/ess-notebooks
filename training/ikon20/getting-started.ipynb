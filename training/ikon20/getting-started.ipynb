{
 "cells": [
  {
   "cell_type": "markdown",
   "metadata": {},
   "source": [
    "# Exploring data with Scipp\n",
    "\n",
    "- explore the HTML view and the attributes stored alongside the data\n",
    "  - `data.attrs['abc'].value` shows HTML view for scalar attrs with `dtype=DataArray`.\n",
    "- find and plot monitor\n",
    "- find and plot other meta data\n",
    "- plot a spectrum\n",
    "- plot total counts => `sc.sum()`\n",
    "- add and remove attr (or coord)\n",
    "- plot all monitors on same plot\n",
    "- \"correct\" TOF by shifting it by $2.3~\\mu s$\n",
    "- crop by using slicing and copying\n",
    "- move the sample?"
   ]
  },
  {
   "cell_type": "code",
   "execution_count": null,
   "metadata": {},
   "outputs": [],
   "source": [
    "data.plot()"
   ]
  },
  {
   "cell_type": "code",
   "execution_count": null,
   "metadata": {},
   "outputs": [],
   "source": [
    "pos = data.coords['sample-position'].copy()\n",
    "pos += sc.scalar(value=np.array([0.2,0.1,0.1]), unit=sc.units.m)\n",
    "pos"
   ]
  },
  {
   "cell_type": "code",
   "execution_count": null,
   "metadata": {},
   "outputs": [],
   "source": [
    "sc.plot.plot({f'monitor{i}':data.attrs[f'monitor{i}'].value for i in [1,2,3,4,5]})"
   ]
  },
  {
   "cell_type": "code",
   "execution_count": null,
   "metadata": {},
   "outputs": [],
   "source": [
    "sc.plot.plot({f'monitor{i}':sc.neutron.convert(data.attrs[f'monitor{i}'].value,'tof','wavelength') for i in [1,2,3,4,5]})"
   ]
  },
  {
   "cell_type": "code",
   "execution_count": null,
   "metadata": {
    "scrolled": false
   },
   "outputs": [],
   "source": [
    "data.attrs['abc'] = sc.scalar(value='abc')\n",
    "del data.attrs['abc']\n",
    "#sc.table(data.attrs['EPICS_PUTLOG'].value)\n",
    "sc.table(data.attrs['A1VCent'].value)\n",
    "data"
   ]
  },
  {
   "cell_type": "code",
   "execution_count": null,
   "metadata": {
    "scrolled": false
   },
   "outputs": [],
   "source": [
    "for name, attr in data.attrs.items():\n",
    "    if attr.dtype == sc.dtype.DataArray:\n",
    "        print(name)\n",
    "        if attr.value.dtype != sc.dtype.string:\n",
    "            display(attr.value.plot())"
   ]
  },
  {
   "cell_type": "markdown",
   "metadata": {},
   "source": [
    "# Working with masks\n",
    "\n",
    "1. Masking a prompt pulse.\n",
    "   - Create a mask from the `'tof'` coord of `data` to mask the region between X and Y $\\mu s$.\n",
    "   - Plot the result to inspect the mask.\n",
    "   - Pass a `dict` containing `counts` (computed above as `counts = sc.sum(data, 'tof')`) and the equivalent counts computed *after* masking to `sc.plot.plot`.\n",
    "     Use this to verify that the promt-pulse mask results in removal of counts.\n",
    "\n",
    "- mask X range\n",
    "- mask TOF, verify counts has changed\n",
    "- mask based on counts (combined with shape)\n",
    "- create circular mask\n",
    "- create function to mask ring \n",
    "- mask based on scattering angle\n",
    "\n",
    "Hints:\n",
    "- `del`\n",
    "- `<=`, `>`, `sc.less`, `sc.equal`"
   ]
  },
  {
   "cell_type": "code",
   "execution_count": null,
   "metadata": {
    "scrolled": true
   },
   "outputs": [],
   "source": [
    "import scipp as sc\n",
    "import numpy as np\n",
    "#data = sc.neutron.load(filename='/mnt/extra/simon/MantidExternalData/MD5/e5c22cf69fdd0d007c29aa51c6537004')\n",
    "run_number = 49338\n",
    "data = sc.neutron.load(filename=f'LARMOR000{run_number}')"
   ]
  },
  {
   "cell_type": "code",
   "execution_count": null,
   "metadata": {},
   "outputs": [],
   "source": [
    "counts = sc.sum(data, 'tof')\n",
    "data.masks['tof'] = data.coords['tof']['tof',1:] < 10000.0 * sc.units.us\n",
    "sc.plot.plot({'orig':counts, 'masked':sc.sum(data,'tof')})"
   ]
  },
  {
   "cell_type": "code",
   "execution_count": null,
   "metadata": {},
   "outputs": [],
   "source": [
    "data.plot()"
   ]
  },
  {
   "cell_type": "code",
   "execution_count": null,
   "metadata": {},
   "outputs": [],
   "source": [
    "pos = data.coords['position']\n",
    "x = sc.geometry.x(pos)\n",
    "y = sc.geometry.y(pos)\n",
    "z = sc.geometry.z(pos)\n",
    "data.coords['x'] = x\n",
    "data.coords['y'] = y\n",
    "data.coords['z'] = z\n",
    "data"
   ]
  },
  {
   "cell_type": "code",
   "execution_count": null,
   "metadata": {},
   "outputs": [],
   "source": [
    "data.masks['x'] = x < -0.1 * sc.units.m\n",
    "del data.masks['x']\n",
    "data.masks['circle'] = sc.sqrt(x*x + y*y) < 0.1*sc.units.m\n",
    "del data.masks['circle']\n",
    "r = sc.sqrt(x*x + y*y)\n",
    "data.masks['ring'] = (0.14*sc.units.m < r) & (r < 0.15*sc.units.m)\n",
    "theta = sc.neutron.scattering_angle(data)\n",
    "data.masks['theta'] = (0.01*sc.units.rad < theta) & (theta < 0.02*sc.units.rad)\n",
    "phi = sc.atan2(y,x) * ((180.0 * sc.units.deg) / (np.pi * sc.units.rad))\n",
    "data.masks['wedge'] = (10.0*sc.units.deg < phi) & (phi < 20.0*sc.units.deg)"
   ]
  },
  {
   "cell_type": "code",
   "execution_count": null,
   "metadata": {},
   "outputs": [],
   "source": [
    "sc.neutron.instrument_view(sc.sum(data,'tof'))"
   ]
  },
  {
   "cell_type": "code",
   "execution_count": null,
   "metadata": {},
   "outputs": [],
   "source": [
    "import scipp as sc\n",
    "import numpy as np\n",
    "data = sc.neutron.load(filename='/home/simon/data/TrainingCourseData/EQSANS_6071_event.nxs')"
   ]
  },
  {
   "cell_type": "code",
   "execution_count": null,
   "metadata": {},
   "outputs": [],
   "source": [
    "data"
   ]
  },
  {
   "cell_type": "code",
   "execution_count": null,
   "metadata": {},
   "outputs": [],
   "source": [
    "49152//256"
   ]
  },
  {
   "cell_type": "code",
   "execution_count": null,
   "metadata": {},
   "outputs": [],
   "source": [
    "edges = sc.array(dims=['tof'], unit=sc.units.us, values=np.linspace(-1.0, 17000.0, num=1001))\n",
    "hist = sc.histogram(data, edges)\n",
    "ny = 256\n",
    "nx = 49152 // ny\n",
    "var = sc.reshape(hist.data, dims=['x','y','tof'],shape=(nx,ny,1000))"
   ]
  },
  {
   "cell_type": "code",
   "execution_count": null,
   "metadata": {},
   "outputs": [],
   "source": [
    "var.plot()"
   ]
  },
  {
   "cell_type": "markdown",
   "metadata": {},
   "source": [
    "- Jupyter Notebooks are the generic GUI for working with `scipp` (the plan is to eventually have technique-specific or instrument-specific widgets or GUIs, where required).\n",
    "- `scipp` stores data in a **multi-dimensional array** with **labeled (named) dimensions**.\n",
    "  This is best imagined as `numpy` arrays, without the need to memorize and keep track of dimension order.\n",
    "- Each array is combined with a **physical unit** into a **variable**.\n",
    "- Variables are enhanced by **coordinates**.\n",
    "  Each coordinate is also a variable.\n",
    "  A variable with associated coordinates is called **data array**.\n",
    "- Multiple data arrays with aligned coordinates can be combined into a **dataset**."
   ]
  },
  {
   "cell_type": "code",
   "execution_count": null,
   "metadata": {},
   "outputs": [],
   "source": [
    "a = np.random.rand(2,4)\n",
    "a"
   ]
  },
  {
   "cell_type": "code",
   "execution_count": null,
   "metadata": {},
   "outputs": [],
   "source": [
    "var = sc.Variable(dims=['time','location'], values=a, unit=sc.units.K)\n",
    "var"
   ]
  },
  {
   "cell_type": "code",
   "execution_count": null,
   "metadata": {},
   "outputs": [],
   "source": [
    "var['location',2:4]"
   ]
  },
  {
   "cell_type": "code",
   "execution_count": null,
   "metadata": {
    "scrolled": true
   },
   "outputs": [],
   "source": [
    "time =     sc.Variable(dims=['time'], unit=sc.units.s, values=[20,30])\n",
    "location = sc.Variable(dims=['location'], unit=sc.units.m, values=np.arange(4))\n",
    "array =    sc.DataArray(data=var, coords={'time':time, 'location':location})\n",
    "array"
   ]
  },
  {
   "cell_type": "code",
   "execution_count": null,
   "metadata": {},
   "outputs": [],
   "source": [
    "array.unit = sc.units.m\n",
    "b = array.copy()\n",
    "b.coords['time'] *= 2\n",
    "array + b"
   ]
  },
  {
   "cell_type": "code",
   "execution_count": null,
   "metadata": {},
   "outputs": [],
   "source": [
    "#from mantid.kernel import config\n",
    "#folder = '/folder/with/downloaded/files'\n",
    "#config.appendDataSearchDir(folder)\n",
    "#config.saveConfig(config.getUserFilename())"
   ]
  },
  {
   "cell_type": "code",
   "execution_count": null,
   "metadata": {
    "scrolled": true
   },
   "outputs": [],
   "source": [
    "run_number = 49338\n",
    "sample = sc.neutron.load(filename=f'LARMOR000{run_number}')"
   ]
  },
  {
   "cell_type": "code",
   "execution_count": null,
   "metadata": {},
   "outputs": [],
   "source": [
    "sample"
   ]
  },
  {
   "cell_type": "markdown",
   "metadata": {},
   "source": [
    "### Basic 1D and 2D plots\n",
    "\n",
    "Plotting is mostly based on `matplotlib`.\n",
    "Data structures with named dimensions, units, and coordinates allows for meaningful plots by default:"
   ]
  },
  {
   "cell_type": "code",
   "execution_count": null,
   "metadata": {},
   "outputs": [],
   "source": [
    "sample.plot()"
   ]
  },
  {
   "cell_type": "markdown",
   "metadata": {},
   "source": [
    "Slicing can be used, e.g., to select and plot a single spectrum:"
   ]
  },
  {
   "cell_type": "code",
   "execution_count": null,
   "metadata": {},
   "outputs": [],
   "source": [
    "sample['spectrum', 59155].plot()"
   ]
  },
  {
   "cell_type": "markdown",
   "metadata": {},
   "source": [
    "Plotting multiple spectra on the same plot is also possible by passing a Python `dict` to `scipp.plot.plot`:"
   ]
  },
  {
   "cell_type": "code",
   "execution_count": null,
   "metadata": {},
   "outputs": [],
   "source": [
    "from scipp.plot import plot\n",
    "section = sample['tof', 100:150]\n",
    "plot({'spec1':section['spectrum',59155],'spec2':section['spectrum',59255]})"
   ]
  },
  {
   "cell_type": "markdown",
   "metadata": {},
   "source": [
    "### Debugging Detectors with Scipp\n",
    "\n",
    "The LoKI detectors are tubes containing 7 straws each, and there are multiple layers of tubes.\n",
    "This makes finding, e.g., broken straws in the instrument view difficult and tedious.\n",
    "The default 2D representation of data is not adequate in this case:"
   ]
  },
  {
   "cell_type": "code",
   "execution_count": null,
   "metadata": {},
   "outputs": [],
   "source": [
    "sample"
   ]
  },
  {
   "cell_type": "markdown",
   "metadata": {},
   "source": [
    "With scipp we can reshape our data to match this logical layer and sum, e.g., over time-of-flight and pixels within straws.\n",
    "This yields:"
   ]
  },
  {
   "cell_type": "code",
   "execution_count": null,
   "metadata": {},
   "outputs": [],
   "source": [
    "import sys\n",
    "sys.path.append('/home/simon/code/ess-legacy/sans')\n",
    "from loki import LoKI\n",
    "loki = LoKI()\n",
    "spectrum_counts = sc.sum(sample, 'tof') # sum is optional, could also keep TOF\n",
    "pixel_counts = loki.to_logical_dims(spectrum_counts) # reshape\n",
    "pixel_counts"
   ]
  },
  {
   "cell_type": "markdown",
   "metadata": {},
   "source": [
    "We can plot the counts in each straw by summing along the `'pixel'` dimensions:"
   ]
  },
  {
   "cell_type": "code",
   "execution_count": null,
   "metadata": {},
   "outputs": [],
   "source": [
    "straw_counts = sc.sum(pixel_counts, 'pixel')\n",
    "straw_counts.plot(norm='log')"
   ]
  },
  {
   "cell_type": "markdown",
   "metadata": {},
   "source": [
    "If we instead plot `pixel_counts` without summing along straws, we obtain a plot with a slider along the third dimension.\n",
    "A profile plot can be enabled as well:"
   ]
  },
  {
   "cell_type": "code",
   "execution_count": null,
   "metadata": {
    "scrolled": false
   },
   "outputs": [],
   "source": [
    "pixel_counts.plot(axes={'x':'straw', 'y':'tube'})"
   ]
  },
  {
   "cell_type": "markdown",
   "metadata": {},
   "source": [
    "In this case we observe 4 straws with 0 counts as well as 4 straws with very low counts.\n",
    "We can define a mask for these using a small LoKI-specific helper:"
   ]
  },
  {
   "cell_type": "code",
   "execution_count": null,
   "metadata": {},
   "outputs": [],
   "source": [
    "pos = sc.neutron.position(sample)\n",
    "x = sc.geometry.x(pos)\n",
    "y = sc.geometry.y(pos)\n",
    "counts = spectrum_counts.data\n",
    "sample.masks['electronics-error'] = (sc.abs(x) < 0.2 * sc.units.m) \\\n",
    "                                  & (sc.abs(y) < 0.03 * sc.units.m) \\\n",
    "                                  & (counts == 0.0 * sc.units.counts)\n",
    "print(f\"Masking {sc.sum(sample.masks['electronics-error'], 'spectrum').value} bad pixels due to electronics error.\")"
   ]
  },
  {
   "cell_type": "code",
   "execution_count": null,
   "metadata": {},
   "outputs": [],
   "source": [
    "# Note that this needs more tuning and masks too much. Better do this after moving detectors?\n",
    "sample.masks['beam-stop'] = (sc.abs(x) < 0.03 * sc.units.m) & (y < 0.028 * sc.units.m) & (y > -0.016 * sc.units.m)"
   ]
  },
  {
   "cell_type": "code",
   "execution_count": null,
   "metadata": {},
   "outputs": [],
   "source": [
    "sample.masks['tube-ends'] = (x > 0.36 * sc.units.m) | (x < -0.36 * sc.units.m)"
   ]
  },
  {
   "cell_type": "code",
   "execution_count": null,
   "metadata": {},
   "outputs": [],
   "source": [
    "tof = sample.coords['tof']\n",
    "sample.masks['prompt-pulse'] = (tof['tof',1:] < 1500.0 * sc.units.us) | \\\n",
    "                               ((tof['tof',:-1] > 17500.0 * sc.units.us) & \\\n",
    "                                (tof['tof',1:] < 19000.0 * sc.units.us))"
   ]
  },
  {
   "cell_type": "code",
   "execution_count": null,
   "metadata": {},
   "outputs": [],
   "source": [
    "(sample.masks['tube-ends'] | sample.masks['prompt-pulse']).plot()"
   ]
  },
  {
   "cell_type": "code",
   "execution_count": null,
   "metadata": {},
   "outputs": [],
   "source": [
    "loki.to_logical_dims(sample).plot(norm='log', vmin=1e0, vmax=1e2)"
   ]
  },
  {
   "cell_type": "code",
   "execution_count": null,
   "metadata": {},
   "outputs": [],
   "source": [
    "pixel_counts = loki.to_logical_dims(sc.sum(sample, 'tof'))\n",
    "plot(pixel_counts, vmax=1000, axes={'y':'tube', 'x':'pixel'})"
   ]
  },
  {
   "cell_type": "markdown",
   "metadata": {},
   "source": [
    "## Backup slides"
   ]
  },
  {
   "cell_type": "markdown",
   "metadata": {},
   "source": [
    "### Straw plot against real X"
   ]
  },
  {
   "cell_type": "code",
   "execution_count": null,
   "metadata": {
    "scrolled": false
   },
   "outputs": [],
   "source": [
    "from loki import LoKI\n",
    "loki = LoKI()\n",
    "from scipp.plot import plot\n",
    "spectrum_counts = sc.sum(sample, 'tof') # sum is optional, could also keep TOF\n",
    "spectrum_counts.coords['pixel'] = sc.geometry.x(sample.coords['position'])\n",
    "pixel_counts = loki.to_logical_dims(spectrum_counts) # reshape\n",
    "plot(pixel_counts, norm='log', axes={'y':'tube', 'x':'pixel'})"
   ]
  },
  {
   "cell_type": "code",
   "execution_count": null,
   "metadata": {},
   "outputs": [],
   "source": [
    "#filename = 'PG3_4844_event'\n",
    "#tmp = sc.neutron.load(filename=f'{filename}.nxs').bins.sum()\n",
    "filename = '/home/simon/data/TrainingCourseData/SXD23767.raw'\n",
    "tmp = sc.neutron.load(filename=f'{filename}')\n",
    "tmp = sc.sum(tmp, 'tof')\n",
    "tmp.coords['theta'] = sc.neutron.scattering_angle(tmp)\n",
    "tmp.coords['phi'] = sc.neutron.scattering_angle(tmp)\n",
    "pos = sc.neutron.position(tmp)\n",
    "x = sc.geometry.x(pos)\n",
    "y = sc.geometry.y(pos)\n",
    "tmp.coords['phi'] = sc.atan(y/x) + np.pi * sc.units.rad\n",
    "theta = sc.Variable(dims=['theta'], unit=sc.units.rad, values=np.linspace(0, np.pi/2, num=100))\n",
    "phi = sc.Variable(dims=['phi'], unit=sc.units.rad, values=np.linspace(0, 2*np.pi, num=100))\n",
    "binned = sc.bin(tmp, edges=[theta,phi])\n",
    "binned.plot(resolution={'x':100,'y':100})"
   ]
  },
  {
   "cell_type": "markdown",
   "metadata": {},
   "source": [
    "When build-in surface cuts are not flexible enough, `scipp` features such as `groupby` can be used to quickly extract groups of pixels:"
   ]
  },
  {
   "cell_type": "code",
   "execution_count": null,
   "metadata": {},
   "outputs": [],
   "source": [
    "from loki import LoKI\n",
    "loki = LoKI()\n",
    "sample.coords['layer'] = loki.layers()\n",
    "sc.neutron.instrument_view(sc.groupby(sample, 'layer').copy(group=1), norm='log', pixel_size=0.01, bins=1)\n",
    "#del sample.coords['layer']"
   ]
  },
  {
   "cell_type": "markdown",
   "metadata": {},
   "source": [
    "Using the same mechanism we can create nearly arbitrary other visualizations of the instrument.\n",
    "For example, we may want to inspect all pixels with low counts rates, e.g., to find issues with detectors.\n",
    "In this case mask all pixels with less than 100 counts and can check whether we indeed masked all relevant features:"
   ]
  },
  {
   "cell_type": "code",
   "execution_count": null,
   "metadata": {
    "scrolled": false
   },
   "outputs": [],
   "source": [
    "counts = sc.sum(sample.data, 'tof')\n",
    "sample.coords['low-counts'] = counts < 100.0*sc.units.counts\n",
    "sc.neutron.instrument_view(sc.sum(sc.groupby(sample, 'low-counts').copy(group=1), 'tof'), pixel_size=0.005)\n",
    "#del sample.coords['low-counts']"
   ]
  }
 ],
 "metadata": {
  "kernelspec": {
   "display_name": "Python 3",
   "language": "python",
   "name": "python3"
  },
  "language_info": {
   "codemirror_mode": {
    "name": "ipython",
    "version": 3
   },
   "file_extension": ".py",
   "mimetype": "text/x-python",
   "name": "python",
   "nbconvert_exporter": "python",
   "pygments_lexer": "ipython3",
   "version": "3.7.8"
  }
 },
 "nbformat": 4,
 "nbformat_minor": 4
}
