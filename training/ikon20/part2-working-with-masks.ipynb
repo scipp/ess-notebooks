{
 "cells": [
  {
   "cell_type": "code",
   "execution_count": null,
   "metadata": {},
   "outputs": [],
   "source": [
    "import scipp as sc\n",
    "import numpy as np"
   ]
  },
  {
   "cell_type": "code",
   "execution_count": null,
   "metadata": {},
   "outputs": [],
   "source": [
    "#import sys\n",
    "#sys.path.append('/home/simon/code/ess-legacy/sans')\n",
    "#import dataconfig # run make_config.py to create this\n",
    "#from loki import LoKI\n",
    "#loki = LoKI()\n",
    "#logical = loki.to_logical_dims(data)\n",
    "#logical.to_hdf5(filename='loki-at-larmor-reshaped.hdf5')"
   ]
  },
  {
   "cell_type": "markdown",
   "metadata": {},
   "source": [
    "# Part 2: Working with masks\n",
    "\n",
    "## Introduction\n",
    "\n",
    "Scipp supports non-destructive masks stored alongside data.\n",
    "In this part we learn how to create and use masks.\n",
    "As a side effect, the exercises will help in getting more familiar with the basic concepts of operations.\n",
    "\n",
    "We use the same data as in Part 1:"
   ]
  },
  {
   "cell_type": "code",
   "execution_count": null,
   "metadata": {},
   "outputs": [],
   "source": [
    "data = sc.io.open_hdf5(filename='loki-at-larmor.hdf5')\n",
    "counts = sc.sum(data, 'tof') # used later\n",
    "data"
   ]
  },
  {
   "cell_type": "markdown",
   "metadata": {},
   "source": [
    "Masks are variables with `dtype=bool`, stored in the `masks` dict of a data array.\n",
    "The result of comparison between variables can thus be used as masks:"
   ]
  },
  {
   "cell_type": "code",
   "execution_count": null,
   "metadata": {},
   "outputs": [],
   "source": [
    "data.coords['spectrum'] < sc.scalar(100)"
   ]
  },
  {
   "cell_type": "markdown",
   "metadata": {},
   "source": [
    "## Exercise 1: Masking a prompt pulse\n",
    "\n",
    "1. Create a promt-pulse mask for the region between $17500~\\mathrm{\\mu s}$ and $19000~\\mathrm{\\mu s}$.\n",
    "   Notes:\n",
    "   - Use comparison operators such as `==`, `<=` or `>`.\n",
    "   - Combine multiple conditions into one using `&` (\"and\"), `|` (\"or\"), or `^` (\"exclusive or\").\n",
    "   - Masks are stored in a data array by storing them in the `masks` dictionary, e.g., `data.masks['promt-pulse'] = ...`.\n",
    "   - If something goes wrong, masks can be removed with Python's `del`, e.g., `del data.masks['wrong']`.\n",
    "   - If you run into an error regarding a length mismatch when inserting the coordinate, remember that `'tof'` is a bin-edge coordinate, i.e., it is by 1 longer than the number of bins.\n",
    "     Use, e.g., only the left bin edges, i.e., all but the last, to create the masks.\n",
    "2. Use the HTML view and plot the data after masking to explore the effect.\n",
    "3. Pass a `dict` containing `counts` (computed above as `counts = sc.sum(data, 'tof')`) and the equivalent counts computed *after* masking to `sc.plot.plot`.\n",
    "   Use this to verify that the promt-pulse mask results in removal of counts."
   ]
  },
  {
   "cell_type": "code",
   "execution_count": null,
   "metadata": {},
   "outputs": [],
   "source": [
    "tof = data.coords['tof']\n",
    "data.masks['promt-pulse'] = (tof['tof',:-1] > 17500.0 * sc.units.us) & (tof['tof',1:] < 19000.0 * sc.units.us)\n",
    "sc.plot.plot({'before':counts, 'after':sc.sum(data, 'tof')})"
   ]
  },
  {
   "cell_type": "markdown",
   "metadata": {},
   "source": [
    "## Exercise 2: Masking spatially\n",
    "\n",
    "By masking an `x` range, mask the end of the tubes.\n",
    "- Define `x = sc.geometry.x(data.coords['position'])` to extract only the x-component of the position coordinate.\n",
    "- Create the masks.\n",
    "- Use the instrument view (`sc.neutron.instrumentview(data)`) to inspect the result."
   ]
  },
  {
   "cell_type": "code",
   "execution_count": null,
   "metadata": {},
   "outputs": [],
   "source": [
    "x = sc.geometry.x(data.coords['position'])\n",
    "data.masks['tube-ends'] = x < -0.2 * sc.units.m\n",
    "sc.neutron.instrument_view(data)"
   ]
  },
  {
   "cell_type": "markdown",
   "metadata": {},
   "source": [
    "## Exercise 3: Combining conditions\n",
    "\n",
    "Mask the broken pixels with zero counts near the beam stop (center).\n",
    "- Note that there are pixels at larger scattering angles (larger x) which have real zeros.\n",
    "  These should not be masked.\n",
    "- Combine the condition for zero counts with a spatial mask, e.g., based on `x`, to ensure the masks takes only effect close to the direct beam / beam stop."
   ]
  },
  {
   "cell_type": "code",
   "execution_count": null,
   "metadata": {},
   "outputs": [],
   "source": [
    "# This would mask too much, what needs to be added?\n",
    "counts.data == 0.0 * sc.units.counts"
   ]
  },
  {
   "cell_type": "code",
   "execution_count": null,
   "metadata": {},
   "outputs": [],
   "source": [
    "broken = (counts.data == 0.0 * sc.units.counts) & (sc.abs(x) < 0.1 * sc.units.m)\n",
    "data.masks['bad-pixels'] = broken\n",
    "sc.neutron.instrument_view(data, pixel_size=0.01)"
   ]
  },
  {
   "cell_type": "markdown",
   "metadata": {},
   "source": [
    "## Exercise 4: More spatial masking\n",
    "\n",
    "Pick one (or more, if desired):\n",
    "\n",
    "- Mask a \"circle\" (in $x$-$y$ plane, i.e., a cylinder aligned with $\\hat z$)\n",
    "- Mask a ring based on $x$ and $y$\n",
    "- Mask a scattering-angle ($\\theta$) range.\n",
    "  Hint: The scattering angle can be computed as `theta = sc.neutron.scattering_angle(data)`\n",
    "- Mask a wedge (pick one).\n",
    "  Hint: `phi = sc.atan2(y,x)`"
   ]
  },
  {
   "cell_type": "code",
   "execution_count": null,
   "metadata": {},
   "outputs": [],
   "source": [
    "pos = data.coords['position']\n",
    "x = sc.geometry.x(pos)\n",
    "y = sc.geometry.y(pos)\n",
    "z = sc.geometry.z(pos)\n",
    "\n",
    "# could use offsets x0 and y0 to mask away from z axis\n",
    "r = sc.sqrt(x*x + y*y)\n",
    "data.masks['circle'] = r < 0.09*sc.units.m\n",
    "\n",
    "data.masks['ring'] = (0.14*sc.units.m < r) & (r < 0.19*sc.units.m)\n",
    "\n",
    "theta = sc.neutron.scattering_angle(data)\n",
    "data.masks['theta'] = (0.03*sc.units.rad < theta) & (theta < 0.04*sc.units.rad)\n",
    "\n",
    "phi = sc.atan2(y,x) * ((180.0 * sc.units.deg) / (np.pi * sc.units.rad))\n",
    "data.masks['wedge'] = (10.0*sc.units.deg < phi) & (phi < 20.0*sc.units.deg)\n",
    "\n",
    "sc.neutron.instrument_view(data, pixel_size=0.01)"
   ]
  },
  {
   "cell_type": "markdown",
   "metadata": {},
   "source": [
    "## Bonus exercise: Generalize techniques learned for masking for grouping\n",
    "\n",
    "- Adapt the code for masking a wedge to return an integer sector index (e.g, 0...5).\n",
    "- Store the result as a coordinate.\n",
    "- Use `groupby` to group by sector.\n",
    "  Note that `sc.groupby(...).copy(group)` can be used to extract a given group by index, instead of applying reductions."
   ]
  },
  {
   "cell_type": "markdown",
   "metadata": {},
   "source": [
    "## Masks in (grouped) reduction operations\n",
    "\n",
    "Finally, let us group according to scattering angle and sum spectra.\n",
    "Questions:\n",
    "- Can you see the effect of the circle/ring/theta-range that you masked above?\n",
    "- Why is the promt-pulse mask preserved, but not the other masks?"
   ]
  },
  {
   "cell_type": "code",
   "execution_count": null,
   "metadata": {},
   "outputs": [],
   "source": [
    "theta_edges = sc.array(dims=['theta'], unit='rad', values=np.linspace(0,0.1, num=100))\n",
    "data.coords['theta'] = sc.neutron.scattering_angle(data)\n",
    "sc.groupby(data, group='theta', bins=theta_edges).sum('spectrum').plot()"
   ]
  }
 ],
 "metadata": {
  "kernelspec": {
   "display_name": "scipp-ikon20",
   "language": "python",
   "name": "scipp-ikon20"
  },
  "language_info": {
   "codemirror_mode": {
    "name": "ipython",
    "version": 3
   },
   "file_extension": ".py",
   "mimetype": "text/x-python",
   "name": "python",
   "nbconvert_exporter": "python",
   "pygments_lexer": "ipython3",
   "version": "3.7.9"
  }
 },
 "nbformat": 4,
 "nbformat_minor": 4
}
