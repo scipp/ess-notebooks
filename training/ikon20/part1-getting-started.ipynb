{
 "cells": [
  {
   "cell_type": "markdown",
   "metadata": {},
   "source": [
    "# Part 1: Scipp crash course and exploring data\n",
    "\n",
    "## Getting help\n",
    "\n",
    "- Scipp documentation is available at https://scipp.github.io/\n",
    "- Join [#scipp](https://ess-eric.slack.com/archives/C01AAGCQEU8) in the ESS Slack workspace for updates, questions, and discussions."
   ]
  },
  {
   "cell_type": "code",
   "execution_count": null,
   "metadata": {},
   "outputs": [],
   "source": [
    "import scipp as sc\n",
    "import numpy as np"
   ]
  },
  {
   "cell_type": "markdown",
   "metadata": {},
   "source": [
    "## Using Jupyter\n",
    "\n",
    "- Press `shift-return` to run a cell and move to next cell\n",
    "- Press `alt-return` to run a cell, to keep focus on current cell\n",
    "- If things go wrong, `Kernel > Restart kernel and clear all outputs` is often helpful.\n",
    "- Jupyter will automatically display the last (and only the last) object typed in a cell"
   ]
  },
  {
   "cell_type": "code",
   "execution_count": null,
   "metadata": {},
   "outputs": [],
   "source": [
    "a = 5\n",
    "b = 4\n",
    "a\n",
    "b"
   ]
  },
  {
   "cell_type": "markdown",
   "metadata": {},
   "source": [
    "## Scipp crash course\n",
    "\n",
    "- `scipp` stores data in a **multi-dimensional array** with **labeled (named) dimensions**.\n",
    "  This is best imagined as `numpy` arrays, without the need to memorize and keep track of dimension order.\n",
    "- Each array is combined with a **physical unit** into a **variable**.\n",
    "- Variables are enhanced by **coordinates**.\n",
    "  Each coordinate is also a variable.\n",
    "  A variable with associated coordinates is called **data array**.\n",
    "- Multiple data arrays with aligned coordinates can be combined into a **dataset**.\n",
    "\n",
    "Consider a 2-D numpy array:"
   ]
  },
  {
   "cell_type": "code",
   "execution_count": null,
   "metadata": {},
   "outputs": [],
   "source": [
    "a = np.random.rand(2,4)\n",
    "a"
   ]
  },
  {
   "cell_type": "markdown",
   "metadata": {},
   "source": [
    "Scipp variables enrich this with labelled dimensions and units, for clarity and safety.\n",
    "Variables can be created from numpy arrays using `sc.array`:"
   ]
  },
  {
   "cell_type": "code",
   "execution_count": null,
   "metadata": {},
   "outputs": [],
   "source": [
    "var = sc.array(dims=['time','location'], values=a, unit='K')\n",
    "var"
   ]
  },
  {
   "cell_type": "markdown",
   "metadata": {},
   "source": [
    "Dimension labels are used for many operations, the simplest example is \"slicing\" (or cropping):"
   ]
  },
  {
   "cell_type": "code",
   "execution_count": null,
   "metadata": {},
   "outputs": [],
   "source": [
    "var['location',2:4]"
   ]
  },
  {
   "cell_type": "markdown",
   "metadata": {},
   "source": [
    "Data arrays are created from variables:"
   ]
  },
  {
   "cell_type": "code",
   "execution_count": null,
   "metadata": {},
   "outputs": [],
   "source": [
    "time =     sc.array(dims=['time'], unit=sc.units.s, values=[20,30])\n",
    "location = sc.array(dims=['location'], unit=sc.units.m, values=np.arange(4))\n",
    "array =    sc.DataArray(data=var, coords={'time':time, 'location':location})\n",
    "array"
   ]
  },
  {
   "cell_type": "markdown",
   "metadata": {},
   "source": [
    "Scalar variables are variables with zero dimensions.\n",
    "There are two ways two create these, using `sc.scalar`, or by multiplying an value by a scipp unit:"
   ]
  },
  {
   "cell_type": "code",
   "execution_count": null,
   "metadata": {},
   "outputs": [],
   "source": [
    "windspeed = sc.scalar(1.2, unit='m/s') # see help(sc.scalar) for additional arguments\n",
    "windspeed = 1.2 * sc.Unit('m/s')\n",
    "windspeed"
   ]
  },
  {
   "cell_type": "markdown",
   "metadata": {},
   "source": [
    "Data arrays also support **attributes** to store additional meta information:"
   ]
  },
  {
   "cell_type": "code",
   "execution_count": null,
   "metadata": {},
   "outputs": [],
   "source": [
    "array.attrs['windspeed'] = windspeed\n",
    "array"
   ]
  },
  {
   "cell_type": "markdown",
   "metadata": {},
   "source": [
    "Scipp's units protect against invalid additions and subtractions:"
   ]
  },
  {
   "cell_type": "code",
   "execution_count": null,
   "metadata": {},
   "outputs": [],
   "source": [
    "array += windspeed # will raise an exception"
   ]
  },
  {
   "cell_type": "markdown",
   "metadata": {},
   "source": [
    "Data array coordinates protect against operations between incompatible data:"
   ]
  },
  {
   "cell_type": "code",
   "execution_count": null,
   "metadata": {},
   "outputs": [],
   "source": [
    "array['location', 0:2] + array['location', 2:4] # will raise an exception"
   ]
  },
  {
   "cell_type": "code",
   "execution_count": null,
   "metadata": {},
   "outputs": [],
   "source": [
    "array['location', 0:2] - sc.mean(array, 'location') # ok, mean over location drops location coord"
   ]
  },
  {
   "cell_type": "markdown",
   "metadata": {},
   "source": [
    "## Exploring data\n",
    "\n",
    "When working with a dataset, the first step is usually to understand what data and metadata it contains.\n",
    "In this chapter we explore how scipp supports this.\n",
    "\n",
    "We  start by loading some data, in this case measured with a prototype of the LoKI detectors at the LARMOR beamline:"
   ]
  },
  {
   "cell_type": "code",
   "execution_count": null,
   "metadata": {},
   "outputs": [],
   "source": [
    "data = sc.io.open_hdf5(filename='loki-at-larmor.hdf5')"
   ]
  },
  {
   "cell_type": "markdown",
   "metadata": {},
   "source": [
    "Note that the exercises in the following are fictional and do not represent the actual data reduction workflow."
   ]
  },
  {
   "cell_type": "markdown",
   "metadata": {},
   "source": [
    "### Step 1: Use the HTML representation to see what the loaded data contains\n",
    "\n",
    "The HTML representation is what Jupyter displays for a scipp object.\n",
    "- Take some time to explore this view and try to understand all the information (dimensions, dtypes, units, ...).\n",
    "- Note that sections can be expanded, and values can shown by clicking the &#9921; icons to the right."
   ]
  },
  {
   "cell_type": "code",
   "execution_count": null,
   "metadata": {},
   "outputs": [],
   "source": [
    "data"
   ]
  },
  {
   "cell_type": "markdown",
   "metadata": {},
   "source": [
    "### Step 2: Plot the data\n",
    "\n",
    "Scipp objects can by created using the `plot()` method.\n",
    "Alternatively `sc.plot.plot(obj)` can be used.\n",
    "Since this is neutron-scattering data, we can also use the \"instrument view\", provided by `sc.neutron.instrument_view(obj)`.\n",
    "\n",
    "- Plot the loaded data and familiarize yourself with the controls.\n",
    "- Create the instrument view and familiarize yourself with the controls."
   ]
  },
  {
   "cell_type": "code",
   "execution_count": null,
   "metadata": {},
   "outputs": [],
   "source": [
    "data.plot()"
   ]
  },
  {
   "cell_type": "code",
   "execution_count": null,
   "metadata": {},
   "outputs": [],
   "source": [
    "sc.neutron.instrument_view(data)"
   ]
  },
  {
   "cell_type": "markdown",
   "metadata": {},
   "source": [
    "### Step 3: Exporing meta data\n",
    "\n",
    "Above we saw that many attributes are scalar variables with `dtype=DataArray`.\n",
    "The single value in a scalar variable is accessed using the `value` property.\n",
    "Compare:"
   ]
  },
  {
   "cell_type": "code",
   "execution_count": null,
   "metadata": {},
   "outputs": [],
   "source": [
    "data.attrs['proton_charge_by_period']"
   ]
  },
  {
   "cell_type": "code",
   "execution_count": null,
   "metadata": {},
   "outputs": [],
   "source": [
    "data.attrs['proton_charge_by_period'].value"
   ]
  },
  {
   "cell_type": "markdown",
   "metadata": {},
   "source": [
    "Exercises:\n",
    "1. Find some attributes of `data` with `dtype=DataArray` and plot their `value`.\n",
    "   Also try `sc.table(attr.value)` to show a table representation.\n",
    "2. Find and plot a monitor.\n",
    "3. Try to normalize `data` to monitor 1.\n",
    "   Why does this fail?\n",
    "4. Plot all the monitors on the same plot.\n",
    "   Note that `sc.plot.plot()` can be used with a Python `dict` for this purpose: `sc.plot.plot({'a':something, 'b':else})`.\n",
    "5. Convert all the monitors from `'tof'` to `'wavelength'` using, e.g., `mon1_wav = sc.neutron.convert(mon1, 'tof', 'wavelength')`.\n",
    "6. Inspect the HTML view and note have the \"unit conversion\" changed the dimensions and units.\n",
    "7. Re-plot all the monitors on the same plot, now in `'wavelength'`."
   ]
  },
  {
   "cell_type": "code",
   "execution_count": null,
   "metadata": {},
   "outputs": [],
   "source": [
    "# Data and monitor are in unit TOF, but pixels and monitors are at different position, so data is not comparable\n",
    "data / data.attrs['monitor1'].value"
   ]
  },
  {
   "cell_type": "code",
   "execution_count": null,
   "metadata": {},
   "outputs": [],
   "source": [
    "sc.plot.plot({f'monitor{i}':data.attrs[f'monitor{i}'].value for i in [1,2,3,4,5]})"
   ]
  },
  {
   "cell_type": "code",
   "execution_count": null,
   "metadata": {},
   "outputs": [],
   "source": [
    "sc.plot.plot({f'monitor{i}':sc.neutron.convert(data.attrs[f'monitor{i}'].value,'tof','wavelength') for i in [1,2,3,4,5]})"
   ]
  },
  {
   "cell_type": "markdown",
   "metadata": {},
   "source": [
    "### Step 4: Fixing metadata\n",
    "\n",
    "Exercises:\n",
    "1. The sample-position is wrong, shift the sample by `delta = sc.scalar(value=np.array([0.01,0.01,0.04]), unit=sc.units.m)`.\n",
    "2. Because of an glitch in the timing system the time-of-flight has an offset of $2.3~\\mu s$.\n",
    "   Fix the corresponding coordinate.\n",
    "3. Use the HTML view of `data` to verify that you applied the corrections/calibrations there, rather than in a copy."
   ]
  },
  {
   "cell_type": "markdown",
   "metadata": {},
   "source": [
    "### Step 5: A closer look at the data\n",
    "\n",
    "The 2-D plot we obtain above by default is often not very enlightening.\n",
    "Define:"
   ]
  },
  {
   "cell_type": "code",
   "execution_count": null,
   "metadata": {},
   "outputs": [],
   "source": [
    "counts = sc.sum(data, 'tof')"
   ]
  },
  {
   "cell_type": "markdown",
   "metadata": {},
   "source": [
    "Exercises:\n",
    "1. Create a plot of `counts` and also try the instrument view.\n",
    "2. How many counts are there in total, in all spectra combined?\n",
    "3. Plot a single spectrum of `data` as a 1-D plot using the slicing syntax to access the spectrum."
   ]
  },
  {
   "cell_type": "markdown",
   "metadata": {},
   "source": [
    "As seen in the instrument view the detectors consist of 4 layers of tubes, each containing 7 straws.\n",
    "Let us try to split up our data, so we can compare layers.\n",
    "There are other (and probably better) ways to do this, but here we try to define an integer variable containing a layer index:"
   ]
  },
  {
   "cell_type": "code",
   "execution_count": null,
   "metadata": {},
   "outputs": [],
   "source": [
    "z = sc.geometry.z(data.coords['position'])\n",
    "near = sc.min(z)\n",
    "far = sc.max(z)\n",
    "layer = ((z-near)*400).astype(sc.dtype.int32)\n",
    "layer.unit = ''\n",
    "layer.plot()"
   ]
  },
  {
   "cell_type": "markdown",
   "metadata": {},
   "source": [
    "Exercises:\n",
    "- Change the magic parameter `400` until pixels fall cleanly into layers, either 4 layers of tubes or 12 layers of straws.\n",
    "- Store `layer` as a new coord in `data`.\n",
    "- Use `sc.groupby(data, group='layer').sum('spectrum')` to group spectra into layers.\n",
    "- Inspect and understand the HTML view of the result.\n",
    "- Plot the result.\n",
    "  There are two options:\n",
    "  - Use `plot` with `projection='1d'`\n",
    "  - Use `sc.plot.plot` after collapsing dimensions, `sc.collapse(grouped, keep='tof')`\n",
    "- Bonus: When grouping by straw layers, there is a different number of straws in the center layer of each tube (3 instead of 2) due to the flower-pattern arrangement of straws.\n",
    "  Define a helper data array with data set to one for each spectrum, group by layers and sum over spectrum as above, and use this result to normalize the layer-grouped data from above to spectrum count."
   ]
  },
  {
   "cell_type": "code",
   "execution_count": null,
   "metadata": {},
   "outputs": [],
   "source": [
    "data.coords['layer'] = layer\n",
    "grouped = sc.groupby(data, group='layer').sum('spectrum')\n",
    "grouped.plot(projection='1d')\n",
    "sc.plot.plot(sc.collapse(grouped, keep='tof'))"
   ]
  },
  {
   "cell_type": "code",
   "execution_count": null,
   "metadata": {},
   "outputs": [],
   "source": [
    "norm = sc.DataArray(data=layer*0+1, coords={'layer':layer})\n",
    "norm = sc.groupby(norm, group='layer').sum('spectrum')\n",
    "sc.plot.plot(sc.collapse(grouped/norm, keep='tof'))"
   ]
  },
  {
   "cell_type": "code",
   "execution_count": null,
   "metadata": {},
   "outputs": [],
   "source": [
    "#from mantid.kernel import config\n",
    "#folder = '/folder/with/downloaded/files'\n",
    "#config.appendDataSearchDir(folder)\n",
    "#config.saveConfig(config.getUserFilename())"
   ]
  },
  {
   "cell_type": "code",
   "execution_count": null,
   "metadata": {},
   "outputs": [],
   "source": [
    "#run_number = 49338\n",
    "#data = sc.neutron.load(filename=f'LARMOR000{run_number}')\n",
    "#edges = sc.array(dims=['tof'], unit='us', values=np.linspace(5.0, 100000.0, num=201))\n",
    "#data = sc.rebin(data, 'tof', edges)\n",
    "#data.attrs['monitor1'].value = sc.rebin(data.attrs['monitor1'].value, 'tof', edges)\n",
    "#data.attrs['monitor2'].value = sc.rebin(data.attrs['monitor2'].value, 'tof', edges)\n",
    "#data.attrs['monitor3'].value = sc.rebin(data.attrs['monitor3'].value, 'tof', edges)\n",
    "#data.attrs['monitor4'].value = sc.rebin(data.attrs['monitor4'].value, 'tof', edges)\n",
    "#data.attrs['monitor5'].value = sc.rebin(data.attrs['monitor5'].value, 'tof', edges)\n",
    "#data.to_hdf5(filename='loki-at-larmor.hdf5')"
   ]
  }
 ],
 "metadata": {
  "kernelspec": {
   "display_name": "scipp-ikon20",
   "language": "python",
   "name": "scipp-ikon20"
  },
  "language_info": {
   "codemirror_mode": {
    "name": "ipython",
    "version": 3
   },
   "file_extension": ".py",
   "mimetype": "text/x-python",
   "name": "python",
   "nbconvert_exporter": "python",
   "pygments_lexer": "ipython3",
   "version": "3.7.9"
  }
 },
 "nbformat": 4,
 "nbformat_minor": 4
}
