{
 "cells": [
  {
   "cell_type": "markdown",
   "metadata": {},
   "source": [
    "# Part3: Simple Graphical Interfaces\n",
    "\n",
    "Scipp itself does not provide a graphical user interface (GUI) apart from widgets that come with the plots.\n",
    "However, the (experimental) companion package [scippwidgets](https://scipp.github.io/scippwidgets/) provides a toolkit for assembling simple GUIs in Jupyter notebooks from widgets.\n",
    "Details of this package will definitely change in the future, but this serves as an example of how simple and flexible GUIs could be created."
   ]
  },
  {
   "cell_type": "markdown",
   "metadata": {},
   "source": [
    "We create some 2-D dummy data to work with.\n",
    "This could represent, e.g., the counts on a 2-D image sensor:"
   ]
  },
  {
   "cell_type": "code",
   "execution_count": null,
   "metadata": {},
   "outputs": [],
   "source": [
    "import scipp as sc\n",
    "import numpy as np\n",
    "a = np.random.rand(100,100)\n",
    "a[23:63,16:74] += 1.0\n",
    "a[20:66,13:76] += 1.0\n",
    "a[19:67,12:77] += 1.0\n",
    "x = sc.array(dims=['x'], unit=sc.units.m, values=np.linspace(-0.3,0.3,num=101))\n",
    "y = sc.array(dims=['y'], unit=sc.units.m, values=np.linspace(-0.2,0.2,num=101))\n",
    "var = sc.array(dims=['x','y'], unit=sc.units.counts, values=a, variances=a)\n",
    "data = sc.DataArray(data=var, coords={'x':x, 'y':y})\n",
    "data"
   ]
  },
  {
   "cell_type": "markdown",
   "metadata": {},
   "source": [
    "Next we import `scippwidgets` and setup a `DisplayWidget` for creating a plot side-by-side with a line profile.\n",
    "Here we are hiding the code from the user, click the \"Py\" button to show the cell's code:"
   ]
  },
  {
   "cell_type": "code",
   "execution_count": null,
   "metadata": {},
   "outputs": [],
   "source": [
    "import scippwidgets as sw\n",
    "\n",
    "def nice_label(data, dim, center):\n",
    "    unit = data.coords[dim].unit\n",
    "    unit_str = '\\\\mathrm{' + str(unit) + '}'\n",
    "    label = round(data.coords[dim][dim, center].value, 3)\n",
    "    return f'${label}~{unit_str}$'\n",
    "\n",
    "def plot_profile(data=None, dim=None, center=None):\n",
    "    if data is None:\n",
    "        print('Missing input variable name for `data`.')\n",
    "        return \n",
    "    # 1. Create 2D plot of data\n",
    "    from matplotlib import pyplot as plt\n",
    "    figs, axs = plt.subplots(1, 2, figsize=(8, 3))\n",
    "    figs.subplots_adjust(bottom=0.2)\n",
    "    out = data.plot(ax=axs[0])\n",
    "    if dim is None or center is None:\n",
    "        print('Enter values for `dim` and `center` to enable profile plot.')\n",
    "        return figs.canvas\n",
    "    # 2. Plot one (or multiple) profiles, we get a tuple if `center` has multiple comma-separated values\n",
    "    if not hasattr(center, '__iter__'):\n",
    "        center = (center,)\n",
    "    profiles = {}\n",
    "    for c in center:\n",
    "        profiles[nice_label(data, dim, c)] = data[dim, c]\n",
    "    sc.plot.plot(profiles, ax=axs[1])\n",
    "    return figs.canvas\n",
    "    \n",
    "data_input = sw.inputs.ScippInputWithDim(\n",
    "    func_arg_names=('data', 'dim'),\n",
    "    layout={'width':'max-content'})\n",
    "center_input = sw.inputs.Input(\n",
    "    function_arg_name='center',\n",
    "    layout={'width':'max-content'})\n",
    "sw.DisplayWidget(wrapped_func=plot_profile,\n",
    "                 inputs=[data_input, center_input],\n",
    "                 button_name='Update',\n",
    "                 hide_code=True) # Set to `True` to hide code from this cell"
   ]
  },
  {
   "cell_type": "markdown",
   "metadata": {},
   "source": [
    "## Exercises\n",
    "\n",
    "1. Modify the example to include an additional input field for `width`.\n",
    "   The profile should then be computed as the sum along `dim` over a slice of the given width.\n",
    "2. Modify the example so the entered values for `center` and `width` are interpreted as coordinate values rather than integer indices.\n",
    "   Hint: Use [Label-based indexing](https://scipp.github.io/user-guide/slicing.html#Label-based-indexing) to extract the slice from the 2-D data.\n",
    "3. Bonus: Working with `matplotlib` directly, indicate the selected profile region(s) in the 2-D plot on the left.\n",
    "   Hints:\n",
    "   - `axs[0]` gives access to the axes of the left (2-D) plot.\n",
    "   - Use, e.g., [axhline](https://matplotlib.org/3.2.2/api/_as_gen/matplotlib.pyplot.axhline.html) and [axvline](https://matplotlib.org/3.2.2/api/_as_gen/matplotlib.pyplot.axvline.html)  or [axhspan](https://matplotlib.org/3.2.2/api/_as_gen/matplotlib.axes.Axes.axhspan.html) and [axvspan](https://matplotlib.org/3.2.2/api/_as_gen/matplotlib.pyplot.axvspan.html)"
   ]
  },
  {
   "cell_type": "markdown",
   "metadata": {},
   "source": [
    "## Solution\n",
    "\n",
    "Click the \"Py\" button to show the code of the solution."
   ]
  },
  {
   "cell_type": "code",
   "execution_count": null,
   "metadata": {},
   "outputs": [],
   "source": [
    "import scippwidgets as sw\n",
    "\n",
    "def profile_plot():\n",
    "    def make_line(axs, data, dim, loc, color, linestyle='-'):\n",
    "        color = f'C{color}'\n",
    "        if dim == data.dims[0]:\n",
    "            axs[0].axhline(loc, color=color, linestyle=linestyle)\n",
    "        else:\n",
    "            axs[0].axvline(loc, color=color, linestyle=linestyle)\n",
    "\n",
    "    def mark(axs, data, dim, start, stop):\n",
    "        make_line(axs, data, dim, (stop.value+start.value)/2, mark.color)\n",
    "        make_line(axs, data, dim, stop.value, mark.color, linestyle='--')\n",
    "        make_line(axs, data, dim, start.value, mark.color, linestyle='--')\n",
    "        mark.color +=1\n",
    "\n",
    "    def nice_label(data, dim, center, width):\n",
    "        unit = data.coords[dim].unit\n",
    "        unit_str = '\\\\mathrm{' + str(unit) + '}'\n",
    "        return f'${center:.3f}\\pm{width/2}~{unit_str}$'\n",
    "\n",
    "    def plot_profile(data=None, dim=None, center=None, width=None):\n",
    "        if data is None:\n",
    "            print('Missing input variable name for `data`.')\n",
    "            return \n",
    "        # 1. Create 2D plot of data\n",
    "        from matplotlib import pyplot as plt\n",
    "        figs, axs = plt.subplots(1, 2, figsize=(8, 3))\n",
    "        figs.subplots_adjust(bottom=0.2)\n",
    "        out = data.plot(ax=axs[0])\n",
    "        if dim is None or center is None or width is None:\n",
    "            print('Enter values for `dim`, `center`, and `width` to enable profile plot.')\n",
    "            return figs.canvas\n",
    "        # 2. Plot one (or multiple) profiles, we get a tuple if `center` has multiple comma-separated values\n",
    "        if not hasattr(center, '__iter__'):\n",
    "            center = (center,)\n",
    "        profiles = {}\n",
    "        unit = data.coords[dim].unit\n",
    "        mark.color = 0\n",
    "        for c in center:\n",
    "            # For exercise 1: Use start and stop based on width\n",
    "            # For exercise 2: Multiply by unit to create scalar variable => label based indexing\n",
    "            start = (c - width/2) * unit\n",
    "            stop = (c + width/2) * unit\n",
    "            profiles[nice_label(data, dim, c, width)] = sc.sum(data[dim, start:stop], dim)\n",
    "            # For exercise 3: Mark profile region in 2-D plot\n",
    "            mark(axs, data, dim, start, stop)\n",
    "        out = sc.plot.plot(profiles, ax=axs[1])\n",
    "        return figs.canvas\n",
    "\n",
    "    data_input = sw.inputs.ScippInputWithDim(\n",
    "        func_arg_names=('data', 'dim'),\n",
    "        layout={'width':'max-content'})\n",
    "    center_input = sw.inputs.Input(\n",
    "        function_arg_name='center',\n",
    "        layout={'width':'max-content'})\n",
    "    # For exercise 1: Added another input\n",
    "    width_input = sw.inputs.Input(\n",
    "        function_arg_name='width',\n",
    "        layout={'width':'max-content'})\n",
    "    return sw.DisplayWidget(wrapped_func=plot_profile,\n",
    "                            inputs=[data_input, center_input, width_input],\n",
    "                            button_name='Update',\n",
    "                            hide_code=True) # Set to `True` to hide code from this cell\n",
    "\n",
    "profile_plot()"
   ]
  }
 ],
 "metadata": {
  "kernelspec": {
   "display_name": "scipp-ikon20",
   "language": "python",
   "name": "scipp-ikon20"
  },
  "language_info": {
   "codemirror_mode": {
    "name": "ipython",
    "version": 3
   },
   "file_extension": ".py",
   "mimetype": "text/x-python",
   "name": "python",
   "nbconvert_exporter": "python",
   "pygments_lexer": "ipython3",
   "version": "3.7.9"
  }
 },
 "nbformat": 4,
 "nbformat_minor": 4
}
